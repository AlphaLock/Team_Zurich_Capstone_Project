{
 "cells": [
  {
<<<<<<< HEAD:Assets/dev/customer_churn_predict.ipynb
   "cell_type": "code",
   "execution_count": 1,
   "metadata": {},
   "outputs": [
    {
     "ename": "ModuleNotFoundError",
     "evalue": "No module named 'imblearn'",
     "output_type": "error",
     "traceback": [
      "\u001b[1;31m---------------------------------------------------------------------------\u001b[0m",
      "\u001b[1;31mModuleNotFoundError\u001b[0m                       Traceback (most recent call last)",
      "\u001b[1;32m~\\AppData\\Local\\Temp\\ipykernel_7820\\41954198.py\u001b[0m in \u001b[0;36m<module>\u001b[1;34m\u001b[0m\n\u001b[0;32m     10\u001b[0m \u001b[0mwarnings\u001b[0m\u001b[1;33m.\u001b[0m\u001b[0mfilterwarnings\u001b[0m\u001b[1;33m(\u001b[0m\u001b[1;34m\"ignore\"\u001b[0m\u001b[1;33m)\u001b[0m\u001b[1;33m\u001b[0m\u001b[1;33m\u001b[0m\u001b[0m\n\u001b[0;32m     11\u001b[0m \u001b[0mget_ipython\u001b[0m\u001b[1;33m(\u001b[0m\u001b[1;33m)\u001b[0m\u001b[1;33m.\u001b[0m\u001b[0mrun_line_magic\u001b[0m\u001b[1;33m(\u001b[0m\u001b[1;34m'matplotlib'\u001b[0m\u001b[1;33m,\u001b[0m \u001b[1;34m'inline'\u001b[0m\u001b[1;33m)\u001b[0m\u001b[1;33m\u001b[0m\u001b[1;33m\u001b[0m\u001b[0m\n\u001b[1;32m---> 12\u001b[1;33m \u001b[1;32mfrom\u001b[0m \u001b[0mimblearn\u001b[0m\u001b[1;33m.\u001b[0m\u001b[0mover_sampling\u001b[0m \u001b[1;32mimport\u001b[0m \u001b[0mRandomOverSampler\u001b[0m\u001b[1;33m\u001b[0m\u001b[1;33m\u001b[0m\u001b[0m\n\u001b[0m\u001b[0;32m     13\u001b[0m \u001b[1;32mfrom\u001b[0m \u001b[0mimblearn\u001b[0m\u001b[1;33m.\u001b[0m\u001b[0munder_sampling\u001b[0m \u001b[1;32mimport\u001b[0m \u001b[0mRandomUnderSampler\u001b[0m\u001b[1;33m\u001b[0m\u001b[1;33m\u001b[0m\u001b[0m\n\u001b[0;32m     14\u001b[0m \u001b[1;32mfrom\u001b[0m \u001b[0mimblearn\u001b[0m\u001b[1;33m.\u001b[0m\u001b[0mcombine\u001b[0m \u001b[1;32mimport\u001b[0m \u001b[0mSMOTEENN\u001b[0m\u001b[1;33m\u001b[0m\u001b[1;33m\u001b[0m\u001b[0m\n",
      "\u001b[1;31mModuleNotFoundError\u001b[0m: No module named 'imblearn'"
     ]
    }
   ],
=======
   "cell_type": "markdown",
   "metadata": {},
>>>>>>> 860a3dbccfd1e9130d050071c5b8a6a6e5246e56:Assets/dev/customer_churn_predict_TeamZurich.ipynb
   "source": [
    "### PROJECT DESCRIPTION\n",
    "\n",
    "This project is for an African telecommunications company that provides customers with airtime and mobile data bundles. The objective of this project is to develop a machine learning model to predict the likelihood of each customer “churning,” i.e. becoming inactive and not making any transactions for 90 days.\n",
    "\n",
    "This solution will help this telecom company to better serve their customers by understanding which customers are at risk of leaving\n",
    "\n",
    "This solution will help this telecom company to better serve its customers by understanding which customers are at risk of leaving"
   ]
  },
  {
   "cell_type": "markdown",
   "metadata": {},
   "source": [
    "### HYPOTHESIS FORMULATION"
   ]
  },
  {
   "cell_type": "markdown",
   "metadata": {},
   "source": [
    "### GUIDING QUESTIONS"
   ]
  },
  {
   "cell_type": "markdown",
   "metadata": {},
   "source": [
    "### IMPORT PACKAGES"
   ]
  },
  {
   "cell_type": "code",
   "execution_count": 1,
   "metadata": {},
   "outputs": [
    {
     "data": {
      "text/plain": [
       "<Figure size 1200x400 with 0 Axes>"
      ]
     },
     "metadata": {},
     "output_type": "display_data"
    }
   ],
   "source": [
    "#Import libraries\n",
    "import pandas as pd\n",
    "import numpy as np\n",
    "import matplotlib.pyplot as plt\n",
    "from pylab import rcParams\n",
    "\n",
    "# Import pandas and numpy\n",
    "import pandas as pd\n",
    "import numpy as np\n",
    "\n",
    "from scipy.stats import ttest_ind\n",
    "\n",
    "# Import matplotlib and seaborn\n",
    "import matplotlib.pyplot as plt\n",
    "import seaborn as sns\n",
    "plt.figure(figsize=(12, 4))\n",
    "plt.style.use(\"fivethirtyeight\")\n",
    "\n",
    "# Import machine learning models\n",
    "from sklearn.ensemble import GradientBoostingClassifier\n",
    "from sklearn.linear_model import LogisticRegression\n",
    "from sklearn.neural_network import MLPClassifier\n",
    "from sklearn.naive_bayes import GaussianNB\n",
    "from sklearn.neighbors import KNeighborsClassifier\n",
    "from sklearn.tree import DecisionTreeClassifier\n",
    "from sklearn.svm import SVC\n",
    "\n",
    "# Import Pipeline, Scaler,Sampler, train_test_split, imputer\n",
    "from sklearn.pipeline import Pipeline\n",
    "from sklearn.preprocessing import StandardScaler\n",
    "from imblearn.over_sampling import RandomOverSampler\n",
    "from imblearn.under_sampling import RandomUnderSampler\n",
    "from sklearn.model_selection import train_test_split\n",
    "from sklearn.impute import SimpleImputer\n",
    "from imblearn.combine import SMOTEENN \n",
    "\n",
    "# Import Encoders\n",
    "from sklearn.preprocessing import LabelEncoder\n",
    "import category_encoders as ce\n",
    "from category_encoders import BinaryEncoder\n",
    "from sklearn.preprocessing import OrdinalEncoder, OneHotEncoder\n",
    "\n",
    "# import metrics\n",
    "from sklearn.metrics import recall_score, mean_squared_log_error\n",
    "from sklearn.metrics import precision_score\n",
    "from sklearn.metrics import accuracy_score\n",
    "from sklearn.metrics import f1_score\n",
    "from sklearn.model_selection import GridSearchCV, cross_val_predict\n",
    "from sklearn.metrics import average_precision_score\n",
    "from sklearn.metrics import precision_recall_curve\n",
    "from sklearn.metrics import roc_curve, auc\n",
    "from sklearn.metrics import confusion_matrix, classification_report, roc_curve, roc_auc_score\n",
    "\n",
    "import os, pickle, joblib\n",
    "%matplotlib inline\n",
    "\n",
    "import warnings\n",
    "warnings.filterwarnings('ignore', message='The default value of numeric_only in DataFrame.corr is deprecated')\n",
    "\n"
   ]
  },
  {
   "cell_type": "code",
   "execution_count": 2,
   "metadata": {},
   "outputs": [],
   "source": [
    "#import data\n",
    "\n",
    "train = pd.read_csv(\"C:\\\\Users\\\\elvis_d\\DATA_ANALYTICS\\\\DATA_ANALYTICS_TRAINING\\\\PROJECT_PHASE\\\\Capstone Project\\\\datasets and notebooks\\\\Train.csv\")\n",
    "test = pd.read_csv(\"C:\\\\Users\\\\elvis_d\\DATA_ANALYTICS\\\\DATA_ANALYTICS_TRAINING\\\\PROJECT_PHASE\\\\Capstone Project\\\\datasets and notebooks\\\\Test.csv\")"
   ]
  },
  {
   "cell_type": "markdown",
   "metadata": {},
   "source": [
    "### EXPLORATORY DATA ANALYSIS"
   ]
  },
  {
   "cell_type": "code",
   "execution_count": 16,
   "metadata": {},
   "outputs": [
    {
     "data": {
      "text/html": [
       "<div>\n",
       "<style scoped>\n",
       "    .dataframe tbody tr th:only-of-type {\n",
       "        vertical-align: middle;\n",
       "    }\n",
       "\n",
       "    .dataframe tbody tr th {\n",
       "        vertical-align: top;\n",
       "    }\n",
       "\n",
       "    .dataframe thead th {\n",
       "        text-align: right;\n",
       "    }\n",
       "</style>\n",
       "<table border=\"1\" class=\"dataframe\">\n",
       "  <thead>\n",
       "    <tr style=\"text-align: right;\">\n",
       "      <th></th>\n",
       "      <th>user_id</th>\n",
       "      <th>REGION</th>\n",
       "      <th>TENURE</th>\n",
       "      <th>MONTANT</th>\n",
       "      <th>FREQUENCE_RECH</th>\n",
       "      <th>REVENUE</th>\n",
       "      <th>ARPU_SEGMENT</th>\n",
       "      <th>FREQUENCE</th>\n",
       "      <th>DATA_VOLUME</th>\n",
       "      <th>ON_NET</th>\n",
       "      <th>ORANGE</th>\n",
       "      <th>TIGO</th>\n",
       "      <th>ZONE1</th>\n",
       "      <th>ZONE2</th>\n",
       "      <th>MRG</th>\n",
       "      <th>REGULARITY</th>\n",
       "      <th>TOP_PACK</th>\n",
       "      <th>FREQ_TOP_PACK</th>\n",
       "      <th>CHURN</th>\n",
       "    </tr>\n",
       "  </thead>\n",
       "  <tbody>\n",
       "    <tr>\n",
       "      <th>711285</th>\n",
       "      <td>abd7d23840b364fbb894cbe4d61770f1d3f040a6</td>\n",
       "      <td>THIES</td>\n",
       "      <td>K &gt; 24 month</td>\n",
       "      <td>NaN</td>\n",
       "      <td>NaN</td>\n",
       "      <td>NaN</td>\n",
       "      <td>NaN</td>\n",
       "      <td>NaN</td>\n",
       "      <td>0.0</td>\n",
       "      <td>NaN</td>\n",
       "      <td>NaN</td>\n",
       "      <td>NaN</td>\n",
       "      <td>NaN</td>\n",
       "      <td>NaN</td>\n",
       "      <td>NO</td>\n",
       "      <td>17</td>\n",
       "      <td>NaN</td>\n",
       "      <td>NaN</td>\n",
       "      <td>0</td>\n",
       "    </tr>\n",
       "    <tr>\n",
       "      <th>997846</th>\n",
       "      <td>62f40514bc6aa3ab17c23826a4f3a2f7803cbfd0</td>\n",
       "      <td>NaN</td>\n",
       "      <td>K &gt; 24 month</td>\n",
       "      <td>1500.0</td>\n",
       "      <td>8.0</td>\n",
       "      <td>1500.0</td>\n",
       "      <td>500.0</td>\n",
       "      <td>8.0</td>\n",
       "      <td>331.0</td>\n",
       "      <td>129.0</td>\n",
       "      <td>13.0</td>\n",
       "      <td>14.0</td>\n",
       "      <td>NaN</td>\n",
       "      <td>NaN</td>\n",
       "      <td>NO</td>\n",
       "      <td>14</td>\n",
       "      <td>On net 200F=Unlimited _call24H</td>\n",
       "      <td>2.0</td>\n",
       "      <td>1</td>\n",
       "    </tr>\n",
       "    <tr>\n",
       "      <th>873285</th>\n",
       "      <td>b55cb83b75d434356a763372b4c97fed7dbd12cf</td>\n",
       "      <td>TAMBACOUNDA</td>\n",
       "      <td>K &gt; 24 month</td>\n",
       "      <td>7100.0</td>\n",
       "      <td>22.0</td>\n",
       "      <td>7605.0</td>\n",
       "      <td>2535.0</td>\n",
       "      <td>28.0</td>\n",
       "      <td>NaN</td>\n",
       "      <td>831.0</td>\n",
       "      <td>241.0</td>\n",
       "      <td>2.0</td>\n",
       "      <td>NaN</td>\n",
       "      <td>NaN</td>\n",
       "      <td>NO</td>\n",
       "      <td>43</td>\n",
       "      <td>On net 200F=Unlimited _call24H</td>\n",
       "      <td>19.0</td>\n",
       "      <td>0</td>\n",
       "    </tr>\n",
       "    <tr>\n",
       "      <th>945973</th>\n",
       "      <td>30e3ea3226549dfe5523fa86551d4fe7da81fded</td>\n",
       "      <td>NaN</td>\n",
       "      <td>K &gt; 24 month</td>\n",
       "      <td>NaN</td>\n",
       "      <td>NaN</td>\n",
       "      <td>NaN</td>\n",
       "      <td>NaN</td>\n",
       "      <td>NaN</td>\n",
       "      <td>0.0</td>\n",
       "      <td>NaN</td>\n",
       "      <td>NaN</td>\n",
       "      <td>NaN</td>\n",
       "      <td>NaN</td>\n",
       "      <td>NaN</td>\n",
       "      <td>NO</td>\n",
       "      <td>36</td>\n",
       "      <td>NaN</td>\n",
       "      <td>NaN</td>\n",
       "      <td>0</td>\n",
       "    </tr>\n",
       "    <tr>\n",
       "      <th>1063939</th>\n",
       "      <td>6c26d321fb2373c47765b36284d11f7e90339890</td>\n",
       "      <td>MATAM</td>\n",
       "      <td>K &gt; 24 month</td>\n",
       "      <td>NaN</td>\n",
       "      <td>NaN</td>\n",
       "      <td>NaN</td>\n",
       "      <td>NaN</td>\n",
       "      <td>NaN</td>\n",
       "      <td>NaN</td>\n",
       "      <td>NaN</td>\n",
       "      <td>NaN</td>\n",
       "      <td>NaN</td>\n",
       "      <td>NaN</td>\n",
       "      <td>NaN</td>\n",
       "      <td>NO</td>\n",
       "      <td>7</td>\n",
       "      <td>NaN</td>\n",
       "      <td>NaN</td>\n",
       "      <td>0</td>\n",
       "    </tr>\n",
       "  </tbody>\n",
       "</table>\n",
       "</div>"
      ],
      "text/plain": [
       "                                          user_id       REGION        TENURE  \\\n",
       "711285   abd7d23840b364fbb894cbe4d61770f1d3f040a6        THIES  K > 24 month   \n",
       "997846   62f40514bc6aa3ab17c23826a4f3a2f7803cbfd0          NaN  K > 24 month   \n",
       "873285   b55cb83b75d434356a763372b4c97fed7dbd12cf  TAMBACOUNDA  K > 24 month   \n",
       "945973   30e3ea3226549dfe5523fa86551d4fe7da81fded          NaN  K > 24 month   \n",
       "1063939  6c26d321fb2373c47765b36284d11f7e90339890        MATAM  K > 24 month   \n",
       "\n",
       "         MONTANT  FREQUENCE_RECH  REVENUE  ARPU_SEGMENT  FREQUENCE  \\\n",
       "711285       NaN             NaN      NaN           NaN        NaN   \n",
       "997846    1500.0             8.0   1500.0         500.0        8.0   \n",
       "873285    7100.0            22.0   7605.0        2535.0       28.0   \n",
       "945973       NaN             NaN      NaN           NaN        NaN   \n",
       "1063939      NaN             NaN      NaN           NaN        NaN   \n",
       "\n",
       "         DATA_VOLUME  ON_NET  ORANGE  TIGO  ZONE1  ZONE2 MRG  REGULARITY  \\\n",
       "711285           0.0     NaN     NaN   NaN    NaN    NaN  NO          17   \n",
       "997846         331.0   129.0    13.0  14.0    NaN    NaN  NO          14   \n",
       "873285           NaN   831.0   241.0   2.0    NaN    NaN  NO          43   \n",
       "945973           0.0     NaN     NaN   NaN    NaN    NaN  NO          36   \n",
       "1063939          NaN     NaN     NaN   NaN    NaN    NaN  NO           7   \n",
       "\n",
       "                               TOP_PACK  FREQ_TOP_PACK  CHURN  \n",
       "711285                              NaN            NaN      0  \n",
       "997846   On net 200F=Unlimited _call24H            2.0      1  \n",
       "873285   On net 200F=Unlimited _call24H           19.0      0  \n",
       "945973                              NaN            NaN      0  \n",
       "1063939                             NaN            NaN      0  "
      ]
     },
     "execution_count": 16,
     "metadata": {},
     "output_type": "execute_result"
    }
   ],
   "source": [
    "# check samples of train data\n",
    "\n",
    "pd.options.display.max_columns = None\n",
    "train.sample(5, random_state=1)"
   ]
  },
  {
   "cell_type": "code",
   "execution_count": 17,
   "metadata": {},
   "outputs": [
    {
     "name": "stdout",
     "output_type": "stream",
     "text": [
      "train dataframe shape: (1077024, 19)\n"
     ]
    }
   ],
   "source": [
    "# Check shape of train data\n",
    "\n",
    "print(f\"train dataframe shape: {train.shape}\")"
   ]
  },
  {
   "cell_type": "code",
   "execution_count": 6,
   "metadata": {},
   "outputs": [
    {
     "name": "stdout",
     "output_type": "stream",
     "text": [
      "<class 'pandas.core.frame.DataFrame'>\n",
      "RangeIndex: 1077024 entries, 0 to 1077023\n",
      "Data columns (total 19 columns):\n",
      " #   Column          Non-Null Count    Dtype  \n",
      "---  ------          --------------    -----  \n",
      " 0   user_id         1077024 non-null  object \n",
      " 1   REGION          652687 non-null   object \n",
      " 2   TENURE          1077024 non-null  object \n",
      " 3   MONTANT         699139 non-null   float64\n",
      " 4   FREQUENCE_RECH  699139 non-null   float64\n",
      " 5   REVENUE         714669 non-null   float64\n",
      " 6   ARPU_SEGMENT    714669 non-null   float64\n",
      " 7   FREQUENCE       714669 non-null   float64\n",
      " 8   DATA_VOLUME     547261 non-null   float64\n",
      " 9   ON_NET          683850 non-null   float64\n",
      " 10  ORANGE          629880 non-null   float64\n",
      " 11  TIGO            432250 non-null   float64\n",
      " 12  ZONE1           84898 non-null    float64\n",
      " 13  ZONE2           68794 non-null    float64\n",
      " 14  MRG             1077024 non-null  object \n",
      " 15  REGULARITY      1077024 non-null  int64  \n",
      " 16  TOP_PACK        626129 non-null   object \n",
      " 17  FREQ_TOP_PACK   626129 non-null   float64\n",
      " 18  CHURN           1077024 non-null  int64  \n",
      "dtypes: float64(12), int64(2), object(5)\n",
      "memory usage: 156.1+ MB\n"
     ]
    }
   ],
   "source": [
    "# Check the basic info in the train data\n",
    "\n",
    "train.info()"
   ]
  },
  {
   "cell_type": "code",
   "execution_count": 18,
   "metadata": {},
   "outputs": [
    {
     "data": {
      "text/plain": [
       "user_id                 0\n",
       "REGION             424337\n",
       "TENURE                  0\n",
       "MONTANT            377885\n",
       "FREQUENCE_RECH     377885\n",
       "REVENUE            362355\n",
       "ARPU_SEGMENT       362355\n",
       "FREQUENCE          362355\n",
       "DATA_VOLUME        529763\n",
       "ON_NET             393174\n",
       "ORANGE             447144\n",
       "TIGO               644774\n",
       "ZONE1              992126\n",
       "ZONE2             1008230\n",
       "MRG                     0\n",
       "REGULARITY              0\n",
       "TOP_PACK           450895\n",
       "FREQ_TOP_PACK      450895\n",
       "CHURN                   0\n",
       "dtype: int64"
      ]
     },
     "execution_count": 18,
     "metadata": {},
     "output_type": "execute_result"
    }
   ],
   "source": [
    "# Check for null values in the train data\n",
    "\n",
    "train.isnull().sum()"
   ]
  },
  {
   "cell_type": "markdown",
   "metadata": {},
   "source": [
    "There are occurrences of null values in the train data"
   ]
  },
  {
   "cell_type": "code",
   "execution_count": 19,
   "metadata": {},
   "outputs": [
    {
     "data": {
      "text/plain": [
       "False"
      ]
     },
     "execution_count": 19,
     "metadata": {},
     "output_type": "execute_result"
    }
   ],
   "source": [
    "# Check for duplicated values\n",
    "\n",
    "train.duplicated().any()"
   ]
  },
  {
   "cell_type": "markdown",
   "metadata": {},
   "source": [
    "There are no duplicated values in the train data"
   ]
  },
  {
   "cell_type": "code",
   "execution_count": 20,
   "metadata": {},
   "outputs": [
    {
     "data": {
      "text/html": [
       "<div>\n",
       "<style scoped>\n",
       "    .dataframe tbody tr th:only-of-type {\n",
       "        vertical-align: middle;\n",
       "    }\n",
       "\n",
       "    .dataframe tbody tr th {\n",
       "        vertical-align: top;\n",
       "    }\n",
       "\n",
       "    .dataframe thead th {\n",
       "        text-align: right;\n",
       "    }\n",
       "</style>\n",
       "<table border=\"1\" class=\"dataframe\">\n",
       "  <thead>\n",
       "    <tr style=\"text-align: right;\">\n",
       "      <th></th>\n",
       "      <th>user_id</th>\n",
       "      <th>REGION</th>\n",
       "      <th>TENURE</th>\n",
       "      <th>MONTANT</th>\n",
       "      <th>FREQUENCE_RECH</th>\n",
       "      <th>REVENUE</th>\n",
       "      <th>ARPU_SEGMENT</th>\n",
       "      <th>FREQUENCE</th>\n",
       "      <th>DATA_VOLUME</th>\n",
       "      <th>ON_NET</th>\n",
       "      <th>ORANGE</th>\n",
       "      <th>TIGO</th>\n",
       "      <th>ZONE1</th>\n",
       "      <th>ZONE2</th>\n",
       "      <th>MRG</th>\n",
       "      <th>REGULARITY</th>\n",
       "      <th>TOP_PACK</th>\n",
       "      <th>FREQ_TOP_PACK</th>\n",
       "    </tr>\n",
       "  </thead>\n",
       "  <tbody>\n",
       "    <tr>\n",
       "      <th>62537</th>\n",
       "      <td>d3ec96b1f11e9a4a788bd458a96b58182bb8d5c6</td>\n",
       "      <td>DAKAR</td>\n",
       "      <td>K &gt; 24 month</td>\n",
       "      <td>4500.0</td>\n",
       "      <td>5.0</td>\n",
       "      <td>4133.0</td>\n",
       "      <td>1378.0</td>\n",
       "      <td>13.0</td>\n",
       "      <td>7169.0</td>\n",
       "      <td>NaN</td>\n",
       "      <td>4.0</td>\n",
       "      <td>1.0</td>\n",
       "      <td>NaN</td>\n",
       "      <td>NaN</td>\n",
       "      <td>NO</td>\n",
       "      <td>62</td>\n",
       "      <td>Data:1000F=2GB,30d</td>\n",
       "      <td>3.0</td>\n",
       "    </tr>\n",
       "    <tr>\n",
       "      <th>132297</th>\n",
       "      <td>33cdd4f7286913d3e4268ecd28c94f5beeebdb87</td>\n",
       "      <td>THIES</td>\n",
       "      <td>K &gt; 24 month</td>\n",
       "      <td>6000.0</td>\n",
       "      <td>12.0</td>\n",
       "      <td>7034.0</td>\n",
       "      <td>2345.0</td>\n",
       "      <td>18.0</td>\n",
       "      <td>NaN</td>\n",
       "      <td>140.0</td>\n",
       "      <td>101.0</td>\n",
       "      <td>42.0</td>\n",
       "      <td>2.0</td>\n",
       "      <td>NaN</td>\n",
       "      <td>NO</td>\n",
       "      <td>60</td>\n",
       "      <td>All-net 500F=2000F;5d</td>\n",
       "      <td>11.0</td>\n",
       "    </tr>\n",
       "    <tr>\n",
       "      <th>38461</th>\n",
       "      <td>4281a1d45f12aa2581da28b16d33ab341ed1a694</td>\n",
       "      <td>NaN</td>\n",
       "      <td>K &gt; 24 month</td>\n",
       "      <td>NaN</td>\n",
       "      <td>NaN</td>\n",
       "      <td>NaN</td>\n",
       "      <td>NaN</td>\n",
       "      <td>NaN</td>\n",
       "      <td>NaN</td>\n",
       "      <td>NaN</td>\n",
       "      <td>NaN</td>\n",
       "      <td>NaN</td>\n",
       "      <td>NaN</td>\n",
       "      <td>NaN</td>\n",
       "      <td>NO</td>\n",
       "      <td>10</td>\n",
       "      <td>NaN</td>\n",
       "      <td>NaN</td>\n",
       "    </tr>\n",
       "    <tr>\n",
       "      <th>144589</th>\n",
       "      <td>1553a465555eeda18b103ccc06a57fa507dc0cc3</td>\n",
       "      <td>DAKAR</td>\n",
       "      <td>I 18-21 month</td>\n",
       "      <td>500.0</td>\n",
       "      <td>1.0</td>\n",
       "      <td>500.0</td>\n",
       "      <td>167.0</td>\n",
       "      <td>1.0</td>\n",
       "      <td>NaN</td>\n",
       "      <td>18.0</td>\n",
       "      <td>12.0</td>\n",
       "      <td>NaN</td>\n",
       "      <td>NaN</td>\n",
       "      <td>NaN</td>\n",
       "      <td>NO</td>\n",
       "      <td>32</td>\n",
       "      <td>All-net 500F=2000F;5d</td>\n",
       "      <td>1.0</td>\n",
       "    </tr>\n",
       "    <tr>\n",
       "      <th>179963</th>\n",
       "      <td>cfdc33ebf6b0f6e815467bbd8c1957dd8471b8d9</td>\n",
       "      <td>DAKAR</td>\n",
       "      <td>K &gt; 24 month</td>\n",
       "      <td>19400.0</td>\n",
       "      <td>23.0</td>\n",
       "      <td>19598.0</td>\n",
       "      <td>6533.0</td>\n",
       "      <td>27.0</td>\n",
       "      <td>8040.0</td>\n",
       "      <td>2.0</td>\n",
       "      <td>2.0</td>\n",
       "      <td>NaN</td>\n",
       "      <td>NaN</td>\n",
       "      <td>49.0</td>\n",
       "      <td>NO</td>\n",
       "      <td>34</td>\n",
       "      <td>Data: 200 F=100MB,24H</td>\n",
       "      <td>9.0</td>\n",
       "    </tr>\n",
       "  </tbody>\n",
       "</table>\n",
       "</div>"
      ],
      "text/plain": [
       "                                         user_id REGION         TENURE  \\\n",
       "62537   d3ec96b1f11e9a4a788bd458a96b58182bb8d5c6  DAKAR   K > 24 month   \n",
       "132297  33cdd4f7286913d3e4268ecd28c94f5beeebdb87  THIES   K > 24 month   \n",
       "38461   4281a1d45f12aa2581da28b16d33ab341ed1a694    NaN   K > 24 month   \n",
       "144589  1553a465555eeda18b103ccc06a57fa507dc0cc3  DAKAR  I 18-21 month   \n",
       "179963  cfdc33ebf6b0f6e815467bbd8c1957dd8471b8d9  DAKAR   K > 24 month   \n",
       "\n",
       "        MONTANT  FREQUENCE_RECH  REVENUE  ARPU_SEGMENT  FREQUENCE  \\\n",
       "62537    4500.0             5.0   4133.0        1378.0       13.0   \n",
       "132297   6000.0            12.0   7034.0        2345.0       18.0   \n",
       "38461       NaN             NaN      NaN           NaN        NaN   \n",
       "144589    500.0             1.0    500.0         167.0        1.0   \n",
       "179963  19400.0            23.0  19598.0        6533.0       27.0   \n",
       "\n",
       "        DATA_VOLUME  ON_NET  ORANGE  TIGO  ZONE1  ZONE2 MRG  REGULARITY  \\\n",
       "62537        7169.0     NaN     4.0   1.0    NaN    NaN  NO          62   \n",
       "132297          NaN   140.0   101.0  42.0    2.0    NaN  NO          60   \n",
       "38461           NaN     NaN     NaN   NaN    NaN    NaN  NO          10   \n",
       "144589          NaN    18.0    12.0   NaN    NaN    NaN  NO          32   \n",
       "179963       8040.0     2.0     2.0   NaN    NaN   49.0  NO          34   \n",
       "\n",
       "                     TOP_PACK  FREQ_TOP_PACK  \n",
       "62537      Data:1000F=2GB,30d            3.0  \n",
       "132297  All-net 500F=2000F;5d           11.0  \n",
       "38461                     NaN            NaN  \n",
       "144589  All-net 500F=2000F;5d            1.0  \n",
       "179963  Data: 200 F=100MB,24H            9.0  "
      ]
     },
     "execution_count": 20,
     "metadata": {},
     "output_type": "execute_result"
    }
   ],
   "source": [
    "# Check sample of test data\n",
    "\n",
    "test.sample(5, random_state=1)"
   ]
  },
  {
   "cell_type": "code",
   "execution_count": 21,
   "metadata": {},
   "outputs": [
    {
     "name": "stdout",
     "output_type": "stream",
     "text": [
      "train dataframe shape: (190063, 18)\n"
     ]
    }
   ],
   "source": [
    "# Check shape of test data\n",
    "\n",
    "print(f\"train dataframe shape: {test.shape}\")"
   ]
  },
  {
   "cell_type": "code",
   "execution_count": 22,
   "metadata": {},
   "outputs": [
    {
     "name": "stdout",
     "output_type": "stream",
     "text": [
      "<class 'pandas.core.frame.DataFrame'>\n",
      "RangeIndex: 190063 entries, 0 to 190062\n",
      "Data columns (total 18 columns):\n",
      " #   Column          Non-Null Count   Dtype  \n",
      "---  ------          --------------   -----  \n",
      " 0   user_id         190063 non-null  object \n",
      " 1   REGION          115330 non-null  object \n",
      " 2   TENURE          190063 non-null  object \n",
      " 3   MONTANT         123695 non-null  float64\n",
      " 4   FREQUENCE_RECH  123695 non-null  float64\n",
      " 5   REVENUE         126422 non-null  float64\n",
      " 6   ARPU_SEGMENT    126422 non-null  float64\n",
      " 7   FREQUENCE       126422 non-null  float64\n",
      " 8   DATA_VOLUME     96716 non-null   float64\n",
      " 9   ON_NET          120771 non-null  float64\n",
      " 10  ORANGE          111417 non-null  float64\n",
      " 11  TIGO            76555 non-null   float64\n",
      " 12  ZONE1           14850 non-null   float64\n",
      " 13  ZONE2           12011 non-null   float64\n",
      " 14  MRG             190063 non-null  object \n",
      " 15  REGULARITY      190063 non-null  int64  \n",
      " 16  TOP_PACK        110773 non-null  object \n",
      " 17  FREQ_TOP_PACK   110773 non-null  float64\n",
      "dtypes: float64(12), int64(1), object(5)\n",
      "memory usage: 26.1+ MB\n"
     ]
    }
   ],
   "source": [
    "# Check basic info of test data\n",
    "\n",
    "test.info()"
   ]
  },
  {
   "cell_type": "code",
   "execution_count": 23,
   "metadata": {},
   "outputs": [
    {
     "data": {
      "text/plain": [
       "user_id                0\n",
       "REGION             74733\n",
       "TENURE                 0\n",
       "MONTANT            66368\n",
       "FREQUENCE_RECH     66368\n",
       "REVENUE            63641\n",
       "ARPU_SEGMENT       63641\n",
       "FREQUENCE          63641\n",
       "DATA_VOLUME        93347\n",
       "ON_NET             69292\n",
       "ORANGE             78646\n",
       "TIGO              113508\n",
       "ZONE1             175213\n",
       "ZONE2             178052\n",
       "MRG                    0\n",
       "REGULARITY             0\n",
       "TOP_PACK           79290\n",
       "FREQ_TOP_PACK      79290\n",
       "dtype: int64"
      ]
     },
     "execution_count": 23,
     "metadata": {},
     "output_type": "execute_result"
    }
   ],
   "source": [
    "# Check for null values in the test data\n",
    "\n",
    "test.isnull().sum()"
   ]
  },
  {
   "cell_type": "markdown",
   "metadata": {},
   "source": [
    "There are null values in the test data"
   ]
  },
  {
   "cell_type": "code",
   "execution_count": 24,
   "metadata": {},
   "outputs": [
    {
     "data": {
      "text/plain": [
       "False"
      ]
     },
     "execution_count": 24,
     "metadata": {},
     "output_type": "execute_result"
    }
   ],
   "source": [
    "# Check for duplicates in test data\n",
    "\n",
    "train.duplicated().any()"
   ]
  },
  {
   "cell_type": "markdown",
   "metadata": {},
   "source": [
    "There are no duplicates in the test data"
   ]
  },
  {
   "cell_type": "markdown",
   "metadata": {},
   "source": [
    "### Univariate Analysis"
   ]
  },
  {
   "cell_type": "code",
   "execution_count": null,
   "metadata": {},
   "outputs": [],
   "source": []
  },
  {
   "cell_type": "code",
   "execution_count": 28,
   "metadata": {},
   "outputs": [
    {
     "name": "stdout",
     "output_type": "stream",
     "text": [
      "DAKAR          256259\n",
      "THIES           90171\n",
      "SAINT-LOUIS     59895\n",
      "LOUGA           49679\n",
      "KAOLACK         48498\n",
      "DIOURBEL        33564\n",
      "TAMBACOUNDA     27562\n",
      "KAFFRINE        22067\n",
      "KOLDA           19464\n",
      "FATICK          17775\n",
      "MATAM           14650\n",
      "ZIGUINCHOR      11036\n",
      "SEDHIOU          1553\n",
      "KEDOUGOU          514\n",
      "Name: REGION, dtype: int64\n"
     ]
    },
    {
     "data": {
      "text/plain": [
       "Text(0.5, 0, 'REGION')"
      ]
     },
     "execution_count": 28,
     "metadata": {},
     "output_type": "execute_result"
    },
    {
     "data": {
      "image/png": "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",
      "text/plain": [
       "<Figure size 1000x500 with 1 Axes>"
      ]
     },
     "metadata": {},
     "output_type": "display_data"
    }
   ],
   "source": [
    "# Check  value counts of region\n",
    "\n",
    "print(train['REGION'].value_counts())\n",
    "plt.figure(figsize=(10,5))\n",
    "train['REGION'].value_counts(normalize=True).plot(kind='bar')\n",
    "plt.ylabel('counts')\n",
    "plt.xlabel('REGION')"
   ]
  },
  {
   "cell_type": "markdown",
   "metadata": {},
   "source": [
    "#### Note\n",
    "The top five cities with the highest concentration of customers were ;\n",
    "\n",
    "DAKAR       -    256259<br />\n",
    "THIES       -    90171<br />\n",
    "SAINT LOUIS -    59895<br />\n",
    "LOUGA       -   49679<br />\n",
    "KAOLACK     -   48498<br />"
   ]
  },
  {
   "cell_type": "code",
   "execution_count": 29,
   "metadata": {},
   "outputs": [
    {
     "name": "stdout",
     "output_type": "stream",
     "text": [
      "K > 24 month     1021853\n",
      "I 18-21 month      22494\n",
      "H 15-18 month      12913\n",
      "G 12-15 month       7520\n",
      "J 21-24 month       6324\n",
      "F 9-12 month        4604\n",
      "E 6-9 month          929\n",
      "D 3-6 month          387\n",
      "Name: TENURE, dtype: int64\n"
     ]
    },
    {
     "data": {
      "text/plain": [
       "Text(0.5, 0, 'TENURE')"
      ]
     },
     "execution_count": 29,
     "metadata": {},
     "output_type": "execute_result"
    },
    {
     "data": {
      "image/png": "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",
      "text/plain": [
       "<Figure size 1000x500 with 1 Axes>"
      ]
     },
     "metadata": {},
     "output_type": "display_data"
    }
   ],
   "source": [
    "# Check the value count of TENURE\n",
    "\n",
    "print(train['TENURE'].value_counts())\n",
    "plt.figure(figsize=(10,5))\n",
    "train['TENURE'].value_counts(normalize=True).plot(kind='bar')\n",
    "plt.ylabel('counts')\n",
    "plt.xlabel('TENURE')"
   ]
  },
  {
   "cell_type": "code",
   "execution_count": 30,
   "metadata": {},
   "outputs": [
    {
     "name": "stdout",
     "output_type": "stream",
     "text": [
      "NO    1077024\n",
      "Name: MRG, dtype: int64\n"
     ]
    },
    {
     "data": {
      "text/plain": [
       "Text(0.5, 0, 'MRG')"
      ]
     },
     "execution_count": 30,
     "metadata": {},
     "output_type": "execute_result"
    },
    {
     "data": {
      "image/png": "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",
      "text/plain": [
       "<Figure size 1000x500 with 1 Axes>"
      ]
     },
     "metadata": {},
     "output_type": "display_data"
    }
   ],
   "source": [
    "# Check the value count MRG\n",
    "\n",
    "print(train['MRG'].value_counts())\n",
    "plt.figure(figsize=(10,5))\n",
    "train['MRG'].value_counts(normalize=True).plot(kind='bar')\n",
    "plt.ylabel('counts')\n",
    "plt.xlabel('MRG')"
   ]
  },
  {
   "cell_type": "code",
   "execution_count": 4,
   "metadata": {},
   "outputs": [
    {
     "name": "stdout",
     "output_type": "stream",
     "text": [
      "All-net 500F=2000F;5d             158779\n",
      "On net 200F=Unlimited _call24H     76302\n",
      "Data:490F=1GB,7d                   57679\n",
      "Data: 100 F=40MB,24H               42515\n",
      "Mixt 250F=Unlimited_call24H        33620\n",
      "                                   ...  \n",
      "150=unlimited pilot auto               1\n",
      "FIFA_TS_weekly                         1\n",
      "Data_Mifi_10Go_Monthly                 1\n",
      "Data_Mifi_20Go                         1\n",
      "200=unlimited pilot auto               1\n",
      "Name: TOP_PACK, Length: 126, dtype: int64\n"
     ]
    },
    {
     "data": {
      "text/plain": [
       "Text(0.5, 0, 'TOP_PACK')"
      ]
     },
     "execution_count": 4,
     "metadata": {},
     "output_type": "execute_result"
    },
    {
     "name": "stderr",
     "output_type": "stream",
     "text": [
      "C:\\Users\\elvis_d\\DATA_ANALYTICS\\venv_da\\Lib\\site-packages\\IPython\\core\\events.py:89: UserWarning: Glyph 9 (\t) missing from current font.\n",
      "  func(*args, **kwargs)\n",
      "C:\\Users\\elvis_d\\DATA_ANALYTICS\\venv_da\\Lib\\site-packages\\IPython\\core\\pylabtools.py:152: UserWarning: Glyph 9 (\t) missing from current font.\n",
      "  fig.canvas.print_figure(bytes_io, **kw)\n"
     ]
    },
    {
     "data": {
      "image/png": "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",
      "text/plain": [
       "<Figure size 1000x500 with 1 Axes>"
      ]
     },
     "metadata": {},
     "output_type": "display_data"
    }
   ],
   "source": [
    "# Check the top 10 most active packs (TOP_PACK)\n",
    "print(train['TOP_PACK'].value_counts())\n",
    "plt.figure(figsize=(10,5))\n",
    "\n",
    "train['TOP_PACK'].value_counts(normalize=True).plot(kind='bar')\n",
    "plt.ylabel('counts')\n",
    "plt.xlabel('TOP_PACK')"
   ]
  },
  {
   "cell_type": "code",
   "execution_count": 18,
   "metadata": {},
   "outputs": [
    {
     "name": "stdout",
     "output_type": "stream",
     "text": [
      "0    875031\n",
      "1    201993\n",
      "Name: CHURN, dtype: int64\n"
     ]
    },
    {
     "data": {
      "text/plain": [
       "Text(0.5, 0, 'Churn')"
      ]
     },
     "execution_count": 18,
     "metadata": {},
     "output_type": "execute_result"
    },
    {
     "data": {
      "image/png": "iVBORw0KGgoAAAANSUhEUgAAA04AAAG7CAYAAAD0YMUCAAAAOXRFWHRTb2Z0d2FyZQBNYXRwbG90bGliIHZlcnNpb24zLjcuMSwgaHR0cHM6Ly9tYXRwbG90bGliLm9yZy/bCgiHAAAACXBIWXMAAA9hAAAPYQGoP6dpAAAn2klEQVR4nO3dcXBddZ3/4XdSaELBBLCQQs0YERQRbLClsfhbRTZY1w7KjqsVXVuj1hHRVaMuVKQVUIIr1uxKtVrpsKuydFVEdmAKbgYckTpxWxFRQBGxVUjaLpJg0AST/P7Y2bDZppw2DTlt8zwzZ4Z77vec+7n9g8xrzr3nVgwPDw8HAACAXaosewAAAIB9nXACAAAoIJwAAAAKCCcAAIACwgkAAKCAcAIAACggnAAAAAoIJwAAgAIHlT3AZBsaGsrDDz+cZz3rWamoqCh7HAAAoCTDw8N5/PHHc+yxx6ay8umvKU25cHr44YdTX19f9hgAAMA+YuvWrXnOc57ztGumXDg961nPSvLf/zg1NTUlTwMAAJSlt7c39fX1I43wdKZcOP3Px/NqamqEEwAAsFtf4XFzCAAAgALCCQAAoIBwAgAAKCCcAAAACggnAACAAsIJAACggHACAAAoIJwAAAAKCCcAAIACwgkAAKCAcAIAACggnAAAAAoIJwAAgALCCQAAoIBwAgAAKHBQ2QMwNTVceFPZI0DpHrpiUdkjAAC7qfQrTqtXr05DQ0Oqq6vT1NSUzs7Op13f3t6eF77whTnkkENSX1+fD33oQ/nTn/40SdMCAABTUanhtH79+rS2tmblypXZvHlz5syZk4ULF2bbtm1jrr/22mtz4YUXZuXKlbn33ntz9dVXZ/369fnYxz42yZMDAABTSanhtGrVqixbtiwtLS056aSTsmbNmsyYMSPr1q0bc/2dd96Zl7/85XnLW96ShoaGvPrVr865555beJUKAABgb5QWTgMDA9m0aVOam5ufGqayMs3Nzdm4ceOYx5x++unZtGnTSCg9+OCDufnmm/Pa1752UmYGAACmptJuDrFjx44MDg6mrq5u1P66urrcd999Yx7zlre8JTt27Mj/+3//L8PDw/nzn/+c97znPU/7Ub3+/v709/ePPO7t7Z2YNwAAAEwZpd8cYk/cfvvtufzyy/OFL3whmzdvzvXXX5+bbropl1122S6PaWtrS21t7chWX18/iRMDAAAHgtKuOM2cOTPTpk1Ld3f3qP3d3d2ZNWvWmMdcfPHFedvb3pZ3vetdSZJTTjklfX19efe7352LLroolZU7d+Dy5cvT2to68ri3t1c8AQAAe6S0K07Tp0/P3Llz09HRMbJvaGgoHR0dWbBgwZjHPPHEEzvF0bRp05Ikw8PDYx5TVVWVmpqaURsAAMCeKPUHcFtbW7N06dLMmzcv8+fPT3t7e/r6+tLS0pIkWbJkSWbPnp22trYkydlnn51Vq1bl1FNPTVNTUx544IFcfPHFOfvss0cCCgAAYKKVGk6LFy/O9u3bs2LFinR1daWxsTEbNmwYuWHEli1bRl1h+vjHP56Kiop8/OMfz+9+97scddRROfvss/OpT32qrLcAAABMARXDu/qM2wGqt7c3tbW16enp8bG9EjVceFPZI0DpHrpiUdkjAMCUtidtsF/dVQ8AAKAMwgkAAKCAcAIAACggnAAAAAoIJwAAgALCCQAAoIBwAgAAKCCcAAAACggnAACAAsIJAACggHACAAAoIJwAAAAKCCcAAIACwgkAAKCAcAIAACggnAAAAAoIJwAAgALCCQAAoIBwAgAAKCCcAAAACggnAACAAsIJAACggHACAAAoIJwAAAAKCCcAAIACwgkAAKCAcAIAACggnAAAAAoIJwAAgALCCQAAoIBwAgAAKCCcAAAACggnAACAAsIJAACggHACAAAosE+E0+rVq9PQ0JDq6uo0NTWls7Nzl2vPOOOMVFRU7LQtWrRoEicGAACmktLDaf369Wltbc3KlSuzefPmzJkzJwsXLsy2bdvGXH/99dfnkUceGdnuueeeTJs2LW984xsneXIAAGCqKD2cVq1alWXLlqWlpSUnnXRS1qxZkxkzZmTdunVjrj/yyCMza9aske273/1uZsyYIZwAAIBnTKnhNDAwkE2bNqW5uXlkX2VlZZqbm7Nx48bdOsfVV1+dN7/5zTn00EPHfL6/vz+9vb2jNgAAgD1Rajjt2LEjg4ODqaurG7W/rq4uXV1dhcd3dnbmnnvuybve9a5drmlra0ttbe3IVl9fv9dzAwAAU0vpH9XbG1dffXVOOeWUzJ8/f5drli9fnp6enpFt69atkzghAABwIDiozBefOXNmpk2blu7u7lH7u7u7M2vWrKc9tq+vL9ddd10uvfTSp11XVVWVqqqqvZ4VAACYukq94jR9+vTMnTs3HR0dI/uGhobS0dGRBQsWPO2x3/jGN9Lf35+//du/fabHBAAAprhSrzglSWtra5YuXZp58+Zl/vz5aW9vT19fX1paWpIkS5YsyezZs9PW1jbquKuvvjrnnHNOnv3sZ5cxNgAAMIWUHk6LFy/O9u3bs2LFinR1daWxsTEbNmwYuWHEli1bUlk5+sLY/fffnzvuuCO33nprGSMDAABTTMXw8PBw2UNMpt7e3tTW1qanpyc1NTVljzNlNVx4U9kjQOkeumJR2SMAwJS2J22wX99VDwAAYDIIJwAAgALCCQAAoIBwAgAAKCCcAAAACggnAACAAsIJAACggHACAAAoIJwAAAAKCCcAAIACwgkAAKCAcAIAACggnAAAAAoIJwAAgALCCQAAoIBwAgAAKCCcAAAACggnAACAAsIJAACggHACAAAoIJwAAAAKCCcAAIACwgkAAKCAcAIAACggnAAAAAoIJwAAgALCCQAAoIBwAgAAKCCcAAAACggnAACAAsIJAACggHACAAAoIJwAAAAKCCcAAIACpYfT6tWr09DQkOrq6jQ1NaWzs/Np1z/22GM5//zzc8wxx6SqqioveMELcvPNN0/StAAAwFR0UJkvvn79+rS2tmbNmjVpampKe3t7Fi5cmPvvvz9HH330TusHBgZy1lln5eijj843v/nNzJ49O7/5zW9y+OGHT/7wAADAlFFqOK1atSrLli1LS0tLkmTNmjW56aabsm7dulx44YU7rV+3bl0effTR3HnnnTn44IOTJA0NDZM5MgAAMAWV9lG9gYGBbNq0Kc3NzU8NU1mZ5ubmbNy4ccxjbrzxxixYsCDnn39+6urqcvLJJ+fyyy/P4ODgLl+nv78/vb29ozYAAIA9UVo47dixI4ODg6mrqxu1v66uLl1dXWMe8+CDD+ab3/xmBgcHc/PNN+fiiy/OZz/72Xzyk5/c5eu0tbWltrZ2ZKuvr5/Q9wEAABz4Sr85xJ4YGhrK0UcfnS9/+cuZO3duFi9enIsuuihr1qzZ5THLly9PT0/PyLZ169ZJnBgAADgQlPYdp5kzZ2batGnp7u4etb+7uzuzZs0a85hjjjkmBx98cKZNmzay70UvelG6uroyMDCQ6dOn73RMVVVVqqqqJnZ4AABgSintitP06dMzd+7cdHR0jOwbGhpKR0dHFixYMOYxL3/5y/PAAw9kaGhoZN8vfvGLHHPMMWNGEwAAwEQo9aN6ra2tWbt2bf75n/859957b84777z09fWN3GVvyZIlWb58+cj68847L48++mg+8IEP5Be/+EVuuummXH755Tn//PPLegsAAMAUUOrtyBcvXpzt27dnxYoV6erqSmNjYzZs2DByw4gtW7aksvKptquvr88tt9ySD33oQ3nJS16S2bNn5wMf+EAuuOCCst4CAAAwBVQMDw8Plz3EZOrt7U1tbW16enpSU1NT9jhTVsOFN5U9ApTuoSsWlT0CAExpe9IG+9Vd9QAAAMognAAAAAoIJwAAgALCCQAAoIBwAgAAKCCcAAAACggnAACAAsIJAACggHACAAAoIJwAAAAKCCcAAIACwgkAAKCAcAIAACggnAAAAAoIJwAAgALCCQAAoIBwAgAAKCCcAAAACggnAACAAsIJAACggHACAAAoIJwAAAAKCCcAAIACwgkAAKCAcAIAACggnAAAAAoIJwAAgALCCQAAoIBwAgAAKCCcAAAACggnAACAAsIJAACggHACAAAoIJwAAAAK7BPhtHr16jQ0NKS6ujpNTU3p7Ozc5dprrrkmFRUVo7bq6upJnBYAAJhqSg+n9evXp7W1NStXrszmzZszZ86cLFy4MNu2bdvlMTU1NXnkkUdGtt/85jeTODEAADDVlB5Oq1atyrJly9LS0pKTTjopa9asyYwZM7Ju3bpdHlNRUZFZs2aNbHV1dZM4MQAAMNWUGk4DAwPZtGlTmpubR/ZVVlamubk5Gzdu3OVxf/jDH/Lc5z439fX1ef3rX5+f/exnu1zb39+f3t7eURsAAMCeKDWcduzYkcHBwZ2uGNXV1aWrq2vMY174whdm3bp1+c53vpOvfe1rGRoayumnn57f/va3Y65va2tLbW3tyFZfXz/h7wMAADiwlf5RvT21YMGCLFmyJI2NjXnlK1+Z66+/PkcddVS+9KUvjbl++fLl6enpGdm2bt06yRMDAAD7u4PKfPGZM2dm2rRp6e7uHrW/u7s7s2bN2q1zHHzwwTn11FPzwAMPjPl8VVVVqqqq9npWAABg6ir1itP06dMzd+7cdHR0jOwbGhpKR0dHFixYsFvnGBwczE9/+tMcc8wxz9SYAADAFFfqFackaW1tzdKlSzNv3rzMnz8/7e3t6evrS0tLS5JkyZIlmT17dtra2pIkl156aV72spfl+OOPz2OPPZbPfOYz+c1vfpN3vetdZb4NAADgAFZ6OC1evDjbt2/PihUr0tXVlcbGxmzYsGHkhhFbtmxJZeVTF8Z+//vfZ9myZenq6soRRxyRuXPn5s4778xJJ51U1lsAAAAOcBXDw8PDZQ8xmXp7e1NbW5uenp7U1NSUPc6U1XDhTWWPAKV76IpFZY8AAFPanrTBfndXPQAAgMkmnAAAAAoIJwAAgALCCQAAoIBwAgAAKCCcAAAACowrnLZu3Zrf/va3I487OzvzwQ9+MF/+8pcnbDAAAIB9xbjC6S1veUtuu+22JElXV1fOOuusdHZ25qKLLsqll146oQMCAACUbVzhdM8992T+/PlJkn/7t3/LySefnDvvvDNf//rXc80110zkfAAAAKUbVzg9+eSTqaqqSpL8x3/8R173utclSU488cQ88sgjEzcdAADAPmBc4fTiF784a9asyfe///1897vfzWte85okycMPP5xnP/vZEzogAABA2cYVTp/+9KfzpS99KWeccUbOPffczJkzJ0ly4403jnyEDwAA4EBx0HgOOuOMM7Jjx4709vbmiCOOGNn/7ne/O4ceeuiEDQcAALAvGNcVpzPPPDOPP/74qGhKkiOPPDKLFy+ekMEAAAD2FeMKp9tvvz0DAwM77f/Tn/6U73//+3s9FAAAwL5kjz6qd/fdd4/8989//vN0dXWNPB4cHMyGDRsye/bsiZsOAABgH7BH4dTY2JiKiopUVFTkzDPP3On5Qw45JJ///OcnbDgAAIB9wR6F069//esMDw/nuOOOS2dnZ4466qiR56ZPn56jjz4606ZNm/AhAQAAyrRH4fTc5z43STI0NPSMDAMAALAvGtftyJPkl7/8ZW677bZs27Ztp5BasWLFXg8GAACwrxhXOK1duzbnnXdeZs6cmVmzZqWiomLkuYqKCuEEAAAcUMYVTp/85CfzqU99KhdccMFEzwMAALDPGdfvOP3+97/PG9/4xomeBQAAYJ80rnB64xvfmFtvvXWiZwEAANgnjeujescff3wuvvji/PCHP8wpp5ySgw8+eNTzf/d3fzchwwEAAOwLKoaHh4f39KDnPe95uz5hRUUefPDBvRrqmdTb25va2tr09PSkpqam7HGmrIYLbyp7BCjdQ1csKnsEAJjS9qQNxnXF6de//vW4BgMAANgfjes7TgAAAFPJuK44veMd73ja59etWzeuYQAAAPZF4wqn3//+96MeP/nkk7nnnnvy2GOP5cwzz5yQwQAAAPYV4wqnb3/72zvtGxoaynnnnZfnP//5ez0UAADAvmTCvuNUWVmZ1tbWfO5zn5uoUwIAAOwTJvTmEL/61a/y5z//eSJPCQAAULpxfVSvtbV11OPh4eE88sgjuemmm7J06dIJGQwAAGBfMa4rTj/+8Y9HbXfffXeS5LOf/Wza29v3+HyrV69OQ0NDqqur09TUlM7Ozt067rrrrktFRUXOOeecPX5NAACA3TWuK0633XbbhA2wfv36tLa2Zs2aNWlqakp7e3sWLlyY+++/P0cfffQuj3vooYfykY98JH/xF38xYbMAAACMZa++47R9+/bccccdueOOO7J9+/ZxnWPVqlVZtmxZWlpactJJJ2XNmjWZMWPG0/4W1ODgYN761rfmkksuyXHHHTfe8QEAAHbLuMKpr68v73jHO3LMMcfkFa94RV7xilfk2GOPzTvf+c488cQTu32egYGBbNq0Kc3NzU8NVFmZ5ubmbNy4cZfHXXrppTn66KPzzne+s/A1+vv709vbO2oDAADYE+MKp9bW1nzve9/Lv//7v+exxx7LY489lu985zv53ve+lw9/+MO7fZ4dO3ZkcHAwdXV1o/bX1dWlq6trzGPuuOOOXH311Vm7du1uvUZbW1tqa2tHtvr6+t2eDwAAIBlnOH3rW9/K1Vdfnb/6q79KTU1Nampq8trXvjZr167NN7/5zYmeccTjjz+et73tbVm7dm1mzpy5W8csX748PT09I9vWrVufsfkAAIAD07huDvHEE0/sdJUoSY4++ug9+qjezJkzM23atHR3d4/a393dnVmzZu20/le/+lUeeuihnH322SP7hoaGkiQHHXRQ7r///jz/+c8fdUxVVVWqqqp2eyYAAID/a1xXnBYsWJCVK1fmT3/608i+P/7xj7nkkkuyYMGC3T7P9OnTM3fu3HR0dIzsGxoaSkdHx5jnOfHEE/PTn/40d91118j2ute9Lq961aty1113+RgeAADwjBjXFaf29va85jWvyXOe85zMmTMnSfKTn/wkVVVVufXWW/foXK2trVm6dGnmzZuX+fPnp729PX19fWlpaUmSLFmyJLNnz05bW1uqq6tz8sknjzr+8MMPT5Kd9gMAAEyUcYXTKaeckl/+8pf5+te/nvvuuy9Jcu655+atb31rDjnkkD061+LFi7N9+/asWLEiXV1daWxszIYNG0Y+Crhly5ZUVu7VXdMBAAD2SsXw8PDwnh7U1taWurq6vOMd7xi1f926ddm+fXsuuOCCCRtwovX29qa2tjY9PT2pqakpe5wpq+HCm8oeAUr30BWLyh4BAKa0PWmDcV3K+dKXvpQTTzxxp/0vfvGLs2bNmvGcEgAAYJ81rnDq6urKMcccs9P+o446Ko888sheDwUAALAvGVc41dfX5wc/+MFO+3/wgx/k2GOP3euhAAAA9iXjujnEsmXL8sEPfjBPPvlkzjzzzCRJR0dH/v7v/z4f/vCHJ3RAAACAso0rnD760Y/mv/7rv/Le9743AwMDSZLq6upccMEFWb58+YQOCAAAULZxhVNFRUU+/elP5+KLL869996bQw45JCeccEKqqqomej4AAIDSjSuc/sdhhx2W0047baJmAQAA2Cf5ZVkAAIACwgkAAKCAcAIAACggnAAAAAoIJwAAgALCCQAAoIBwAgAAKCCcAAAACggnAACAAsIJAACggHACAAAoIJwAAAAKCCcAAIACwgkAAKCAcAIAACggnAAAAAoIJwAAgALCCQAAoIBwAgAAKCCcAAAACggnAACAAsIJAACggHACAAAoIJwAAAAKCCcAAIACwgkAAKCAcAIAACiwT4TT6tWr09DQkOrq6jQ1NaWzs3OXa6+//vrMmzcvhx9+eA499NA0Njbmq1/96iROCwAATDWlh9P69evT2tqalStXZvPmzZkzZ04WLlyYbdu2jbn+yCOPzEUXXZSNGzfm7rvvTktLS1paWnLLLbdM8uQAAMBUUTE8PDxc5gBNTU057bTTctVVVyVJhoaGUl9fn/e///258MILd+scL33pS7No0aJcdtllhWt7e3tTW1ubnp6e1NTU7NXsjF/DhTeVPQKU7qErFpU9AgBMaXvSBqVecRoYGMimTZvS3Nw8sq+ysjLNzc3ZuHFj4fHDw8Pp6OjI/fffn1e84hVjrunv709vb++oDQAAYE+UGk47duzI4OBg6urqRu2vq6tLV1fXLo/r6enJYYcdlunTp2fRokX5/Oc/n7POOmvMtW1tbamtrR3Z6uvrJ/Q9AAAAB77Sv+M0Hs961rNy11135Uc/+lE+9alPpbW1NbfffvuYa5cvX56enp6RbevWrZM7LAAAsN87qMwXnzlzZqZNm5bu7u5R+7u7uzNr1qxdHldZWZnjjz8+SdLY2Jh77703bW1tOeOMM3ZaW1VVlaqqqgmdGwAAmFpKveI0ffr0zJ07Nx0dHSP7hoaG0tHRkQULFuz2eYaGhtLf3/9MjAgAAFDuFackaW1tzdKlSzNv3rzMnz8/7e3t6evrS0tLS5JkyZIlmT17dtra2pL893eW5s2bl+c///np7+/PzTffnK9+9av54he/WObbAAAADmClh9PixYuzffv2rFixIl1dXWlsbMyGDRtGbhixZcuWVFY+dWGsr68v733ve/Pb3/42hxxySE488cR87Wtfy+LFi8t6CwAAwAGu9N9xmmx+x2nf4HecwO84AUDZ9pvfcQIAANgfCCcAAIACwgkAAKCAcAIAACggnAAAAAoIJwAAgALCCQAAoIBwAgAAKCCcAAAACggnAACAAsIJAACggHACAAAoIJwAAAAKCCcAAIACwgkAAKCAcAIAACggnAAAAAoIJwAAgALCCQAAoIBwAgAAKCCcAAAACggnAACAAsIJAACggHACAAAoIJwAAAAKCCcAAIACwgkAAKCAcAIAACggnAAAAAoIJwAAgALCCQAAoIBwAgAAKCCcAAAACggnAACAAvtEOK1evToNDQ2prq5OU1NTOjs7d7l27dq1+Yu/+IscccQROeKII9Lc3Py06wEAAPZW6eG0fv36tLa2ZuXKldm8eXPmzJmThQsXZtu2bWOuv/3223Puuefmtttuy8aNG1NfX59Xv/rV+d3vfjfJkwMAAFNFxfDw8HCZAzQ1NeW0007LVVddlSQZGhpKfX193v/+9+fCCy8sPH5wcDBHHHFErrrqqixZsqRwfW9vb2pra9PT05Oampq9np/xabjwprJHgNI9dMWiskcAgCltT9qg1CtOAwMD2bRpU5qbm0f2VVZWprm5ORs3btytczzxxBN58sknc+SRRz5TYwIAAFPcQWW++I4dOzI4OJi6urpR++vq6nLfffft1jkuuOCCHHvssaPi63/r7+9Pf3//yOPe3t7xDwwAAExJpX/HaW9cccUVue666/Ltb3871dXVY65pa2tLbW3tyFZfXz/JUwIAAPu7UsNp5syZmTZtWrq7u0ft7+7uzqxZs5722CuvvDJXXHFFbr311rzkJS/Z5brly5enp6dnZNu6deuEzA4AAEwdpYbT9OnTM3fu3HR0dIzsGxoaSkdHRxYsWLDL4/7hH/4hl112WTZs2JB58+Y97WtUVVWlpqZm1AYAALAnSv2OU5K0trZm6dKlmTdvXubPn5/29vb09fWlpaUlSbJkyZLMnj07bW1tSZJPf/rTWbFiRa699to0NDSkq6srSXLYYYflsMMOK+19AAAAB67Sw2nx4sXZvn17VqxYka6urjQ2NmbDhg0jN4zYsmVLKiufujD2xS9+MQMDA/mbv/mbUedZuXJlPvGJT0zm6AAAwBRR+u84TTa/47Rv8DtO4HecIPH3APwtKNd+8ztOAAAA+wPhBAAAUEA4AQAAFBBOAAAABYQTAABAAeEEAABQQDgBAAAUEE4AAAAFhBMAAEAB4QQAAFBAOAEAABQQTgAAAAWEEwAAQAHhBAAAUEA4AQAAFBBOAAAABYQTAABAAeEEAABQQDgBAAAUEE4AAAAFhBMAAEAB4QQAAFBAOAEAABQQTgAAAAWEEwAAQAHhBAAAUEA4AQAAFBBOAAAABYQTAABAAeEEAABQQDgBAAAUEE4AAAAFhBMAAEAB4QQAAFCg9HBavXp1GhoaUl1dnaampnR2du5y7c9+9rO84Q1vSENDQyoqKtLe3j55gwIAAFNWqeG0fv36tLa2ZuXKldm8eXPmzJmThQsXZtu2bWOuf+KJJ3LcccfliiuuyKxZsyZ5WgAAYKoqNZxWrVqVZcuWpaWlJSeddFLWrFmTGTNmZN26dWOuP+200/KZz3wmb37zm1NVVTXJ0wIAAFNVaeE0MDCQTZs2pbm5+alhKivT3NycjRs3ljUWAADATg4q64V37NiRwcHB1NXVjdpfV1eX++67b8Jep7+/P/39/SOPe3t7J+zcAADA1FD6zSGeaW1tbamtrR3Z6uvryx4JAADYz5QWTjNnzsy0adPS3d09an93d/eE3vhh+fLl6enpGdm2bt06YecGAACmhtLCafr06Zk7d246OjpG9g0NDaWjoyMLFiyYsNepqqpKTU3NqA0AAGBPlPYdpyRpbW3N0qVLM2/evMyfPz/t7e3p6+tLS0tLkmTJkiWZPXt22trakvz3DSV+/vOfj/z37373u9x111057LDDcvzxx5f2PgAAgANbqeG0ePHibN++PStWrEhXV1caGxuzYcOGkRtGbNmyJZWVT10Ue/jhh3PqqaeOPL7yyitz5ZVX5pWvfGVuv/32yR4fAACYIkoNpyR53/vel/e9731jPvd/Y6ihoSHDw8OTMBUAAMBTDvi76gEAAOwt4QQAAFBAOAEAABQQTgAAAAWEEwAAQAHhBAAAUEA4AQAAFBBOAAAABYQTAABAAeEEAABQQDgBAAAUEE4AAAAFhBMAAEAB4QQAAFBAOAEAABQQTgAAAAWEEwAAQAHhBAAAUEA4AQAAFBBOAAAABYQTAABAAeEEAABQQDgBAAAUEE4AAAAFhBMAAEAB4QQAAFBAOAEAABQQTgAAAAWEEwAAQAHhBAAAUEA4AQAAFBBOAAAABYQTAABAAeEEAABQQDgBAAAU2CfCafXq1WloaEh1dXWamprS2dn5tOu/8Y1v5MQTT0x1dXVOOeWU3HzzzZM0KQAAMBWVHk7r169Pa2trVq5cmc2bN2fOnDlZuHBhtm3bNub6O++8M+eee27e+c535sc//nHOOeecnHPOObnnnnsmeXIAAGCqKD2cVq1alWXLlqWlpSUnnXRS1qxZkxkzZmTdunVjrv/Hf/zHvOY1r8lHP/rRvOhFL8pll12Wl770pbnqqqsmeXIAAGCqOKjMFx8YGMimTZuyfPnykX2VlZVpbm7Oxo0bxzxm48aNaW1tHbVv4cKFueGGG8Zc39/fn/7+/pHHPT09SZLe3t69nJ69MdT/RNkjQOn8fwj8PQB/C8r1P//+w8PDhWtLDacdO3ZkcHAwdXV1o/bX1dXlvvvuG/OYrq6uMdd3dXWNub6trS2XXHLJTvvr6+vHOTXAxKhtL3sCAMrmb8G+4fHHH09tbe3Trik1nCbD8uXLR12hGhoayqOPPppnP/vZqaioKHEyKE9vb2/q6+uzdevW1NTUlD0OACXx94Cpbnh4OI8//niOPfbYwrWlhtPMmTMzbdq0dHd3j9rf3d2dWbNmjXnMrFmz9mh9VVVVqqqqRu07/PDDxz80HEBqamr8oQTA3wOmtKIrTf+j1JtDTJ8+PXPnzk1HR8fIvqGhoXR0dGTBggVjHrNgwYJR65Pku9/97i7XAwAA7K3SP6rX2tqapUuXZt68eZk/f37a29vT19eXlpaWJMmSJUsye/bstLW1JUk+8IEP5JWvfGU++9nPZtGiRbnuuuvyn//5n/nyl79c5tsAAAAOYKWH0+LFi7N9+/asWLEiXV1daWxszIYNG0ZuALFly5ZUVj51Yez000/Ptddem49//OP52Mc+lhNOOCE33HBDTj755LLeAux3qqqqsnLlyp0+xgrA1OLvAey+iuHdufceAADAFFb6D+ACAADs64QTAABAAeEEAABQQDgBAAAUKP2uesAzb8eOHVm3bl02btyYrq6uJP/9Y9Knn3563v72t+eoo44qeUIAgH2bu+rBAe5HP/pRFi5cmBkzZqS5uXnkVv/d3d3p6OjIE088kVtuuSXz5s0reVIAgH2XcIID3Mte9rLMmTMna9asSUVFxajnhoeH8573vCd33313Nm7cWNKEAOwLtm7dmpUrV2bdunVljwL7JOEEB7hDDjkkP/7xj3PiiSeO+fx9992XU089NX/84x8neTIA9iU/+clP8tKXvjSDg4NljwL7JN9xggPcrFmz0tnZuctw6uzsHPn4HgAHrhtvvPFpn3/wwQcnaRLYPwknOMB95CMfybvf/e5s2rQpf/mXf7nTd5zWrl2bK6+8suQpAXimnXPOOamoqMjTfdjo/36kG3iKj+rBFLB+/fp87nOfy6ZNm0Y+gjFt2rTMnTs3ra2tedOb3lTyhAA802bPnp0vfOELef3rXz/m83fddVfmzp3ro3qwC8IJppAnn3wyO3bsSJLMnDkzBx98cMkTATBZXve616WxsTGXXnrpmM//5Cc/yamnnpqhoaFJngz2Dz6qB1PIwQcfnGOOOabsMQAowUc/+tH09fXt8vnjjz8+t9122yROBPsXV5wAAAAKVJY9AAAAwL5OOAEAABQQTgAAAAWEEwAHnIqKitxwww1ljwHAAUQ4AbDf6erqyvvf//4cd9xxqaqqSn19fc4+++x0dHSUPRoAByi3Iwdgv/LQQw/l5S9/eQ4//PB85jOfySmnnJInn3wyt9xyS84///zcd999z8jrDgwMZPr06c/IuQHY97niBMB+5b3vfW8qKirS2dmZN7zhDXnBC16QF7/4xWltbc0Pf/jDkXU7duzIX//1X2fGjBk54YQTcuONN448d8011+Twww8fdd4bbrghFRUVI48/8YlPpLGxMV/5ylfyvOc9L9XV1Un++2OAX/nKV3Z5bgAOTMIJgP3Go48+mg0bNuT888/PoYceutPz/zuGLrnkkrzpTW/K3Xffnde+9rV561vfmkcffXSPXu+BBx7It771rVx//fW56667JvTcAOxfhBMA+40HHnggw8PDOfHEEwvXvv3tb8+5556b448/Ppdffnn+8Ic/pLOzc49eb2BgIP/yL/+SU089NS95yUsm9NwA7F+EEwD7jeHh4d1e+79D59BDD01NTU22bdu2R6/33Oc+N0cdddQzcm4A9i/CCYD9xgknnJCKiordugHEwQcfPOpxRUVFhoaGkiSVlZU7RdiTTz650znG+jhg0bkBODAJJwD2G0ceeWQWLlyY1atXp6+vb6fnH3vssd06z1FHHZXHH3981Dn+93eYAOD/Ek4A7FdWr16dwcHBzJ8/P9/61rfyy1/+Mvfee2/+6Z/+KQsWLNitczQ1NWXGjBn52Mc+ll/96le59tprc8011zyzgwOwXxNOAOxXjjvuuGzevDmvetWr8uEPfzgnn3xyzjrrrHR0dOSLX/zibp3jyCOPzNe+9rXcfPPNOeWUU/Kv//qv+cQnPvHMDg7Afq1ieE++aQsAADAFueIEAABQQDgBAAAUEE4AAAAFhBMAAEAB4QQAAFBAOAEAABQQTgAAAAWEEwAAQAHhBAAAUEA4AQAAFBBOAAAABYQTAABAgf8PoyxAWIaRI+kAAAAASUVORK5CYII=",
      "text/plain": [
       "<Figure size 1000x500 with 1 Axes>"
      ]
     },
     "metadata": {},
     "output_type": "display_data"
    }
   ],
   "source": [
    "#Check if the predictor class is balanced \n",
    "print(train['CHURN'].value_counts())\n",
    "plt.figure(figsize=(10,5))\n",
    "train['CHURN'].value_counts(normalize=True).plot(kind='bar')\n",
    "plt.ylabel('counts')\n",
    "plt.xlabel('Churn')"
   ]
  },
  {
   "cell_type": "code",
   "execution_count": 19,
   "metadata": {},
   "outputs": [
    {
     "data": {
      "text/html": [
       "<div>\n",
       "<style scoped>\n",
       "    .dataframe tbody tr th:only-of-type {\n",
       "        vertical-align: middle;\n",
       "    }\n",
       "\n",
       "    .dataframe tbody tr th {\n",
       "        vertical-align: top;\n",
       "    }\n",
       "\n",
       "    .dataframe thead th {\n",
       "        text-align: right;\n",
       "    }\n",
       "</style>\n",
       "<table border=\"1\" class=\"dataframe\">\n",
       "  <thead>\n",
       "    <tr style=\"text-align: right;\">\n",
       "      <th></th>\n",
       "      <th>count</th>\n",
       "      <th>mean</th>\n",
       "      <th>std</th>\n",
       "      <th>min</th>\n",
       "      <th>25%</th>\n",
       "      <th>50%</th>\n",
       "      <th>75%</th>\n",
       "      <th>max</th>\n",
       "    </tr>\n",
       "  </thead>\n",
       "  <tbody>\n",
       "    <tr>\n",
       "      <th>MONTANT</th>\n",
       "      <td>699139.0</td>\n",
       "      <td>5529.210895</td>\n",
       "      <td>7104.737952</td>\n",
       "      <td>20.0</td>\n",
       "      <td>1000.0</td>\n",
       "      <td>3000.0</td>\n",
       "      <td>7350.0</td>\n",
       "      <td>470000.0</td>\n",
       "    </tr>\n",
       "    <tr>\n",
       "      <th>FREQUENCE_RECH</th>\n",
       "      <td>699139.0</td>\n",
       "      <td>11.523756</td>\n",
       "      <td>13.261938</td>\n",
       "      <td>1.0</td>\n",
       "      <td>2.0</td>\n",
       "      <td>7.0</td>\n",
       "      <td>16.0</td>\n",
       "      <td>131.0</td>\n",
       "    </tr>\n",
       "    <tr>\n",
       "      <th>REVENUE</th>\n",
       "      <td>714669.0</td>\n",
       "      <td>5506.050798</td>\n",
       "      <td>7175.625010</td>\n",
       "      <td>1.0</td>\n",
       "      <td>1000.0</td>\n",
       "      <td>3000.0</td>\n",
       "      <td>7360.0</td>\n",
       "      <td>532177.0</td>\n",
       "    </tr>\n",
       "    <tr>\n",
       "      <th>ARPU_SEGMENT</th>\n",
       "      <td>714669.0</td>\n",
       "      <td>1835.355961</td>\n",
       "      <td>2391.870902</td>\n",
       "      <td>0.0</td>\n",
       "      <td>333.0</td>\n",
       "      <td>1000.0</td>\n",
       "      <td>2453.0</td>\n",
       "      <td>177392.0</td>\n",
       "    </tr>\n",
       "    <tr>\n",
       "      <th>FREQUENCE</th>\n",
       "      <td>714669.0</td>\n",
       "      <td>13.974439</td>\n",
       "      <td>14.687059</td>\n",
       "      <td>1.0</td>\n",
       "      <td>3.0</td>\n",
       "      <td>9.0</td>\n",
       "      <td>20.0</td>\n",
       "      <td>91.0</td>\n",
       "    </tr>\n",
       "    <tr>\n",
       "      <th>DATA_VOLUME</th>\n",
       "      <td>547261.0</td>\n",
       "      <td>3368.801722</td>\n",
       "      <td>12898.928039</td>\n",
       "      <td>0.0</td>\n",
       "      <td>0.0</td>\n",
       "      <td>258.0</td>\n",
       "      <td>2905.0</td>\n",
       "      <td>1702309.0</td>\n",
       "    </tr>\n",
       "    <tr>\n",
       "      <th>ON_NET</th>\n",
       "      <td>683850.0</td>\n",
       "      <td>277.065798</td>\n",
       "      <td>874.315378</td>\n",
       "      <td>0.0</td>\n",
       "      <td>5.0</td>\n",
       "      <td>27.0</td>\n",
       "      <td>156.0</td>\n",
       "      <td>50809.0</td>\n",
       "    </tr>\n",
       "    <tr>\n",
       "      <th>ORANGE</th>\n",
       "      <td>629880.0</td>\n",
       "      <td>95.160804</td>\n",
       "      <td>203.020261</td>\n",
       "      <td>0.0</td>\n",
       "      <td>7.0</td>\n",
       "      <td>29.0</td>\n",
       "      <td>99.0</td>\n",
       "      <td>12040.0</td>\n",
       "    </tr>\n",
       "    <tr>\n",
       "      <th>TIGO</th>\n",
       "      <td>432250.0</td>\n",
       "      <td>23.105018</td>\n",
       "      <td>64.035464</td>\n",
       "      <td>0.0</td>\n",
       "      <td>2.0</td>\n",
       "      <td>6.0</td>\n",
       "      <td>20.0</td>\n",
       "      <td>4174.0</td>\n",
       "    </tr>\n",
       "    <tr>\n",
       "      <th>ZONE1</th>\n",
       "      <td>84898.0</td>\n",
       "      <td>8.167483</td>\n",
       "      <td>39.245883</td>\n",
       "      <td>0.0</td>\n",
       "      <td>0.0</td>\n",
       "      <td>1.0</td>\n",
       "      <td>3.0</td>\n",
       "      <td>2507.0</td>\n",
       "    </tr>\n",
       "    <tr>\n",
       "      <th>ZONE2</th>\n",
       "      <td>68794.0</td>\n",
       "      <td>7.709844</td>\n",
       "      <td>36.090513</td>\n",
       "      <td>0.0</td>\n",
       "      <td>0.0</td>\n",
       "      <td>2.0</td>\n",
       "      <td>5.0</td>\n",
       "      <td>3697.0</td>\n",
       "    </tr>\n",
       "    <tr>\n",
       "      <th>REGULARITY</th>\n",
       "      <td>1077024.0</td>\n",
       "      <td>28.044496</td>\n",
       "      <td>22.288610</td>\n",
       "      <td>1.0</td>\n",
       "      <td>6.0</td>\n",
       "      <td>24.0</td>\n",
       "      <td>51.0</td>\n",
       "      <td>62.0</td>\n",
       "    </tr>\n",
       "    <tr>\n",
       "      <th>FREQ_TOP_PACK</th>\n",
       "      <td>626129.0</td>\n",
       "      <td>9.262446</td>\n",
       "      <td>12.242316</td>\n",
       "      <td>1.0</td>\n",
       "      <td>2.0</td>\n",
       "      <td>5.0</td>\n",
       "      <td>12.0</td>\n",
       "      <td>624.0</td>\n",
       "    </tr>\n",
       "    <tr>\n",
       "      <th>CHURN</th>\n",
       "      <td>1077024.0</td>\n",
       "      <td>0.187547</td>\n",
       "      <td>0.390350</td>\n",
       "      <td>0.0</td>\n",
       "      <td>0.0</td>\n",
       "      <td>0.0</td>\n",
       "      <td>0.0</td>\n",
       "      <td>1.0</td>\n",
       "    </tr>\n",
       "  </tbody>\n",
       "</table>\n",
       "</div>"
      ],
      "text/plain": [
       "                    count         mean           std   min     25%     50%  \\\n",
       "MONTANT          699139.0  5529.210895   7104.737952  20.0  1000.0  3000.0   \n",
       "FREQUENCE_RECH   699139.0    11.523756     13.261938   1.0     2.0     7.0   \n",
       "REVENUE          714669.0  5506.050798   7175.625010   1.0  1000.0  3000.0   \n",
       "ARPU_SEGMENT     714669.0  1835.355961   2391.870902   0.0   333.0  1000.0   \n",
       "FREQUENCE        714669.0    13.974439     14.687059   1.0     3.0     9.0   \n",
       "DATA_VOLUME      547261.0  3368.801722  12898.928039   0.0     0.0   258.0   \n",
       "ON_NET           683850.0   277.065798    874.315378   0.0     5.0    27.0   \n",
       "ORANGE           629880.0    95.160804    203.020261   0.0     7.0    29.0   \n",
       "TIGO             432250.0    23.105018     64.035464   0.0     2.0     6.0   \n",
       "ZONE1             84898.0     8.167483     39.245883   0.0     0.0     1.0   \n",
       "ZONE2             68794.0     7.709844     36.090513   0.0     0.0     2.0   \n",
       "REGULARITY      1077024.0    28.044496     22.288610   1.0     6.0    24.0   \n",
       "FREQ_TOP_PACK    626129.0     9.262446     12.242316   1.0     2.0     5.0   \n",
       "CHURN           1077024.0     0.187547      0.390350   0.0     0.0     0.0   \n",
       "\n",
       "                   75%        max  \n",
       "MONTANT         7350.0   470000.0  \n",
       "FREQUENCE_RECH    16.0      131.0  \n",
       "REVENUE         7360.0   532177.0  \n",
       "ARPU_SEGMENT    2453.0   177392.0  \n",
       "FREQUENCE         20.0       91.0  \n",
       "DATA_VOLUME     2905.0  1702309.0  \n",
       "ON_NET           156.0    50809.0  \n",
       "ORANGE            99.0    12040.0  \n",
       "TIGO              20.0     4174.0  \n",
       "ZONE1              3.0     2507.0  \n",
       "ZONE2              5.0     3697.0  \n",
       "REGULARITY        51.0       62.0  \n",
       "FREQ_TOP_PACK     12.0      624.0  \n",
       "CHURN              0.0        1.0  "
      ]
     },
     "execution_count": 19,
     "metadata": {},
     "output_type": "execute_result"
    }
   ],
   "source": [
    "#Check summary of numerical fields\n",
    "train.select_dtypes(include=['int64', 'float64']).describe().T"
   ]
  },
  {
   "cell_type": "code",
   "execution_count": 22,
   "metadata": {},
   "outputs": [],
   "source": [
    "#We will drop REGION, TOP_PACK, and MRG\n",
    "#We will also replace the missing values for the numerical columns with their means (averages)"
   ]
  },
  {
   "cell_type": "code",
   "execution_count": 23,
   "metadata": {},
   "outputs": [],
   "source": [
    "train.drop(columns=['REGION', 'MRG', 'TOP_PACK'], inplace=True) #drop these columns"
   ]
  },
  {
   "cell_type": "code",
   "execution_count": 24,
   "metadata": {},
   "outputs": [
    {
     "data": {
      "text/html": [
       "<div>\n",
       "<style scoped>\n",
       "    .dataframe tbody tr th:only-of-type {\n",
       "        vertical-align: middle;\n",
       "    }\n",
       "\n",
       "    .dataframe tbody tr th {\n",
       "        vertical-align: top;\n",
       "    }\n",
       "\n",
       "    .dataframe thead th {\n",
       "        text-align: right;\n",
       "    }\n",
       "</style>\n",
       "<table border=\"1\" class=\"dataframe\">\n",
       "  <thead>\n",
       "    <tr style=\"text-align: right;\">\n",
       "      <th></th>\n",
       "      <th>user_id</th>\n",
       "      <th>TENURE</th>\n",
       "      <th>MONTANT</th>\n",
       "      <th>FREQUENCE_RECH</th>\n",
       "      <th>REVENUE</th>\n",
       "      <th>ARPU_SEGMENT</th>\n",
       "      <th>FREQUENCE</th>\n",
       "      <th>DATA_VOLUME</th>\n",
       "      <th>ON_NET</th>\n",
       "      <th>ORANGE</th>\n",
       "      <th>TIGO</th>\n",
       "      <th>ZONE1</th>\n",
       "      <th>ZONE2</th>\n",
       "      <th>REGULARITY</th>\n",
       "      <th>FREQ_TOP_PACK</th>\n",
       "      <th>CHURN</th>\n",
       "    </tr>\n",
       "  </thead>\n",
       "  <tbody>\n",
       "    <tr>\n",
       "      <th>0</th>\n",
       "      <td>7ee9e11e342e27c70455960acc80d3f91c1286d1</td>\n",
       "      <td>K &gt; 24 month</td>\n",
       "      <td>20000.0</td>\n",
       "      <td>47.0</td>\n",
       "      <td>21602.0</td>\n",
       "      <td>7201.0</td>\n",
       "      <td>52.0</td>\n",
       "      <td>8835.0</td>\n",
       "      <td>3391.0</td>\n",
       "      <td>396.0</td>\n",
       "      <td>185.0</td>\n",
       "      <td>NaN</td>\n",
       "      <td>NaN</td>\n",
       "      <td>62</td>\n",
       "      <td>30.0</td>\n",
       "      <td>0</td>\n",
       "    </tr>\n",
       "    <tr>\n",
       "      <th>1</th>\n",
       "      <td>50443f42bdc92b10388fc56e520e4421a5fa655c</td>\n",
       "      <td>K &gt; 24 month</td>\n",
       "      <td>NaN</td>\n",
       "      <td>NaN</td>\n",
       "      <td>NaN</td>\n",
       "      <td>NaN</td>\n",
       "      <td>NaN</td>\n",
       "      <td>NaN</td>\n",
       "      <td>NaN</td>\n",
       "      <td>NaN</td>\n",
       "      <td>NaN</td>\n",
       "      <td>NaN</td>\n",
       "      <td>NaN</td>\n",
       "      <td>3</td>\n",
       "      <td>NaN</td>\n",
       "      <td>0</td>\n",
       "    </tr>\n",
       "    <tr>\n",
       "      <th>2</th>\n",
       "      <td>da90b5c1a9b204c186079f89969aa01cb03c91b2</td>\n",
       "      <td>K &gt; 24 month</td>\n",
       "      <td>NaN</td>\n",
       "      <td>NaN</td>\n",
       "      <td>NaN</td>\n",
       "      <td>NaN</td>\n",
       "      <td>NaN</td>\n",
       "      <td>NaN</td>\n",
       "      <td>NaN</td>\n",
       "      <td>NaN</td>\n",
       "      <td>NaN</td>\n",
       "      <td>NaN</td>\n",
       "      <td>NaN</td>\n",
       "      <td>1</td>\n",
       "      <td>NaN</td>\n",
       "      <td>0</td>\n",
       "    </tr>\n",
       "    <tr>\n",
       "      <th>3</th>\n",
       "      <td>364ec1b424cdc64c25441a444a16930289a0051e</td>\n",
       "      <td>K &gt; 24 month</td>\n",
       "      <td>7900.0</td>\n",
       "      <td>19.0</td>\n",
       "      <td>7896.0</td>\n",
       "      <td>2632.0</td>\n",
       "      <td>25.0</td>\n",
       "      <td>9385.0</td>\n",
       "      <td>27.0</td>\n",
       "      <td>46.0</td>\n",
       "      <td>20.0</td>\n",
       "      <td>NaN</td>\n",
       "      <td>2.0</td>\n",
       "      <td>61</td>\n",
       "      <td>7.0</td>\n",
       "      <td>0</td>\n",
       "    </tr>\n",
       "    <tr>\n",
       "      <th>4</th>\n",
       "      <td>d5a5247005bc6d41d3d99f4ef312ebb5f640f2cb</td>\n",
       "      <td>K &gt; 24 month</td>\n",
       "      <td>12350.0</td>\n",
       "      <td>21.0</td>\n",
       "      <td>12351.0</td>\n",
       "      <td>4117.0</td>\n",
       "      <td>29.0</td>\n",
       "      <td>9360.0</td>\n",
       "      <td>66.0</td>\n",
       "      <td>102.0</td>\n",
       "      <td>34.0</td>\n",
       "      <td>NaN</td>\n",
       "      <td>NaN</td>\n",
       "      <td>56</td>\n",
       "      <td>11.0</td>\n",
       "      <td>0</td>\n",
       "    </tr>\n",
       "  </tbody>\n",
       "</table>\n",
       "</div>"
      ],
      "text/plain": [
       "                                    user_id        TENURE  MONTANT  \\\n",
       "0  7ee9e11e342e27c70455960acc80d3f91c1286d1  K > 24 month  20000.0   \n",
       "1  50443f42bdc92b10388fc56e520e4421a5fa655c  K > 24 month      NaN   \n",
       "2  da90b5c1a9b204c186079f89969aa01cb03c91b2  K > 24 month      NaN   \n",
       "3  364ec1b424cdc64c25441a444a16930289a0051e  K > 24 month   7900.0   \n",
       "4  d5a5247005bc6d41d3d99f4ef312ebb5f640f2cb  K > 24 month  12350.0   \n",
       "\n",
       "   FREQUENCE_RECH  REVENUE  ARPU_SEGMENT  FREQUENCE  DATA_VOLUME  ON_NET  \\\n",
       "0            47.0  21602.0        7201.0       52.0       8835.0  3391.0   \n",
       "1             NaN      NaN           NaN        NaN          NaN     NaN   \n",
       "2             NaN      NaN           NaN        NaN          NaN     NaN   \n",
       "3            19.0   7896.0        2632.0       25.0       9385.0    27.0   \n",
       "4            21.0  12351.0        4117.0       29.0       9360.0    66.0   \n",
       "\n",
       "   ORANGE   TIGO  ZONE1  ZONE2  REGULARITY  FREQ_TOP_PACK  CHURN  \n",
       "0   396.0  185.0    NaN    NaN          62           30.0      0  \n",
       "1     NaN    NaN    NaN    NaN           3            NaN      0  \n",
       "2     NaN    NaN    NaN    NaN           1            NaN      0  \n",
       "3    46.0   20.0    NaN    2.0          61            7.0      0  \n",
       "4   102.0   34.0    NaN    NaN          56           11.0      0  "
      ]
     },
     "execution_count": 24,
     "metadata": {},
     "output_type": "execute_result"
    }
   ],
   "source": [
    "train.head()"
   ]
  },
  {
   "cell_type": "code",
   "execution_count": 25,
   "metadata": {},
   "outputs": [],
   "source": [
    "test.drop(columns=['REGION', 'MRG', 'TOP_PACK'], inplace=True)"
   ]
  },
  {
   "cell_type": "code",
   "execution_count": 26,
   "metadata": {},
   "outputs": [
    {
     "data": {
      "text/html": [
       "<div>\n",
       "<style scoped>\n",
       "    .dataframe tbody tr th:only-of-type {\n",
       "        vertical-align: middle;\n",
       "    }\n",
       "\n",
       "    .dataframe tbody tr th {\n",
       "        vertical-align: top;\n",
       "    }\n",
       "\n",
       "    .dataframe thead th {\n",
       "        text-align: right;\n",
       "    }\n",
       "</style>\n",
       "<table border=\"1\" class=\"dataframe\">\n",
       "  <thead>\n",
       "    <tr style=\"text-align: right;\">\n",
       "      <th></th>\n",
       "      <th>user_id</th>\n",
       "      <th>TENURE</th>\n",
       "      <th>MONTANT</th>\n",
       "      <th>FREQUENCE_RECH</th>\n",
       "      <th>REVENUE</th>\n",
       "      <th>ARPU_SEGMENT</th>\n",
       "      <th>FREQUENCE</th>\n",
       "      <th>DATA_VOLUME</th>\n",
       "      <th>ON_NET</th>\n",
       "      <th>ORANGE</th>\n",
       "      <th>TIGO</th>\n",
       "      <th>ZONE1</th>\n",
       "      <th>ZONE2</th>\n",
       "      <th>REGULARITY</th>\n",
       "      <th>FREQ_TOP_PACK</th>\n",
       "    </tr>\n",
       "  </thead>\n",
       "  <tbody>\n",
       "    <tr>\n",
       "      <th>0</th>\n",
       "      <td>51fe4c3347db1f8571d18ac03f716c41acee30a4</td>\n",
       "      <td>I 18-21 month</td>\n",
       "      <td>2500.0</td>\n",
       "      <td>5.0</td>\n",
       "      <td>2500.0</td>\n",
       "      <td>833.0</td>\n",
       "      <td>5.0</td>\n",
       "      <td>0.0</td>\n",
       "      <td>64.0</td>\n",
       "      <td>70.0</td>\n",
       "      <td>NaN</td>\n",
       "      <td>NaN</td>\n",
       "      <td>NaN</td>\n",
       "      <td>35</td>\n",
       "      <td>5.0</td>\n",
       "    </tr>\n",
       "    <tr>\n",
       "      <th>1</th>\n",
       "      <td>5ad5d67c175bce107cc97b98c4e37dcc38aa7f3e</td>\n",
       "      <td>K &gt; 24 month</td>\n",
       "      <td>NaN</td>\n",
       "      <td>NaN</td>\n",
       "      <td>NaN</td>\n",
       "      <td>NaN</td>\n",
       "      <td>NaN</td>\n",
       "      <td>NaN</td>\n",
       "      <td>NaN</td>\n",
       "      <td>NaN</td>\n",
       "      <td>NaN</td>\n",
       "      <td>NaN</td>\n",
       "      <td>NaN</td>\n",
       "      <td>2</td>\n",
       "      <td>NaN</td>\n",
       "    </tr>\n",
       "    <tr>\n",
       "      <th>2</th>\n",
       "      <td>5a4db591c953a8d8f373877fad37aaf4268899a1</td>\n",
       "      <td>K &gt; 24 month</td>\n",
       "      <td>NaN</td>\n",
       "      <td>NaN</td>\n",
       "      <td>NaN</td>\n",
       "      <td>NaN</td>\n",
       "      <td>NaN</td>\n",
       "      <td>0.0</td>\n",
       "      <td>NaN</td>\n",
       "      <td>NaN</td>\n",
       "      <td>NaN</td>\n",
       "      <td>NaN</td>\n",
       "      <td>NaN</td>\n",
       "      <td>22</td>\n",
       "      <td>NaN</td>\n",
       "    </tr>\n",
       "    <tr>\n",
       "      <th>3</th>\n",
       "      <td>8bf9b4d8880aeba1c9a0da48be78f12e629be37c</td>\n",
       "      <td>K &gt; 24 month</td>\n",
       "      <td>NaN</td>\n",
       "      <td>NaN</td>\n",
       "      <td>NaN</td>\n",
       "      <td>NaN</td>\n",
       "      <td>NaN</td>\n",
       "      <td>NaN</td>\n",
       "      <td>NaN</td>\n",
       "      <td>NaN</td>\n",
       "      <td>NaN</td>\n",
       "      <td>NaN</td>\n",
       "      <td>NaN</td>\n",
       "      <td>6</td>\n",
       "      <td>NaN</td>\n",
       "    </tr>\n",
       "    <tr>\n",
       "      <th>4</th>\n",
       "      <td>c7cdf2af01e9fa95bf498b68c122aa4b9a8d10df</td>\n",
       "      <td>K &gt; 24 month</td>\n",
       "      <td>5100.0</td>\n",
       "      <td>7.0</td>\n",
       "      <td>5637.0</td>\n",
       "      <td>1879.0</td>\n",
       "      <td>15.0</td>\n",
       "      <td>7783.0</td>\n",
       "      <td>30.0</td>\n",
       "      <td>24.0</td>\n",
       "      <td>0.0</td>\n",
       "      <td>0.0</td>\n",
       "      <td>NaN</td>\n",
       "      <td>60</td>\n",
       "      <td>4.0</td>\n",
       "    </tr>\n",
       "  </tbody>\n",
       "</table>\n",
       "</div>"
      ],
      "text/plain": [
       "                                    user_id         TENURE  MONTANT  \\\n",
       "0  51fe4c3347db1f8571d18ac03f716c41acee30a4  I 18-21 month   2500.0   \n",
       "1  5ad5d67c175bce107cc97b98c4e37dcc38aa7f3e   K > 24 month      NaN   \n",
       "2  5a4db591c953a8d8f373877fad37aaf4268899a1   K > 24 month      NaN   \n",
       "3  8bf9b4d8880aeba1c9a0da48be78f12e629be37c   K > 24 month      NaN   \n",
       "4  c7cdf2af01e9fa95bf498b68c122aa4b9a8d10df   K > 24 month   5100.0   \n",
       "\n",
       "   FREQUENCE_RECH  REVENUE  ARPU_SEGMENT  FREQUENCE  DATA_VOLUME  ON_NET  \\\n",
       "0             5.0   2500.0         833.0        5.0          0.0    64.0   \n",
       "1             NaN      NaN           NaN        NaN          NaN     NaN   \n",
       "2             NaN      NaN           NaN        NaN          0.0     NaN   \n",
       "3             NaN      NaN           NaN        NaN          NaN     NaN   \n",
       "4             7.0   5637.0        1879.0       15.0       7783.0    30.0   \n",
       "\n",
       "   ORANGE  TIGO  ZONE1  ZONE2  REGULARITY  FREQ_TOP_PACK  \n",
       "0    70.0   NaN    NaN    NaN          35            5.0  \n",
       "1     NaN   NaN    NaN    NaN           2            NaN  \n",
       "2     NaN   NaN    NaN    NaN          22            NaN  \n",
       "3     NaN   NaN    NaN    NaN           6            NaN  \n",
       "4    24.0   0.0    0.0    NaN          60            4.0  "
      ]
     },
     "execution_count": 26,
     "metadata": {},
     "output_type": "execute_result"
    }
   ],
   "source": [
    "test.head()"
   ]
  },
  {
   "cell_type": "code",
   "execution_count": 27,
   "metadata": {},
   "outputs": [],
   "source": [
    "#Fill NAs for train data"
   ]
  },
  {
   "cell_type": "code",
   "execution_count": 28,
   "metadata": {},
   "outputs": [],
   "source": [
    "train['MONTANT'].fillna((train['MONTANT'].mean()), inplace=True)\n",
    "train['FREQUENCE_RECH'].fillna((train['FREQUENCE_RECH'].mean()), inplace=True)\n",
    "train['REVENUE'].fillna((train['REVENUE'].mean()), inplace=True)\n",
    "train['ARPU_SEGMENT'].fillna((train['ARPU_SEGMENT'].mean()), inplace=True)\n",
    "train['FREQUENCE'].fillna((train['FREQUENCE'].mean()), inplace=True)\n",
    "train['DATA_VOLUME'].fillna((train['DATA_VOLUME'].mean()), inplace=True)\n",
    "train['ON_NET'].fillna((train['ON_NET'].mean()), inplace=True)\n",
    "train['ORANGE'].fillna((train['ORANGE'].mean()), inplace=True)\n",
    "train['TIGO'].fillna((train['TIGO'].mean()), inplace=True)\n",
    "train['ZONE1'].fillna((train['ZONE1'].mean()), inplace=True)\n",
    "train['ZONE2'].fillna((train['ZONE2'].mean()), inplace=True)\n",
    "train['FREQ_TOP_PACK'].fillna((train['FREQ_TOP_PACK'].mean()), inplace=True)"
   ]
  },
  {
   "cell_type": "code",
   "execution_count": 29,
   "metadata": {},
   "outputs": [
    {
     "data": {
      "text/html": [
       "<div>\n",
       "<style scoped>\n",
       "    .dataframe tbody tr th:only-of-type {\n",
       "        vertical-align: middle;\n",
       "    }\n",
       "\n",
       "    .dataframe tbody tr th {\n",
       "        vertical-align: top;\n",
       "    }\n",
       "\n",
       "    .dataframe thead th {\n",
       "        text-align: right;\n",
       "    }\n",
       "</style>\n",
       "<table border=\"1\" class=\"dataframe\">\n",
       "  <thead>\n",
       "    <tr style=\"text-align: right;\">\n",
       "      <th></th>\n",
       "      <th>user_id</th>\n",
       "      <th>TENURE</th>\n",
       "      <th>MONTANT</th>\n",
       "      <th>FREQUENCE_RECH</th>\n",
       "      <th>REVENUE</th>\n",
       "      <th>ARPU_SEGMENT</th>\n",
       "      <th>FREQUENCE</th>\n",
       "      <th>DATA_VOLUME</th>\n",
       "      <th>ON_NET</th>\n",
       "      <th>ORANGE</th>\n",
       "      <th>TIGO</th>\n",
       "      <th>ZONE1</th>\n",
       "      <th>ZONE2</th>\n",
       "      <th>REGULARITY</th>\n",
       "      <th>FREQ_TOP_PACK</th>\n",
       "      <th>CHURN</th>\n",
       "    </tr>\n",
       "  </thead>\n",
       "  <tbody>\n",
       "    <tr>\n",
       "      <th>0</th>\n",
       "      <td>7ee9e11e342e27c70455960acc80d3f91c1286d1</td>\n",
       "      <td>K &gt; 24 month</td>\n",
       "      <td>20000.000000</td>\n",
       "      <td>47.000000</td>\n",
       "      <td>21602.000000</td>\n",
       "      <td>7201.000000</td>\n",
       "      <td>52.000000</td>\n",
       "      <td>8835.000000</td>\n",
       "      <td>3391.000000</td>\n",
       "      <td>396.000000</td>\n",
       "      <td>185.000000</td>\n",
       "      <td>8.167483</td>\n",
       "      <td>7.709844</td>\n",
       "      <td>62</td>\n",
       "      <td>30.000000</td>\n",
       "      <td>0</td>\n",
       "    </tr>\n",
       "    <tr>\n",
       "      <th>1</th>\n",
       "      <td>50443f42bdc92b10388fc56e520e4421a5fa655c</td>\n",
       "      <td>K &gt; 24 month</td>\n",
       "      <td>5529.210895</td>\n",
       "      <td>11.523756</td>\n",
       "      <td>5506.050798</td>\n",
       "      <td>1835.355961</td>\n",
       "      <td>13.974439</td>\n",
       "      <td>3368.801722</td>\n",
       "      <td>277.065798</td>\n",
       "      <td>95.160804</td>\n",
       "      <td>23.105018</td>\n",
       "      <td>8.167483</td>\n",
       "      <td>7.709844</td>\n",
       "      <td>3</td>\n",
       "      <td>9.262446</td>\n",
       "      <td>0</td>\n",
       "    </tr>\n",
       "    <tr>\n",
       "      <th>2</th>\n",
       "      <td>da90b5c1a9b204c186079f89969aa01cb03c91b2</td>\n",
       "      <td>K &gt; 24 month</td>\n",
       "      <td>5529.210895</td>\n",
       "      <td>11.523756</td>\n",
       "      <td>5506.050798</td>\n",
       "      <td>1835.355961</td>\n",
       "      <td>13.974439</td>\n",
       "      <td>3368.801722</td>\n",
       "      <td>277.065798</td>\n",
       "      <td>95.160804</td>\n",
       "      <td>23.105018</td>\n",
       "      <td>8.167483</td>\n",
       "      <td>7.709844</td>\n",
       "      <td>1</td>\n",
       "      <td>9.262446</td>\n",
       "      <td>0</td>\n",
       "    </tr>\n",
       "    <tr>\n",
       "      <th>3</th>\n",
       "      <td>364ec1b424cdc64c25441a444a16930289a0051e</td>\n",
       "      <td>K &gt; 24 month</td>\n",
       "      <td>7900.000000</td>\n",
       "      <td>19.000000</td>\n",
       "      <td>7896.000000</td>\n",
       "      <td>2632.000000</td>\n",
       "      <td>25.000000</td>\n",
       "      <td>9385.000000</td>\n",
       "      <td>27.000000</td>\n",
       "      <td>46.000000</td>\n",
       "      <td>20.000000</td>\n",
       "      <td>8.167483</td>\n",
       "      <td>2.000000</td>\n",
       "      <td>61</td>\n",
       "      <td>7.000000</td>\n",
       "      <td>0</td>\n",
       "    </tr>\n",
       "    <tr>\n",
       "      <th>4</th>\n",
       "      <td>d5a5247005bc6d41d3d99f4ef312ebb5f640f2cb</td>\n",
       "      <td>K &gt; 24 month</td>\n",
       "      <td>12350.000000</td>\n",
       "      <td>21.000000</td>\n",
       "      <td>12351.000000</td>\n",
       "      <td>4117.000000</td>\n",
       "      <td>29.000000</td>\n",
       "      <td>9360.000000</td>\n",
       "      <td>66.000000</td>\n",
       "      <td>102.000000</td>\n",
       "      <td>34.000000</td>\n",
       "      <td>8.167483</td>\n",
       "      <td>7.709844</td>\n",
       "      <td>56</td>\n",
       "      <td>11.000000</td>\n",
       "      <td>0</td>\n",
       "    </tr>\n",
       "  </tbody>\n",
       "</table>\n",
       "</div>"
      ],
      "text/plain": [
       "                                    user_id        TENURE       MONTANT  \\\n",
       "0  7ee9e11e342e27c70455960acc80d3f91c1286d1  K > 24 month  20000.000000   \n",
       "1  50443f42bdc92b10388fc56e520e4421a5fa655c  K > 24 month   5529.210895   \n",
       "2  da90b5c1a9b204c186079f89969aa01cb03c91b2  K > 24 month   5529.210895   \n",
       "3  364ec1b424cdc64c25441a444a16930289a0051e  K > 24 month   7900.000000   \n",
       "4  d5a5247005bc6d41d3d99f4ef312ebb5f640f2cb  K > 24 month  12350.000000   \n",
       "\n",
       "   FREQUENCE_RECH       REVENUE  ARPU_SEGMENT  FREQUENCE  DATA_VOLUME  \\\n",
       "0       47.000000  21602.000000   7201.000000  52.000000  8835.000000   \n",
       "1       11.523756   5506.050798   1835.355961  13.974439  3368.801722   \n",
       "2       11.523756   5506.050798   1835.355961  13.974439  3368.801722   \n",
       "3       19.000000   7896.000000   2632.000000  25.000000  9385.000000   \n",
       "4       21.000000  12351.000000   4117.000000  29.000000  9360.000000   \n",
       "\n",
       "        ON_NET      ORANGE        TIGO     ZONE1     ZONE2  REGULARITY  \\\n",
       "0  3391.000000  396.000000  185.000000  8.167483  7.709844          62   \n",
       "1   277.065798   95.160804   23.105018  8.167483  7.709844           3   \n",
       "2   277.065798   95.160804   23.105018  8.167483  7.709844           1   \n",
       "3    27.000000   46.000000   20.000000  8.167483  2.000000          61   \n",
       "4    66.000000  102.000000   34.000000  8.167483  7.709844          56   \n",
       "\n",
       "   FREQ_TOP_PACK  CHURN  \n",
       "0      30.000000      0  \n",
       "1       9.262446      0  \n",
       "2       9.262446      0  \n",
       "3       7.000000      0  \n",
       "4      11.000000      0  "
      ]
     },
     "execution_count": 29,
     "metadata": {},
     "output_type": "execute_result"
    }
   ],
   "source": [
    "train.head()"
   ]
  },
  {
   "cell_type": "code",
   "execution_count": 30,
   "metadata": {},
   "outputs": [
    {
     "data": {
      "text/plain": [
       "user_id           0\n",
       "TENURE            0\n",
       "MONTANT           0\n",
       "FREQUENCE_RECH    0\n",
       "REVENUE           0\n",
       "ARPU_SEGMENT      0\n",
       "FREQUENCE         0\n",
       "DATA_VOLUME       0\n",
       "ON_NET            0\n",
       "ORANGE            0\n",
       "TIGO              0\n",
       "ZONE1             0\n",
       "ZONE2             0\n",
       "REGULARITY        0\n",
       "FREQ_TOP_PACK     0\n",
       "CHURN             0\n",
       "dtype: int64"
      ]
     },
     "execution_count": 30,
     "metadata": {},
     "output_type": "execute_result"
    }
   ],
   "source": [
    "train.isnull().sum()"
   ]
  },
  {
   "cell_type": "code",
   "execution_count": 31,
   "metadata": {},
   "outputs": [],
   "source": [
    "#Fill NAs for test data"
   ]
  },
  {
   "cell_type": "code",
   "execution_count": 32,
   "metadata": {},
   "outputs": [],
   "source": [
    "test['MONTANT'].fillna((test['MONTANT'].mean()), inplace=True)\n",
    "test['FREQUENCE_RECH'].fillna((test['FREQUENCE_RECH'].mean()), inplace=True)\n",
    "test['REVENUE'].fillna((test['REVENUE'].mean()), inplace=True)\n",
    "test['ARPU_SEGMENT'].fillna((test['ARPU_SEGMENT'].mean()), inplace=True)\n",
    "test['FREQUENCE'].fillna((test['FREQUENCE'].mean()), inplace=True)\n",
    "test['DATA_VOLUME'].fillna((test['DATA_VOLUME'].mean()), inplace=True)\n",
    "test['ON_NET'].fillna((test['ON_NET'].mean()), inplace=True)\n",
    "test['ORANGE'].fillna((test['ORANGE'].mean()), inplace=True)\n",
    "test['TIGO'].fillna((test['TIGO'].mean()), inplace=True)\n",
    "test['ZONE1'].fillna((test['ZONE1'].mean()), inplace=True)\n",
    "test['ZONE2'].fillna((test['ZONE2'].mean()), inplace=True)\n",
    "test['FREQ_TOP_PACK'].fillna((test['FREQ_TOP_PACK'].mean()), inplace=True)"
   ]
  },
  {
   "cell_type": "code",
   "execution_count": 33,
   "metadata": {},
   "outputs": [
    {
     "data": {
      "text/html": [
       "<div>\n",
       "<style scoped>\n",
       "    .dataframe tbody tr th:only-of-type {\n",
       "        vertical-align: middle;\n",
       "    }\n",
       "\n",
       "    .dataframe tbody tr th {\n",
       "        vertical-align: top;\n",
       "    }\n",
       "\n",
       "    .dataframe thead th {\n",
       "        text-align: right;\n",
       "    }\n",
       "</style>\n",
       "<table border=\"1\" class=\"dataframe\">\n",
       "  <thead>\n",
       "    <tr style=\"text-align: right;\">\n",
       "      <th></th>\n",
       "      <th>user_id</th>\n",
       "      <th>TENURE</th>\n",
       "      <th>MONTANT</th>\n",
       "      <th>FREQUENCE_RECH</th>\n",
       "      <th>REVENUE</th>\n",
       "      <th>ARPU_SEGMENT</th>\n",
       "      <th>FREQUENCE</th>\n",
       "      <th>DATA_VOLUME</th>\n",
       "      <th>ON_NET</th>\n",
       "      <th>ORANGE</th>\n",
       "      <th>TIGO</th>\n",
       "      <th>ZONE1</th>\n",
       "      <th>ZONE2</th>\n",
       "      <th>REGULARITY</th>\n",
       "      <th>FREQ_TOP_PACK</th>\n",
       "    </tr>\n",
       "  </thead>\n",
       "  <tbody>\n",
       "    <tr>\n",
       "      <th>0</th>\n",
       "      <td>51fe4c3347db1f8571d18ac03f716c41acee30a4</td>\n",
       "      <td>I 18-21 month</td>\n",
       "      <td>2500.000000</td>\n",
       "      <td>5.00000</td>\n",
       "      <td>2500.000000</td>\n",
       "      <td>833.000000</td>\n",
       "      <td>5.00000</td>\n",
       "      <td>0.000000</td>\n",
       "      <td>64.000000</td>\n",
       "      <td>70.000000</td>\n",
       "      <td>22.95227</td>\n",
       "      <td>8.135421</td>\n",
       "      <td>7.696944</td>\n",
       "      <td>35</td>\n",
       "      <td>5.000000</td>\n",
       "    </tr>\n",
       "    <tr>\n",
       "      <th>1</th>\n",
       "      <td>5ad5d67c175bce107cc97b98c4e37dcc38aa7f3e</td>\n",
       "      <td>K &gt; 24 month</td>\n",
       "      <td>5506.547759</td>\n",
       "      <td>11.48394</td>\n",
       "      <td>5486.233417</td>\n",
       "      <td>1828.750281</td>\n",
       "      <td>13.93967</td>\n",
       "      <td>3358.421151</td>\n",
       "      <td>281.210613</td>\n",
       "      <td>94.611639</td>\n",
       "      <td>22.95227</td>\n",
       "      <td>8.135421</td>\n",
       "      <td>7.696944</td>\n",
       "      <td>2</td>\n",
       "      <td>9.234326</td>\n",
       "    </tr>\n",
       "    <tr>\n",
       "      <th>2</th>\n",
       "      <td>5a4db591c953a8d8f373877fad37aaf4268899a1</td>\n",
       "      <td>K &gt; 24 month</td>\n",
       "      <td>5506.547759</td>\n",
       "      <td>11.48394</td>\n",
       "      <td>5486.233417</td>\n",
       "      <td>1828.750281</td>\n",
       "      <td>13.93967</td>\n",
       "      <td>0.000000</td>\n",
       "      <td>281.210613</td>\n",
       "      <td>94.611639</td>\n",
       "      <td>22.95227</td>\n",
       "      <td>8.135421</td>\n",
       "      <td>7.696944</td>\n",
       "      <td>22</td>\n",
       "      <td>9.234326</td>\n",
       "    </tr>\n",
       "    <tr>\n",
       "      <th>3</th>\n",
       "      <td>8bf9b4d8880aeba1c9a0da48be78f12e629be37c</td>\n",
       "      <td>K &gt; 24 month</td>\n",
       "      <td>5506.547759</td>\n",
       "      <td>11.48394</td>\n",
       "      <td>5486.233417</td>\n",
       "      <td>1828.750281</td>\n",
       "      <td>13.93967</td>\n",
       "      <td>3358.421151</td>\n",
       "      <td>281.210613</td>\n",
       "      <td>94.611639</td>\n",
       "      <td>22.95227</td>\n",
       "      <td>8.135421</td>\n",
       "      <td>7.696944</td>\n",
       "      <td>6</td>\n",
       "      <td>9.234326</td>\n",
       "    </tr>\n",
       "    <tr>\n",
       "      <th>4</th>\n",
       "      <td>c7cdf2af01e9fa95bf498b68c122aa4b9a8d10df</td>\n",
       "      <td>K &gt; 24 month</td>\n",
       "      <td>5100.000000</td>\n",
       "      <td>7.00000</td>\n",
       "      <td>5637.000000</td>\n",
       "      <td>1879.000000</td>\n",
       "      <td>15.00000</td>\n",
       "      <td>7783.000000</td>\n",
       "      <td>30.000000</td>\n",
       "      <td>24.000000</td>\n",
       "      <td>0.00000</td>\n",
       "      <td>0.000000</td>\n",
       "      <td>7.696944</td>\n",
       "      <td>60</td>\n",
       "      <td>4.000000</td>\n",
       "    </tr>\n",
       "  </tbody>\n",
       "</table>\n",
       "</div>"
      ],
      "text/plain": [
       "                                    user_id         TENURE      MONTANT  \\\n",
       "0  51fe4c3347db1f8571d18ac03f716c41acee30a4  I 18-21 month  2500.000000   \n",
       "1  5ad5d67c175bce107cc97b98c4e37dcc38aa7f3e   K > 24 month  5506.547759   \n",
       "2  5a4db591c953a8d8f373877fad37aaf4268899a1   K > 24 month  5506.547759   \n",
       "3  8bf9b4d8880aeba1c9a0da48be78f12e629be37c   K > 24 month  5506.547759   \n",
       "4  c7cdf2af01e9fa95bf498b68c122aa4b9a8d10df   K > 24 month  5100.000000   \n",
       "\n",
       "   FREQUENCE_RECH      REVENUE  ARPU_SEGMENT  FREQUENCE  DATA_VOLUME  \\\n",
       "0         5.00000  2500.000000    833.000000    5.00000     0.000000   \n",
       "1        11.48394  5486.233417   1828.750281   13.93967  3358.421151   \n",
       "2        11.48394  5486.233417   1828.750281   13.93967     0.000000   \n",
       "3        11.48394  5486.233417   1828.750281   13.93967  3358.421151   \n",
       "4         7.00000  5637.000000   1879.000000   15.00000  7783.000000   \n",
       "\n",
       "       ON_NET     ORANGE      TIGO     ZONE1     ZONE2  REGULARITY  \\\n",
       "0   64.000000  70.000000  22.95227  8.135421  7.696944          35   \n",
       "1  281.210613  94.611639  22.95227  8.135421  7.696944           2   \n",
       "2  281.210613  94.611639  22.95227  8.135421  7.696944          22   \n",
       "3  281.210613  94.611639  22.95227  8.135421  7.696944           6   \n",
       "4   30.000000  24.000000   0.00000  0.000000  7.696944          60   \n",
       "\n",
       "   FREQ_TOP_PACK  \n",
       "0       5.000000  \n",
       "1       9.234326  \n",
       "2       9.234326  \n",
       "3       9.234326  \n",
       "4       4.000000  "
      ]
     },
     "execution_count": 33,
     "metadata": {},
     "output_type": "execute_result"
    }
   ],
   "source": [
    "test.head()"
   ]
  },
  {
   "cell_type": "code",
   "execution_count": 34,
   "metadata": {},
   "outputs": [
    {
     "data": {
      "text/plain": [
       "user_id           0\n",
       "TENURE            0\n",
       "MONTANT           0\n",
       "FREQUENCE_RECH    0\n",
       "REVENUE           0\n",
       "ARPU_SEGMENT      0\n",
       "FREQUENCE         0\n",
       "DATA_VOLUME       0\n",
       "ON_NET            0\n",
       "ORANGE            0\n",
       "TIGO              0\n",
       "ZONE1             0\n",
       "ZONE2             0\n",
       "REGULARITY        0\n",
       "FREQ_TOP_PACK     0\n",
       "dtype: int64"
      ]
     },
     "execution_count": 34,
     "metadata": {},
     "output_type": "execute_result"
    }
   ],
   "source": [
    "test.isnull().sum()"
   ]
  },
  {
   "cell_type": "markdown",
   "metadata": {},
   "source": [
    "### Feature Creation \n"
   ]
  },
  {
   "cell_type": "code",
   "execution_count": 35,
   "metadata": {},
   "outputs": [
    {
     "name": "stdout",
     "output_type": "stream",
     "text": [
      "                                    user_id        TENURE       MONTANT  \\\n",
      "0  7ee9e11e342e27c70455960acc80d3f91c1286d1  K > 24 month  20000.000000   \n",
      "1  50443f42bdc92b10388fc56e520e4421a5fa655c  K > 24 month   5529.210895   \n",
      "2  da90b5c1a9b204c186079f89969aa01cb03c91b2  K > 24 month   5529.210895   \n",
      "3  364ec1b424cdc64c25441a444a16930289a0051e  K > 24 month   7900.000000   \n",
      "4  d5a5247005bc6d41d3d99f4ef312ebb5f640f2cb  K > 24 month  12350.000000   \n",
      "\n",
      "   FREQUENCE_RECH       REVENUE  ARPU_SEGMENT  FREQUENCE  DATA_VOLUME  \\\n",
      "0       47.000000  21602.000000   7201.000000  52.000000  8835.000000   \n",
      "1       11.523756   5506.050798   1835.355961  13.974439  3368.801722   \n",
      "2       11.523756   5506.050798   1835.355961  13.974439  3368.801722   \n",
      "3       19.000000   7896.000000   2632.000000  25.000000  9385.000000   \n",
      "4       21.000000  12351.000000   4117.000000  29.000000  9360.000000   \n",
      "\n",
      "        ON_NET      ORANGE        TIGO     ZONE1     ZONE2  REGULARITY  \\\n",
      "0  3391.000000  396.000000  185.000000  8.167483  7.709844          62   \n",
      "1   277.065798   95.160804   23.105018  8.167483  7.709844           3   \n",
      "2   277.065798   95.160804   23.105018  8.167483  7.709844           1   \n",
      "3    27.000000   46.000000   20.000000  8.167483  2.000000          61   \n",
      "4    66.000000  102.000000   34.000000  8.167483  7.709844          56   \n",
      "\n",
      "   FREQ_TOP_PACK  CHURN  TOTAL_RECHARGE  AVG_REVENUE_MONTANT  \\\n",
      "0      30.000000      0   940000.000000         20801.000000   \n",
      "1       9.262446      0    63717.275282          5517.630847   \n",
      "2       9.262446      0    63717.275282          5517.630847   \n",
      "3       7.000000      0   150100.000000          7898.000000   \n",
      "4      11.000000      0   259350.000000         12350.500000   \n",
      "\n",
      "   FREQUENCE_SQUARED  ON_NET_REG_RATIO  \n",
      "0        2704.000000         54.693548  \n",
      "1         195.284932         92.355266  \n",
      "2         195.284932        277.065798  \n",
      "3         625.000000          0.442623  \n",
      "4         841.000000          1.178571  \n",
      "                                    user_id         TENURE      MONTANT  \\\n",
      "0  51fe4c3347db1f8571d18ac03f716c41acee30a4  I 18-21 month  2500.000000   \n",
      "1  5ad5d67c175bce107cc97b98c4e37dcc38aa7f3e   K > 24 month  5506.547759   \n",
      "2  5a4db591c953a8d8f373877fad37aaf4268899a1   K > 24 month  5506.547759   \n",
      "3  8bf9b4d8880aeba1c9a0da48be78f12e629be37c   K > 24 month  5506.547759   \n",
      "4  c7cdf2af01e9fa95bf498b68c122aa4b9a8d10df   K > 24 month  5100.000000   \n",
      "\n",
      "   FREQUENCE_RECH      REVENUE  ARPU_SEGMENT  FREQUENCE  DATA_VOLUME  \\\n",
      "0         5.00000  2500.000000    833.000000    5.00000     0.000000   \n",
      "1        11.48394  5486.233417   1828.750281   13.93967  3358.421151   \n",
      "2        11.48394  5486.233417   1828.750281   13.93967     0.000000   \n",
      "3        11.48394  5486.233417   1828.750281   13.93967  3358.421151   \n",
      "4         7.00000  5637.000000   1879.000000   15.00000  7783.000000   \n",
      "\n",
      "       ON_NET     ORANGE      TIGO     ZONE1     ZONE2  REGULARITY  \\\n",
      "0   64.000000  70.000000  22.95227  8.135421  7.696944          35   \n",
      "1  281.210613  94.611639  22.95227  8.135421  7.696944           2   \n",
      "2  281.210613  94.611639  22.95227  8.135421  7.696944          22   \n",
      "3  281.210613  94.611639  22.95227  8.135421  7.696944           6   \n",
      "4   30.000000  24.000000   0.00000  0.000000  7.696944          60   \n",
      "\n",
      "   FREQ_TOP_PACK  TOTAL_RECHARGE  AVG_REVENUE_MONTANT  FREQUENCE_SQUARED  \\\n",
      "0       5.000000    12500.000000          2500.000000          25.000000   \n",
      "1       9.234326    63236.865923          5496.390588         194.314408   \n",
      "2       9.234326    63236.865923          5496.390588         194.314408   \n",
      "3       9.234326    63236.865923          5496.390588         194.314408   \n",
      "4       4.000000    35700.000000          5368.500000         225.000000   \n",
      "\n",
      "   ON_NET_REG_RATIO  \n",
      "0          1.828571  \n",
      "1        140.605307  \n",
      "2         12.782301  \n",
      "3         46.868436  \n",
      "4          0.500000  \n"
     ]
    }
   ],
   "source": [
    "\n",
    "# Assuming you have already loaded train and test DataFrames\n",
    "\n",
    "# Interaction feature: Multiply MONTANT and FREQUENCE_RECH\n",
    "train[\"TOTAL_RECHARGE\"] = train[\"MONTANT\"] * train[\"FREQUENCE_RECH\"]\n",
    "test[\"TOTAL_RECHARGE\"] = test[\"MONTANT\"] * test[\"FREQUENCE_RECH\"]\n",
    "\n",
    "# Aggregated feature: Calculate the mean of REVENUE and MONTANT\n",
    "train[\"AVG_REVENUE_MONTANT\"] = (train[\"REVENUE\"] + train[\"MONTANT\"]) / 2\n",
    "test[\"AVG_REVENUE_MONTANT\"] = (test[\"REVENUE\"] + test[\"MONTANT\"]) / 2\n",
    "\n",
    "# Polynomial feature: Create squared values for FREQUENCE\n",
    "train[\"FREQUENCE_SQUARED\"] = train[\"FREQUENCE\"] ** 2\n",
    "test[\"FREQUENCE_SQUARED\"] = test[\"FREQUENCE\"] ** 2\n",
    "\n",
    "# Domain-specific feature: Calculate ON_NET to REGULARITY ratio\n",
    "train[\"ON_NET_REG_RATIO\"] = train[\"ON_NET\"] / train[\"REGULARITY\"]\n",
    "test[\"ON_NET_REG_RATIO\"] = test[\"ON_NET\"] / test[\"REGULARITY\"]\n",
    "\n",
    "# Display the first few rows of the modified train and test DataFrames\n",
    "print(train.head())\n",
    "print(test.head())\n"
   ]
  },
  {
   "cell_type": "markdown",
   "metadata": {},
   "source": [
    "## Machine Learning"
   ]
  },
  {
   "cell_type": "code",
   "execution_count": 36,
   "metadata": {},
   "outputs": [],
   "source": [
    "from sklearn.model_selection import train_test_split,cross_val_score\n",
    "from sklearn.metrics import accuracy_score,confusion_matrix,recall_score,precision_recall_curve, f1_score\n",
    "from sklearn.preprocessing import StandardScaler\n",
    "from sklearn.ensemble import RandomForestClassifier\n",
    "from sklearn.preprocessing import LabelEncoder"
   ]
  },
  {
   "cell_type": "code",
   "execution_count": 37,
   "metadata": {},
   "outputs": [
    {
     "name": "stdout",
     "output_type": "stream",
     "text": [
      "(1077024, 18)\n",
      "(1077024,)\n",
      "(190063, 18)\n"
     ]
    }
   ],
   "source": [
    "dropcols = ['user_id', 'CHURN']\n",
    "y = train['CHURN']\n",
    "x = train.drop(columns=dropcols, axis=1)\n",
    "test = test.drop(columns=['user_id'], axis=1) #you will use this for predicting and submitting the resulting\n",
    "print(x.shape)\n",
    "print(y.shape)\n",
    "print(test.shape)"
   ]
  },
  {
   "cell_type": "code",
   "execution_count": 38,
   "metadata": {},
   "outputs": [],
   "source": [
    "#Split training data into train and test split"
   ]
  },
  {
   "cell_type": "code",
   "execution_count": 39,
   "metadata": {},
   "outputs": [
    {
     "name": "stdout",
     "output_type": "stream",
     "text": [
      "(538512, 18)\n",
      "(538512,)\n",
      "(538512, 18)\n",
      "(538512,)\n"
     ]
    }
   ],
   "source": [
    "X_train,X_test,y_train,y_test = train_test_split(x,y,test_size = 0.5,random_state=1)\n",
    "print(X_train.shape)\n",
    "print(y_train.shape)\n",
    "\n",
    "print(X_test.shape)\n",
    "print(y_test.shape)"
   ]
  },
  {
   "cell_type": "code",
   "execution_count": 40,
   "metadata": {},
   "outputs": [],
   "source": [
    "#Further split X_train and y_train into train and validation sets"
   ]
  },
  {
   "cell_type": "code",
   "execution_count": 41,
   "metadata": {},
   "outputs": [],
   "source": [
    "X_train,X_val,y_train,y_val = train_test_split(X_train,y_train,test_size = 0.3, random_state=1)"
   ]
  },
  {
   "cell_type": "code",
   "execution_count": 42,
   "metadata": {},
   "outputs": [
    {
     "name": "stdout",
     "output_type": "stream",
     "text": [
      "train\n",
      "(376958, 18)\n",
      "(376958,)\n",
      "+++++++\n",
      "test\n",
      "(538512, 18)\n",
      "(538512,)\n",
      "+++++++\n",
      "validation\n",
      "(161554, 18)\n",
      "(161554,)\n"
     ]
    }
   ],
   "source": [
    "print(\"train\")\n",
    "print(X_train.shape)\n",
    "print(y_train.shape)\n",
    "print(\"+\"*7)\n",
    "print(\"test\")\n",
    "print(X_test.shape)\n",
    "print(y_test.shape)\n",
    "print(\"+\"*7)\n",
    "print(\"validation\")\n",
    "print(X_val.shape)\n",
    "print(y_val.shape)"
   ]
  },
  {
   "cell_type": "code",
   "execution_count": 43,
   "metadata": {},
   "outputs": [],
   "source": [
    "#Standardize numeric columns"
   ]
  },
  {
   "cell_type": "code",
   "execution_count": 44,
   "metadata": {},
   "outputs": [],
   "source": [
    "num_cols = ['MONTANT', 'FREQUENCE_RECH', 'REVENUE', 'ARPU_SEGMENT', 'FREQUENCE',\n",
    "       'DATA_VOLUME', 'ON_NET', 'ORANGE', 'TIGO', 'ZONE1', 'ZONE2',\n",
    "       'REGULARITY', 'FREQ_TOP_PACK']"
   ]
  },
  {
   "cell_type": "code",
   "execution_count": 45,
   "metadata": {},
   "outputs": [],
   "source": [
    "scaler = StandardScaler()"
   ]
  },
  {
   "cell_type": "code",
   "execution_count": 46,
   "metadata": {},
   "outputs": [],
   "source": [
    "X_train[num_cols] = scaler.fit_transform(X_train[num_cols])"
   ]
  },
  {
   "cell_type": "code",
   "execution_count": 47,
   "metadata": {},
   "outputs": [
    {
     "data": {
      "text/html": [
       "<div>\n",
       "<style scoped>\n",
       "    .dataframe tbody tr th:only-of-type {\n",
       "        vertical-align: middle;\n",
       "    }\n",
       "\n",
       "    .dataframe tbody tr th {\n",
       "        vertical-align: top;\n",
       "    }\n",
       "\n",
       "    .dataframe thead th {\n",
       "        text-align: right;\n",
       "    }\n",
       "</style>\n",
       "<table border=\"1\" class=\"dataframe\">\n",
       "  <thead>\n",
       "    <tr style=\"text-align: right;\">\n",
       "      <th></th>\n",
       "      <th>TENURE</th>\n",
       "      <th>MONTANT</th>\n",
       "      <th>FREQUENCE_RECH</th>\n",
       "      <th>REVENUE</th>\n",
       "      <th>ARPU_SEGMENT</th>\n",
       "      <th>FREQUENCE</th>\n",
       "      <th>DATA_VOLUME</th>\n",
       "      <th>ON_NET</th>\n",
       "      <th>ORANGE</th>\n",
       "      <th>TIGO</th>\n",
       "      <th>ZONE1</th>\n",
       "      <th>ZONE2</th>\n",
       "      <th>REGULARITY</th>\n",
       "      <th>FREQ_TOP_PACK</th>\n",
       "      <th>TOTAL_RECHARGE</th>\n",
       "      <th>AVG_REVENUE_MONTANT</th>\n",
       "      <th>FREQUENCE_SQUARED</th>\n",
       "      <th>ON_NET_REG_RATIO</th>\n",
       "    </tr>\n",
       "  </thead>\n",
       "  <tbody>\n",
       "    <tr>\n",
       "      <th>799472</th>\n",
       "      <td>K &gt; 24 month</td>\n",
       "      <td>1.022970</td>\n",
       "      <td>0.889686</td>\n",
       "      <td>1.127881</td>\n",
       "      <td>1.127710</td>\n",
       "      <td>1.927184</td>\n",
       "      <td>0.389218</td>\n",
       "      <td>-0.317321</td>\n",
       "      <td>-0.290984</td>\n",
       "      <td>-0.510194</td>\n",
       "      <td>-0.000005</td>\n",
       "      <td>0.723281</td>\n",
       "      <td>1.478598</td>\n",
       "      <td>-0.348810</td>\n",
       "      <td>239400.0</td>\n",
       "      <td>11751.5</td>\n",
       "      <td>1369.0</td>\n",
       "      <td>0.934426</td>\n",
       "    </tr>\n",
       "    <tr>\n",
       "      <th>295570</th>\n",
       "      <td>J 21-24 month</td>\n",
       "      <td>0.203177</td>\n",
       "      <td>0.139290</td>\n",
       "      <td>0.353855</td>\n",
       "      <td>0.353853</td>\n",
       "      <td>0.588023</td>\n",
       "      <td>0.875619</td>\n",
       "      <td>-0.393770</td>\n",
       "      <td>-0.541835</td>\n",
       "      <td>-0.586660</td>\n",
       "      <td>-0.000005</td>\n",
       "      <td>-0.230646</td>\n",
       "      <td>1.209397</td>\n",
       "      <td>-0.027868</td>\n",
       "      <td>87100.0</td>\n",
       "      <td>7139.0</td>\n",
       "      <td>441.0</td>\n",
       "      <td>0.072727</td>\n",
       "    </tr>\n",
       "    <tr>\n",
       "      <th>929179</th>\n",
       "      <td>K &gt; 24 month</td>\n",
       "      <td>0.473534</td>\n",
       "      <td>0.795886</td>\n",
       "      <td>0.460594</td>\n",
       "      <td>0.460592</td>\n",
       "      <td>0.839115</td>\n",
       "      <td>-0.337908</td>\n",
       "      <td>-0.074993</td>\n",
       "      <td>1.555015</td>\n",
       "      <td>2.930798</td>\n",
       "      <td>-0.000005</td>\n",
       "      <td>0.002364</td>\n",
       "      <td>1.523465</td>\n",
       "      <td>0.079113</td>\n",
       "      <td>165000.0</td>\n",
       "      <td>8226.0</td>\n",
       "      <td>576.0</td>\n",
       "      <td>3.629032</td>\n",
       "    </tr>\n",
       "    <tr>\n",
       "      <th>787349</th>\n",
       "      <td>K &gt; 24 month</td>\n",
       "      <td>-0.878252</td>\n",
       "      <td>-0.986303</td>\n",
       "      <td>-0.856875</td>\n",
       "      <td>-0.856709</td>\n",
       "      <td>-1.085930</td>\n",
       "      <td>-0.001634</td>\n",
       "      <td>-0.338958</td>\n",
       "      <td>-0.535403</td>\n",
       "      <td>0.002260</td>\n",
       "      <td>-0.000005</td>\n",
       "      <td>0.002364</td>\n",
       "      <td>1.074797</td>\n",
       "      <td>-0.883713</td>\n",
       "      <td>500.0</td>\n",
       "      <td>500.0</td>\n",
       "      <td>1.0</td>\n",
       "      <td>0.807692</td>\n",
       "    </tr>\n",
       "    <tr>\n",
       "      <th>965538</th>\n",
       "      <td>K &gt; 24 month</td>\n",
       "      <td>-0.948021</td>\n",
       "      <td>-0.986303</td>\n",
       "      <td>-0.928206</td>\n",
       "      <td>-0.928039</td>\n",
       "      <td>-1.085930</td>\n",
       "      <td>-0.309351</td>\n",
       "      <td>-0.388000</td>\n",
       "      <td>-0.612587</td>\n",
       "      <td>0.002260</td>\n",
       "      <td>-0.000005</td>\n",
       "      <td>0.002364</td>\n",
       "      <td>-0.944210</td>\n",
       "      <td>-0.883713</td>\n",
       "      <td>100.0</td>\n",
       "      <td>91.5</td>\n",
       "      <td>1.0</td>\n",
       "      <td>1.142857</td>\n",
       "    </tr>\n",
       "  </tbody>\n",
       "</table>\n",
       "</div>"
      ],
      "text/plain": [
       "               TENURE   MONTANT  FREQUENCE_RECH   REVENUE  ARPU_SEGMENT  \\\n",
       "799472   K > 24 month  1.022970        0.889686  1.127881      1.127710   \n",
       "295570  J 21-24 month  0.203177        0.139290  0.353855      0.353853   \n",
       "929179   K > 24 month  0.473534        0.795886  0.460594      0.460592   \n",
       "787349   K > 24 month -0.878252       -0.986303 -0.856875     -0.856709   \n",
       "965538   K > 24 month -0.948021       -0.986303 -0.928206     -0.928039   \n",
       "\n",
       "        FREQUENCE  DATA_VOLUME    ON_NET    ORANGE      TIGO     ZONE1  \\\n",
       "799472   1.927184     0.389218 -0.317321 -0.290984 -0.510194 -0.000005   \n",
       "295570   0.588023     0.875619 -0.393770 -0.541835 -0.586660 -0.000005   \n",
       "929179   0.839115    -0.337908 -0.074993  1.555015  2.930798 -0.000005   \n",
       "787349  -1.085930    -0.001634 -0.338958 -0.535403  0.002260 -0.000005   \n",
       "965538  -1.085930    -0.309351 -0.388000 -0.612587  0.002260 -0.000005   \n",
       "\n",
       "           ZONE2  REGULARITY  FREQ_TOP_PACK  TOTAL_RECHARGE  \\\n",
       "799472  0.723281    1.478598      -0.348810        239400.0   \n",
       "295570 -0.230646    1.209397      -0.027868         87100.0   \n",
       "929179  0.002364    1.523465       0.079113        165000.0   \n",
       "787349  0.002364    1.074797      -0.883713           500.0   \n",
       "965538  0.002364   -0.944210      -0.883713           100.0   \n",
       "\n",
       "        AVG_REVENUE_MONTANT  FREQUENCE_SQUARED  ON_NET_REG_RATIO  \n",
       "799472              11751.5             1369.0          0.934426  \n",
       "295570               7139.0              441.0          0.072727  \n",
       "929179               8226.0              576.0          3.629032  \n",
       "787349                500.0                1.0          0.807692  \n",
       "965538                 91.5                1.0          1.142857  "
      ]
     },
     "execution_count": 47,
     "metadata": {},
     "output_type": "execute_result"
    }
   ],
   "source": [
    "X_train.head()"
   ]
  },
  {
   "cell_type": "code",
   "execution_count": 48,
   "metadata": {},
   "outputs": [],
   "source": [
    "X_test[num_cols] = scaler.transform(X_test[num_cols])"
   ]
  },
  {
   "cell_type": "code",
   "execution_count": 49,
   "metadata": {},
   "outputs": [
    {
     "data": {
      "text/html": [
       "<div>\n",
       "<style scoped>\n",
       "    .dataframe tbody tr th:only-of-type {\n",
       "        vertical-align: middle;\n",
       "    }\n",
       "\n",
       "    .dataframe tbody tr th {\n",
       "        vertical-align: top;\n",
       "    }\n",
       "\n",
       "    .dataframe thead th {\n",
       "        text-align: right;\n",
       "    }\n",
       "</style>\n",
       "<table border=\"1\" class=\"dataframe\">\n",
       "  <thead>\n",
       "    <tr style=\"text-align: right;\">\n",
       "      <th></th>\n",
       "      <th>TENURE</th>\n",
       "      <th>MONTANT</th>\n",
       "      <th>FREQUENCE_RECH</th>\n",
       "      <th>REVENUE</th>\n",
       "      <th>ARPU_SEGMENT</th>\n",
       "      <th>FREQUENCE</th>\n",
       "      <th>DATA_VOLUME</th>\n",
       "      <th>ON_NET</th>\n",
       "      <th>ORANGE</th>\n",
       "      <th>TIGO</th>\n",
       "      <th>ZONE1</th>\n",
       "      <th>ZONE2</th>\n",
       "      <th>REGULARITY</th>\n",
       "      <th>FREQ_TOP_PACK</th>\n",
       "      <th>TOTAL_RECHARGE</th>\n",
       "      <th>AVG_REVENUE_MONTANT</th>\n",
       "      <th>FREQUENCE_SQUARED</th>\n",
       "      <th>ON_NET_REG_RATIO</th>\n",
       "    </tr>\n",
       "  </thead>\n",
       "  <tbody>\n",
       "    <tr>\n",
       "      <th>711285</th>\n",
       "      <td>K &gt; 24 month</td>\n",
       "      <td>-0.001037</td>\n",
       "      <td>0.000819</td>\n",
       "      <td>-0.000563</td>\n",
       "      <td>-0.000563</td>\n",
       "      <td>-3.557674e-08</td>\n",
       "      <td>-0.348940</td>\n",
       "      <td>0.000108</td>\n",
       "      <td>-0.000508</td>\n",
       "      <td>0.002260</td>\n",
       "      <td>-0.000005</td>\n",
       "      <td>0.002364</td>\n",
       "      <td>-0.495542</td>\n",
       "      <td>0.000209</td>\n",
       "      <td>63717.275282</td>\n",
       "      <td>5517.630847</td>\n",
       "      <td>195.284932</td>\n",
       "      <td>16.297988</td>\n",
       "    </tr>\n",
       "    <tr>\n",
       "      <th>997846</th>\n",
       "      <td>K &gt; 24 month</td>\n",
       "      <td>-0.703828</td>\n",
       "      <td>-0.329707</td>\n",
       "      <td>-0.685820</td>\n",
       "      <td>-0.685824</td>\n",
       "      <td>-5.000463e-01</td>\n",
       "      <td>-0.314815</td>\n",
       "      <td>-0.213467</td>\n",
       "      <td>-0.528970</td>\n",
       "      <td>-0.229817</td>\n",
       "      <td>-0.000005</td>\n",
       "      <td>0.002364</td>\n",
       "      <td>-0.630142</td>\n",
       "      <td>-0.776733</td>\n",
       "      <td>12000.000000</td>\n",
       "      <td>1500.000000</td>\n",
       "      <td>64.000000</td>\n",
       "      <td>9.214286</td>\n",
       "    </tr>\n",
       "    <tr>\n",
       "      <th>873285</th>\n",
       "      <td>K &gt; 24 month</td>\n",
       "      <td>0.272946</td>\n",
       "      <td>0.983485</td>\n",
       "      <td>0.358473</td>\n",
       "      <td>0.358471</td>\n",
       "      <td>1.173906e+00</td>\n",
       "      <td>-0.001634</td>\n",
       "      <td>0.799118</td>\n",
       "      <td>0.937538</td>\n",
       "      <td>-0.535682</td>\n",
       "      <td>-0.000005</td>\n",
       "      <td>0.002364</td>\n",
       "      <td>0.670995</td>\n",
       "      <td>1.041940</td>\n",
       "      <td>156200.000000</td>\n",
       "      <td>7352.500000</td>\n",
       "      <td>784.000000</td>\n",
       "      <td>19.325581</td>\n",
       "    </tr>\n",
       "    <tr>\n",
       "      <th>945973</th>\n",
       "      <td>K &gt; 24 month</td>\n",
       "      <td>-0.001037</td>\n",
       "      <td>0.000819</td>\n",
       "      <td>-0.000563</td>\n",
       "      <td>-0.000563</td>\n",
       "      <td>-3.557674e-08</td>\n",
       "      <td>-0.348940</td>\n",
       "      <td>0.000108</td>\n",
       "      <td>-0.000508</td>\n",
       "      <td>0.002260</td>\n",
       "      <td>-0.000005</td>\n",
       "      <td>0.002364</td>\n",
       "      <td>0.356928</td>\n",
       "      <td>0.000209</td>\n",
       "      <td>63717.275282</td>\n",
       "      <td>5517.630847</td>\n",
       "      <td>195.284932</td>\n",
       "      <td>7.696272</td>\n",
       "    </tr>\n",
       "    <tr>\n",
       "      <th>1063939</th>\n",
       "      <td>K &gt; 24 month</td>\n",
       "      <td>-0.001037</td>\n",
       "      <td>0.000819</td>\n",
       "      <td>-0.000563</td>\n",
       "      <td>-0.000563</td>\n",
       "      <td>-3.557674e-08</td>\n",
       "      <td>-0.001634</td>\n",
       "      <td>0.000108</td>\n",
       "      <td>-0.000508</td>\n",
       "      <td>0.002260</td>\n",
       "      <td>-0.000005</td>\n",
       "      <td>0.002364</td>\n",
       "      <td>-0.944210</td>\n",
       "      <td>0.000209</td>\n",
       "      <td>63717.275282</td>\n",
       "      <td>5517.630847</td>\n",
       "      <td>195.284932</td>\n",
       "      <td>39.580828</td>\n",
       "    </tr>\n",
       "  </tbody>\n",
       "</table>\n",
       "</div>"
      ],
      "text/plain": [
       "               TENURE   MONTANT  FREQUENCE_RECH   REVENUE  ARPU_SEGMENT  \\\n",
       "711285   K > 24 month -0.001037        0.000819 -0.000563     -0.000563   \n",
       "997846   K > 24 month -0.703828       -0.329707 -0.685820     -0.685824   \n",
       "873285   K > 24 month  0.272946        0.983485  0.358473      0.358471   \n",
       "945973   K > 24 month -0.001037        0.000819 -0.000563     -0.000563   \n",
       "1063939  K > 24 month -0.001037        0.000819 -0.000563     -0.000563   \n",
       "\n",
       "            FREQUENCE  DATA_VOLUME    ON_NET    ORANGE      TIGO     ZONE1  \\\n",
       "711285  -3.557674e-08    -0.348940  0.000108 -0.000508  0.002260 -0.000005   \n",
       "997846  -5.000463e-01    -0.314815 -0.213467 -0.528970 -0.229817 -0.000005   \n",
       "873285   1.173906e+00    -0.001634  0.799118  0.937538 -0.535682 -0.000005   \n",
       "945973  -3.557674e-08    -0.348940  0.000108 -0.000508  0.002260 -0.000005   \n",
       "1063939 -3.557674e-08    -0.001634  0.000108 -0.000508  0.002260 -0.000005   \n",
       "\n",
       "            ZONE2  REGULARITY  FREQ_TOP_PACK  TOTAL_RECHARGE  \\\n",
       "711285   0.002364   -0.495542       0.000209    63717.275282   \n",
       "997846   0.002364   -0.630142      -0.776733    12000.000000   \n",
       "873285   0.002364    0.670995       1.041940   156200.000000   \n",
       "945973   0.002364    0.356928       0.000209    63717.275282   \n",
       "1063939  0.002364   -0.944210       0.000209    63717.275282   \n",
       "\n",
       "         AVG_REVENUE_MONTANT  FREQUENCE_SQUARED  ON_NET_REG_RATIO  \n",
       "711285           5517.630847         195.284932         16.297988  \n",
       "997846           1500.000000          64.000000          9.214286  \n",
       "873285           7352.500000         784.000000         19.325581  \n",
       "945973           5517.630847         195.284932          7.696272  \n",
       "1063939          5517.630847         195.284932         39.580828  "
      ]
     },
     "execution_count": 49,
     "metadata": {},
     "output_type": "execute_result"
    }
   ],
   "source": [
    "X_test.head()"
   ]
  },
  {
   "cell_type": "code",
   "execution_count": 50,
   "metadata": {},
   "outputs": [],
   "source": [
    "test[num_cols] = scaler.transform(test[num_cols])"
   ]
  },
  {
   "cell_type": "code",
   "execution_count": 51,
   "metadata": {},
   "outputs": [
    {
     "data": {
      "text/html": [
       "<div>\n",
       "<style scoped>\n",
       "    .dataframe tbody tr th:only-of-type {\n",
       "        vertical-align: middle;\n",
       "    }\n",
       "\n",
       "    .dataframe tbody tr th {\n",
       "        vertical-align: top;\n",
       "    }\n",
       "\n",
       "    .dataframe thead th {\n",
       "        text-align: right;\n",
       "    }\n",
       "</style>\n",
       "<table border=\"1\" class=\"dataframe\">\n",
       "  <thead>\n",
       "    <tr style=\"text-align: right;\">\n",
       "      <th></th>\n",
       "      <th>TENURE</th>\n",
       "      <th>MONTANT</th>\n",
       "      <th>FREQUENCE_RECH</th>\n",
       "      <th>REVENUE</th>\n",
       "      <th>ARPU_SEGMENT</th>\n",
       "      <th>FREQUENCE</th>\n",
       "      <th>DATA_VOLUME</th>\n",
       "      <th>ON_NET</th>\n",
       "      <th>ORANGE</th>\n",
       "      <th>TIGO</th>\n",
       "      <th>ZONE1</th>\n",
       "      <th>ZONE2</th>\n",
       "      <th>REGULARITY</th>\n",
       "      <th>FREQ_TOP_PACK</th>\n",
       "      <th>TOTAL_RECHARGE</th>\n",
       "      <th>AVG_REVENUE_MONTANT</th>\n",
       "      <th>FREQUENCE_SQUARED</th>\n",
       "      <th>ON_NET_REG_RATIO</th>\n",
       "    </tr>\n",
       "  </thead>\n",
       "  <tbody>\n",
       "    <tr>\n",
       "      <th>0</th>\n",
       "      <td>I 18-21 month</td>\n",
       "      <td>-0.529404</td>\n",
       "      <td>-0.611105</td>\n",
       "      <td>-0.514765</td>\n",
       "      <td>-0.514940</td>\n",
       "      <td>-0.751139</td>\n",
       "      <td>-0.348940</td>\n",
       "      <td>-0.307224</td>\n",
       "      <td>-0.162343</td>\n",
       "      <td>-0.001634</td>\n",
       "      <td>-0.002870</td>\n",
       "      <td>0.000606</td>\n",
       "      <td>0.312061</td>\n",
       "      <td>-0.455791</td>\n",
       "      <td>12500.000000</td>\n",
       "      <td>2500.000000</td>\n",
       "      <td>25.000000</td>\n",
       "      <td>1.828571</td>\n",
       "    </tr>\n",
       "    <tr>\n",
       "      <th>1</th>\n",
       "      <td>K &gt; 24 month</td>\n",
       "      <td>-0.004990</td>\n",
       "      <td>-0.002915</td>\n",
       "      <td>-0.003953</td>\n",
       "      <td>-0.003953</td>\n",
       "      <td>-0.002910</td>\n",
       "      <td>-0.002704</td>\n",
       "      <td>0.006086</td>\n",
       "      <td>-0.004040</td>\n",
       "      <td>-0.001634</td>\n",
       "      <td>-0.002870</td>\n",
       "      <td>0.000606</td>\n",
       "      <td>-1.168544</td>\n",
       "      <td>-0.002799</td>\n",
       "      <td>63236.865923</td>\n",
       "      <td>5496.390588</td>\n",
       "      <td>194.314408</td>\n",
       "      <td>140.605307</td>\n",
       "    </tr>\n",
       "    <tr>\n",
       "      <th>2</th>\n",
       "      <td>K &gt; 24 month</td>\n",
       "      <td>-0.004990</td>\n",
       "      <td>-0.002915</td>\n",
       "      <td>-0.003953</td>\n",
       "      <td>-0.003953</td>\n",
       "      <td>-0.002910</td>\n",
       "      <td>-0.348940</td>\n",
       "      <td>0.006086</td>\n",
       "      <td>-0.004040</td>\n",
       "      <td>-0.001634</td>\n",
       "      <td>-0.002870</td>\n",
       "      <td>0.000606</td>\n",
       "      <td>-0.271208</td>\n",
       "      <td>-0.002799</td>\n",
       "      <td>63236.865923</td>\n",
       "      <td>5496.390588</td>\n",
       "      <td>194.314408</td>\n",
       "      <td>12.782301</td>\n",
       "    </tr>\n",
       "    <tr>\n",
       "      <th>3</th>\n",
       "      <td>K &gt; 24 month</td>\n",
       "      <td>-0.004990</td>\n",
       "      <td>-0.002915</td>\n",
       "      <td>-0.003953</td>\n",
       "      <td>-0.003953</td>\n",
       "      <td>-0.002910</td>\n",
       "      <td>-0.002704</td>\n",
       "      <td>0.006086</td>\n",
       "      <td>-0.004040</td>\n",
       "      <td>-0.001634</td>\n",
       "      <td>-0.002870</td>\n",
       "      <td>0.000606</td>\n",
       "      <td>-0.989077</td>\n",
       "      <td>-0.002799</td>\n",
       "      <td>63236.865923</td>\n",
       "      <td>5496.390588</td>\n",
       "      <td>194.314408</td>\n",
       "      <td>46.868436</td>\n",
       "    </tr>\n",
       "    <tr>\n",
       "      <th>4</th>\n",
       "      <td>K &gt; 24 month</td>\n",
       "      <td>-0.075902</td>\n",
       "      <td>-0.423506</td>\n",
       "      <td>0.021836</td>\n",
       "      <td>0.021834</td>\n",
       "      <td>0.085837</td>\n",
       "      <td>0.453446</td>\n",
       "      <td>-0.356267</td>\n",
       "      <td>-0.458218</td>\n",
       "      <td>-0.586660</td>\n",
       "      <td>-0.729836</td>\n",
       "      <td>0.000606</td>\n",
       "      <td>1.433731</td>\n",
       "      <td>-0.562771</td>\n",
       "      <td>35700.000000</td>\n",
       "      <td>5368.500000</td>\n",
       "      <td>225.000000</td>\n",
       "      <td>0.500000</td>\n",
       "    </tr>\n",
       "  </tbody>\n",
       "</table>\n",
       "</div>"
      ],
      "text/plain": [
       "          TENURE   MONTANT  FREQUENCE_RECH   REVENUE  ARPU_SEGMENT  FREQUENCE  \\\n",
       "0  I 18-21 month -0.529404       -0.611105 -0.514765     -0.514940  -0.751139   \n",
       "1   K > 24 month -0.004990       -0.002915 -0.003953     -0.003953  -0.002910   \n",
       "2   K > 24 month -0.004990       -0.002915 -0.003953     -0.003953  -0.002910   \n",
       "3   K > 24 month -0.004990       -0.002915 -0.003953     -0.003953  -0.002910   \n",
       "4   K > 24 month -0.075902       -0.423506  0.021836      0.021834   0.085837   \n",
       "\n",
       "   DATA_VOLUME    ON_NET    ORANGE      TIGO     ZONE1     ZONE2  REGULARITY  \\\n",
       "0    -0.348940 -0.307224 -0.162343 -0.001634 -0.002870  0.000606    0.312061   \n",
       "1    -0.002704  0.006086 -0.004040 -0.001634 -0.002870  0.000606   -1.168544   \n",
       "2    -0.348940  0.006086 -0.004040 -0.001634 -0.002870  0.000606   -0.271208   \n",
       "3    -0.002704  0.006086 -0.004040 -0.001634 -0.002870  0.000606   -0.989077   \n",
       "4     0.453446 -0.356267 -0.458218 -0.586660 -0.729836  0.000606    1.433731   \n",
       "\n",
       "   FREQ_TOP_PACK  TOTAL_RECHARGE  AVG_REVENUE_MONTANT  FREQUENCE_SQUARED  \\\n",
       "0      -0.455791    12500.000000          2500.000000          25.000000   \n",
       "1      -0.002799    63236.865923          5496.390588         194.314408   \n",
       "2      -0.002799    63236.865923          5496.390588         194.314408   \n",
       "3      -0.002799    63236.865923          5496.390588         194.314408   \n",
       "4      -0.562771    35700.000000          5368.500000         225.000000   \n",
       "\n",
       "   ON_NET_REG_RATIO  \n",
       "0          1.828571  \n",
       "1        140.605307  \n",
       "2         12.782301  \n",
       "3         46.868436  \n",
       "4          0.500000  "
      ]
     },
     "execution_count": 51,
     "metadata": {},
     "output_type": "execute_result"
    }
   ],
   "source": [
    "test.head()"
   ]
  },
  {
   "cell_type": "code",
   "execution_count": 52,
   "metadata": {},
   "outputs": [],
   "source": [
    "X_val[num_cols] = scaler.transform(X_val[num_cols])"
   ]
  },
  {
   "cell_type": "code",
   "execution_count": 53,
   "metadata": {},
   "outputs": [
    {
     "data": {
      "text/html": [
       "<div>\n",
       "<style scoped>\n",
       "    .dataframe tbody tr th:only-of-type {\n",
       "        vertical-align: middle;\n",
       "    }\n",
       "\n",
       "    .dataframe tbody tr th {\n",
       "        vertical-align: top;\n",
       "    }\n",
       "\n",
       "    .dataframe thead th {\n",
       "        text-align: right;\n",
       "    }\n",
       "</style>\n",
       "<table border=\"1\" class=\"dataframe\">\n",
       "  <thead>\n",
       "    <tr style=\"text-align: right;\">\n",
       "      <th></th>\n",
       "      <th>TENURE</th>\n",
       "      <th>MONTANT</th>\n",
       "      <th>FREQUENCE_RECH</th>\n",
       "      <th>REVENUE</th>\n",
       "      <th>ARPU_SEGMENT</th>\n",
       "      <th>FREQUENCE</th>\n",
       "      <th>DATA_VOLUME</th>\n",
       "      <th>ON_NET</th>\n",
       "      <th>ORANGE</th>\n",
       "      <th>TIGO</th>\n",
       "      <th>ZONE1</th>\n",
       "      <th>ZONE2</th>\n",
       "      <th>REGULARITY</th>\n",
       "      <th>FREQ_TOP_PACK</th>\n",
       "      <th>TOTAL_RECHARGE</th>\n",
       "      <th>AVG_REVENUE_MONTANT</th>\n",
       "      <th>FREQUENCE_SQUARED</th>\n",
       "      <th>ON_NET_REG_RATIO</th>\n",
       "    </tr>\n",
       "  </thead>\n",
       "  <tbody>\n",
       "    <tr>\n",
       "      <th>917325</th>\n",
       "      <td>K &gt; 24 month</td>\n",
       "      <td>-0.001037</td>\n",
       "      <td>0.000819</td>\n",
       "      <td>-0.000563</td>\n",
       "      <td>-0.000563</td>\n",
       "      <td>-3.557674e-08</td>\n",
       "      <td>-0.001634</td>\n",
       "      <td>0.000108</td>\n",
       "      <td>-0.000508</td>\n",
       "      <td>0.00226</td>\n",
       "      <td>-0.000005</td>\n",
       "      <td>0.002364</td>\n",
       "      <td>-1.213411</td>\n",
       "      <td>0.000209</td>\n",
       "      <td>63717.275282</td>\n",
       "      <td>5517.630847</td>\n",
       "      <td>195.284932</td>\n",
       "      <td>277.065798</td>\n",
       "    </tr>\n",
       "    <tr>\n",
       "      <th>694916</th>\n",
       "      <td>K &gt; 24 month</td>\n",
       "      <td>-0.001037</td>\n",
       "      <td>0.000819</td>\n",
       "      <td>-0.000563</td>\n",
       "      <td>-0.000563</td>\n",
       "      <td>-3.557674e-08</td>\n",
       "      <td>-0.001634</td>\n",
       "      <td>0.000108</td>\n",
       "      <td>-0.000508</td>\n",
       "      <td>0.00226</td>\n",
       "      <td>-0.000005</td>\n",
       "      <td>0.002364</td>\n",
       "      <td>-0.809609</td>\n",
       "      <td>-0.883713</td>\n",
       "      <td>63717.275282</td>\n",
       "      <td>5517.630847</td>\n",
       "      <td>195.284932</td>\n",
       "      <td>27.706580</td>\n",
       "    </tr>\n",
       "    <tr>\n",
       "      <th>1023253</th>\n",
       "      <td>K &gt; 24 month</td>\n",
       "      <td>-0.001037</td>\n",
       "      <td>0.000819</td>\n",
       "      <td>-0.000563</td>\n",
       "      <td>-0.000563</td>\n",
       "      <td>-3.557674e-08</td>\n",
       "      <td>-0.001634</td>\n",
       "      <td>0.000108</td>\n",
       "      <td>-0.000508</td>\n",
       "      <td>0.00226</td>\n",
       "      <td>-0.000005</td>\n",
       "      <td>0.002364</td>\n",
       "      <td>-1.213411</td>\n",
       "      <td>0.000209</td>\n",
       "      <td>63717.275282</td>\n",
       "      <td>5517.630847</td>\n",
       "      <td>195.284932</td>\n",
       "      <td>277.065798</td>\n",
       "    </tr>\n",
       "    <tr>\n",
       "      <th>584285</th>\n",
       "      <td>K &gt; 24 month</td>\n",
       "      <td>-0.703828</td>\n",
       "      <td>-0.611105</td>\n",
       "      <td>-0.685991</td>\n",
       "      <td>-0.685824</td>\n",
       "      <td>-6.674415e-01</td>\n",
       "      <td>-0.347805</td>\n",
       "      <td>-0.383673</td>\n",
       "      <td>-0.368169</td>\n",
       "      <td>0.00226</td>\n",
       "      <td>-0.000005</td>\n",
       "      <td>0.002364</td>\n",
       "      <td>-0.630142</td>\n",
       "      <td>-0.776733</td>\n",
       "      <td>7500.000000</td>\n",
       "      <td>1499.500000</td>\n",
       "      <td>36.000000</td>\n",
       "      <td>0.785714</td>\n",
       "    </tr>\n",
       "    <tr>\n",
       "      <th>446284</th>\n",
       "      <td>K &gt; 24 month</td>\n",
       "      <td>0.464813</td>\n",
       "      <td>1.264883</td>\n",
       "      <td>0.499423</td>\n",
       "      <td>0.499592</td>\n",
       "      <td>1.090208e+00</td>\n",
       "      <td>-0.348940</td>\n",
       "      <td>1.100586</td>\n",
       "      <td>0.204284</td>\n",
       "      <td>0.00226</td>\n",
       "      <td>-0.000005</td>\n",
       "      <td>0.002364</td>\n",
       "      <td>1.523465</td>\n",
       "      <td>-0.134848</td>\n",
       "      <td>205000.000000</td>\n",
       "      <td>8314.500000</td>\n",
       "      <td>729.000000</td>\n",
       "      <td>16.774194</td>\n",
       "    </tr>\n",
       "  </tbody>\n",
       "</table>\n",
       "</div>"
      ],
      "text/plain": [
       "               TENURE   MONTANT  FREQUENCE_RECH   REVENUE  ARPU_SEGMENT  \\\n",
       "917325   K > 24 month -0.001037        0.000819 -0.000563     -0.000563   \n",
       "694916   K > 24 month -0.001037        0.000819 -0.000563     -0.000563   \n",
       "1023253  K > 24 month -0.001037        0.000819 -0.000563     -0.000563   \n",
       "584285   K > 24 month -0.703828       -0.611105 -0.685991     -0.685824   \n",
       "446284   K > 24 month  0.464813        1.264883  0.499423      0.499592   \n",
       "\n",
       "            FREQUENCE  DATA_VOLUME    ON_NET    ORANGE     TIGO     ZONE1  \\\n",
       "917325  -3.557674e-08    -0.001634  0.000108 -0.000508  0.00226 -0.000005   \n",
       "694916  -3.557674e-08    -0.001634  0.000108 -0.000508  0.00226 -0.000005   \n",
       "1023253 -3.557674e-08    -0.001634  0.000108 -0.000508  0.00226 -0.000005   \n",
       "584285  -6.674415e-01    -0.347805 -0.383673 -0.368169  0.00226 -0.000005   \n",
       "446284   1.090208e+00    -0.348940  1.100586  0.204284  0.00226 -0.000005   \n",
       "\n",
       "            ZONE2  REGULARITY  FREQ_TOP_PACK  TOTAL_RECHARGE  \\\n",
       "917325   0.002364   -1.213411       0.000209    63717.275282   \n",
       "694916   0.002364   -0.809609      -0.883713    63717.275282   \n",
       "1023253  0.002364   -1.213411       0.000209    63717.275282   \n",
       "584285   0.002364   -0.630142      -0.776733     7500.000000   \n",
       "446284   0.002364    1.523465      -0.134848   205000.000000   \n",
       "\n",
       "         AVG_REVENUE_MONTANT  FREQUENCE_SQUARED  ON_NET_REG_RATIO  \n",
       "917325           5517.630847         195.284932        277.065798  \n",
       "694916           5517.630847         195.284932         27.706580  \n",
       "1023253          5517.630847         195.284932        277.065798  \n",
       "584285           1499.500000          36.000000          0.785714  \n",
       "446284           8314.500000         729.000000         16.774194  "
      ]
     },
     "execution_count": 53,
     "metadata": {},
     "output_type": "execute_result"
    }
   ],
   "source": [
    "X_val.head()"
   ]
  },
  {
   "cell_type": "code",
   "execution_count": 54,
   "metadata": {},
   "outputs": [],
   "source": [
    "#Encode the TENURE column"
   ]
  },
  {
   "cell_type": "code",
   "execution_count": 55,
   "metadata": {},
   "outputs": [],
   "source": [
    "encoder = LabelEncoder()\n",
    "X_train[\"TENURE\"] = encoder.fit_transform(X_train[\"TENURE\"])"
   ]
  },
  {
   "cell_type": "code",
   "execution_count": 56,
   "metadata": {},
   "outputs": [],
   "source": [
    "X_test[\"TENURE\"] = encoder.transform(X_test[\"TENURE\"])"
   ]
  },
  {
   "cell_type": "code",
   "execution_count": 57,
   "metadata": {},
   "outputs": [],
   "source": [
    "X_val['TENURE'] = encoder.transform(X_val[\"TENURE\"])"
   ]
  },
  {
   "cell_type": "code",
   "execution_count": 58,
   "metadata": {},
   "outputs": [],
   "source": [
    "test['TENURE'] = encoder.transform(test[\"TENURE\"])"
   ]
  },
  {
   "cell_type": "markdown",
   "metadata": {},
   "source": [
    "### Question 2 Balancing the Dataset"
   ]
  },
  {
   "cell_type": "code",
   "execution_count": 59,
   "metadata": {},
   "outputs": [
    {
     "name": "stdout",
     "output_type": "stream",
     "text": [
      "Class distribution before balancing:\n",
      "0    306308\n",
      "1     70650\n",
      "Name: CHURN, dtype: int64\n"
     ]
    }
   ],
   "source": [
    "# Display the class distribution before balancing\n",
    "print(\"Class distribution before balancing:\")\n",
    "print(y_train.value_counts())\n"
   ]
  },
  {
   "cell_type": "code",
   "execution_count": 60,
   "metadata": {},
   "outputs": [
    {
     "name": "stdout",
     "output_type": "stream",
     "text": [
      "\n",
      "Class distribution after balancing:\n",
      "0    306308\n",
      "1    306308\n",
      "Name: CHURN, dtype: int64\n"
     ]
    }
   ],
   "source": [
    "# Create an oversampler\n",
    "oversampler = RandomOverSampler(sampling_strategy='auto')\n",
    "\n",
    "# Apply the oversampling\n",
    "X_resampled, y_resampled = oversampler.fit_resample(X_train, y_train)\n",
    "\n",
    "# Create a new balanced DataFrame\n",
    "balanced_X_train = pd.DataFrame(X_resampled, columns=X_train.columns)\n",
    "balanced_y_train = pd.Series(y_resampled, name='CHURN')\n",
    "\n",
    "# Display the class distribution after balancing\n",
    "print(\"\\nClass distribution after balancing:\")\n",
    "print(balanced_y_train.value_counts())"
   ]
  },
  {
   "cell_type": "code",
   "execution_count": 61,
   "metadata": {},
   "outputs": [
    {
     "data": {
      "text/html": [
       "<div>\n",
       "<style scoped>\n",
       "    .dataframe tbody tr th:only-of-type {\n",
       "        vertical-align: middle;\n",
       "    }\n",
       "\n",
       "    .dataframe tbody tr th {\n",
       "        vertical-align: top;\n",
       "    }\n",
       "\n",
       "    .dataframe thead th {\n",
       "        text-align: right;\n",
       "    }\n",
       "</style>\n",
       "<table border=\"1\" class=\"dataframe\">\n",
       "  <thead>\n",
       "    <tr style=\"text-align: right;\">\n",
       "      <th></th>\n",
       "      <th>TENURE</th>\n",
       "      <th>MONTANT</th>\n",
       "      <th>FREQUENCE_RECH</th>\n",
       "      <th>REVENUE</th>\n",
       "      <th>ARPU_SEGMENT</th>\n",
       "      <th>FREQUENCE</th>\n",
       "      <th>DATA_VOLUME</th>\n",
       "      <th>ON_NET</th>\n",
       "      <th>ORANGE</th>\n",
       "      <th>TIGO</th>\n",
       "      <th>ZONE1</th>\n",
       "      <th>ZONE2</th>\n",
       "      <th>REGULARITY</th>\n",
       "      <th>FREQ_TOP_PACK</th>\n",
       "      <th>TOTAL_RECHARGE</th>\n",
       "      <th>AVG_REVENUE_MONTANT</th>\n",
       "      <th>FREQUENCE_SQUARED</th>\n",
       "      <th>ON_NET_REG_RATIO</th>\n",
       "    </tr>\n",
       "  </thead>\n",
       "  <tbody>\n",
       "    <tr>\n",
       "      <th>0</th>\n",
       "      <td>7</td>\n",
       "      <td>1.022970</td>\n",
       "      <td>0.889686</td>\n",
       "      <td>1.127881</td>\n",
       "      <td>1.127710</td>\n",
       "      <td>1.927184e+00</td>\n",
       "      <td>0.389218</td>\n",
       "      <td>-0.317321</td>\n",
       "      <td>-0.290984</td>\n",
       "      <td>-0.510194</td>\n",
       "      <td>-0.000005</td>\n",
       "      <td>0.723281</td>\n",
       "      <td>1.478598</td>\n",
       "      <td>-0.348810</td>\n",
       "      <td>239400.000000</td>\n",
       "      <td>11751.500000</td>\n",
       "      <td>1369.000000</td>\n",
       "      <td>0.934426</td>\n",
       "    </tr>\n",
       "    <tr>\n",
       "      <th>1</th>\n",
       "      <td>6</td>\n",
       "      <td>0.203177</td>\n",
       "      <td>0.139290</td>\n",
       "      <td>0.353855</td>\n",
       "      <td>0.353853</td>\n",
       "      <td>5.880227e-01</td>\n",
       "      <td>0.875619</td>\n",
       "      <td>-0.393770</td>\n",
       "      <td>-0.541835</td>\n",
       "      <td>-0.586660</td>\n",
       "      <td>-0.000005</td>\n",
       "      <td>-0.230646</td>\n",
       "      <td>1.209397</td>\n",
       "      <td>-0.027868</td>\n",
       "      <td>87100.000000</td>\n",
       "      <td>7139.000000</td>\n",
       "      <td>441.000000</td>\n",
       "      <td>0.072727</td>\n",
       "    </tr>\n",
       "    <tr>\n",
       "      <th>2</th>\n",
       "      <td>7</td>\n",
       "      <td>0.473534</td>\n",
       "      <td>0.795886</td>\n",
       "      <td>0.460594</td>\n",
       "      <td>0.460592</td>\n",
       "      <td>8.391155e-01</td>\n",
       "      <td>-0.337908</td>\n",
       "      <td>-0.074993</td>\n",
       "      <td>1.555015</td>\n",
       "      <td>2.930798</td>\n",
       "      <td>-0.000005</td>\n",
       "      <td>0.002364</td>\n",
       "      <td>1.523465</td>\n",
       "      <td>0.079113</td>\n",
       "      <td>165000.000000</td>\n",
       "      <td>8226.000000</td>\n",
       "      <td>576.000000</td>\n",
       "      <td>3.629032</td>\n",
       "    </tr>\n",
       "    <tr>\n",
       "      <th>3</th>\n",
       "      <td>7</td>\n",
       "      <td>-0.878252</td>\n",
       "      <td>-0.986303</td>\n",
       "      <td>-0.856875</td>\n",
       "      <td>-0.856709</td>\n",
       "      <td>-1.085930e+00</td>\n",
       "      <td>-0.001634</td>\n",
       "      <td>-0.338958</td>\n",
       "      <td>-0.535403</td>\n",
       "      <td>0.002260</td>\n",
       "      <td>-0.000005</td>\n",
       "      <td>0.002364</td>\n",
       "      <td>1.074797</td>\n",
       "      <td>-0.883713</td>\n",
       "      <td>500.000000</td>\n",
       "      <td>500.000000</td>\n",
       "      <td>1.000000</td>\n",
       "      <td>0.807692</td>\n",
       "    </tr>\n",
       "    <tr>\n",
       "      <th>4</th>\n",
       "      <td>7</td>\n",
       "      <td>-0.948021</td>\n",
       "      <td>-0.986303</td>\n",
       "      <td>-0.928206</td>\n",
       "      <td>-0.928039</td>\n",
       "      <td>-1.085930e+00</td>\n",
       "      <td>-0.309351</td>\n",
       "      <td>-0.388000</td>\n",
       "      <td>-0.612587</td>\n",
       "      <td>0.002260</td>\n",
       "      <td>-0.000005</td>\n",
       "      <td>0.002364</td>\n",
       "      <td>-0.944210</td>\n",
       "      <td>-0.883713</td>\n",
       "      <td>100.000000</td>\n",
       "      <td>91.500000</td>\n",
       "      <td>1.000000</td>\n",
       "      <td>1.142857</td>\n",
       "    </tr>\n",
       "    <tr>\n",
       "      <th>...</th>\n",
       "      <td>...</td>\n",
       "      <td>...</td>\n",
       "      <td>...</td>\n",
       "      <td>...</td>\n",
       "      <td>...</td>\n",
       "      <td>...</td>\n",
       "      <td>...</td>\n",
       "      <td>...</td>\n",
       "      <td>...</td>\n",
       "      <td>...</td>\n",
       "      <td>...</td>\n",
       "      <td>...</td>\n",
       "      <td>...</td>\n",
       "      <td>...</td>\n",
       "      <td>...</td>\n",
       "      <td>...</td>\n",
       "      <td>...</td>\n",
       "      <td>...</td>\n",
       "    </tr>\n",
       "    <tr>\n",
       "      <th>612611</th>\n",
       "      <td>7</td>\n",
       "      <td>-0.001037</td>\n",
       "      <td>0.000819</td>\n",
       "      <td>-0.000563</td>\n",
       "      <td>-0.000563</td>\n",
       "      <td>-3.557674e-08</td>\n",
       "      <td>-0.001634</td>\n",
       "      <td>0.000108</td>\n",
       "      <td>-0.000508</td>\n",
       "      <td>0.002260</td>\n",
       "      <td>-0.000005</td>\n",
       "      <td>0.002364</td>\n",
       "      <td>-1.213411</td>\n",
       "      <td>0.000209</td>\n",
       "      <td>63717.275282</td>\n",
       "      <td>5517.630847</td>\n",
       "      <td>195.284932</td>\n",
       "      <td>277.065798</td>\n",
       "    </tr>\n",
       "    <tr>\n",
       "      <th>612612</th>\n",
       "      <td>7</td>\n",
       "      <td>-0.001037</td>\n",
       "      <td>0.000819</td>\n",
       "      <td>-0.000563</td>\n",
       "      <td>-0.000563</td>\n",
       "      <td>-3.557674e-08</td>\n",
       "      <td>-0.001634</td>\n",
       "      <td>0.000108</td>\n",
       "      <td>-0.000508</td>\n",
       "      <td>0.002260</td>\n",
       "      <td>-0.000005</td>\n",
       "      <td>0.002364</td>\n",
       "      <td>-1.168544</td>\n",
       "      <td>0.000209</td>\n",
       "      <td>63717.275282</td>\n",
       "      <td>5517.630847</td>\n",
       "      <td>195.284932</td>\n",
       "      <td>138.532899</td>\n",
       "    </tr>\n",
       "    <tr>\n",
       "      <th>612613</th>\n",
       "      <td>7</td>\n",
       "      <td>-0.001037</td>\n",
       "      <td>0.000819</td>\n",
       "      <td>-0.000563</td>\n",
       "      <td>-0.000563</td>\n",
       "      <td>-3.557674e-08</td>\n",
       "      <td>-0.001634</td>\n",
       "      <td>0.000108</td>\n",
       "      <td>-0.000508</td>\n",
       "      <td>0.002260</td>\n",
       "      <td>-0.000005</td>\n",
       "      <td>0.002364</td>\n",
       "      <td>-1.123677</td>\n",
       "      <td>0.000209</td>\n",
       "      <td>63717.275282</td>\n",
       "      <td>5517.630847</td>\n",
       "      <td>195.284932</td>\n",
       "      <td>92.355266</td>\n",
       "    </tr>\n",
       "    <tr>\n",
       "      <th>612614</th>\n",
       "      <td>4</td>\n",
       "      <td>-0.878252</td>\n",
       "      <td>-0.986303</td>\n",
       "      <td>-0.000563</td>\n",
       "      <td>-0.000563</td>\n",
       "      <td>-3.557674e-08</td>\n",
       "      <td>-0.001634</td>\n",
       "      <td>0.000108</td>\n",
       "      <td>-0.000508</td>\n",
       "      <td>0.002260</td>\n",
       "      <td>-0.000005</td>\n",
       "      <td>0.002364</td>\n",
       "      <td>-1.213411</td>\n",
       "      <td>0.000209</td>\n",
       "      <td>500.000000</td>\n",
       "      <td>3003.025399</td>\n",
       "      <td>195.284932</td>\n",
       "      <td>277.065798</td>\n",
       "    </tr>\n",
       "    <tr>\n",
       "      <th>612615</th>\n",
       "      <td>7</td>\n",
       "      <td>-0.001037</td>\n",
       "      <td>0.000819</td>\n",
       "      <td>-0.000563</td>\n",
       "      <td>-0.000563</td>\n",
       "      <td>-3.557674e-08</td>\n",
       "      <td>-0.001634</td>\n",
       "      <td>0.000108</td>\n",
       "      <td>-0.000508</td>\n",
       "      <td>0.002260</td>\n",
       "      <td>-0.000005</td>\n",
       "      <td>0.002364</td>\n",
       "      <td>-1.213411</td>\n",
       "      <td>0.000209</td>\n",
       "      <td>63717.275282</td>\n",
       "      <td>5517.630847</td>\n",
       "      <td>195.284932</td>\n",
       "      <td>277.065798</td>\n",
       "    </tr>\n",
       "  </tbody>\n",
       "</table>\n",
       "<p>612616 rows × 18 columns</p>\n",
       "</div>"
      ],
      "text/plain": [
       "        TENURE   MONTANT  FREQUENCE_RECH   REVENUE  ARPU_SEGMENT  \\\n",
       "0            7  1.022970        0.889686  1.127881      1.127710   \n",
       "1            6  0.203177        0.139290  0.353855      0.353853   \n",
       "2            7  0.473534        0.795886  0.460594      0.460592   \n",
       "3            7 -0.878252       -0.986303 -0.856875     -0.856709   \n",
       "4            7 -0.948021       -0.986303 -0.928206     -0.928039   \n",
       "...        ...       ...             ...       ...           ...   \n",
       "612611       7 -0.001037        0.000819 -0.000563     -0.000563   \n",
       "612612       7 -0.001037        0.000819 -0.000563     -0.000563   \n",
       "612613       7 -0.001037        0.000819 -0.000563     -0.000563   \n",
       "612614       4 -0.878252       -0.986303 -0.000563     -0.000563   \n",
       "612615       7 -0.001037        0.000819 -0.000563     -0.000563   \n",
       "\n",
       "           FREQUENCE  DATA_VOLUME    ON_NET    ORANGE      TIGO     ZONE1  \\\n",
       "0       1.927184e+00     0.389218 -0.317321 -0.290984 -0.510194 -0.000005   \n",
       "1       5.880227e-01     0.875619 -0.393770 -0.541835 -0.586660 -0.000005   \n",
       "2       8.391155e-01    -0.337908 -0.074993  1.555015  2.930798 -0.000005   \n",
       "3      -1.085930e+00    -0.001634 -0.338958 -0.535403  0.002260 -0.000005   \n",
       "4      -1.085930e+00    -0.309351 -0.388000 -0.612587  0.002260 -0.000005   \n",
       "...              ...          ...       ...       ...       ...       ...   \n",
       "612611 -3.557674e-08    -0.001634  0.000108 -0.000508  0.002260 -0.000005   \n",
       "612612 -3.557674e-08    -0.001634  0.000108 -0.000508  0.002260 -0.000005   \n",
       "612613 -3.557674e-08    -0.001634  0.000108 -0.000508  0.002260 -0.000005   \n",
       "612614 -3.557674e-08    -0.001634  0.000108 -0.000508  0.002260 -0.000005   \n",
       "612615 -3.557674e-08    -0.001634  0.000108 -0.000508  0.002260 -0.000005   \n",
       "\n",
       "           ZONE2  REGULARITY  FREQ_TOP_PACK  TOTAL_RECHARGE  \\\n",
       "0       0.723281    1.478598      -0.348810   239400.000000   \n",
       "1      -0.230646    1.209397      -0.027868    87100.000000   \n",
       "2       0.002364    1.523465       0.079113   165000.000000   \n",
       "3       0.002364    1.074797      -0.883713      500.000000   \n",
       "4       0.002364   -0.944210      -0.883713      100.000000   \n",
       "...          ...         ...            ...             ...   \n",
       "612611  0.002364   -1.213411       0.000209    63717.275282   \n",
       "612612  0.002364   -1.168544       0.000209    63717.275282   \n",
       "612613  0.002364   -1.123677       0.000209    63717.275282   \n",
       "612614  0.002364   -1.213411       0.000209      500.000000   \n",
       "612615  0.002364   -1.213411       0.000209    63717.275282   \n",
       "\n",
       "        AVG_REVENUE_MONTANT  FREQUENCE_SQUARED  ON_NET_REG_RATIO  \n",
       "0              11751.500000        1369.000000          0.934426  \n",
       "1               7139.000000         441.000000          0.072727  \n",
       "2               8226.000000         576.000000          3.629032  \n",
       "3                500.000000           1.000000          0.807692  \n",
       "4                 91.500000           1.000000          1.142857  \n",
       "...                     ...                ...               ...  \n",
       "612611          5517.630847         195.284932        277.065798  \n",
       "612612          5517.630847         195.284932        138.532899  \n",
       "612613          5517.630847         195.284932         92.355266  \n",
       "612614          3003.025399         195.284932        277.065798  \n",
       "612615          5517.630847         195.284932        277.065798  \n",
       "\n",
       "[612616 rows x 18 columns]"
      ]
     },
     "execution_count": 61,
     "metadata": {},
     "output_type": "execute_result"
    }
   ],
   "source": [
    "X_train =balanced_X_train\n",
    "X_train"
   ]
  },
  {
   "cell_type": "code",
   "execution_count": 62,
   "metadata": {},
   "outputs": [
    {
     "data": {
      "text/plain": [
       "0         0\n",
       "1         0\n",
       "2         0\n",
       "3         0\n",
       "4         0\n",
       "         ..\n",
       "612611    1\n",
       "612612    1\n",
       "612613    1\n",
       "612614    1\n",
       "612615    1\n",
       "Name: CHURN, Length: 612616, dtype: int64"
      ]
     },
     "execution_count": 62,
     "metadata": {},
     "output_type": "execute_result"
    }
   ],
   "source": [
    "y_train = balanced_y_train\n",
    "y_train"
   ]
  },
  {
   "cell_type": "code",
   "execution_count": 63,
   "metadata": {},
   "outputs": [
    {
     "data": {
      "text/html": [
       "<div>\n",
       "<style scoped>\n",
       "    .dataframe tbody tr th:only-of-type {\n",
       "        vertical-align: middle;\n",
       "    }\n",
       "\n",
       "    .dataframe tbody tr th {\n",
       "        vertical-align: top;\n",
       "    }\n",
       "\n",
       "    .dataframe thead th {\n",
       "        text-align: right;\n",
       "    }\n",
       "</style>\n",
       "<table border=\"1\" class=\"dataframe\">\n",
       "  <thead>\n",
       "    <tr style=\"text-align: right;\">\n",
       "      <th></th>\n",
       "      <th>TENURE</th>\n",
       "      <th>MONTANT</th>\n",
       "      <th>FREQUENCE_RECH</th>\n",
       "      <th>REVENUE</th>\n",
       "      <th>ARPU_SEGMENT</th>\n",
       "      <th>FREQUENCE</th>\n",
       "      <th>DATA_VOLUME</th>\n",
       "      <th>ON_NET</th>\n",
       "      <th>ORANGE</th>\n",
       "      <th>TIGO</th>\n",
       "      <th>ZONE1</th>\n",
       "      <th>ZONE2</th>\n",
       "      <th>REGULARITY</th>\n",
       "      <th>FREQ_TOP_PACK</th>\n",
       "      <th>TOTAL_RECHARGE</th>\n",
       "      <th>AVG_REVENUE_MONTANT</th>\n",
       "      <th>FREQUENCE_SQUARED</th>\n",
       "      <th>ON_NET_REG_RATIO</th>\n",
       "    </tr>\n",
       "  </thead>\n",
       "  <tbody>\n",
       "    <tr>\n",
       "      <th>0</th>\n",
       "      <td>7</td>\n",
       "      <td>1.022970</td>\n",
       "      <td>0.889686</td>\n",
       "      <td>1.127881</td>\n",
       "      <td>1.127710</td>\n",
       "      <td>1.927184</td>\n",
       "      <td>0.389218</td>\n",
       "      <td>-0.317321</td>\n",
       "      <td>-0.290984</td>\n",
       "      <td>-0.510194</td>\n",
       "      <td>-0.000005</td>\n",
       "      <td>0.723281</td>\n",
       "      <td>1.478598</td>\n",
       "      <td>-0.348810</td>\n",
       "      <td>239400.0</td>\n",
       "      <td>11751.5</td>\n",
       "      <td>1369.0</td>\n",
       "      <td>0.934426</td>\n",
       "    </tr>\n",
       "    <tr>\n",
       "      <th>1</th>\n",
       "      <td>6</td>\n",
       "      <td>0.203177</td>\n",
       "      <td>0.139290</td>\n",
       "      <td>0.353855</td>\n",
       "      <td>0.353853</td>\n",
       "      <td>0.588023</td>\n",
       "      <td>0.875619</td>\n",
       "      <td>-0.393770</td>\n",
       "      <td>-0.541835</td>\n",
       "      <td>-0.586660</td>\n",
       "      <td>-0.000005</td>\n",
       "      <td>-0.230646</td>\n",
       "      <td>1.209397</td>\n",
       "      <td>-0.027868</td>\n",
       "      <td>87100.0</td>\n",
       "      <td>7139.0</td>\n",
       "      <td>441.0</td>\n",
       "      <td>0.072727</td>\n",
       "    </tr>\n",
       "    <tr>\n",
       "      <th>2</th>\n",
       "      <td>7</td>\n",
       "      <td>0.473534</td>\n",
       "      <td>0.795886</td>\n",
       "      <td>0.460594</td>\n",
       "      <td>0.460592</td>\n",
       "      <td>0.839115</td>\n",
       "      <td>-0.337908</td>\n",
       "      <td>-0.074993</td>\n",
       "      <td>1.555015</td>\n",
       "      <td>2.930798</td>\n",
       "      <td>-0.000005</td>\n",
       "      <td>0.002364</td>\n",
       "      <td>1.523465</td>\n",
       "      <td>0.079113</td>\n",
       "      <td>165000.0</td>\n",
       "      <td>8226.0</td>\n",
       "      <td>576.0</td>\n",
       "      <td>3.629032</td>\n",
       "    </tr>\n",
       "    <tr>\n",
       "      <th>3</th>\n",
       "      <td>7</td>\n",
       "      <td>-0.878252</td>\n",
       "      <td>-0.986303</td>\n",
       "      <td>-0.856875</td>\n",
       "      <td>-0.856709</td>\n",
       "      <td>-1.085930</td>\n",
       "      <td>-0.001634</td>\n",
       "      <td>-0.338958</td>\n",
       "      <td>-0.535403</td>\n",
       "      <td>0.002260</td>\n",
       "      <td>-0.000005</td>\n",
       "      <td>0.002364</td>\n",
       "      <td>1.074797</td>\n",
       "      <td>-0.883713</td>\n",
       "      <td>500.0</td>\n",
       "      <td>500.0</td>\n",
       "      <td>1.0</td>\n",
       "      <td>0.807692</td>\n",
       "    </tr>\n",
       "    <tr>\n",
       "      <th>4</th>\n",
       "      <td>7</td>\n",
       "      <td>-0.948021</td>\n",
       "      <td>-0.986303</td>\n",
       "      <td>-0.928206</td>\n",
       "      <td>-0.928039</td>\n",
       "      <td>-1.085930</td>\n",
       "      <td>-0.309351</td>\n",
       "      <td>-0.388000</td>\n",
       "      <td>-0.612587</td>\n",
       "      <td>0.002260</td>\n",
       "      <td>-0.000005</td>\n",
       "      <td>0.002364</td>\n",
       "      <td>-0.944210</td>\n",
       "      <td>-0.883713</td>\n",
       "      <td>100.0</td>\n",
       "      <td>91.5</td>\n",
       "      <td>1.0</td>\n",
       "      <td>1.142857</td>\n",
       "    </tr>\n",
       "  </tbody>\n",
       "</table>\n",
       "</div>"
      ],
      "text/plain": [
       "   TENURE   MONTANT  FREQUENCE_RECH   REVENUE  ARPU_SEGMENT  FREQUENCE  \\\n",
       "0       7  1.022970        0.889686  1.127881      1.127710   1.927184   \n",
       "1       6  0.203177        0.139290  0.353855      0.353853   0.588023   \n",
       "2       7  0.473534        0.795886  0.460594      0.460592   0.839115   \n",
       "3       7 -0.878252       -0.986303 -0.856875     -0.856709  -1.085930   \n",
       "4       7 -0.948021       -0.986303 -0.928206     -0.928039  -1.085930   \n",
       "\n",
       "   DATA_VOLUME    ON_NET    ORANGE      TIGO     ZONE1     ZONE2  REGULARITY  \\\n",
       "0     0.389218 -0.317321 -0.290984 -0.510194 -0.000005  0.723281    1.478598   \n",
       "1     0.875619 -0.393770 -0.541835 -0.586660 -0.000005 -0.230646    1.209397   \n",
       "2    -0.337908 -0.074993  1.555015  2.930798 -0.000005  0.002364    1.523465   \n",
       "3    -0.001634 -0.338958 -0.535403  0.002260 -0.000005  0.002364    1.074797   \n",
       "4    -0.309351 -0.388000 -0.612587  0.002260 -0.000005  0.002364   -0.944210   \n",
       "\n",
       "   FREQ_TOP_PACK  TOTAL_RECHARGE  AVG_REVENUE_MONTANT  FREQUENCE_SQUARED  \\\n",
       "0      -0.348810        239400.0              11751.5             1369.0   \n",
       "1      -0.027868         87100.0               7139.0              441.0   \n",
       "2       0.079113        165000.0               8226.0              576.0   \n",
       "3      -0.883713           500.0                500.0                1.0   \n",
       "4      -0.883713           100.0                 91.5                1.0   \n",
       "\n",
       "   ON_NET_REG_RATIO  \n",
       "0          0.934426  \n",
       "1          0.072727  \n",
       "2          3.629032  \n",
       "3          0.807692  \n",
       "4          1.142857  "
      ]
     },
     "execution_count": 63,
     "metadata": {},
     "output_type": "execute_result"
    }
   ],
   "source": [
    "X_train.head()"
   ]
  },
  {
   "cell_type": "code",
   "execution_count": 64,
   "metadata": {},
   "outputs": [],
   "source": [
    "##RandomForestClassifier Model"
   ]
  },
  {
   "cell_type": "code",
   "execution_count": 65,
   "metadata": {},
   "outputs": [],
   "source": [
    "rand = RandomForestClassifier(bootstrap=True,criterion = \"gini\",\n",
    "                              n_jobs=-1,\n",
    "                              max_depth=7,\n",
    "                              n_estimators=200,\n",
    "                              random_state=1,\n",
    "                             verbose=True)"
   ]
  },
  {
   "cell_type": "code",
   "execution_count": 66,
   "metadata": {},
   "outputs": [
    {
     "name": "stderr",
     "output_type": "stream",
     "text": [
      "[Parallel(n_jobs=-1)]: Using backend ThreadingBackend with 12 concurrent workers.\n",
      "[Parallel(n_jobs=-1)]: Done  26 tasks      | elapsed:   12.2s\n",
      "[Parallel(n_jobs=-1)]: Done 176 tasks      | elapsed:  1.2min\n",
      "[Parallel(n_jobs=-1)]: Done 200 out of 200 | elapsed:  1.3min finished\n"
     ]
    }
   ],
   "source": [
    "#Fit model on data\n",
    "randmodel = rand.fit(X_train,y_train)"
   ]
  },
  {
   "cell_type": "code",
   "execution_count": 67,
   "metadata": {},
   "outputs": [
    {
     "name": "stderr",
     "output_type": "stream",
     "text": [
      "[Parallel(n_jobs=12)]: Using backend ThreadingBackend with 12 concurrent workers.\n",
      "[Parallel(n_jobs=12)]: Done  26 tasks      | elapsed:    0.6s\n",
      "[Parallel(n_jobs=12)]: Done 176 tasks      | elapsed:    3.6s\n",
      "[Parallel(n_jobs=12)]: Done 200 out of 200 | elapsed:    4.0s finished\n"
     ]
    }
   ],
   "source": [
    "#Predict on the X_test data \n",
    "randpred = randmodel.predict(X_test)"
   ]
  },
  {
   "cell_type": "code",
   "execution_count": 68,
   "metadata": {},
   "outputs": [
    {
     "name": "stdout",
     "output_type": "stream",
     "text": [
      "Acuracy\n"
     ]
    },
    {
     "data": {
      "text/plain": [
       "0.8087043557060938"
      ]
     },
     "execution_count": 68,
     "metadata": {},
     "output_type": "execute_result"
    }
   ],
   "source": [
    "print(\"Acuracy\")\n",
    "accuracy_score(y_test, randpred)\n"
   ]
  },
  {
   "cell_type": "code",
   "execution_count": 69,
   "metadata": {},
   "outputs": [
    {
     "name": "stdout",
     "output_type": "stream",
     "text": [
      "Recall\n"
     ]
    },
    {
     "data": {
      "text/plain": [
       "0.8539799839950998"
      ]
     },
     "execution_count": 69,
     "metadata": {},
     "output_type": "execute_result"
    }
   ],
   "source": [
    "print(\"Recall\")\n",
    "recall_score(y_test, randpred)"
   ]
  },
  {
   "cell_type": "code",
   "execution_count": 70,
   "metadata": {},
   "outputs": [
    {
     "name": "stdout",
     "output_type": "stream",
     "text": [
      "F1 Score\n"
     ]
    },
    {
     "data": {
      "text/plain": [
       "0.6266124910744383"
      ]
     },
     "execution_count": 70,
     "metadata": {},
     "output_type": "execute_result"
    }
   ],
   "source": [
    "print(\"F1 Score\")\n",
    "f1_score(y_test, randpred)"
   ]
  },
  {
   "cell_type": "code",
   "execution_count": 71,
   "metadata": {},
   "outputs": [
    {
     "name": "stdout",
     "output_type": "stream",
     "text": [
      "AUC: 0.8261022576866874\n"
     ]
    }
   ],
   "source": [
    "# Calculate and print the Area Under the ROC Curve (AUC)\n",
    "auc = roc_auc_score(y_test, randpred)\n",
    "print(\"AUC:\", auc)"
   ]
  },
  {
   "cell_type": "code",
   "execution_count": 72,
   "metadata": {},
   "outputs": [
    {
     "data": {
      "text/plain": [
       "array([[349058,  88235],\n",
       "       [ 14780,  86439]], dtype=int64)"
      ]
     },
     "execution_count": 72,
     "metadata": {},
     "output_type": "execute_result"
    }
   ],
   "source": [
    "confusion_matrix(y_test, randpred)"
   ]
  },
  {
   "cell_type": "code",
   "execution_count": 73,
   "metadata": {},
   "outputs": [],
   "source": [
    "# Making a submissio"
   ]
  },
  {
   "cell_type": "code",
   "execution_count": 74,
   "metadata": {},
   "outputs": [
    {
     "data": {
      "text/html": [
       "<div>\n",
       "<style scoped>\n",
       "    .dataframe tbody tr th:only-of-type {\n",
       "        vertical-align: middle;\n",
       "    }\n",
       "\n",
       "    .dataframe tbody tr th {\n",
       "        vertical-align: top;\n",
       "    }\n",
       "\n",
       "    .dataframe thead th {\n",
       "        text-align: right;\n",
       "    }\n",
       "</style>\n",
       "<table border=\"1\" class=\"dataframe\">\n",
       "  <thead>\n",
       "    <tr style=\"text-align: right;\">\n",
       "      <th></th>\n",
       "      <th>user_id</th>\n",
       "      <th>CHURN</th>\n",
       "    </tr>\n",
       "  </thead>\n",
       "  <tbody>\n",
       "    <tr>\n",
       "      <th>0</th>\n",
       "      <td>51fe4c3347db1f8571d18ac03f716c41acee30a4</td>\n",
       "      <td>0</td>\n",
       "    </tr>\n",
       "    <tr>\n",
       "      <th>1</th>\n",
       "      <td>5ad5d67c175bce107cc97b98c4e37dcc38aa7f3e</td>\n",
       "      <td>0</td>\n",
       "    </tr>\n",
       "    <tr>\n",
       "      <th>2</th>\n",
       "      <td>5a4db591c953a8d8f373877fad37aaf4268899a1</td>\n",
       "      <td>0</td>\n",
       "    </tr>\n",
       "    <tr>\n",
       "      <th>3</th>\n",
       "      <td>8bf9b4d8880aeba1c9a0da48be78f12e629be37c</td>\n",
       "      <td>0</td>\n",
       "    </tr>\n",
       "    <tr>\n",
       "      <th>4</th>\n",
       "      <td>c7cdf2af01e9fa95bf498b68c122aa4b9a8d10df</td>\n",
       "      <td>0</td>\n",
       "    </tr>\n",
       "  </tbody>\n",
       "</table>\n",
       "</div>"
      ],
      "text/plain": [
       "                                    user_id  CHURN\n",
       "0  51fe4c3347db1f8571d18ac03f716c41acee30a4      0\n",
       "1  5ad5d67c175bce107cc97b98c4e37dcc38aa7f3e      0\n",
       "2  5a4db591c953a8d8f373877fad37aaf4268899a1      0\n",
       "3  8bf9b4d8880aeba1c9a0da48be78f12e629be37c      0\n",
       "4  c7cdf2af01e9fa95bf498b68c122aa4b9a8d10df      0"
      ]
     },
     "execution_count": 74,
     "metadata": {},
     "output_type": "execute_result"
    }
   ],
   "source": [
    "submission.head()"
   ]
  },
  {
   "cell_type": "code",
   "execution_count": 75,
   "metadata": {},
   "outputs": [
    {
     "data": {
      "text/html": [
       "<div>\n",
       "<style scoped>\n",
       "    .dataframe tbody tr th:only-of-type {\n",
       "        vertical-align: middle;\n",
       "    }\n",
       "\n",
       "    .dataframe tbody tr th {\n",
       "        vertical-align: top;\n",
       "    }\n",
       "\n",
       "    .dataframe thead th {\n",
       "        text-align: right;\n",
       "    }\n",
       "</style>\n",
       "<table border=\"1\" class=\"dataframe\">\n",
       "  <thead>\n",
       "    <tr style=\"text-align: right;\">\n",
       "      <th></th>\n",
       "      <th>TENURE</th>\n",
       "      <th>MONTANT</th>\n",
       "      <th>FREQUENCE_RECH</th>\n",
       "      <th>REVENUE</th>\n",
       "      <th>ARPU_SEGMENT</th>\n",
       "      <th>FREQUENCE</th>\n",
       "      <th>DATA_VOLUME</th>\n",
       "      <th>ON_NET</th>\n",
       "      <th>ORANGE</th>\n",
       "      <th>TIGO</th>\n",
       "      <th>ZONE1</th>\n",
       "      <th>ZONE2</th>\n",
       "      <th>REGULARITY</th>\n",
       "      <th>FREQ_TOP_PACK</th>\n",
       "      <th>TOTAL_RECHARGE</th>\n",
       "      <th>AVG_REVENUE_MONTANT</th>\n",
       "      <th>FREQUENCE_SQUARED</th>\n",
       "      <th>ON_NET_REG_RATIO</th>\n",
       "    </tr>\n",
       "  </thead>\n",
       "  <tbody>\n",
       "    <tr>\n",
       "      <th>0</th>\n",
       "      <td>5</td>\n",
       "      <td>-0.529404</td>\n",
       "      <td>-0.611105</td>\n",
       "      <td>-0.514765</td>\n",
       "      <td>-0.514940</td>\n",
       "      <td>-0.751139</td>\n",
       "      <td>-0.348940</td>\n",
       "      <td>-0.307224</td>\n",
       "      <td>-0.162343</td>\n",
       "      <td>-0.001634</td>\n",
       "      <td>-0.002870</td>\n",
       "      <td>0.000606</td>\n",
       "      <td>0.312061</td>\n",
       "      <td>-0.455791</td>\n",
       "      <td>12500.000000</td>\n",
       "      <td>2500.000000</td>\n",
       "      <td>25.000000</td>\n",
       "      <td>1.828571</td>\n",
       "    </tr>\n",
       "    <tr>\n",
       "      <th>1</th>\n",
       "      <td>7</td>\n",
       "      <td>-0.004990</td>\n",
       "      <td>-0.002915</td>\n",
       "      <td>-0.003953</td>\n",
       "      <td>-0.003953</td>\n",
       "      <td>-0.002910</td>\n",
       "      <td>-0.002704</td>\n",
       "      <td>0.006086</td>\n",
       "      <td>-0.004040</td>\n",
       "      <td>-0.001634</td>\n",
       "      <td>-0.002870</td>\n",
       "      <td>0.000606</td>\n",
       "      <td>-1.168544</td>\n",
       "      <td>-0.002799</td>\n",
       "      <td>63236.865923</td>\n",
       "      <td>5496.390588</td>\n",
       "      <td>194.314408</td>\n",
       "      <td>140.605307</td>\n",
       "    </tr>\n",
       "    <tr>\n",
       "      <th>2</th>\n",
       "      <td>7</td>\n",
       "      <td>-0.004990</td>\n",
       "      <td>-0.002915</td>\n",
       "      <td>-0.003953</td>\n",
       "      <td>-0.003953</td>\n",
       "      <td>-0.002910</td>\n",
       "      <td>-0.348940</td>\n",
       "      <td>0.006086</td>\n",
       "      <td>-0.004040</td>\n",
       "      <td>-0.001634</td>\n",
       "      <td>-0.002870</td>\n",
       "      <td>0.000606</td>\n",
       "      <td>-0.271208</td>\n",
       "      <td>-0.002799</td>\n",
       "      <td>63236.865923</td>\n",
       "      <td>5496.390588</td>\n",
       "      <td>194.314408</td>\n",
       "      <td>12.782301</td>\n",
       "    </tr>\n",
       "    <tr>\n",
       "      <th>3</th>\n",
       "      <td>7</td>\n",
       "      <td>-0.004990</td>\n",
       "      <td>-0.002915</td>\n",
       "      <td>-0.003953</td>\n",
       "      <td>-0.003953</td>\n",
       "      <td>-0.002910</td>\n",
       "      <td>-0.002704</td>\n",
       "      <td>0.006086</td>\n",
       "      <td>-0.004040</td>\n",
       "      <td>-0.001634</td>\n",
       "      <td>-0.002870</td>\n",
       "      <td>0.000606</td>\n",
       "      <td>-0.989077</td>\n",
       "      <td>-0.002799</td>\n",
       "      <td>63236.865923</td>\n",
       "      <td>5496.390588</td>\n",
       "      <td>194.314408</td>\n",
       "      <td>46.868436</td>\n",
       "    </tr>\n",
       "    <tr>\n",
       "      <th>4</th>\n",
       "      <td>7</td>\n",
       "      <td>-0.075902</td>\n",
       "      <td>-0.423506</td>\n",
       "      <td>0.021836</td>\n",
       "      <td>0.021834</td>\n",
       "      <td>0.085837</td>\n",
       "      <td>0.453446</td>\n",
       "      <td>-0.356267</td>\n",
       "      <td>-0.458218</td>\n",
       "      <td>-0.586660</td>\n",
       "      <td>-0.729836</td>\n",
       "      <td>0.000606</td>\n",
       "      <td>1.433731</td>\n",
       "      <td>-0.562771</td>\n",
       "      <td>35700.000000</td>\n",
       "      <td>5368.500000</td>\n",
       "      <td>225.000000</td>\n",
       "      <td>0.500000</td>\n",
       "    </tr>\n",
       "  </tbody>\n",
       "</table>\n",
       "</div>"
      ],
      "text/plain": [
       "   TENURE   MONTANT  FREQUENCE_RECH   REVENUE  ARPU_SEGMENT  FREQUENCE  \\\n",
       "0       5 -0.529404       -0.611105 -0.514765     -0.514940  -0.751139   \n",
       "1       7 -0.004990       -0.002915 -0.003953     -0.003953  -0.002910   \n",
       "2       7 -0.004990       -0.002915 -0.003953     -0.003953  -0.002910   \n",
       "3       7 -0.004990       -0.002915 -0.003953     -0.003953  -0.002910   \n",
       "4       7 -0.075902       -0.423506  0.021836      0.021834   0.085837   \n",
       "\n",
       "   DATA_VOLUME    ON_NET    ORANGE      TIGO     ZONE1     ZONE2  REGULARITY  \\\n",
       "0    -0.348940 -0.307224 -0.162343 -0.001634 -0.002870  0.000606    0.312061   \n",
       "1    -0.002704  0.006086 -0.004040 -0.001634 -0.002870  0.000606   -1.168544   \n",
       "2    -0.348940  0.006086 -0.004040 -0.001634 -0.002870  0.000606   -0.271208   \n",
       "3    -0.002704  0.006086 -0.004040 -0.001634 -0.002870  0.000606   -0.989077   \n",
       "4     0.453446 -0.356267 -0.458218 -0.586660 -0.729836  0.000606    1.433731   \n",
       "\n",
       "   FREQ_TOP_PACK  TOTAL_RECHARGE  AVG_REVENUE_MONTANT  FREQUENCE_SQUARED  \\\n",
       "0      -0.455791    12500.000000          2500.000000          25.000000   \n",
       "1      -0.002799    63236.865923          5496.390588         194.314408   \n",
       "2      -0.002799    63236.865923          5496.390588         194.314408   \n",
       "3      -0.002799    63236.865923          5496.390588         194.314408   \n",
       "4      -0.562771    35700.000000          5368.500000         225.000000   \n",
       "\n",
       "   ON_NET_REG_RATIO  \n",
       "0          1.828571  \n",
       "1        140.605307  \n",
       "2         12.782301  \n",
       "3         46.868436  \n",
       "4          0.500000  "
      ]
     },
     "execution_count": 75,
     "metadata": {},
     "output_type": "execute_result"
    }
   ],
   "source": [
    "test.head()"
   ]
  },
  {
   "cell_type": "code",
   "execution_count": 76,
   "metadata": {},
   "outputs": [
    {
     "name": "stderr",
     "output_type": "stream",
     "text": [
      "[Parallel(n_jobs=12)]: Using backend ThreadingBackend with 12 concurrent workers.\n",
      "[Parallel(n_jobs=12)]: Done  26 tasks      | elapsed:    0.1s\n",
      "[Parallel(n_jobs=12)]: Done 176 tasks      | elapsed:    1.3s\n",
      "[Parallel(n_jobs=12)]: Done 200 out of 200 | elapsed:    1.4s finished\n"
     ]
    }
   ],
   "source": [
    "predictions = randmodel.predict(test)"
   ]
  },
  {
   "cell_type": "code",
   "execution_count": 77,
   "metadata": {},
   "outputs": [
    {
     "name": "stderr",
     "output_type": "stream",
     "text": [
      "[Parallel(n_jobs=12)]: Using backend ThreadingBackend with 12 concurrent workers.\n",
      "[Parallel(n_jobs=12)]: Done  26 tasks      | elapsed:    0.1s\n",
      "[Parallel(n_jobs=12)]: Done 176 tasks      | elapsed:    1.4s\n",
      "[Parallel(n_jobs=12)]: Done 200 out of 200 | elapsed:    1.5s finished\n"
     ]
    }
   ],
   "source": [
    "subpred = randmodel.predict(test)"
   ]
  },
  {
   "cell_type": "code",
   "execution_count": 78,
   "metadata": {},
   "outputs": [
    {
     "data": {
      "text/plain": [
       "array([0, 1, 0, ..., 1, 0, 1], dtype=int64)"
      ]
     },
     "execution_count": 78,
     "metadata": {},
     "output_type": "execute_result"
    }
   ],
   "source": [
    "subpred"
   ]
  },
  {
   "cell_type": "code",
   "execution_count": 79,
   "metadata": {},
   "outputs": [],
   "source": [
    "submission[\"CHURN\"] = subpred"
   ]
  },
  {
   "cell_type": "code",
   "execution_count": 80,
   "metadata": {},
   "outputs": [
    {
     "data": {
      "text/html": [
       "<div>\n",
       "<style scoped>\n",
       "    .dataframe tbody tr th:only-of-type {\n",
       "        vertical-align: middle;\n",
       "    }\n",
       "\n",
       "    .dataframe tbody tr th {\n",
       "        vertical-align: top;\n",
       "    }\n",
       "\n",
       "    .dataframe thead th {\n",
       "        text-align: right;\n",
       "    }\n",
       "</style>\n",
       "<table border=\"1\" class=\"dataframe\">\n",
       "  <thead>\n",
       "    <tr style=\"text-align: right;\">\n",
       "      <th></th>\n",
       "      <th>user_id</th>\n",
       "      <th>CHURN</th>\n",
       "    </tr>\n",
       "  </thead>\n",
       "  <tbody>\n",
       "    <tr>\n",
       "      <th>0</th>\n",
       "      <td>51fe4c3347db1f8571d18ac03f716c41acee30a4</td>\n",
       "      <td>0</td>\n",
       "    </tr>\n",
       "    <tr>\n",
       "      <th>1</th>\n",
       "      <td>5ad5d67c175bce107cc97b98c4e37dcc38aa7f3e</td>\n",
       "      <td>1</td>\n",
       "    </tr>\n",
       "    <tr>\n",
       "      <th>2</th>\n",
       "      <td>5a4db591c953a8d8f373877fad37aaf4268899a1</td>\n",
       "      <td>0</td>\n",
       "    </tr>\n",
       "    <tr>\n",
       "      <th>3</th>\n",
       "      <td>8bf9b4d8880aeba1c9a0da48be78f12e629be37c</td>\n",
       "      <td>1</td>\n",
       "    </tr>\n",
       "    <tr>\n",
       "      <th>4</th>\n",
       "      <td>c7cdf2af01e9fa95bf498b68c122aa4b9a8d10df</td>\n",
       "      <td>0</td>\n",
       "    </tr>\n",
       "  </tbody>\n",
       "</table>\n",
       "</div>"
      ],
      "text/plain": [
       "                                    user_id  CHURN\n",
       "0  51fe4c3347db1f8571d18ac03f716c41acee30a4      0\n",
       "1  5ad5d67c175bce107cc97b98c4e37dcc38aa7f3e      1\n",
       "2  5a4db591c953a8d8f373877fad37aaf4268899a1      0\n",
       "3  8bf9b4d8880aeba1c9a0da48be78f12e629be37c      1\n",
       "4  c7cdf2af01e9fa95bf498b68c122aa4b9a8d10df      0"
      ]
     },
     "execution_count": 80,
     "metadata": {},
     "output_type": "execute_result"
    }
   ],
   "source": [
    "submission.head()"
   ]
  },
  {
   "cell_type": "code",
   "execution_count": 81,
   "metadata": {},
   "outputs": [],
   "source": [
    "submission.to_csv('starter_code_submission.csv', index=False)"
   ]
  },
  {
   "cell_type": "markdown",
   "metadata": {},
   "source": [
    "### Using other Algorithims "
   ]
  },
  {
   "cell_type": "markdown",
   "metadata": {},
   "source": [
    "Gradient Boosting Classifier model"
   ]
  },
  {
   "cell_type": "code",
   "execution_count": 82,
   "metadata": {},
   "outputs": [],
   "source": [
    "# Initialize and train the Gradient Boosting Classifier model\n",
    "gb_model = GradientBoostingClassifier()\n",
    "gb_model.fit(X_train, y_train)\n",
    "\n",
    "# Make predictions\n",
    "gb_pred = gb_model.predict(X_test)\n"
   ]
  },
  {
   "cell_type": "code",
   "execution_count": 83,
   "metadata": {},
   "outputs": [
    {
     "name": "stdout",
     "output_type": "stream",
     "text": [
      "F1 Score: 0.6240124299301885\n",
      "Accuracy: 0.8040767893751671\n",
      "Confusion Matrix:\n",
      " [[345452  91841]\n",
      " [ 13666  87553]]\n",
      "ROC AUC Score: 0.8274820834295887\n"
     ]
    }
   ],
   "source": [
    "from sklearn.metrics import f1_score, accuracy_score, precision_score, confusion_matrix, roc_auc_score\n",
    "\n",
    "# Calculate evaluation metrics for Gradient Boosting predictions\n",
    "f1 = f1_score(y_test, gb_pred)\n",
    "accuracy = accuracy_score(y_test, gb_pred)\n",
    "conf_matrix = confusion_matrix(y_test, gb_pred)\n",
    "roc_auc = roc_auc_score(y_test, gb_pred)\n",
    "# Print the calculated scores\n",
    "print(\"F1 Score:\", f1)\n",
    "print(\"Accuracy:\", accuracy)\n",
    "print(\"Confusion Matrix:\\n\", conf_matrix)\n",
    "print(\"ROC AUC Score:\", roc_auc)"
   ]
  },
  {
   "cell_type": "markdown",
   "metadata": {},
   "source": [
    "#### LogisticRegression Model"
   ]
  },
  {
   "cell_type": "code",
   "execution_count": 84,
   "metadata": {},
   "outputs": [
    {
     "data": {
      "text/html": [
       "<style>#sk-container-id-1 {color: black;background-color: white;}#sk-container-id-1 pre{padding: 0;}#sk-container-id-1 div.sk-toggleable {background-color: white;}#sk-container-id-1 label.sk-toggleable__label {cursor: pointer;display: block;width: 100%;margin-bottom: 0;padding: 0.3em;box-sizing: border-box;text-align: center;}#sk-container-id-1 label.sk-toggleable__label-arrow:before {content: \"▸\";float: left;margin-right: 0.25em;color: #696969;}#sk-container-id-1 label.sk-toggleable__label-arrow:hover:before {color: black;}#sk-container-id-1 div.sk-estimator:hover label.sk-toggleable__label-arrow:before {color: black;}#sk-container-id-1 div.sk-toggleable__content {max-height: 0;max-width: 0;overflow: hidden;text-align: left;background-color: #f0f8ff;}#sk-container-id-1 div.sk-toggleable__content pre {margin: 0.2em;color: black;border-radius: 0.25em;background-color: #f0f8ff;}#sk-container-id-1 input.sk-toggleable__control:checked~div.sk-toggleable__content {max-height: 200px;max-width: 100%;overflow: auto;}#sk-container-id-1 input.sk-toggleable__control:checked~label.sk-toggleable__label-arrow:before {content: \"▾\";}#sk-container-id-1 div.sk-estimator input.sk-toggleable__control:checked~label.sk-toggleable__label {background-color: #d4ebff;}#sk-container-id-1 div.sk-label input.sk-toggleable__control:checked~label.sk-toggleable__label {background-color: #d4ebff;}#sk-container-id-1 input.sk-hidden--visually {border: 0;clip: rect(1px 1px 1px 1px);clip: rect(1px, 1px, 1px, 1px);height: 1px;margin: -1px;overflow: hidden;padding: 0;position: absolute;width: 1px;}#sk-container-id-1 div.sk-estimator {font-family: monospace;background-color: #f0f8ff;border: 1px dotted black;border-radius: 0.25em;box-sizing: border-box;margin-bottom: 0.5em;}#sk-container-id-1 div.sk-estimator:hover {background-color: #d4ebff;}#sk-container-id-1 div.sk-parallel-item::after {content: \"\";width: 100%;border-bottom: 1px solid gray;flex-grow: 1;}#sk-container-id-1 div.sk-label:hover label.sk-toggleable__label {background-color: #d4ebff;}#sk-container-id-1 div.sk-serial::before {content: \"\";position: absolute;border-left: 1px solid gray;box-sizing: border-box;top: 0;bottom: 0;left: 50%;z-index: 0;}#sk-container-id-1 div.sk-serial {display: flex;flex-direction: column;align-items: center;background-color: white;padding-right: 0.2em;padding-left: 0.2em;position: relative;}#sk-container-id-1 div.sk-item {position: relative;z-index: 1;}#sk-container-id-1 div.sk-parallel {display: flex;align-items: stretch;justify-content: center;background-color: white;position: relative;}#sk-container-id-1 div.sk-item::before, #sk-container-id-1 div.sk-parallel-item::before {content: \"\";position: absolute;border-left: 1px solid gray;box-sizing: border-box;top: 0;bottom: 0;left: 50%;z-index: -1;}#sk-container-id-1 div.sk-parallel-item {display: flex;flex-direction: column;z-index: 1;position: relative;background-color: white;}#sk-container-id-1 div.sk-parallel-item:first-child::after {align-self: flex-end;width: 50%;}#sk-container-id-1 div.sk-parallel-item:last-child::after {align-self: flex-start;width: 50%;}#sk-container-id-1 div.sk-parallel-item:only-child::after {width: 0;}#sk-container-id-1 div.sk-dashed-wrapped {border: 1px dashed gray;margin: 0 0.4em 0.5em 0.4em;box-sizing: border-box;padding-bottom: 0.4em;background-color: white;}#sk-container-id-1 div.sk-label label {font-family: monospace;font-weight: bold;display: inline-block;line-height: 1.2em;}#sk-container-id-1 div.sk-label-container {text-align: center;}#sk-container-id-1 div.sk-container {/* jupyter's `normalize.less` sets `[hidden] { display: none; }` but bootstrap.min.css set `[hidden] { display: none !important; }` so we also need the `!important` here to be able to override the default hidden behavior on the sphinx rendered scikit-learn.org. See: https://github.com/scikit-learn/scikit-learn/issues/21755 */display: inline-block !important;position: relative;}#sk-container-id-1 div.sk-text-repr-fallback {display: none;}</style><div id=\"sk-container-id-1\" class=\"sk-top-container\"><div class=\"sk-text-repr-fallback\"><pre>LogisticRegression()</pre><b>In a Jupyter environment, please rerun this cell to show the HTML representation or trust the notebook. <br />On GitHub, the HTML representation is unable to render, please try loading this page with nbviewer.org.</b></div><div class=\"sk-container\" hidden><div class=\"sk-item\"><div class=\"sk-estimator sk-toggleable\"><input class=\"sk-toggleable__control sk-hidden--visually\" id=\"sk-estimator-id-1\" type=\"checkbox\" checked><label for=\"sk-estimator-id-1\" class=\"sk-toggleable__label sk-toggleable__label-arrow\">LogisticRegression</label><div class=\"sk-toggleable__content\"><pre>LogisticRegression()</pre></div></div></div></div></div>"
      ],
      "text/plain": [
       "LogisticRegression()"
      ]
     },
     "execution_count": 84,
     "metadata": {},
     "output_type": "execute_result"
    }
   ],
   "source": [
    "# Initialize and train the Logistic Regression model\n",
    "logreg_model = LogisticRegression()\n",
    "logreg_model.fit(X_train, y_train)\n"
   ]
  },
  {
   "cell_type": "code",
   "execution_count": 85,
   "metadata": {},
   "outputs": [],
   "source": [
    "# Make predictions\n",
    "logreg_pred = logreg_model.predict(X_test)"
   ]
  },
  {
   "cell_type": "code",
   "execution_count": 86,
   "metadata": {},
   "outputs": [
    {
     "name": "stdout",
     "output_type": "stream",
     "text": [
      "F1 Score: 0.5845878988043042\n",
      "Accuracy: 0.8117442136851175\n",
      "Confusion Matrix:\n",
      " [[365802  71491]\n",
      " [ 29887  71332]]\n",
      "ROC AUC: 0.77062199865317\n"
     ]
    }
   ],
   "source": [
    "# Calculate evaluation metrics\n",
    "f1 = f1_score(y_test, logreg_pred)\n",
    "accuracy = accuracy_score(y_test, logreg_pred)\n",
    "conf_matrix = confusion_matrix(y_test, logreg_pred)\n",
    "roc_auc = roc_auc_score(y_test, logreg_pred)\n",
    "fpr, tpr, thresholds = roc_curve(y_test, logreg_model.predict_proba(X_test)[:,1])\n",
    "\n",
    "# Print evaluation metrics\n",
    "print(\"F1 Score:\", f1)\n",
    "print(\"Accuracy:\", accuracy)\n",
    "print(\"Confusion Matrix:\\n\", conf_matrix)\n",
    "print(\"ROC AUC:\", roc_auc)"
   ]
  },
  {
   "cell_type": "markdown",
   "metadata": {},
   "source": [
    "####  Gaussian Naive Bayes classifier"
   ]
  },
  {
   "cell_type": "code",
   "execution_count": 87,
   "metadata": {},
   "outputs": [
    {
     "data": {
      "text/html": [
       "<style>#sk-container-id-2 {color: black;background-color: white;}#sk-container-id-2 pre{padding: 0;}#sk-container-id-2 div.sk-toggleable {background-color: white;}#sk-container-id-2 label.sk-toggleable__label {cursor: pointer;display: block;width: 100%;margin-bottom: 0;padding: 0.3em;box-sizing: border-box;text-align: center;}#sk-container-id-2 label.sk-toggleable__label-arrow:before {content: \"▸\";float: left;margin-right: 0.25em;color: #696969;}#sk-container-id-2 label.sk-toggleable__label-arrow:hover:before {color: black;}#sk-container-id-2 div.sk-estimator:hover label.sk-toggleable__label-arrow:before {color: black;}#sk-container-id-2 div.sk-toggleable__content {max-height: 0;max-width: 0;overflow: hidden;text-align: left;background-color: #f0f8ff;}#sk-container-id-2 div.sk-toggleable__content pre {margin: 0.2em;color: black;border-radius: 0.25em;background-color: #f0f8ff;}#sk-container-id-2 input.sk-toggleable__control:checked~div.sk-toggleable__content {max-height: 200px;max-width: 100%;overflow: auto;}#sk-container-id-2 input.sk-toggleable__control:checked~label.sk-toggleable__label-arrow:before {content: \"▾\";}#sk-container-id-2 div.sk-estimator input.sk-toggleable__control:checked~label.sk-toggleable__label {background-color: #d4ebff;}#sk-container-id-2 div.sk-label input.sk-toggleable__control:checked~label.sk-toggleable__label {background-color: #d4ebff;}#sk-container-id-2 input.sk-hidden--visually {border: 0;clip: rect(1px 1px 1px 1px);clip: rect(1px, 1px, 1px, 1px);height: 1px;margin: -1px;overflow: hidden;padding: 0;position: absolute;width: 1px;}#sk-container-id-2 div.sk-estimator {font-family: monospace;background-color: #f0f8ff;border: 1px dotted black;border-radius: 0.25em;box-sizing: border-box;margin-bottom: 0.5em;}#sk-container-id-2 div.sk-estimator:hover {background-color: #d4ebff;}#sk-container-id-2 div.sk-parallel-item::after {content: \"\";width: 100%;border-bottom: 1px solid gray;flex-grow: 1;}#sk-container-id-2 div.sk-label:hover label.sk-toggleable__label {background-color: #d4ebff;}#sk-container-id-2 div.sk-serial::before {content: \"\";position: absolute;border-left: 1px solid gray;box-sizing: border-box;top: 0;bottom: 0;left: 50%;z-index: 0;}#sk-container-id-2 div.sk-serial {display: flex;flex-direction: column;align-items: center;background-color: white;padding-right: 0.2em;padding-left: 0.2em;position: relative;}#sk-container-id-2 div.sk-item {position: relative;z-index: 1;}#sk-container-id-2 div.sk-parallel {display: flex;align-items: stretch;justify-content: center;background-color: white;position: relative;}#sk-container-id-2 div.sk-item::before, #sk-container-id-2 div.sk-parallel-item::before {content: \"\";position: absolute;border-left: 1px solid gray;box-sizing: border-box;top: 0;bottom: 0;left: 50%;z-index: -1;}#sk-container-id-2 div.sk-parallel-item {display: flex;flex-direction: column;z-index: 1;position: relative;background-color: white;}#sk-container-id-2 div.sk-parallel-item:first-child::after {align-self: flex-end;width: 50%;}#sk-container-id-2 div.sk-parallel-item:last-child::after {align-self: flex-start;width: 50%;}#sk-container-id-2 div.sk-parallel-item:only-child::after {width: 0;}#sk-container-id-2 div.sk-dashed-wrapped {border: 1px dashed gray;margin: 0 0.4em 0.5em 0.4em;box-sizing: border-box;padding-bottom: 0.4em;background-color: white;}#sk-container-id-2 div.sk-label label {font-family: monospace;font-weight: bold;display: inline-block;line-height: 1.2em;}#sk-container-id-2 div.sk-label-container {text-align: center;}#sk-container-id-2 div.sk-container {/* jupyter's `normalize.less` sets `[hidden] { display: none; }` but bootstrap.min.css set `[hidden] { display: none !important; }` so we also need the `!important` here to be able to override the default hidden behavior on the sphinx rendered scikit-learn.org. See: https://github.com/scikit-learn/scikit-learn/issues/21755 */display: inline-block !important;position: relative;}#sk-container-id-2 div.sk-text-repr-fallback {display: none;}</style><div id=\"sk-container-id-2\" class=\"sk-top-container\"><div class=\"sk-text-repr-fallback\"><pre>GaussianNB()</pre><b>In a Jupyter environment, please rerun this cell to show the HTML representation or trust the notebook. <br />On GitHub, the HTML representation is unable to render, please try loading this page with nbviewer.org.</b></div><div class=\"sk-container\" hidden><div class=\"sk-item\"><div class=\"sk-estimator sk-toggleable\"><input class=\"sk-toggleable__control sk-hidden--visually\" id=\"sk-estimator-id-2\" type=\"checkbox\" checked><label for=\"sk-estimator-id-2\" class=\"sk-toggleable__label sk-toggleable__label-arrow\">GaussianNB</label><div class=\"sk-toggleable__content\"><pre>GaussianNB()</pre></div></div></div></div></div>"
      ],
      "text/plain": [
       "GaussianNB()"
      ]
     },
     "execution_count": 87,
     "metadata": {},
     "output_type": "execute_result"
    }
   ],
   "source": [
    "# Initialize and train the Naive Bayes model\n",
    "nb_model = GaussianNB()\n",
    "nb_model.fit(X_train, y_train)"
   ]
  },
  {
   "cell_type": "code",
   "execution_count": 88,
   "metadata": {},
   "outputs": [],
   "source": [
    "# Make predictions\n",
    "nb_pred = nb_model.predict(X_test)"
   ]
  },
  {
   "cell_type": "code",
   "execution_count": 89,
   "metadata": {},
   "outputs": [
    {
     "name": "stdout",
     "output_type": "stream",
     "text": [
      "F1 Score: 0.36546933088051087\n",
      "Accuracy: 0.35564109991977894\n",
      "Confusion Matrix:\n",
      " [[ 91588 345705]\n",
      " [  1290  99929]]\n",
      "ROC AUC: 0.5983492268504363\n"
     ]
    }
   ],
   "source": [
    "# Calculate evaluation metrics for Naive Bayes predictions\n",
    "f1 = f1_score(y_test, nb_pred)\n",
    "accuracy = accuracy_score(y_test, nb_pred)\n",
    "conf_matrix = confusion_matrix(y_test, nb_pred)\n",
    "roc_auc = roc_auc_score(y_test, nb_pred)\n",
    "\n",
    "# Print evaluation metrics\n",
    "print(\"F1 Score:\", f1)\n",
    "print(\"Accuracy:\", accuracy)\n",
    "print(\"Confusion Matrix:\\n\", conf_matrix)\n",
    "print(\"ROC AUC:\", roc_auc)"
   ]
  },
  {
   "cell_type": "markdown",
   "metadata": {},
   "source": [
    "#### K-Nearest Neighbors (KNN) Classifier"
   ]
  },
  {
   "cell_type": "code",
   "execution_count": 90,
   "metadata": {},
   "outputs": [
    {
     "data": {
      "text/html": [
       "<style>#sk-container-id-3 {color: black;background-color: white;}#sk-container-id-3 pre{padding: 0;}#sk-container-id-3 div.sk-toggleable {background-color: white;}#sk-container-id-3 label.sk-toggleable__label {cursor: pointer;display: block;width: 100%;margin-bottom: 0;padding: 0.3em;box-sizing: border-box;text-align: center;}#sk-container-id-3 label.sk-toggleable__label-arrow:before {content: \"▸\";float: left;margin-right: 0.25em;color: #696969;}#sk-container-id-3 label.sk-toggleable__label-arrow:hover:before {color: black;}#sk-container-id-3 div.sk-estimator:hover label.sk-toggleable__label-arrow:before {color: black;}#sk-container-id-3 div.sk-toggleable__content {max-height: 0;max-width: 0;overflow: hidden;text-align: left;background-color: #f0f8ff;}#sk-container-id-3 div.sk-toggleable__content pre {margin: 0.2em;color: black;border-radius: 0.25em;background-color: #f0f8ff;}#sk-container-id-3 input.sk-toggleable__control:checked~div.sk-toggleable__content {max-height: 200px;max-width: 100%;overflow: auto;}#sk-container-id-3 input.sk-toggleable__control:checked~label.sk-toggleable__label-arrow:before {content: \"▾\";}#sk-container-id-3 div.sk-estimator input.sk-toggleable__control:checked~label.sk-toggleable__label {background-color: #d4ebff;}#sk-container-id-3 div.sk-label input.sk-toggleable__control:checked~label.sk-toggleable__label {background-color: #d4ebff;}#sk-container-id-3 input.sk-hidden--visually {border: 0;clip: rect(1px 1px 1px 1px);clip: rect(1px, 1px, 1px, 1px);height: 1px;margin: -1px;overflow: hidden;padding: 0;position: absolute;width: 1px;}#sk-container-id-3 div.sk-estimator {font-family: monospace;background-color: #f0f8ff;border: 1px dotted black;border-radius: 0.25em;box-sizing: border-box;margin-bottom: 0.5em;}#sk-container-id-3 div.sk-estimator:hover {background-color: #d4ebff;}#sk-container-id-3 div.sk-parallel-item::after {content: \"\";width: 100%;border-bottom: 1px solid gray;flex-grow: 1;}#sk-container-id-3 div.sk-label:hover label.sk-toggleable__label {background-color: #d4ebff;}#sk-container-id-3 div.sk-serial::before {content: \"\";position: absolute;border-left: 1px solid gray;box-sizing: border-box;top: 0;bottom: 0;left: 50%;z-index: 0;}#sk-container-id-3 div.sk-serial {display: flex;flex-direction: column;align-items: center;background-color: white;padding-right: 0.2em;padding-left: 0.2em;position: relative;}#sk-container-id-3 div.sk-item {position: relative;z-index: 1;}#sk-container-id-3 div.sk-parallel {display: flex;align-items: stretch;justify-content: center;background-color: white;position: relative;}#sk-container-id-3 div.sk-item::before, #sk-container-id-3 div.sk-parallel-item::before {content: \"\";position: absolute;border-left: 1px solid gray;box-sizing: border-box;top: 0;bottom: 0;left: 50%;z-index: -1;}#sk-container-id-3 div.sk-parallel-item {display: flex;flex-direction: column;z-index: 1;position: relative;background-color: white;}#sk-container-id-3 div.sk-parallel-item:first-child::after {align-self: flex-end;width: 50%;}#sk-container-id-3 div.sk-parallel-item:last-child::after {align-self: flex-start;width: 50%;}#sk-container-id-3 div.sk-parallel-item:only-child::after {width: 0;}#sk-container-id-3 div.sk-dashed-wrapped {border: 1px dashed gray;margin: 0 0.4em 0.5em 0.4em;box-sizing: border-box;padding-bottom: 0.4em;background-color: white;}#sk-container-id-3 div.sk-label label {font-family: monospace;font-weight: bold;display: inline-block;line-height: 1.2em;}#sk-container-id-3 div.sk-label-container {text-align: center;}#sk-container-id-3 div.sk-container {/* jupyter's `normalize.less` sets `[hidden] { display: none; }` but bootstrap.min.css set `[hidden] { display: none !important; }` so we also need the `!important` here to be able to override the default hidden behavior on the sphinx rendered scikit-learn.org. See: https://github.com/scikit-learn/scikit-learn/issues/21755 */display: inline-block !important;position: relative;}#sk-container-id-3 div.sk-text-repr-fallback {display: none;}</style><div id=\"sk-container-id-3\" class=\"sk-top-container\"><div class=\"sk-text-repr-fallback\"><pre>KNeighborsClassifier()</pre><b>In a Jupyter environment, please rerun this cell to show the HTML representation or trust the notebook. <br />On GitHub, the HTML representation is unable to render, please try loading this page with nbviewer.org.</b></div><div class=\"sk-container\" hidden><div class=\"sk-item\"><div class=\"sk-estimator sk-toggleable\"><input class=\"sk-toggleable__control sk-hidden--visually\" id=\"sk-estimator-id-3\" type=\"checkbox\" checked><label for=\"sk-estimator-id-3\" class=\"sk-toggleable__label sk-toggleable__label-arrow\">KNeighborsClassifier</label><div class=\"sk-toggleable__content\"><pre>KNeighborsClassifier()</pre></div></div></div></div></div>"
      ],
      "text/plain": [
       "KNeighborsClassifier()"
      ]
     },
     "execution_count": 90,
     "metadata": {},
     "output_type": "execute_result"
    }
   ],
   "source": [
    "knn_model = KNeighborsClassifier()\n",
    "knn_model.fit(X_train, y_train)\n"
   ]
  },
  {
   "cell_type": "code",
   "execution_count": 91,
   "metadata": {},
   "outputs": [],
   "source": [
    "knn_pred = knn_model.predict(X_test)"
   ]
  },
  {
   "cell_type": "code",
   "execution_count": 92,
   "metadata": {},
   "outputs": [
    {
     "name": "stdout",
     "output_type": "stream",
     "text": [
      "K-Nearest Neighbors (KNN) Classifier:\n",
      "F1 Score: 0.5147304456077345\n",
      "Accuracy: 0.7987658585138308\n",
      "Confusion Matrix:\n",
      " [[372672  64621]\n",
      " [ 43746  57473]]\n",
      "ROC AUC: 0.7100166769220442\n"
     ]
    }
   ],
   "source": [
    "f1 = f1_score(y_test, knn_pred)\n",
    "accuracy = accuracy_score(y_test, knn_pred)\n",
    "conf_matrix = confusion_matrix(y_test, knn_pred)\n",
    "roc_auc = roc_auc_score(y_test, knn_pred)\n",
    "\n",
    "print(\"K-Nearest Neighbors (KNN) Classifier:\")\n",
    "print(\"F1 Score:\", f1)\n",
    "print(\"Accuracy:\", accuracy)\n",
    "print(\"Confusion Matrix:\\n\", conf_matrix)\n",
    "print(\"ROC AUC:\", roc_auc)"
   ]
  },
  {
   "cell_type": "markdown",
   "metadata": {},
   "source": [
    "### Comparing the Results \n"
   ]
  },
  {
   "cell_type": "code",
   "execution_count": 93,
   "metadata": {},
   "outputs": [
    {
     "data": {
      "text/html": [
       "<div>\n",
       "<style scoped>\n",
       "    .dataframe tbody tr th:only-of-type {\n",
       "        vertical-align: middle;\n",
       "    }\n",
       "\n",
       "    .dataframe tbody tr th {\n",
       "        vertical-align: top;\n",
       "    }\n",
       "\n",
       "    .dataframe thead th {\n",
       "        text-align: right;\n",
       "    }\n",
       "</style>\n",
       "<table border=\"1\" class=\"dataframe\">\n",
       "  <thead>\n",
       "    <tr style=\"text-align: right;\">\n",
       "      <th></th>\n",
       "      <th>Model</th>\n",
       "      <th>F1 Score</th>\n",
       "      <th>Accuracy</th>\n",
       "      <th>ROC AUC</th>\n",
       "    </tr>\n",
       "  </thead>\n",
       "  <tbody>\n",
       "    <tr>\n",
       "      <th>0</th>\n",
       "      <td>Random Forest</td>\n",
       "      <td>0.623682</td>\n",
       "      <td>0.803527</td>\n",
       "      <td>0.827607</td>\n",
       "    </tr>\n",
       "    <tr>\n",
       "      <th>1</th>\n",
       "      <td>Gradient Boosting</td>\n",
       "      <td>0.626122</td>\n",
       "      <td>0.848557</td>\n",
       "      <td>0.781733</td>\n",
       "    </tr>\n",
       "    <tr>\n",
       "      <th>2</th>\n",
       "      <td>Logistic Regression</td>\n",
       "      <td>0.366478</td>\n",
       "      <td>0.359091</td>\n",
       "      <td>0.600086</td>\n",
       "    </tr>\n",
       "    <tr>\n",
       "      <th>3</th>\n",
       "      <td>Gaussian Naive Bayes</td>\n",
       "      <td>0.366478</td>\n",
       "      <td>0.359091</td>\n",
       "      <td>0.600086</td>\n",
       "    </tr>\n",
       "    <tr>\n",
       "      <th>4</th>\n",
       "      <td>K-Nearest Neighbors</td>\n",
       "      <td>0.515288</td>\n",
       "      <td>0.799236</td>\n",
       "      <td>0.710283</td>\n",
       "    </tr>\n",
       "  </tbody>\n",
       "</table>\n",
       "</div>"
      ],
      "text/plain": [
       "                  Model  F1 Score  Accuracy   ROC AUC\n",
       "0         Random Forest  0.623682  0.803527  0.827607\n",
       "1     Gradient Boosting  0.626122  0.848557  0.781733\n",
       "2   Logistic Regression  0.366478  0.359091  0.600086\n",
       "3  Gaussian Naive Bayes  0.366478  0.359091  0.600086\n",
       "4   K-Nearest Neighbors  0.515288  0.799236  0.710283"
      ]
     },
     "execution_count": 93,
     "metadata": {},
     "output_type": "execute_result"
    }
   ],
   "source": [
    "# Define your evaluation results\n",
    "results = [\n",
    "    {\"Model\": \"Random Forest\", \"F1 Score\": 0.6236817675785071, \"Accuracy\": 0.8035271266007071, \"ROC AUC\": 0.8276067966617611},\n",
    "    {\"Model\": \"Gradient Boosting\", \"F1 Score\": 0.6261220373171962, \"Accuracy\": 0.8485567638232759, \"ROC AUC\": 0.7817325245750717},\n",
    "    {\"Model\": \"Logistic Regression\", \"F1 Score\": 0.36647815400768363, \"Accuracy\": 0.359091348010815, \"ROC AUC\": 0.6000864292207999},\n",
    "    {\"Model\": \"Gaussian Naive Bayes\", \"F1 Score\": 0.36647815400768363, \"Accuracy\": 0.359091348010815,  \"ROC AUC\": 0.6000864292207999},\n",
    "    {\"Model\": \"K-Nearest Neighbors\", \"F1 Score\": 0.515288189089344, \"Accuracy\": 0.7992356716284874, \"ROC AUC\": 0.7102831783344292}\n",
    "]\n",
    "\n",
    "# Create a DataFrame from the results\n",
    "df = pd.DataFrame(results)\n",
    "df"
   ]
  },
  {
   "cell_type": "code",
   "execution_count": 94,
   "metadata": {},
   "outputs": [
    {
     "data": {
      "image/png": "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",
      "text/plain": [
       "<Figure size 1000x600 with 1 Axes>"
      ]
     },
     "metadata": {},
     "output_type": "display_data"
    }
   ],
   "source": [
    "# Plot the evaluation scores\n",
    "plt.figure(figsize=(10, 6))\n",
    "\n",
    "# Plotting\n",
    "plt.bar(df[\"Model\"], df[\"F1 Score\"], label=\"F1 Score\")\n",
    "plt.bar(df[\"Model\"], df[\"Accuracy\"], label=\"Accuracy\")\n",
    "plt.bar(df[\"Model\"], df[\"ROC AUC\"], label=\"ROC AUC\")\n",
    "\n",
    "\n",
    "plt.xlabel(\"Model\")\n",
    "plt.ylabel(\"Score\")\n",
    "plt.title(\"Comparison of Evaluation Scores\")\n",
    "plt.legend()\n",
    "plt.xticks(rotation=45)\n",
    "plt.tight_layout()\n",
    "plt.show()"
   ]
  },
  {
   "cell_type": "markdown",
   "metadata": {},
   "source": [
    "### checking for the best Model "
   ]
  },
  {
   "cell_type": "code",
   "execution_count": 95,
   "metadata": {},
   "outputs": [
    {
     "name": "stdout",
     "output_type": "stream",
     "text": [
      "Best Model: Gradient Boosting\n"
     ]
    }
   ],
   "source": [
    "# Determine the best model based on your criteria (e.g., highest F1 Score)\n",
    "best_model = df[df[\"F1 Score\"] == df[\"F1 Score\"].max()][\"Model\"].iloc[0]\n",
    "print(\"Best Model:\", best_model)\n"
   ]
  },
  {
   "cell_type": "markdown",
   "metadata": {},
   "source": [
    "### Hyperparameter tunning for the best model"
   ]
  },
  {
   "cell_type": "code",
   "execution_count": 96,
   "metadata": {},
   "outputs": [],
   "source": [
    "# Define the reduced hyperparameter grid to search\n",
    "param_grid = {\n",
    "    'n_estimators': [50, 100],\n",
    "    'learning_rate': [0.01, 0.1],\n",
    "    'max_depth': [3, 4],\n",
    "    'min_samples_split': [2, 3]\n",
    "}\n"
   ]
  },
  {
   "cell_type": "code",
   "execution_count": 97,
   "metadata": {},
   "outputs": [],
   "source": [
    "# Create a Gradient Boosting classifier instance\n",
    "gb_classifier = GradientBoostingClassifier()\n"
   ]
  },
  {
   "cell_type": "code",
   "execution_count": 98,
   "metadata": {},
   "outputs": [],
   "source": [
    "# Create GridSearchCV instance with cross-validation\n",
    "grid_search = GridSearchCV(gb_classifier, param_grid, cv=5, scoring='f1', verbose=1)\n"
   ]
  },
  {
   "cell_type": "code",
   "execution_count": 99,
   "metadata": {},
   "outputs": [
    {
     "name": "stdout",
     "output_type": "stream",
     "text": [
      "Fitting 5 folds for each of 16 candidates, totalling 80 fits\n"
     ]
    },
    {
     "data": {
      "text/html": [
       "<style>#sk-container-id-4 {color: black;background-color: white;}#sk-container-id-4 pre{padding: 0;}#sk-container-id-4 div.sk-toggleable {background-color: white;}#sk-container-id-4 label.sk-toggleable__label {cursor: pointer;display: block;width: 100%;margin-bottom: 0;padding: 0.3em;box-sizing: border-box;text-align: center;}#sk-container-id-4 label.sk-toggleable__label-arrow:before {content: \"▸\";float: left;margin-right: 0.25em;color: #696969;}#sk-container-id-4 label.sk-toggleable__label-arrow:hover:before {color: black;}#sk-container-id-4 div.sk-estimator:hover label.sk-toggleable__label-arrow:before {color: black;}#sk-container-id-4 div.sk-toggleable__content {max-height: 0;max-width: 0;overflow: hidden;text-align: left;background-color: #f0f8ff;}#sk-container-id-4 div.sk-toggleable__content pre {margin: 0.2em;color: black;border-radius: 0.25em;background-color: #f0f8ff;}#sk-container-id-4 input.sk-toggleable__control:checked~div.sk-toggleable__content {max-height: 200px;max-width: 100%;overflow: auto;}#sk-container-id-4 input.sk-toggleable__control:checked~label.sk-toggleable__label-arrow:before {content: \"▾\";}#sk-container-id-4 div.sk-estimator input.sk-toggleable__control:checked~label.sk-toggleable__label {background-color: #d4ebff;}#sk-container-id-4 div.sk-label input.sk-toggleable__control:checked~label.sk-toggleable__label {background-color: #d4ebff;}#sk-container-id-4 input.sk-hidden--visually {border: 0;clip: rect(1px 1px 1px 1px);clip: rect(1px, 1px, 1px, 1px);height: 1px;margin: -1px;overflow: hidden;padding: 0;position: absolute;width: 1px;}#sk-container-id-4 div.sk-estimator {font-family: monospace;background-color: #f0f8ff;border: 1px dotted black;border-radius: 0.25em;box-sizing: border-box;margin-bottom: 0.5em;}#sk-container-id-4 div.sk-estimator:hover {background-color: #d4ebff;}#sk-container-id-4 div.sk-parallel-item::after {content: \"\";width: 100%;border-bottom: 1px solid gray;flex-grow: 1;}#sk-container-id-4 div.sk-label:hover label.sk-toggleable__label {background-color: #d4ebff;}#sk-container-id-4 div.sk-serial::before {content: \"\";position: absolute;border-left: 1px solid gray;box-sizing: border-box;top: 0;bottom: 0;left: 50%;z-index: 0;}#sk-container-id-4 div.sk-serial {display: flex;flex-direction: column;align-items: center;background-color: white;padding-right: 0.2em;padding-left: 0.2em;position: relative;}#sk-container-id-4 div.sk-item {position: relative;z-index: 1;}#sk-container-id-4 div.sk-parallel {display: flex;align-items: stretch;justify-content: center;background-color: white;position: relative;}#sk-container-id-4 div.sk-item::before, #sk-container-id-4 div.sk-parallel-item::before {content: \"\";position: absolute;border-left: 1px solid gray;box-sizing: border-box;top: 0;bottom: 0;left: 50%;z-index: -1;}#sk-container-id-4 div.sk-parallel-item {display: flex;flex-direction: column;z-index: 1;position: relative;background-color: white;}#sk-container-id-4 div.sk-parallel-item:first-child::after {align-self: flex-end;width: 50%;}#sk-container-id-4 div.sk-parallel-item:last-child::after {align-self: flex-start;width: 50%;}#sk-container-id-4 div.sk-parallel-item:only-child::after {width: 0;}#sk-container-id-4 div.sk-dashed-wrapped {border: 1px dashed gray;margin: 0 0.4em 0.5em 0.4em;box-sizing: border-box;padding-bottom: 0.4em;background-color: white;}#sk-container-id-4 div.sk-label label {font-family: monospace;font-weight: bold;display: inline-block;line-height: 1.2em;}#sk-container-id-4 div.sk-label-container {text-align: center;}#sk-container-id-4 div.sk-container {/* jupyter's `normalize.less` sets `[hidden] { display: none; }` but bootstrap.min.css set `[hidden] { display: none !important; }` so we also need the `!important` here to be able to override the default hidden behavior on the sphinx rendered scikit-learn.org. See: https://github.com/scikit-learn/scikit-learn/issues/21755 */display: inline-block !important;position: relative;}#sk-container-id-4 div.sk-text-repr-fallback {display: none;}</style><div id=\"sk-container-id-4\" class=\"sk-top-container\"><div class=\"sk-text-repr-fallback\"><pre>GridSearchCV(cv=5, estimator=GradientBoostingClassifier(),\n",
       "             param_grid={&#x27;learning_rate&#x27;: [0.01, 0.1], &#x27;max_depth&#x27;: [3, 4],\n",
       "                         &#x27;min_samples_split&#x27;: [2, 3],\n",
       "                         &#x27;n_estimators&#x27;: [50, 100]},\n",
       "             scoring=&#x27;f1&#x27;, verbose=1)</pre><b>In a Jupyter environment, please rerun this cell to show the HTML representation or trust the notebook. <br />On GitHub, the HTML representation is unable to render, please try loading this page with nbviewer.org.</b></div><div class=\"sk-container\" hidden><div class=\"sk-item sk-dashed-wrapped\"><div class=\"sk-label-container\"><div class=\"sk-label sk-toggleable\"><input class=\"sk-toggleable__control sk-hidden--visually\" id=\"sk-estimator-id-4\" type=\"checkbox\" ><label for=\"sk-estimator-id-4\" class=\"sk-toggleable__label sk-toggleable__label-arrow\">GridSearchCV</label><div class=\"sk-toggleable__content\"><pre>GridSearchCV(cv=5, estimator=GradientBoostingClassifier(),\n",
       "             param_grid={&#x27;learning_rate&#x27;: [0.01, 0.1], &#x27;max_depth&#x27;: [3, 4],\n",
       "                         &#x27;min_samples_split&#x27;: [2, 3],\n",
       "                         &#x27;n_estimators&#x27;: [50, 100]},\n",
       "             scoring=&#x27;f1&#x27;, verbose=1)</pre></div></div></div><div class=\"sk-parallel\"><div class=\"sk-parallel-item\"><div class=\"sk-item\"><div class=\"sk-label-container\"><div class=\"sk-label sk-toggleable\"><input class=\"sk-toggleable__control sk-hidden--visually\" id=\"sk-estimator-id-5\" type=\"checkbox\" ><label for=\"sk-estimator-id-5\" class=\"sk-toggleable__label sk-toggleable__label-arrow\">estimator: GradientBoostingClassifier</label><div class=\"sk-toggleable__content\"><pre>GradientBoostingClassifier()</pre></div></div></div><div class=\"sk-serial\"><div class=\"sk-item\"><div class=\"sk-estimator sk-toggleable\"><input class=\"sk-toggleable__control sk-hidden--visually\" id=\"sk-estimator-id-6\" type=\"checkbox\" ><label for=\"sk-estimator-id-6\" class=\"sk-toggleable__label sk-toggleable__label-arrow\">GradientBoostingClassifier</label><div class=\"sk-toggleable__content\"><pre>GradientBoostingClassifier()</pre></div></div></div></div></div></div></div></div></div></div>"
      ],
      "text/plain": [
       "GridSearchCV(cv=5, estimator=GradientBoostingClassifier(),\n",
       "             param_grid={'learning_rate': [0.01, 0.1], 'max_depth': [3, 4],\n",
       "                         'min_samples_split': [2, 3],\n",
       "                         'n_estimators': [50, 100]},\n",
       "             scoring='f1', verbose=1)"
      ]
     },
     "execution_count": 99,
     "metadata": {},
     "output_type": "execute_result"
    }
   ],
   "source": [
    "# Fit the GridSearchCV on your training data\n",
    "grid_search.fit(X_train, y_train)\n"
   ]
  },
  {
   "cell_type": "code",
   "execution_count": 102,
   "metadata": {},
   "outputs": [],
   "source": [
    "# Get the best parameters and best estimator\n",
    "best_params = grid_search.best_params_\n",
    "best_estimator = grid_search.best_estimator_\n"
   ]
  },
  {
   "cell_type": "code",
   "execution_count": 103,
   "metadata": {},
   "outputs": [
    {
     "name": "stdout",
     "output_type": "stream",
     "text": [
      "Best Parameters: {'learning_rate': 0.1, 'max_depth': 4, 'min_samples_split': 2, 'n_estimators': 100}\n"
     ]
    }
   ],
   "source": [
    "# Print the best parameters\n",
    "print(\"Best Parameters:\", best_params)\n"
   ]
  },
  {
   "cell_type": "code",
   "execution_count": 104,
   "metadata": {},
   "outputs": [],
   "source": [
    "# Train and evaluate the best model with the tuned parameters\n",
    "best_estimator.fit(X_train, y_train)\n",
    "best_pred = best_estimator.predict(X_test)"
   ]
  },
  {
   "cell_type": "code",
   "execution_count": 105,
   "metadata": {},
   "outputs": [
    {
     "name": "stdout",
     "output_type": "stream",
     "text": [
      "Best Model Evaluation Metrics after Tuning:\n",
      "F1 Score: 0.6239166509723935\n",
      "Accuracy: 0.8034639896603976\n",
      "Precision: 0.48718645948945616\n",
      "Confusion Matrix:\n",
      " [[344884  92409]\n",
      " [ 13428  87791]]\n",
      "ROC AUC Score: 0.8280083018895201\n"
     ]
    }
   ],
   "source": [
    "# Calculate and print evaluation metrics for the best model\n",
    "best_f1 = f1_score(y_test, best_pred)\n",
    "best_accuracy = accuracy_score(y_test, best_pred)\n",
    "best_precision = precision_score(y_test, best_pred)\n",
    "best_conf_matrix = confusion_matrix(y_test, best_pred)\n",
    "best_roc_auc = roc_auc_score(y_test, best_pred)\n",
    "\n",
    "# Print the evaluation metrics for the best model after tuning\n",
    "print(\"Best Model Evaluation Metrics after Tuning:\")\n",
    "print(\"F1 Score:\", best_f1)\n",
    "print(\"Accuracy:\", best_accuracy)\n",
    "print(\"Precision:\", best_precision)\n",
    "print(\"Confusion Matrix:\\n\", best_conf_matrix)\n",
    "print(\"ROC AUC Score:\", best_roc_auc)"
   ]
  },
  {
   "cell_type": "code",
   "execution_count": 107,
   "metadata": {},
   "outputs": [
    {
     "name": "stdout",
     "output_type": "stream",
     "text": [
      "     Metric  Original Model  Tuned Model\n",
      "0  F1 Score        0.624012     0.623917\n",
      "1  Accuracy        0.804077     0.803464\n",
      "2   ROC AUC        0.827482     0.828008\n"
     ]
    }
   ],
   "source": [
    "# Create a DataFrame to compare results\n",
    "results_comparison = pd.DataFrame({\n",
    "    \"Metric\": [\"F1 Score\", \"Accuracy\", \"ROC AUC\"],\n",
    "    \"Original Model\": [0.6240124299301885, 0.8040767893751671,0.8274820834295887],\n",
    "    \"Tuned Model\": [0.6239166509723935, 0.8034639896603976, 0.8280083018895201]\n",
    "})\n",
    "\n",
    "# Print the comparison DataFrame\n",
    "print(results_comparison)"
   ]
  },
  {
   "cell_type": "code",
   "execution_count": 109,
   "metadata": {},
   "outputs": [
    {
     "data": {
      "text/plain": [
       "['D:\\\\Projects\\\\Capstone Churn prediction\\\\ML folder\\\\tuned_gb_model.joblib']"
      ]
     },
     "execution_count": 109,
     "metadata": {},
     "output_type": "execute_result"
    }
   ],
   "source": [
    "# Save the tuned Gradient Boosting model to my local machine\n",
    "save_path = r\"D:\\Projects\\Capstone Churn prediction\\ML folder\\tuned_gb_model.joblib\"\n",
    "joblib.dump(best_estimator, save_path)"
   ]
  },
  {
   "cell_type": "code",
   "execution_count": 100,
   "metadata": {},
   "outputs": [
    {
     "data": {
      "text/html": [
       "<div>\n",
       "<style scoped>\n",
       "    .dataframe tbody tr th:only-of-type {\n",
       "        vertical-align: middle;\n",
       "    }\n",
       "\n",
       "    .dataframe tbody tr th {\n",
       "        vertical-align: top;\n",
       "    }\n",
       "\n",
       "    .dataframe thead th {\n",
       "        text-align: right;\n",
       "    }\n",
       "</style>\n",
       "<table border=\"1\" class=\"dataframe\">\n",
       "  <thead>\n",
       "    <tr style=\"text-align: right;\">\n",
       "      <th></th>\n",
       "      <th>user_id</th>\n",
       "      <th>CHURN</th>\n",
       "    </tr>\n",
       "  </thead>\n",
       "  <tbody>\n",
       "    <tr>\n",
       "      <th>0</th>\n",
       "      <td>51fe4c3347db1f8571d18ac03f716c41acee30a4</td>\n",
       "      <td>0</td>\n",
       "    </tr>\n",
       "    <tr>\n",
       "      <th>1</th>\n",
       "      <td>5ad5d67c175bce107cc97b98c4e37dcc38aa7f3e</td>\n",
       "      <td>1</td>\n",
       "    </tr>\n",
       "    <tr>\n",
       "      <th>2</th>\n",
       "      <td>5a4db591c953a8d8f373877fad37aaf4268899a1</td>\n",
       "      <td>0</td>\n",
       "    </tr>\n",
       "    <tr>\n",
       "      <th>3</th>\n",
       "      <td>8bf9b4d8880aeba1c9a0da48be78f12e629be37c</td>\n",
       "      <td>1</td>\n",
       "    </tr>\n",
       "    <tr>\n",
       "      <th>4</th>\n",
       "      <td>c7cdf2af01e9fa95bf498b68c122aa4b9a8d10df</td>\n",
       "      <td>0</td>\n",
       "    </tr>\n",
       "    <tr>\n",
       "      <th>...</th>\n",
       "      <td>...</td>\n",
       "      <td>...</td>\n",
       "    </tr>\n",
       "    <tr>\n",
       "      <th>190058</th>\n",
       "      <td>1092956a3dad77ceb7e8d7c70e3e13f77b60e2aa</td>\n",
       "      <td>0</td>\n",
       "    </tr>\n",
       "    <tr>\n",
       "      <th>190059</th>\n",
       "      <td>bec10becca7faa8e9cab9981b3aee5e9a7f04828</td>\n",
       "      <td>0</td>\n",
       "    </tr>\n",
       "    <tr>\n",
       "      <th>190060</th>\n",
       "      <td>7ac6fc191f8732b1b146e57f9ede983626b93eae</td>\n",
       "      <td>1</td>\n",
       "    </tr>\n",
       "    <tr>\n",
       "      <th>190061</th>\n",
       "      <td>d592c81971d6120b0d19f9ace85f278ea21b89a0</td>\n",
       "      <td>0</td>\n",
       "    </tr>\n",
       "    <tr>\n",
       "      <th>190062</th>\n",
       "      <td>9b4f57aeef72cd52c634498d0ea27ea3fbb67bf4</td>\n",
       "      <td>1</td>\n",
       "    </tr>\n",
       "  </tbody>\n",
       "</table>\n",
       "<p>190063 rows × 2 columns</p>\n",
       "</div>"
      ],
      "text/plain": [
       "                                         user_id  CHURN\n",
       "0       51fe4c3347db1f8571d18ac03f716c41acee30a4      0\n",
       "1       5ad5d67c175bce107cc97b98c4e37dcc38aa7f3e      1\n",
       "2       5a4db591c953a8d8f373877fad37aaf4268899a1      0\n",
       "3       8bf9b4d8880aeba1c9a0da48be78f12e629be37c      1\n",
       "4       c7cdf2af01e9fa95bf498b68c122aa4b9a8d10df      0\n",
       "...                                          ...    ...\n",
       "190058  1092956a3dad77ceb7e8d7c70e3e13f77b60e2aa      0\n",
       "190059  bec10becca7faa8e9cab9981b3aee5e9a7f04828      0\n",
       "190060  7ac6fc191f8732b1b146e57f9ede983626b93eae      1\n",
       "190061  d592c81971d6120b0d19f9ace85f278ea21b89a0      0\n",
       "190062  9b4f57aeef72cd52c634498d0ea27ea3fbb67bf4      1\n",
       "\n",
       "[190063 rows x 2 columns]"
      ]
     },
     "execution_count": 100,
     "metadata": {},
     "output_type": "execute_result"
    }
   ],
   "source": [
    "submission"
   ]
  },
  {
   "cell_type": "code",
   "execution_count": 101,
   "metadata": {},
   "outputs": [],
   "source": [
    "# 1. Do more feature engineering\n",
    "# 2. Handle the imbalance nature of the predictor class \n",
    "# 3. Use other algorithms\n",
    "# 4. Tune hyperparameters of this model\n",
    "# 5. Handle missing values properly\n",
    "# 6. Any other thing you feel can improve the performance of the model is good to go\n"
   ]
  },
  {
   "cell_type": "markdown",
   "metadata": {},
   "source": [
    "### Good Luck !!!"
   ]
  }
 ],
 "metadata": {
  "kernelspec": {
   "display_name": "Python 3 (ipykernel)",
   "language": "python",
   "name": "python3"
  },
  "language_info": {
   "codemirror_mode": {
    "name": "ipython",
    "version": 3
   },
   "file_extension": ".py",
   "mimetype": "text/x-python",
   "name": "python",
   "nbconvert_exporter": "python",
   "pygments_lexer": "ipython3",
   "version": "3.9.13"
  }
 },
 "nbformat": 4,
 "nbformat_minor": 4
}
