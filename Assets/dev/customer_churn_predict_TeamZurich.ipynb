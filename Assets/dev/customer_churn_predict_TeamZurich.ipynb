{
 "cells": [
  {
   "cell_type": "markdown",
   "metadata": {},
   "source": [
    "### PROJECT DESCRIPTION\n",
    "\n",
    "This project is for an African telecommunications company that provides customers with airtime and mobile data bundles. The objective of this project is to develop a machine learning model to predict the likelihood of each customer “churning,” i.e. becoming inactive and not making any transactions for 90 days.\n",
    "\n",
    "This solution will help this telecom company to better serve their customers by understanding which customers are at risk of leaving\n",
    "\n",
    "This solution will help this telecom company to better serve its customers by understanding which customers are at risk of leaving"
   ]
  },
  {
   "cell_type": "markdown",
   "metadata": {},
   "source": [
    "### HYPOTHESIS FORMULATION"
   ]
  },
  {
   "cell_type": "markdown",
   "metadata": {},
   "source": [
    "### GUIDING QUESTIONS"
   ]
  },
  {
   "cell_type": "markdown",
   "metadata": {},
   "source": [
    "### IMPORT PACKAGES"
   ]
  },
  {
   "cell_type": "code",
   "execution_count": 6,
   "metadata": {},
   "outputs": [
    {
     "data": {
      "text/plain": [
       "<Figure size 1000x400 with 0 Axes>"
      ]
     },
     "metadata": {},
     "output_type": "display_data"
    }
   ],
   "source": [
    "#Import libraries\n",
    "import pandas as pd\n",
    "import numpy as np\n",
    "import matplotlib.pyplot as plt\n",
    "from pylab import rcParams\n",
    "\n",
    "# Import pandas and numpy\n",
    "import pandas as pd\n",
    "import numpy as np\n",
    "\n",
    "from scipy.stats import ttest_ind\n",
    "\n",
    "# Import matplotlib and seaborn\n",
    "import matplotlib.pyplot as plt\n",
    "import seaborn as sns\n",
    "plt.figure(figsize=(10, 4))\n",
    "plt.style.use(\"fivethirtyeight\")\n",
    "\n",
    "# Import machine learning models\n",
    "from sklearn.ensemble import GradientBoostingClassifier\n",
    "from sklearn.linear_model import LogisticRegression\n",
    "from sklearn.neural_network import MLPClassifier\n",
    "from sklearn.naive_bayes import GaussianNB\n",
    "from sklearn.neighbors import KNeighborsClassifier\n",
    "from sklearn.tree import DecisionTreeClassifier\n",
    "from sklearn.svm import SVC\n",
    "\n",
    "# Import Pipeline, Scaler,Sampler, train_test_split, imputer\n",
    "from sklearn.pipeline import Pipeline\n",
    "from sklearn.preprocessing import StandardScaler\n",
    "from imblearn.over_sampling import RandomOverSampler\n",
    "from imblearn.under_sampling import RandomUnderSampler\n",
    "from sklearn.model_selection import train_test_split\n",
    "from sklearn.impute import SimpleImputer\n",
    "from imblearn.combine import SMOTEENN \n",
    "\n",
    "# Import Encoders\n",
    "from sklearn.preprocessing import LabelEncoder\n",
    "import category_encoders as ce\n",
    "from category_encoders import BinaryEncoder\n",
    "from sklearn.preprocessing import OrdinalEncoder, OneHotEncoder\n",
    "\n",
    "# import metrics\n",
    "from sklearn.metrics import recall_score, mean_squared_log_error\n",
    "from sklearn.metrics import precision_score\n",
    "from sklearn.metrics import accuracy_score\n",
    "from sklearn.metrics import f1_score\n",
    "from sklearn.model_selection import GridSearchCV, cross_val_predict\n",
    "from sklearn.metrics import average_precision_score\n",
    "from sklearn.metrics import precision_recall_curve\n",
    "from sklearn.metrics import roc_curve, auc\n",
    "from sklearn.metrics import confusion_matrix, classification_report, roc_curve, roc_auc_score\n",
    "\n",
    "import os, pickle, joblib\n",
    "%matplotlib inline\n",
    "\n",
    "import warnings\n",
    "warnings.filterwarnings('ignore', message='The default value of numeric_only in DataFrame.corr is deprecated')\n",
    "\n"
   ]
  },
  {
   "cell_type": "code",
   "execution_count": 2,
   "metadata": {},
   "outputs": [],
   "source": [
    "#import data\n",
    "\n",
    "train = pd.read_csv(\"C:\\\\Users\\\\elvis_d\\DATA_ANALYTICS\\\\DATA_ANALYTICS_TRAINING\\\\PROJECT_PHASE\\\\Capstone Project\\\\datasets and notebooks\\\\Train.csv\")\n",
    "test = pd.read_csv(\"C:\\\\Users\\\\elvis_d\\DATA_ANALYTICS\\\\DATA_ANALYTICS_TRAINING\\\\PROJECT_PHASE\\\\Capstone Project\\\\datasets and notebooks\\\\Test.csv\")"
   ]
  },
  {
   "cell_type": "markdown",
   "metadata": {},
   "source": [
    "### EXPLORATORY DATA ANALYSIS"
   ]
  },
  {
   "cell_type": "code",
   "execution_count": 16,
   "metadata": {},
   "outputs": [
    {
     "data": {
      "text/html": [
       "<div>\n",
       "<style scoped>\n",
       "    .dataframe tbody tr th:only-of-type {\n",
       "        vertical-align: middle;\n",
       "    }\n",
       "\n",
       "    .dataframe tbody tr th {\n",
       "        vertical-align: top;\n",
       "    }\n",
       "\n",
       "    .dataframe thead th {\n",
       "        text-align: right;\n",
       "    }\n",
       "</style>\n",
       "<table border=\"1\" class=\"dataframe\">\n",
       "  <thead>\n",
       "    <tr style=\"text-align: right;\">\n",
       "      <th></th>\n",
       "      <th>user_id</th>\n",
       "      <th>REGION</th>\n",
       "      <th>TENURE</th>\n",
       "      <th>MONTANT</th>\n",
       "      <th>FREQUENCE_RECH</th>\n",
       "      <th>REVENUE</th>\n",
       "      <th>ARPU_SEGMENT</th>\n",
       "      <th>FREQUENCE</th>\n",
       "      <th>DATA_VOLUME</th>\n",
       "      <th>ON_NET</th>\n",
       "      <th>ORANGE</th>\n",
       "      <th>TIGO</th>\n",
       "      <th>ZONE1</th>\n",
       "      <th>ZONE2</th>\n",
       "      <th>MRG</th>\n",
       "      <th>REGULARITY</th>\n",
       "      <th>TOP_PACK</th>\n",
       "      <th>FREQ_TOP_PACK</th>\n",
       "      <th>CHURN</th>\n",
       "    </tr>\n",
       "  </thead>\n",
       "  <tbody>\n",
       "    <tr>\n",
       "      <th>711285</th>\n",
       "      <td>abd7d23840b364fbb894cbe4d61770f1d3f040a6</td>\n",
       "      <td>THIES</td>\n",
       "      <td>K &gt; 24 month</td>\n",
       "      <td>NaN</td>\n",
       "      <td>NaN</td>\n",
       "      <td>NaN</td>\n",
       "      <td>NaN</td>\n",
       "      <td>NaN</td>\n",
       "      <td>0.0</td>\n",
       "      <td>NaN</td>\n",
       "      <td>NaN</td>\n",
       "      <td>NaN</td>\n",
       "      <td>NaN</td>\n",
       "      <td>NaN</td>\n",
       "      <td>NO</td>\n",
       "      <td>17</td>\n",
       "      <td>NaN</td>\n",
       "      <td>NaN</td>\n",
       "      <td>0</td>\n",
       "    </tr>\n",
       "    <tr>\n",
       "      <th>997846</th>\n",
       "      <td>62f40514bc6aa3ab17c23826a4f3a2f7803cbfd0</td>\n",
       "      <td>NaN</td>\n",
       "      <td>K &gt; 24 month</td>\n",
       "      <td>1500.0</td>\n",
       "      <td>8.0</td>\n",
       "      <td>1500.0</td>\n",
       "      <td>500.0</td>\n",
       "      <td>8.0</td>\n",
       "      <td>331.0</td>\n",
       "      <td>129.0</td>\n",
       "      <td>13.0</td>\n",
       "      <td>14.0</td>\n",
       "      <td>NaN</td>\n",
       "      <td>NaN</td>\n",
       "      <td>NO</td>\n",
       "      <td>14</td>\n",
       "      <td>On net 200F=Unlimited _call24H</td>\n",
       "      <td>2.0</td>\n",
       "      <td>1</td>\n",
       "    </tr>\n",
       "    <tr>\n",
       "      <th>873285</th>\n",
       "      <td>b55cb83b75d434356a763372b4c97fed7dbd12cf</td>\n",
       "      <td>TAMBACOUNDA</td>\n",
       "      <td>K &gt; 24 month</td>\n",
       "      <td>7100.0</td>\n",
       "      <td>22.0</td>\n",
       "      <td>7605.0</td>\n",
       "      <td>2535.0</td>\n",
       "      <td>28.0</td>\n",
       "      <td>NaN</td>\n",
       "      <td>831.0</td>\n",
       "      <td>241.0</td>\n",
       "      <td>2.0</td>\n",
       "      <td>NaN</td>\n",
       "      <td>NaN</td>\n",
       "      <td>NO</td>\n",
       "      <td>43</td>\n",
       "      <td>On net 200F=Unlimited _call24H</td>\n",
       "      <td>19.0</td>\n",
       "      <td>0</td>\n",
       "    </tr>\n",
       "    <tr>\n",
       "      <th>945973</th>\n",
       "      <td>30e3ea3226549dfe5523fa86551d4fe7da81fded</td>\n",
       "      <td>NaN</td>\n",
       "      <td>K &gt; 24 month</td>\n",
       "      <td>NaN</td>\n",
       "      <td>NaN</td>\n",
       "      <td>NaN</td>\n",
       "      <td>NaN</td>\n",
       "      <td>NaN</td>\n",
       "      <td>0.0</td>\n",
       "      <td>NaN</td>\n",
       "      <td>NaN</td>\n",
       "      <td>NaN</td>\n",
       "      <td>NaN</td>\n",
       "      <td>NaN</td>\n",
       "      <td>NO</td>\n",
       "      <td>36</td>\n",
       "      <td>NaN</td>\n",
       "      <td>NaN</td>\n",
       "      <td>0</td>\n",
       "    </tr>\n",
       "    <tr>\n",
       "      <th>1063939</th>\n",
       "      <td>6c26d321fb2373c47765b36284d11f7e90339890</td>\n",
       "      <td>MATAM</td>\n",
       "      <td>K &gt; 24 month</td>\n",
       "      <td>NaN</td>\n",
       "      <td>NaN</td>\n",
       "      <td>NaN</td>\n",
       "      <td>NaN</td>\n",
       "      <td>NaN</td>\n",
       "      <td>NaN</td>\n",
       "      <td>NaN</td>\n",
       "      <td>NaN</td>\n",
       "      <td>NaN</td>\n",
       "      <td>NaN</td>\n",
       "      <td>NaN</td>\n",
       "      <td>NO</td>\n",
       "      <td>7</td>\n",
       "      <td>NaN</td>\n",
       "      <td>NaN</td>\n",
       "      <td>0</td>\n",
       "    </tr>\n",
       "  </tbody>\n",
       "</table>\n",
       "</div>"
      ],
      "text/plain": [
       "                                          user_id       REGION        TENURE  \\\n",
       "711285   abd7d23840b364fbb894cbe4d61770f1d3f040a6        THIES  K > 24 month   \n",
       "997846   62f40514bc6aa3ab17c23826a4f3a2f7803cbfd0          NaN  K > 24 month   \n",
       "873285   b55cb83b75d434356a763372b4c97fed7dbd12cf  TAMBACOUNDA  K > 24 month   \n",
       "945973   30e3ea3226549dfe5523fa86551d4fe7da81fded          NaN  K > 24 month   \n",
       "1063939  6c26d321fb2373c47765b36284d11f7e90339890        MATAM  K > 24 month   \n",
       "\n",
       "         MONTANT  FREQUENCE_RECH  REVENUE  ARPU_SEGMENT  FREQUENCE  \\\n",
       "711285       NaN             NaN      NaN           NaN        NaN   \n",
       "997846    1500.0             8.0   1500.0         500.0        8.0   \n",
       "873285    7100.0            22.0   7605.0        2535.0       28.0   \n",
       "945973       NaN             NaN      NaN           NaN        NaN   \n",
       "1063939      NaN             NaN      NaN           NaN        NaN   \n",
       "\n",
       "         DATA_VOLUME  ON_NET  ORANGE  TIGO  ZONE1  ZONE2 MRG  REGULARITY  \\\n",
       "711285           0.0     NaN     NaN   NaN    NaN    NaN  NO          17   \n",
       "997846         331.0   129.0    13.0  14.0    NaN    NaN  NO          14   \n",
       "873285           NaN   831.0   241.0   2.0    NaN    NaN  NO          43   \n",
       "945973           0.0     NaN     NaN   NaN    NaN    NaN  NO          36   \n",
       "1063939          NaN     NaN     NaN   NaN    NaN    NaN  NO           7   \n",
       "\n",
       "                               TOP_PACK  FREQ_TOP_PACK  CHURN  \n",
       "711285                              NaN            NaN      0  \n",
       "997846   On net 200F=Unlimited _call24H            2.0      1  \n",
       "873285   On net 200F=Unlimited _call24H           19.0      0  \n",
       "945973                              NaN            NaN      0  \n",
       "1063939                             NaN            NaN      0  "
      ]
     },
     "execution_count": 16,
     "metadata": {},
     "output_type": "execute_result"
    }
   ],
   "source": [
    "# check samples of train data\n",
    "\n",
    "pd.options.display.max_columns = None\n",
    "train.sample(5, random_state=1)"
   ]
  },
  {
   "cell_type": "code",
   "execution_count": 17,
   "metadata": {},
   "outputs": [
    {
     "name": "stdout",
     "output_type": "stream",
     "text": [
      "train dataframe shape: (1077024, 19)\n"
     ]
    }
   ],
   "source": [
    "# Check shape of train data\n",
    "\n",
    "print(f\"train dataframe shape: {train.shape}\")"
   ]
  },
  {
   "cell_type": "code",
   "execution_count": 6,
   "metadata": {},
   "outputs": [
    {
     "name": "stdout",
     "output_type": "stream",
     "text": [
      "<class 'pandas.core.frame.DataFrame'>\n",
      "RangeIndex: 1077024 entries, 0 to 1077023\n",
      "Data columns (total 19 columns):\n",
      " #   Column          Non-Null Count    Dtype  \n",
      "---  ------          --------------    -----  \n",
      " 0   user_id         1077024 non-null  object \n",
      " 1   REGION          652687 non-null   object \n",
      " 2   TENURE          1077024 non-null  object \n",
      " 3   MONTANT         699139 non-null   float64\n",
      " 4   FREQUENCE_RECH  699139 non-null   float64\n",
      " 5   REVENUE         714669 non-null   float64\n",
      " 6   ARPU_SEGMENT    714669 non-null   float64\n",
      " 7   FREQUENCE       714669 non-null   float64\n",
      " 8   DATA_VOLUME     547261 non-null   float64\n",
      " 9   ON_NET          683850 non-null   float64\n",
      " 10  ORANGE          629880 non-null   float64\n",
      " 11  TIGO            432250 non-null   float64\n",
      " 12  ZONE1           84898 non-null    float64\n",
      " 13  ZONE2           68794 non-null    float64\n",
      " 14  MRG             1077024 non-null  object \n",
      " 15  REGULARITY      1077024 non-null  int64  \n",
      " 16  TOP_PACK        626129 non-null   object \n",
      " 17  FREQ_TOP_PACK   626129 non-null   float64\n",
      " 18  CHURN           1077024 non-null  int64  \n",
      "dtypes: float64(12), int64(2), object(5)\n",
      "memory usage: 156.1+ MB\n"
     ]
    }
   ],
   "source": [
    "# Check the basic info in the train data\n",
    "\n",
    "train.info()"
   ]
  },
  {
   "cell_type": "code",
   "execution_count": 18,
   "metadata": {},
   "outputs": [
    {
     "data": {
      "text/plain": [
       "user_id                 0\n",
       "REGION             424337\n",
       "TENURE                  0\n",
       "MONTANT            377885\n",
       "FREQUENCE_RECH     377885\n",
       "REVENUE            362355\n",
       "ARPU_SEGMENT       362355\n",
       "FREQUENCE          362355\n",
       "DATA_VOLUME        529763\n",
       "ON_NET             393174\n",
       "ORANGE             447144\n",
       "TIGO               644774\n",
       "ZONE1              992126\n",
       "ZONE2             1008230\n",
       "MRG                     0\n",
       "REGULARITY              0\n",
       "TOP_PACK           450895\n",
       "FREQ_TOP_PACK      450895\n",
       "CHURN                   0\n",
       "dtype: int64"
      ]
     },
     "execution_count": 18,
     "metadata": {},
     "output_type": "execute_result"
    }
   ],
   "source": [
    "# Check for null values in the train data\n",
    "\n",
    "train.isnull().sum()"
   ]
  },
  {
   "cell_type": "markdown",
   "metadata": {},
   "source": [
    "There are occurrences of null values in the train data"
   ]
  },
  {
   "cell_type": "code",
   "execution_count": 19,
   "metadata": {},
   "outputs": [
    {
     "data": {
      "text/plain": [
       "False"
      ]
     },
     "execution_count": 19,
     "metadata": {},
     "output_type": "execute_result"
    }
   ],
   "source": [
    "# Check for duplicated values\n",
    "\n",
    "train.duplicated().any()"
   ]
  },
  {
   "cell_type": "markdown",
   "metadata": {},
   "source": [
    "There are no duplicated values in the train data"
   ]
  },
  {
   "cell_type": "code",
   "execution_count": 20,
   "metadata": {},
   "outputs": [
    {
     "data": {
      "text/html": [
       "<div>\n",
       "<style scoped>\n",
       "    .dataframe tbody tr th:only-of-type {\n",
       "        vertical-align: middle;\n",
       "    }\n",
       "\n",
       "    .dataframe tbody tr th {\n",
       "        vertical-align: top;\n",
       "    }\n",
       "\n",
       "    .dataframe thead th {\n",
       "        text-align: right;\n",
       "    }\n",
       "</style>\n",
       "<table border=\"1\" class=\"dataframe\">\n",
       "  <thead>\n",
       "    <tr style=\"text-align: right;\">\n",
       "      <th></th>\n",
       "      <th>user_id</th>\n",
       "      <th>REGION</th>\n",
       "      <th>TENURE</th>\n",
       "      <th>MONTANT</th>\n",
       "      <th>FREQUENCE_RECH</th>\n",
       "      <th>REVENUE</th>\n",
       "      <th>ARPU_SEGMENT</th>\n",
       "      <th>FREQUENCE</th>\n",
       "      <th>DATA_VOLUME</th>\n",
       "      <th>ON_NET</th>\n",
       "      <th>ORANGE</th>\n",
       "      <th>TIGO</th>\n",
       "      <th>ZONE1</th>\n",
       "      <th>ZONE2</th>\n",
       "      <th>MRG</th>\n",
       "      <th>REGULARITY</th>\n",
       "      <th>TOP_PACK</th>\n",
       "      <th>FREQ_TOP_PACK</th>\n",
       "    </tr>\n",
       "  </thead>\n",
       "  <tbody>\n",
       "    <tr>\n",
       "      <th>62537</th>\n",
       "      <td>d3ec96b1f11e9a4a788bd458a96b58182bb8d5c6</td>\n",
       "      <td>DAKAR</td>\n",
       "      <td>K &gt; 24 month</td>\n",
       "      <td>4500.0</td>\n",
       "      <td>5.0</td>\n",
       "      <td>4133.0</td>\n",
       "      <td>1378.0</td>\n",
       "      <td>13.0</td>\n",
       "      <td>7169.0</td>\n",
       "      <td>NaN</td>\n",
       "      <td>4.0</td>\n",
       "      <td>1.0</td>\n",
       "      <td>NaN</td>\n",
       "      <td>NaN</td>\n",
       "      <td>NO</td>\n",
       "      <td>62</td>\n",
       "      <td>Data:1000F=2GB,30d</td>\n",
       "      <td>3.0</td>\n",
       "    </tr>\n",
       "    <tr>\n",
       "      <th>132297</th>\n",
       "      <td>33cdd4f7286913d3e4268ecd28c94f5beeebdb87</td>\n",
       "      <td>THIES</td>\n",
       "      <td>K &gt; 24 month</td>\n",
       "      <td>6000.0</td>\n",
       "      <td>12.0</td>\n",
       "      <td>7034.0</td>\n",
       "      <td>2345.0</td>\n",
       "      <td>18.0</td>\n",
       "      <td>NaN</td>\n",
       "      <td>140.0</td>\n",
       "      <td>101.0</td>\n",
       "      <td>42.0</td>\n",
       "      <td>2.0</td>\n",
       "      <td>NaN</td>\n",
       "      <td>NO</td>\n",
       "      <td>60</td>\n",
       "      <td>All-net 500F=2000F;5d</td>\n",
       "      <td>11.0</td>\n",
       "    </tr>\n",
       "    <tr>\n",
       "      <th>38461</th>\n",
       "      <td>4281a1d45f12aa2581da28b16d33ab341ed1a694</td>\n",
       "      <td>NaN</td>\n",
       "      <td>K &gt; 24 month</td>\n",
       "      <td>NaN</td>\n",
       "      <td>NaN</td>\n",
       "      <td>NaN</td>\n",
       "      <td>NaN</td>\n",
       "      <td>NaN</td>\n",
       "      <td>NaN</td>\n",
       "      <td>NaN</td>\n",
       "      <td>NaN</td>\n",
       "      <td>NaN</td>\n",
       "      <td>NaN</td>\n",
       "      <td>NaN</td>\n",
       "      <td>NO</td>\n",
       "      <td>10</td>\n",
       "      <td>NaN</td>\n",
       "      <td>NaN</td>\n",
       "    </tr>\n",
       "    <tr>\n",
       "      <th>144589</th>\n",
       "      <td>1553a465555eeda18b103ccc06a57fa507dc0cc3</td>\n",
       "      <td>DAKAR</td>\n",
       "      <td>I 18-21 month</td>\n",
       "      <td>500.0</td>\n",
       "      <td>1.0</td>\n",
       "      <td>500.0</td>\n",
       "      <td>167.0</td>\n",
       "      <td>1.0</td>\n",
       "      <td>NaN</td>\n",
       "      <td>18.0</td>\n",
       "      <td>12.0</td>\n",
       "      <td>NaN</td>\n",
       "      <td>NaN</td>\n",
       "      <td>NaN</td>\n",
       "      <td>NO</td>\n",
       "      <td>32</td>\n",
       "      <td>All-net 500F=2000F;5d</td>\n",
       "      <td>1.0</td>\n",
       "    </tr>\n",
       "    <tr>\n",
       "      <th>179963</th>\n",
       "      <td>cfdc33ebf6b0f6e815467bbd8c1957dd8471b8d9</td>\n",
       "      <td>DAKAR</td>\n",
       "      <td>K &gt; 24 month</td>\n",
       "      <td>19400.0</td>\n",
       "      <td>23.0</td>\n",
       "      <td>19598.0</td>\n",
       "      <td>6533.0</td>\n",
       "      <td>27.0</td>\n",
       "      <td>8040.0</td>\n",
       "      <td>2.0</td>\n",
       "      <td>2.0</td>\n",
       "      <td>NaN</td>\n",
       "      <td>NaN</td>\n",
       "      <td>49.0</td>\n",
       "      <td>NO</td>\n",
       "      <td>34</td>\n",
       "      <td>Data: 200 F=100MB,24H</td>\n",
       "      <td>9.0</td>\n",
       "    </tr>\n",
       "  </tbody>\n",
       "</table>\n",
       "</div>"
      ],
      "text/plain": [
       "                                         user_id REGION         TENURE  \\\n",
       "62537   d3ec96b1f11e9a4a788bd458a96b58182bb8d5c6  DAKAR   K > 24 month   \n",
       "132297  33cdd4f7286913d3e4268ecd28c94f5beeebdb87  THIES   K > 24 month   \n",
       "38461   4281a1d45f12aa2581da28b16d33ab341ed1a694    NaN   K > 24 month   \n",
       "144589  1553a465555eeda18b103ccc06a57fa507dc0cc3  DAKAR  I 18-21 month   \n",
       "179963  cfdc33ebf6b0f6e815467bbd8c1957dd8471b8d9  DAKAR   K > 24 month   \n",
       "\n",
       "        MONTANT  FREQUENCE_RECH  REVENUE  ARPU_SEGMENT  FREQUENCE  \\\n",
       "62537    4500.0             5.0   4133.0        1378.0       13.0   \n",
       "132297   6000.0            12.0   7034.0        2345.0       18.0   \n",
       "38461       NaN             NaN      NaN           NaN        NaN   \n",
       "144589    500.0             1.0    500.0         167.0        1.0   \n",
       "179963  19400.0            23.0  19598.0        6533.0       27.0   \n",
       "\n",
       "        DATA_VOLUME  ON_NET  ORANGE  TIGO  ZONE1  ZONE2 MRG  REGULARITY  \\\n",
       "62537        7169.0     NaN     4.0   1.0    NaN    NaN  NO          62   \n",
       "132297          NaN   140.0   101.0  42.0    2.0    NaN  NO          60   \n",
       "38461           NaN     NaN     NaN   NaN    NaN    NaN  NO          10   \n",
       "144589          NaN    18.0    12.0   NaN    NaN    NaN  NO          32   \n",
       "179963       8040.0     2.0     2.0   NaN    NaN   49.0  NO          34   \n",
       "\n",
       "                     TOP_PACK  FREQ_TOP_PACK  \n",
       "62537      Data:1000F=2GB,30d            3.0  \n",
       "132297  All-net 500F=2000F;5d           11.0  \n",
       "38461                     NaN            NaN  \n",
       "144589  All-net 500F=2000F;5d            1.0  \n",
       "179963  Data: 200 F=100MB,24H            9.0  "
      ]
     },
     "execution_count": 20,
     "metadata": {},
     "output_type": "execute_result"
    }
   ],
   "source": [
    "# Check sample of test data\n",
    "\n",
    "test.sample(5, random_state=1)"
   ]
  },
  {
   "cell_type": "code",
   "execution_count": 21,
   "metadata": {},
   "outputs": [
    {
     "name": "stdout",
     "output_type": "stream",
     "text": [
      "train dataframe shape: (190063, 18)\n"
     ]
    }
   ],
   "source": [
    "# Check shape of test data\n",
    "\n",
    "print(f\"train dataframe shape: {test.shape}\")"
   ]
  },
  {
   "cell_type": "code",
   "execution_count": 22,
   "metadata": {},
   "outputs": [
    {
     "name": "stdout",
     "output_type": "stream",
     "text": [
      "<class 'pandas.core.frame.DataFrame'>\n",
      "RangeIndex: 190063 entries, 0 to 190062\n",
      "Data columns (total 18 columns):\n",
      " #   Column          Non-Null Count   Dtype  \n",
      "---  ------          --------------   -----  \n",
      " 0   user_id         190063 non-null  object \n",
      " 1   REGION          115330 non-null  object \n",
      " 2   TENURE          190063 non-null  object \n",
      " 3   MONTANT         123695 non-null  float64\n",
      " 4   FREQUENCE_RECH  123695 non-null  float64\n",
      " 5   REVENUE         126422 non-null  float64\n",
      " 6   ARPU_SEGMENT    126422 non-null  float64\n",
      " 7   FREQUENCE       126422 non-null  float64\n",
      " 8   DATA_VOLUME     96716 non-null   float64\n",
      " 9   ON_NET          120771 non-null  float64\n",
      " 10  ORANGE          111417 non-null  float64\n",
      " 11  TIGO            76555 non-null   float64\n",
      " 12  ZONE1           14850 non-null   float64\n",
      " 13  ZONE2           12011 non-null   float64\n",
      " 14  MRG             190063 non-null  object \n",
      " 15  REGULARITY      190063 non-null  int64  \n",
      " 16  TOP_PACK        110773 non-null  object \n",
      " 17  FREQ_TOP_PACK   110773 non-null  float64\n",
      "dtypes: float64(12), int64(1), object(5)\n",
      "memory usage: 26.1+ MB\n"
     ]
    }
   ],
   "source": [
    "# Check basic info of test data\n",
    "\n",
    "test.info()"
   ]
  },
  {
   "cell_type": "code",
   "execution_count": 23,
   "metadata": {},
   "outputs": [
    {
     "data": {
      "text/plain": [
       "user_id                0\n",
       "REGION             74733\n",
       "TENURE                 0\n",
       "MONTANT            66368\n",
       "FREQUENCE_RECH     66368\n",
       "REVENUE            63641\n",
       "ARPU_SEGMENT       63641\n",
       "FREQUENCE          63641\n",
       "DATA_VOLUME        93347\n",
       "ON_NET             69292\n",
       "ORANGE             78646\n",
       "TIGO              113508\n",
       "ZONE1             175213\n",
       "ZONE2             178052\n",
       "MRG                    0\n",
       "REGULARITY             0\n",
       "TOP_PACK           79290\n",
       "FREQ_TOP_PACK      79290\n",
       "dtype: int64"
      ]
     },
     "execution_count": 23,
     "metadata": {},
     "output_type": "execute_result"
    }
   ],
   "source": [
    "# Check for null values in the test data\n",
    "\n",
    "test.isnull().sum()"
   ]
  },
  {
   "cell_type": "markdown",
   "metadata": {},
   "source": [
    "There are null values in the test data"
   ]
  },
  {
   "cell_type": "code",
   "execution_count": 24,
   "metadata": {},
   "outputs": [
    {
     "data": {
      "text/plain": [
       "False"
      ]
     },
     "execution_count": 24,
     "metadata": {},
     "output_type": "execute_result"
    }
   ],
   "source": [
    "# Check for duplicates in test data\n",
    "\n",
    "train.duplicated().any()"
   ]
  },
  {
   "cell_type": "markdown",
   "metadata": {},
   "source": [
    "There are no duplicates in the test data"
   ]
  },
  {
   "cell_type": "markdown",
   "metadata": {},
   "source": [
    "### Univariate Analysis"
   ]
  },
  {
   "cell_type": "code",
   "execution_count": null,
   "metadata": {},
   "outputs": [],
   "source": []
  },
  {
   "cell_type": "code",
   "execution_count": 7,
   "metadata": {},
   "outputs": [
    {
     "name": "stdout",
     "output_type": "stream",
     "text": [
      "DAKAR          256259\n",
      "THIES           90171\n",
      "SAINT-LOUIS     59895\n",
      "LOUGA           49679\n",
      "KAOLACK         48498\n",
      "DIOURBEL        33564\n",
      "TAMBACOUNDA     27562\n",
      "KAFFRINE        22067\n",
      "KOLDA           19464\n",
      "FATICK          17775\n",
      "MATAM           14650\n",
      "ZIGUINCHOR      11036\n",
      "SEDHIOU          1553\n",
      "KEDOUGOU          514\n",
      "Name: REGION, dtype: int64\n"
     ]
    },
    {
     "data": {
      "text/plain": [
       "Text(0.5, 0, 'REGION')"
      ]
     },
     "execution_count": 7,
     "metadata": {},
     "output_type": "execute_result"
    },
    {
     "data": {
      "image/png": "[encoded data removed]",
      "text/plain": [
       "<Figure size 1000x500 with 1 Axes>"
      ]
     },
     "metadata": {},
     "output_type": "display_data"
    }
   ],
   "source": [
    "# Check  value counts of region\n",
    "\n",
    "print(train['REGION'].value_counts())\n",
    "plt.figure(figsize=(10,5))\n",
    "train['REGION'].value_counts(normalize=True).plot(kind='bar')\n",
    "plt.ylabel('counts')\n",
    "plt.xlabel('REGION')"
   ]
  },
  {
   "cell_type": "markdown",
   "metadata": {},
   "source": [
    "#### Note\n",
    "The top five cities with the highest concentration of customers were ;\n",
    "\n",
    "DAKAR       -    256259<br />\n",
    "THIES       -    90171<br />\n",
    "SAINT LOUIS -    59895<br />\n",
    "LOUGA       -   49679<br />\n",
    "KAOLACK     -   48498<br />"
   ]
  },
  {
   "cell_type": "code",
   "execution_count": 8,
   "metadata": {},
   "outputs": [
    {
     "name": "stdout",
     "output_type": "stream",
     "text": [
      "K > 24 month     1021853\n",
      "I 18-21 month      22494\n",
      "H 15-18 month      12913\n",
      "G 12-15 month       7520\n",
      "J 21-24 month       6324\n",
      "F 9-12 month        4604\n",
      "E 6-9 month          929\n",
      "D 3-6 month          387\n",
      "Name: TENURE, dtype: int64\n"
     ]
    },
    {
     "data": {
      "text/plain": [
       "Text(0.5, 0, 'TENURE')"
      ]
     },
     "execution_count": 8,
     "metadata": {},
     "output_type": "execute_result"
    },
    {
     "data": {
      "image/png": "[encoded data removed]",
      "text/plain": [
       "<Figure size 1000x500 with 1 Axes>"
      ]
     },
     "metadata": {},
     "output_type": "display_data"
    }
   ],
   "source": [
    "# Check the value count of TENURE\n",
    "\n",
    "print(train['TENURE'].value_counts())\n",
    "plt.figure(figsize=(10,5))\n",
    "train['TENURE'].value_counts(normalize=True).plot(kind='bar')\n",
    "plt.ylabel('counts')\n",
    "plt.xlabel('TENURE')"
   ]
  },
  {
   "cell_type": "code",
   "execution_count": 9,
   "metadata": {},
   "outputs": [
    {
     "name": "stdout",
     "output_type": "stream",
     "text": [
      "NO    1077024\n",
      "Name: MRG, dtype: int64\n"
     ]
    },
    {
     "data": {
      "text/plain": [
       "Text(0.5, 0, 'MRG')"
      ]
     },
     "execution_count": 9,
     "metadata": {},
     "output_type": "execute_result"
    },
    {
     "data": {
      "image/png": "[encoded data removed]",
      "text/plain": [
       "<Figure size 1000x500 with 1 Axes>"
      ]
     },
     "metadata": {},
     "output_type": "display_data"
    }
   ],
   "source": [
    "# Check the value count MRG\n",
    "\n",
    "print(train['MRG'].value_counts())\n",
    "plt.figure(figsize=(10,5))\n",
    "train['MRG'].value_counts(normalize=True).plot(kind='bar')\n",
    "plt.ylabel('counts')\n",
    "plt.xlabel('MRG')"
   ]
  },
  {
   "cell_type": "code",
   "execution_count": 17,
   "metadata": {},
   "outputs": [
    {
     "name": "stdout",
     "output_type": "stream",
     "text": [
      "The top 20 Top Pack packages are :\n",
      "All-net 500F=2000F;5d                        158779\n",
      "On net 200F=Unlimited _call24H                76302\n",
      "Data:490F=1GB,7d                              57679\n",
      "Data: 100 F=40MB,24H                          42515\n",
      "Mixt 250F=Unlimited_call24H                   33620\n",
      "MIXT:500F= 2500F on net _2500F off net;2d     32164\n",
      "Data:1000F=2GB,30d                            29982\n",
      "All-net 500F =2000F_AllNet_Unlimited          23476\n",
      "Jokko_Daily                                   22548\n",
      "Data: 200 F=100MB,24H                         21515\n",
      "IVR Echat_Daily_50F                           14316\n",
      "On-net 500=4000,10d                           13371\n",
      "On-net 500F_FNF;3d                            11089\n",
      "Data:200F=Unlimited,24H                       10986\n",
      "MIXT: 200mnoff net _unl on net _5Go;30d        9612\n",
      "On-net 1000F=10MilF;10d                        9302\n",
      "Data:1000F=5GB,7d                              7470\n",
      "VAS(IVR_Radio_Daily)                           7376\n",
      "Twter_U2opia_Daily                             5900\n",
      "All-net 600F= 3000F ;5d                        5290\n",
      "Name: TOP_PACK, dtype: int64\n"
     ]
    },
    {
     "data": {
      "text/plain": [
       "Text(0.5, 0, 'TOP_PACK')"
      ]
     },
     "execution_count": 17,
     "metadata": {},
     "output_type": "execute_result"
    },
    {
     "data": {
      "image/png": "[encoded data removed]",
      "text/plain": [
       "<Figure size 1000x500 with 1 Axes>"
      ]
     },
     "metadata": {},
     "output_type": "display_data"
    }
   ],
   "source": [
    "# Check the top 20 most active packs (TOP_PACK)\n",
    "\n",
    "print(\"The top 20 Top Pack packages are :\") \n",
    "print(train['TOP_PACK'].value_counts().head(20))\n",
    "plt.figure(figsize=(10,5))\n",
    "\n",
    "top_pack = train['TOP_PACK'].value_counts(normalize=True).head(20)\n",
    "top_pack.plot(kind='bar')\n",
    "plt.ylabel('counts')\n",
    "plt.xlabel('TOP_PACK')"
   ]
  },
  {
   "cell_type": "code",
   "execution_count": 5,
   "metadata": {},
   "outputs": [
    {
     "name": "stdout",
     "output_type": "stream",
     "text": [
      "0    875031\n",
      "1    201993\n",
      "Name: CHURN, dtype: int64\n"
     ]
    },
    {
     "data": {
      "text/plain": [
       "Text(0.5, 0, 'Churn')"
      ]
     },
     "execution_count": 5,
     "metadata": {},
     "output_type": "execute_result"
    },
    {
     "data": {
      "image/png": "[encoded data removed]",
      "text/plain": [
       "<Figure size 1000x500 with 1 Axes>"
      ]
     },
     "metadata": {},
     "output_type": "display_data"
    }
   ],
   "source": [
    "#Check if the predictor class is balanced \n",
    "\n",
    "print(train['CHURN'].value_counts())\n",
    "plt.figure(figsize=(10,5))\n",
    "train['CHURN'].value_counts(normalize=True).plot(kind='bar')\n",
    "plt.ylabel('counts')\n",
    "plt.xlabel('Churn')"
   ]
  },
  {
   "cell_type": "code",
   "execution_count": 19,
   "metadata": {},
   "outputs": [
    {
     "data": {
      "text/html": [
       "<div>\n",
       "<style scoped>\n",
       "    .dataframe tbody tr th:only-of-type {\n",
       "        vertical-align: middle;\n",
       "    }\n",
       "\n",
       "    .dataframe tbody tr th {\n",
       "        vertical-align: top;\n",
       "    }\n",
       "\n",
       "    .dataframe thead th {\n",
       "        text-align: right;\n",
       "    }\n",
       "</style>\n",
       "<table border=\"1\" class=\"dataframe\">\n",
       "  <thead>\n",
       "    <tr style=\"text-align: right;\">\n",
       "      <th></th>\n",
       "      <th>count</th>\n",
       "      <th>mean</th>\n",
       "      <th>std</th>\n",
       "      <th>min</th>\n",
       "      <th>25%</th>\n",
       "      <th>50%</th>\n",
       "      <th>75%</th>\n",
       "      <th>max</th>\n",
       "    </tr>\n",
       "  </thead>\n",
       "  <tbody>\n",
       "    <tr>\n",
       "      <th>MONTANT</th>\n",
       "      <td>699139.0</td>\n",
       "      <td>5529.210895</td>\n",
       "      <td>7104.737952</td>\n",
       "      <td>20.0</td>\n",
       "      <td>1000.0</td>\n",
       "      <td>3000.0</td>\n",
       "      <td>7350.0</td>\n",
       "      <td>470000.0</td>\n",
       "    </tr>\n",
       "    <tr>\n",
       "      <th>FREQUENCE_RECH</th>\n",
       "      <td>699139.0</td>\n",
       "      <td>11.523756</td>\n",
       "      <td>13.261938</td>\n",
       "      <td>1.0</td>\n",
       "      <td>2.0</td>\n",
       "      <td>7.0</td>\n",
       "      <td>16.0</td>\n",
       "      <td>131.0</td>\n",
       "    </tr>\n",
       "    <tr>\n",
       "      <th>REVENUE</th>\n",
       "      <td>714669.0</td>\n",
       "      <td>5506.050798</td>\n",
       "      <td>7175.625010</td>\n",
       "      <td>1.0</td>\n",
       "      <td>1000.0</td>\n",
       "      <td>3000.0</td>\n",
       "      <td>7360.0</td>\n",
       "      <td>532177.0</td>\n",
       "    </tr>\n",
       "    <tr>\n",
       "      <th>ARPU_SEGMENT</th>\n",
       "      <td>714669.0</td>\n",
       "      <td>1835.355961</td>\n",
       "      <td>2391.870902</td>\n",
       "      <td>0.0</td>\n",
       "      <td>333.0</td>\n",
       "      <td>1000.0</td>\n",
       "      <td>2453.0</td>\n",
       "      <td>177392.0</td>\n",
       "    </tr>\n",
       "    <tr>\n",
       "      <th>FREQUENCE</th>\n",
       "      <td>714669.0</td>\n",
       "      <td>13.974439</td>\n",
       "      <td>14.687059</td>\n",
       "      <td>1.0</td>\n",
       "      <td>3.0</td>\n",
       "      <td>9.0</td>\n",
       "      <td>20.0</td>\n",
       "      <td>91.0</td>\n",
       "    </tr>\n",
       "    <tr>\n",
       "      <th>DATA_VOLUME</th>\n",
       "      <td>547261.0</td>\n",
       "      <td>3368.801722</td>\n",
       "      <td>12898.928039</td>\n",
       "      <td>0.0</td>\n",
       "      <td>0.0</td>\n",
       "      <td>258.0</td>\n",
       "      <td>2905.0</td>\n",
       "      <td>1702309.0</td>\n",
       "    </tr>\n",
       "    <tr>\n",
       "      <th>ON_NET</th>\n",
       "      <td>683850.0</td>\n",
       "      <td>277.065798</td>\n",
       "      <td>874.315378</td>\n",
       "      <td>0.0</td>\n",
       "      <td>5.0</td>\n",
       "      <td>27.0</td>\n",
       "      <td>156.0</td>\n",
       "      <td>50809.0</td>\n",
       "    </tr>\n",
       "    <tr>\n",
       "      <th>ORANGE</th>\n",
       "      <td>629880.0</td>\n",
       "      <td>95.160804</td>\n",
       "      <td>203.020261</td>\n",
       "      <td>0.0</td>\n",
       "      <td>7.0</td>\n",
       "      <td>29.0</td>\n",
       "      <td>99.0</td>\n",
       "      <td>12040.0</td>\n",
       "    </tr>\n",
       "    <tr>\n",
       "      <th>TIGO</th>\n",
       "      <td>432250.0</td>\n",
       "      <td>23.105018</td>\n",
       "      <td>64.035464</td>\n",
       "      <td>0.0</td>\n",
       "      <td>2.0</td>\n",
       "      <td>6.0</td>\n",
       "      <td>20.0</td>\n",
       "      <td>4174.0</td>\n",
       "    </tr>\n",
       "    <tr>\n",
       "      <th>ZONE1</th>\n",
       "      <td>84898.0</td>\n",
       "      <td>8.167483</td>\n",
       "      <td>39.245883</td>\n",
       "      <td>0.0</td>\n",
       "      <td>0.0</td>\n",
       "      <td>1.0</td>\n",
       "      <td>3.0</td>\n",
       "      <td>2507.0</td>\n",
       "    </tr>\n",
       "    <tr>\n",
       "      <th>ZONE2</th>\n",
       "      <td>68794.0</td>\n",
       "      <td>7.709844</td>\n",
       "      <td>36.090513</td>\n",
       "      <td>0.0</td>\n",
       "      <td>0.0</td>\n",
       "      <td>2.0</td>\n",
       "      <td>5.0</td>\n",
       "      <td>3697.0</td>\n",
       "    </tr>\n",
       "    <tr>\n",
       "      <th>REGULARITY</th>\n",
       "      <td>1077024.0</td>\n",
       "      <td>28.044496</td>\n",
       "      <td>22.288610</td>\n",
       "      <td>1.0</td>\n",
       "      <td>6.0</td>\n",
       "      <td>24.0</td>\n",
       "      <td>51.0</td>\n",
       "      <td>62.0</td>\n",
       "    </tr>\n",
       "    <tr>\n",
       "      <th>FREQ_TOP_PACK</th>\n",
       "      <td>626129.0</td>\n",
       "      <td>9.262446</td>\n",
       "      <td>12.242316</td>\n",
       "      <td>1.0</td>\n",
       "      <td>2.0</td>\n",
       "      <td>5.0</td>\n",
       "      <td>12.0</td>\n",
       "      <td>624.0</td>\n",
       "    </tr>\n",
       "    <tr>\n",
       "      <th>CHURN</th>\n",
       "      <td>1077024.0</td>\n",
       "      <td>0.187547</td>\n",
       "      <td>0.390350</td>\n",
       "      <td>0.0</td>\n",
       "      <td>0.0</td>\n",
       "      <td>0.0</td>\n",
       "      <td>0.0</td>\n",
       "      <td>1.0</td>\n",
       "    </tr>\n",
       "  </tbody>\n",
       "</table>\n",
       "</div>"
      ],
      "text/plain": [
       "                    count         mean           std   min     25%     50%  \\\n",
       "MONTANT          699139.0  5529.210895   7104.737952  20.0  1000.0  3000.0   \n",
       "FREQUENCE_RECH   699139.0    11.523756     13.261938   1.0     2.0     7.0   \n",
       "REVENUE          714669.0  5506.050798   7175.625010   1.0  1000.0  3000.0   \n",
       "ARPU_SEGMENT     714669.0  1835.355961   2391.870902   0.0   333.0  1000.0   \n",
       "FREQUENCE        714669.0    13.974439     14.687059   1.0     3.0     9.0   \n",
       "DATA_VOLUME      547261.0  3368.801722  12898.928039   0.0     0.0   258.0   \n",
       "ON_NET           683850.0   277.065798    874.315378   0.0     5.0    27.0   \n",
       "ORANGE           629880.0    95.160804    203.020261   0.0     7.0    29.0   \n",
       "TIGO             432250.0    23.105018     64.035464   0.0     2.0     6.0   \n",
       "ZONE1             84898.0     8.167483     39.245883   0.0     0.0     1.0   \n",
       "ZONE2             68794.0     7.709844     36.090513   0.0     0.0     2.0   \n",
       "REGULARITY      1077024.0    28.044496     22.288610   1.0     6.0    24.0   \n",
       "FREQ_TOP_PACK    626129.0     9.262446     12.242316   1.0     2.0     5.0   \n",
       "CHURN           1077024.0     0.187547      0.390350   0.0     0.0     0.0   \n",
       "\n",
       "                   75%        max  \n",
       "MONTANT         7350.0   470000.0  \n",
       "FREQUENCE_RECH    16.0      131.0  \n",
       "REVENUE         7360.0   532177.0  \n",
       "ARPU_SEGMENT    2453.0   177392.0  \n",
       "FREQUENCE         20.0       91.0  \n",
       "DATA_VOLUME     2905.0  1702309.0  \n",
       "ON_NET           156.0    50809.0  \n",
       "ORANGE            99.0    12040.0  \n",
       "TIGO              20.0     4174.0  \n",
       "ZONE1              3.0     2507.0  \n",
       "ZONE2              5.0     3697.0  \n",
       "REGULARITY        51.0       62.0  \n",
       "FREQ_TOP_PACK     12.0      624.0  \n",
       "CHURN              0.0        1.0  "
      ]
     },
     "execution_count": 19,
     "metadata": {},
     "output_type": "execute_result"
    }
   ],
   "source": [
    "#Check summary of numerical fields\n",
    "train.select_dtypes(include=['int64', 'float64']).describe().T"
   ]
  },
  {
   "cell_type": "code",
   "execution_count": 22,
   "metadata": {},
   "outputs": [],
   "source": [
    "#We will drop REGION, TOP_PACK, and MRG\n",
    "#We will also replace the missing values for the numerical columns with their means (averages)"
   ]
  },
  {
   "cell_type": "code",
   "execution_count": 23,
   "metadata": {},
   "outputs": [],
   "source": [
    "train.drop(columns=['REGION', 'MRG', 'TOP_PACK'], inplace=True) #drop these columns"
   ]
  },
  {
   "cell_type": "code",
   "execution_count": 24,
   "metadata": {},
   "outputs": [
    {
     "data": {
      "text/html": [
       "<div>\n",
       "<style scoped>\n",
       "    .dataframe tbody tr th:only-of-type {\n",
       "        vertical-align: middle;\n",
       "    }\n",
       "\n",
       "    .dataframe tbody tr th {\n",
       "        vertical-align: top;\n",
       "    }\n",
       "\n",
       "    .dataframe thead th {\n",
       "        text-align: right;\n",
       "    }\n",
       "</style>\n",
       "<table border=\"1\" class=\"dataframe\">\n",
       "  <thead>\n",
       "    <tr style=\"text-align: right;\">\n",
       "      <th></th>\n",
       "      <th>user_id</th>\n",
       "      <th>TENURE</th>\n",
       "      <th>MONTANT</th>\n",
       "      <th>FREQUENCE_RECH</th>\n",
       "      <th>REVENUE</th>\n",
       "      <th>ARPU_SEGMENT</th>\n",
       "      <th>FREQUENCE</th>\n",
       "      <th>DATA_VOLUME</th>\n",
       "      <th>ON_NET</th>\n",
       "      <th>ORANGE</th>\n",
       "      <th>TIGO</th>\n",
       "      <th>ZONE1</th>\n",
       "      <th>ZONE2</th>\n",
       "      <th>REGULARITY</th>\n",
       "      <th>FREQ_TOP_PACK</th>\n",
       "      <th>CHURN</th>\n",
       "    </tr>\n",
       "  </thead>\n",
       "  <tbody>\n",
       "    <tr>\n",
       "      <th>0</th>\n",
       "      <td>7ee9e11e342e27c70455960acc80d3f91c1286d1</td>\n",
       "      <td>K &gt; 24 month</td>\n",
       "      <td>20000.0</td>\n",
       "      <td>47.0</td>\n",
       "      <td>21602.0</td>\n",
       "      <td>7201.0</td>\n",
       "      <td>52.0</td>\n",
       "      <td>8835.0</td>\n",
       "      <td>3391.0</td>\n",
       "      <td>396.0</td>\n",
       "      <td>185.0</td>\n",
       "      <td>NaN</td>\n",
       "      <td>NaN</td>\n",
       "      <td>62</td>\n",
       "      <td>30.0</td>\n",
       "      <td>0</td>\n",
       "    </tr>\n",
       "    <tr>\n",
       "      <th>1</th>\n",
       "      <td>50443f42bdc92b10388fc56e520e4421a5fa655c</td>\n",
       "      <td>K &gt; 24 month</td>\n",
       "      <td>NaN</td>\n",
       "      <td>NaN</td>\n",
       "      <td>NaN</td>\n",
       "      <td>NaN</td>\n",
       "      <td>NaN</td>\n",
       "      <td>NaN</td>\n",
       "      <td>NaN</td>\n",
       "      <td>NaN</td>\n",
       "      <td>NaN</td>\n",
       "      <td>NaN</td>\n",
       "      <td>NaN</td>\n",
       "      <td>3</td>\n",
       "      <td>NaN</td>\n",
       "      <td>0</td>\n",
       "    </tr>\n",
       "    <tr>\n",
       "      <th>2</th>\n",
       "      <td>da90b5c1a9b204c186079f89969aa01cb03c91b2</td>\n",
       "      <td>K &gt; 24 month</td>\n",
       "      <td>NaN</td>\n",
       "      <td>NaN</td>\n",
       "      <td>NaN</td>\n",
       "      <td>NaN</td>\n",
       "      <td>NaN</td>\n",
       "      <td>NaN</td>\n",
       "      <td>NaN</td>\n",
       "      <td>NaN</td>\n",
       "      <td>NaN</td>\n",
       "      <td>NaN</td>\n",
       "      <td>NaN</td>\n",
       "      <td>1</td>\n",
       "      <td>NaN</td>\n",
       "      <td>0</td>\n",
       "    </tr>\n",
       "    <tr>\n",
       "      <th>3</th>\n",
       "      <td>364ec1b424cdc64c25441a444a16930289a0051e</td>\n",
       "      <td>K &gt; 24 month</td>\n",
       "      <td>7900.0</td>\n",
       "      <td>19.0</td>\n",
       "      <td>7896.0</td>\n",
       "      <td>2632.0</td>\n",
       "      <td>25.0</td>\n",
       "      <td>9385.0</td>\n",
       "      <td>27.0</td>\n",
       "      <td>46.0</td>\n",
       "      <td>20.0</td>\n",
       "      <td>NaN</td>\n",
       "      <td>2.0</td>\n",
       "      <td>61</td>\n",
       "      <td>7.0</td>\n",
       "      <td>0</td>\n",
       "    </tr>\n",
       "    <tr>\n",
       "      <th>4</th>\n",
       "      <td>d5a5247005bc6d41d3d99f4ef312ebb5f640f2cb</td>\n",
       "      <td>K &gt; 24 month</td>\n",
       "      <td>12350.0</td>\n",
       "      <td>21.0</td>\n",
       "      <td>12351.0</td>\n",
       "      <td>4117.0</td>\n",
       "      <td>29.0</td>\n",
       "      <td>9360.0</td>\n",
       "      <td>66.0</td>\n",
       "      <td>102.0</td>\n",
       "      <td>34.0</td>\n",
       "      <td>NaN</td>\n",
       "      <td>NaN</td>\n",
       "      <td>56</td>\n",
       "      <td>11.0</td>\n",
       "      <td>0</td>\n",
       "    </tr>\n",
       "  </tbody>\n",
       "</table>\n",
       "</div>"
      ],
      "text/plain": [
       "                                    user_id        TENURE  MONTANT  \\\n",
       "0  7ee9e11e342e27c70455960acc80d3f91c1286d1  K > 24 month  20000.0   \n",
       "1  50443f42bdc92b10388fc56e520e4421a5fa655c  K > 24 month      NaN   \n",
       "2  da90b5c1a9b204c186079f89969aa01cb03c91b2  K > 24 month      NaN   \n",
       "3  364ec1b424cdc64c25441a444a16930289a0051e  K > 24 month   7900.0   \n",
       "4  d5a5247005bc6d41d3d99f4ef312ebb5f640f2cb  K > 24 month  12350.0   \n",
       "\n",
       "   FREQUENCE_RECH  REVENUE  ARPU_SEGMENT  FREQUENCE  DATA_VOLUME  ON_NET  \\\n",
       "0            47.0  21602.0        7201.0       52.0       8835.0  3391.0   \n",
       "1             NaN      NaN           NaN        NaN          NaN     NaN   \n",
       "2             NaN      NaN           NaN        NaN          NaN     NaN   \n",
       "3            19.0   7896.0        2632.0       25.0       9385.0    27.0   \n",
       "4            21.0  12351.0        4117.0       29.0       9360.0    66.0   \n",
       "\n",
       "   ORANGE   TIGO  ZONE1  ZONE2  REGULARITY  FREQ_TOP_PACK  CHURN  \n",
       "0   396.0  185.0    NaN    NaN          62           30.0      0  \n",
       "1     NaN    NaN    NaN    NaN           3            NaN      0  \n",
       "2     NaN    NaN    NaN    NaN           1            NaN      0  \n",
       "3    46.0   20.0    NaN    2.0          61            7.0      0  \n",
       "4   102.0   34.0    NaN    NaN          56           11.0      0  "
      ]
     },
     "execution_count": 24,
     "metadata": {},
     "output_type": "execute_result"
    }
   ],
   "source": [
    "train.head()"
   ]
  },
  {
   "cell_type": "code",
   "execution_count": 25,
   "metadata": {},
   "outputs": [],
   "source": [
    "test.drop(columns=['REGION', 'MRG', 'TOP_PACK'], inplace=True)"
   ]
  },
  {
   "cell_type": "code",
   "execution_count": 26,
   "metadata": {},
   "outputs": [
    {
     "data": {
      "text/html": [
       "<div>\n",
       "<style scoped>\n",
       "    .dataframe tbody tr th:only-of-type {\n",
       "        vertical-align: middle;\n",
       "    }\n",
       "\n",
       "    .dataframe tbody tr th {\n",
       "        vertical-align: top;\n",
       "    }\n",
       "\n",
       "    .dataframe thead th {\n",
       "        text-align: right;\n",
       "    }\n",
       "</style>\n",
       "<table border=\"1\" class=\"dataframe\">\n",
       "  <thead>\n",
       "    <tr style=\"text-align: right;\">\n",
       "      <th></th>\n",
       "      <th>user_id</th>\n",
       "      <th>TENURE</th>\n",
       "      <th>MONTANT</th>\n",
       "      <th>FREQUENCE_RECH</th>\n",
       "      <th>REVENUE</th>\n",
       "      <th>ARPU_SEGMENT</th>\n",
       "      <th>FREQUENCE</th>\n",
       "      <th>DATA_VOLUME</th>\n",
       "      <th>ON_NET</th>\n",
       "      <th>ORANGE</th>\n",
       "      <th>TIGO</th>\n",
       "      <th>ZONE1</th>\n",
       "      <th>ZONE2</th>\n",
       "      <th>REGULARITY</th>\n",
       "      <th>FREQ_TOP_PACK</th>\n",
       "    </tr>\n",
       "  </thead>\n",
       "  <tbody>\n",
       "    <tr>\n",
       "      <th>0</th>\n",
       "      <td>51fe4c3347db1f8571d18ac03f716c41acee30a4</td>\n",
       "      <td>I 18-21 month</td>\n",
       "      <td>2500.0</td>\n",
       "      <td>5.0</td>\n",
       "      <td>2500.0</td>\n",
       "      <td>833.0</td>\n",
       "      <td>5.0</td>\n",
       "      <td>0.0</td>\n",
       "      <td>64.0</td>\n",
       "      <td>70.0</td>\n",
       "      <td>NaN</td>\n",
       "      <td>NaN</td>\n",
       "      <td>NaN</td>\n",
       "      <td>35</td>\n",
       "      <td>5.0</td>\n",
       "    </tr>\n",
       "    <tr>\n",
       "      <th>1</th>\n",
       "      <td>5ad5d67c175bce107cc97b98c4e37dcc38aa7f3e</td>\n",
       "      <td>K &gt; 24 month</td>\n",
       "      <td>NaN</td>\n",
       "      <td>NaN</td>\n",
       "      <td>NaN</td>\n",
       "      <td>NaN</td>\n",
       "      <td>NaN</td>\n",
       "      <td>NaN</td>\n",
       "      <td>NaN</td>\n",
       "      <td>NaN</td>\n",
       "      <td>NaN</td>\n",
       "      <td>NaN</td>\n",
       "      <td>NaN</td>\n",
       "      <td>2</td>\n",
       "      <td>NaN</td>\n",
       "    </tr>\n",
       "    <tr>\n",
       "      <th>2</th>\n",
       "      <td>5a4db591c953a8d8f373877fad37aaf4268899a1</td>\n",
       "      <td>K &gt; 24 month</td>\n",
       "      <td>NaN</td>\n",
       "      <td>NaN</td>\n",
       "      <td>NaN</td>\n",
       "      <td>NaN</td>\n",
       "      <td>NaN</td>\n",
       "      <td>0.0</td>\n",
       "      <td>NaN</td>\n",
       "      <td>NaN</td>\n",
       "      <td>NaN</td>\n",
       "      <td>NaN</td>\n",
       "      <td>NaN</td>\n",
       "      <td>22</td>\n",
       "      <td>NaN</td>\n",
       "    </tr>\n",
       "    <tr>\n",
       "      <th>3</th>\n",
       "      <td>8bf9b4d8880aeba1c9a0da48be78f12e629be37c</td>\n",
       "      <td>K &gt; 24 month</td>\n",
       "      <td>NaN</td>\n",
       "      <td>NaN</td>\n",
       "      <td>NaN</td>\n",
       "      <td>NaN</td>\n",
       "      <td>NaN</td>\n",
       "      <td>NaN</td>\n",
       "      <td>NaN</td>\n",
       "      <td>NaN</td>\n",
       "      <td>NaN</td>\n",
       "      <td>NaN</td>\n",
       "      <td>NaN</td>\n",
       "      <td>6</td>\n",
       "      <td>NaN</td>\n",
       "    </tr>\n",
       "    <tr>\n",
       "      <th>4</th>\n",
       "      <td>c7cdf2af01e9fa95bf498b68c122aa4b9a8d10df</td>\n",
       "      <td>K &gt; 24 month</td>\n",
       "      <td>5100.0</td>\n",
       "      <td>7.0</td>\n",
       "      <td>5637.0</td>\n",
       "      <td>1879.0</td>\n",
       "      <td>15.0</td>\n",
       "      <td>7783.0</td>\n",
       "      <td>30.0</td>\n",
       "      <td>24.0</td>\n",
       "      <td>0.0</td>\n",
       "      <td>0.0</td>\n",
       "      <td>NaN</td>\n",
       "      <td>60</td>\n",
       "      <td>4.0</td>\n",
       "    </tr>\n",
       "  </tbody>\n",
       "</table>\n",
       "</div>"
      ],
      "text/plain": [
       "                                    user_id         TENURE  MONTANT  \\\n",
       "0  51fe4c3347db1f8571d18ac03f716c41acee30a4  I 18-21 month   2500.0   \n",
       "1  5ad5d67c175bce107cc97b98c4e37dcc38aa7f3e   K > 24 month      NaN   \n",
       "2  5a4db591c953a8d8f373877fad37aaf4268899a1   K > 24 month      NaN   \n",
       "3  8bf9b4d8880aeba1c9a0da48be78f12e629be37c   K > 24 month      NaN   \n",
       "4  c7cdf2af01e9fa95bf498b68c122aa4b9a8d10df   K > 24 month   5100.0   \n",
       "\n",
       "   FREQUENCE_RECH  REVENUE  ARPU_SEGMENT  FREQUENCE  DATA_VOLUME  ON_NET  \\\n",
       "0             5.0   2500.0         833.0        5.0          0.0    64.0   \n",
       "1             NaN      NaN           NaN        NaN          NaN     NaN   \n",
       "2             NaN      NaN           NaN        NaN          0.0     NaN   \n",
       "3             NaN      NaN           NaN        NaN          NaN     NaN   \n",
       "4             7.0   5637.0        1879.0       15.0       7783.0    30.0   \n",
       "\n",
       "   ORANGE  TIGO  ZONE1  ZONE2  REGULARITY  FREQ_TOP_PACK  \n",
       "0    70.0   NaN    NaN    NaN          35            5.0  \n",
       "1     NaN   NaN    NaN    NaN           2            NaN  \n",
       "2     NaN   NaN    NaN    NaN          22            NaN  \n",
       "3     NaN   NaN    NaN    NaN           6            NaN  \n",
       "4    24.0   0.0    0.0    NaN          60            4.0  "
      ]
     },
     "execution_count": 26,
     "metadata": {},
     "output_type": "execute_result"
    }
   ],
   "source": [
    "test.head()"
   ]
  },
  {
   "cell_type": "code",
   "execution_count": 27,
   "metadata": {},
   "outputs": [],
   "source": [
    "#Fill NAs for train data"
   ]
  },
  {
   "cell_type": "code",
   "execution_count": 28,
   "metadata": {},
   "outputs": [],
   "source": [
    "train['MONTANT'].fillna((train['MONTANT'].mean()), inplace=True)\n",
    "train['FREQUENCE_RECH'].fillna((train['FREQUENCE_RECH'].mean()), inplace=True)\n",
    "train['REVENUE'].fillna((train['REVENUE'].mean()), inplace=True)\n",
    "train['ARPU_SEGMENT'].fillna((train['ARPU_SEGMENT'].mean()), inplace=True)\n",
    "train['FREQUENCE'].fillna((train['FREQUENCE'].mean()), inplace=True)\n",
    "train['DATA_VOLUME'].fillna((train['DATA_VOLUME'].mean()), inplace=True)\n",
    "train['ON_NET'].fillna((train['ON_NET'].mean()), inplace=True)\n",
    "train['ORANGE'].fillna((train['ORANGE'].mean()), inplace=True)\n",
    "train['TIGO'].fillna((train['TIGO'].mean()), inplace=True)\n",
    "train['ZONE1'].fillna((train['ZONE1'].mean()), inplace=True)\n",
    "train['ZONE2'].fillna((train['ZONE2'].mean()), inplace=True)\n",
    "train['FREQ_TOP_PACK'].fillna((train['FREQ_TOP_PACK'].mean()), inplace=True)"
   ]
  },
  {
   "cell_type": "code",
   "execution_count": 29,
   "metadata": {},
   "outputs": [
    {
     "data": {
      "text/html": [
       "<div>\n",
       "<style scoped>\n",
       "    .dataframe tbody tr th:only-of-type {\n",
       "        vertical-align: middle;\n",
       "    }\n",
       "\n",
       "    .dataframe tbody tr th {\n",
       "        vertical-align: top;\n",
       "    }\n",
       "\n",
       "    .dataframe thead th {\n",
       "        text-align: right;\n",
       "    }\n",
       "</style>\n",
       "<table border=\"1\" class=\"dataframe\">\n",
       "  <thead>\n",
       "    <tr style=\"text-align: right;\">\n",
       "      <th></th>\n",
       "      <th>user_id</th>\n",
       "      <th>TENURE</th>\n",
       "      <th>MONTANT</th>\n",
       "      <th>FREQUENCE_RECH</th>\n",
       "      <th>REVENUE</th>\n",
       "      <th>ARPU_SEGMENT</th>\n",
       "      <th>FREQUENCE</th>\n",
       "      <th>DATA_VOLUME</th>\n",
       "      <th>ON_NET</th>\n",
       "      <th>ORANGE</th>\n",
       "      <th>TIGO</th>\n",
       "      <th>ZONE1</th>\n",
       "      <th>ZONE2</th>\n",
       "      <th>REGULARITY</th>\n",
       "      <th>FREQ_TOP_PACK</th>\n",
       "      <th>CHURN</th>\n",
       "    </tr>\n",
       "  </thead>\n",
       "  <tbody>\n",
       "    <tr>\n",
       "      <th>0</th>\n",
       "      <td>7ee9e11e342e27c70455960acc80d3f91c1286d1</td>\n",
       "      <td>K &gt; 24 month</td>\n",
       "      <td>20000.000000</td>\n",
       "      <td>47.000000</td>\n",
       "      <td>21602.000000</td>\n",
       "      <td>7201.000000</td>\n",
       "      <td>52.000000</td>\n",
       "      <td>8835.000000</td>\n",
       "      <td>3391.000000</td>\n",
       "      <td>396.000000</td>\n",
       "      <td>185.000000</td>\n",
       "      <td>8.167483</td>\n",
       "      <td>7.709844</td>\n",
       "      <td>62</td>\n",
       "      <td>30.000000</td>\n",
       "      <td>0</td>\n",
       "    </tr>\n",
       "    <tr>\n",
       "      <th>1</th>\n",
       "      <td>50443f42bdc92b10388fc56e520e4421a5fa655c</td>\n",
       "      <td>K &gt; 24 month</td>\n",
       "      <td>5529.210895</td>\n",
       "      <td>11.523756</td>\n",
       "      <td>5506.050798</td>\n",
       "      <td>1835.355961</td>\n",
       "      <td>13.974439</td>\n",
       "      <td>3368.801722</td>\n",
       "      <td>277.065798</td>\n",
       "      <td>95.160804</td>\n",
       "      <td>23.105018</td>\n",
       "      <td>8.167483</td>\n",
       "      <td>7.709844</td>\n",
       "      <td>3</td>\n",
       "      <td>9.262446</td>\n",
       "      <td>0</td>\n",
       "    </tr>\n",
       "    <tr>\n",
       "      <th>2</th>\n",
       "      <td>da90b5c1a9b204c186079f89969aa01cb03c91b2</td>\n",
       "      <td>K &gt; 24 month</td>\n",
       "      <td>5529.210895</td>\n",
       "      <td>11.523756</td>\n",
       "      <td>5506.050798</td>\n",
       "      <td>1835.355961</td>\n",
       "      <td>13.974439</td>\n",
       "      <td>3368.801722</td>\n",
       "      <td>277.065798</td>\n",
       "      <td>95.160804</td>\n",
       "      <td>23.105018</td>\n",
       "      <td>8.167483</td>\n",
       "      <td>7.709844</td>\n",
       "      <td>1</td>\n",
       "      <td>9.262446</td>\n",
       "      <td>0</td>\n",
       "    </tr>\n",
       "    <tr>\n",
       "      <th>3</th>\n",
       "      <td>364ec1b424cdc64c25441a444a16930289a0051e</td>\n",
       "      <td>K &gt; 24 month</td>\n",
       "      <td>7900.000000</td>\n",
       "      <td>19.000000</td>\n",
       "      <td>7896.000000</td>\n",
       "      <td>2632.000000</td>\n",
       "      <td>25.000000</td>\n",
       "      <td>9385.000000</td>\n",
       "      <td>27.000000</td>\n",
       "      <td>46.000000</td>\n",
       "      <td>20.000000</td>\n",
       "      <td>8.167483</td>\n",
       "      <td>2.000000</td>\n",
       "      <td>61</td>\n",
       "      <td>7.000000</td>\n",
       "      <td>0</td>\n",
       "    </tr>\n",
       "    <tr>\n",
       "      <th>4</th>\n",
       "      <td>d5a5247005bc6d41d3d99f4ef312ebb5f640f2cb</td>\n",
       "      <td>K &gt; 24 month</td>\n",
       "      <td>12350.000000</td>\n",
       "      <td>21.000000</td>\n",
       "      <td>12351.000000</td>\n",
       "      <td>4117.000000</td>\n",
       "      <td>29.000000</td>\n",
       "      <td>9360.000000</td>\n",
       "      <td>66.000000</td>\n",
       "      <td>102.000000</td>\n",
       "      <td>34.000000</td>\n",
       "      <td>8.167483</td>\n",
       "      <td>7.709844</td>\n",
       "      <td>56</td>\n",
       "      <td>11.000000</td>\n",
       "      <td>0</td>\n",
       "    </tr>\n",
       "  </tbody>\n",
       "</table>\n",
       "</div>"
      ],
      "text/plain": [
       "                                    user_id        TENURE       MONTANT  \\\n",
       "0  7ee9e11e342e27c70455960acc80d3f91c1286d1  K > 24 month  20000.000000   \n",
       "1  50443f42bdc92b10388fc56e520e4421a5fa655c  K > 24 month   5529.210895   \n",
       "2  da90b5c1a9b204c186079f89969aa01cb03c91b2  K > 24 month   5529.210895   \n",
       "3  364ec1b424cdc64c25441a444a16930289a0051e  K > 24 month   7900.000000   \n",
       "4  d5a5247005bc6d41d3d99f4ef312ebb5f640f2cb  K > 24 month  12350.000000   \n",
       "\n",
       "   FREQUENCE_RECH       REVENUE  ARPU_SEGMENT  FREQUENCE  DATA_VOLUME  \\\n",
       "0       47.000000  21602.000000   7201.000000  52.000000  8835.000000   \n",
       "1       11.523756   5506.050798   1835.355961  13.974439  3368.801722   \n",
       "2       11.523756   5506.050798   1835.355961  13.974439  3368.801722   \n",
       "3       19.000000   7896.000000   2632.000000  25.000000  9385.000000   \n",
       "4       21.000000  12351.000000   4117.000000  29.000000  9360.000000   \n",
       "\n",
       "        ON_NET      ORANGE        TIGO     ZONE1     ZONE2  REGULARITY  \\\n",
       "0  3391.000000  396.000000  185.000000  8.167483  7.709844          62   \n",
       "1   277.065798   95.160804   23.105018  8.167483  7.709844           3   \n",
       "2   277.065798   95.160804   23.105018  8.167483  7.709844           1   \n",
       "3    27.000000   46.000000   20.000000  8.167483  2.000000          61   \n",
       "4    66.000000  102.000000   34.000000  8.167483  7.709844          56   \n",
       "\n",
       "   FREQ_TOP_PACK  CHURN  \n",
       "0      30.000000      0  \n",
       "1       9.262446      0  \n",
       "2       9.262446      0  \n",
       "3       7.000000      0  \n",
       "4      11.000000      0  "
      ]
     },
     "execution_count": 29,
     "metadata": {},
     "output_type": "execute_result"
    }
   ],
   "source": [
    "train.head()"
   ]
  },
  {
   "cell_type": "code",
   "execution_count": 30,
   "metadata": {},
   "outputs": [
    {
     "data": {
      "text/plain": [
       "user_id           0\n",
       "TENURE            0\n",
       "MONTANT           0\n",
       "FREQUENCE_RECH    0\n",
       "REVENUE           0\n",
       "ARPU_SEGMENT      0\n",
       "FREQUENCE         0\n",
       "DATA_VOLUME       0\n",
       "ON_NET            0\n",
       "ORANGE            0\n",
       "TIGO              0\n",
       "ZONE1             0\n",
       "ZONE2             0\n",
       "REGULARITY        0\n",
       "FREQ_TOP_PACK     0\n",
       "CHURN             0\n",
       "dtype: int64"
      ]
     },
     "execution_count": 30,
     "metadata": {},
     "output_type": "execute_result"
    }
   ],
   "source": [
    "train.isnull().sum()"
   ]
  },
  {
   "cell_type": "code",
   "execution_count": 31,
   "metadata": {},
   "outputs": [],
   "source": [
    "#Fill NAs for test data"
   ]
  },
  {
   "cell_type": "code",
   "execution_count": 32,
   "metadata": {},
   "outputs": [],
   "source": [
    "test['MONTANT'].fillna((test['MONTANT'].mean()), inplace=True)\n",
    "test['FREQUENCE_RECH'].fillna((test['FREQUENCE_RECH'].mean()), inplace=True)\n",
    "test['REVENUE'].fillna((test['REVENUE'].mean()), inplace=True)\n",
    "test['ARPU_SEGMENT'].fillna((test['ARPU_SEGMENT'].mean()), inplace=True)\n",
    "test['FREQUENCE'].fillna((test['FREQUENCE'].mean()), inplace=True)\n",
    "test['DATA_VOLUME'].fillna((test['DATA_VOLUME'].mean()), inplace=True)\n",
    "test['ON_NET'].fillna((test['ON_NET'].mean()), inplace=True)\n",
    "test['ORANGE'].fillna((test['ORANGE'].mean()), inplace=True)\n",
    "test['TIGO'].fillna((test['TIGO'].mean()), inplace=True)\n",
    "test['ZONE1'].fillna((test['ZONE1'].mean()), inplace=True)\n",
    "test['ZONE2'].fillna((test['ZONE2'].mean()), inplace=True)\n",
    "test['FREQ_TOP_PACK'].fillna((test['FREQ_TOP_PACK'].mean()), inplace=True)"
   ]
  },
  {
   "cell_type": "code",
   "execution_count": 33,
   "metadata": {},
   "outputs": [
    {
     "data": {
      "text/html": [
       "<div>\n",
       "<style scoped>\n",
       "    .dataframe tbody tr th:only-of-type {\n",
       "        vertical-align: middle;\n",
       "    }\n",
       "\n",
       "    .dataframe tbody tr th {\n",
       "        vertical-align: top;\n",
       "    }\n",
       "\n",
       "    .dataframe thead th {\n",
       "        text-align: right;\n",
       "    }\n",
       "</style>\n",
       "<table border=\"1\" class=\"dataframe\">\n",
       "  <thead>\n",
       "    <tr style=\"text-align: right;\">\n",
       "      <th></th>\n",
       "      <th>user_id</th>\n",
       "      <th>TENURE</th>\n",
       "      <th>MONTANT</th>\n",
       "      <th>FREQUENCE_RECH</th>\n",
       "      <th>REVENUE</th>\n",
       "      <th>ARPU_SEGMENT</th>\n",
       "      <th>FREQUENCE</th>\n",
       "      <th>DATA_VOLUME</th>\n",
       "      <th>ON_NET</th>\n",
       "      <th>ORANGE</th>\n",
       "      <th>TIGO</th>\n",
       "      <th>ZONE1</th>\n",
       "      <th>ZONE2</th>\n",
       "      <th>REGULARITY</th>\n",
       "      <th>FREQ_TOP_PACK</th>\n",
       "    </tr>\n",
       "  </thead>\n",
       "  <tbody>\n",
       "    <tr>\n",
       "      <th>0</th>\n",
       "      <td>51fe4c3347db1f8571d18ac03f716c41acee30a4</td>\n",
       "      <td>I 18-21 month</td>\n",
       "      <td>2500.000000</td>\n",
       "      <td>5.00000</td>\n",
       "      <td>2500.000000</td>\n",
       "      <td>833.000000</td>\n",
       "      <td>5.00000</td>\n",
       "      <td>0.000000</td>\n",
       "      <td>64.000000</td>\n",
       "      <td>70.000000</td>\n",
       "      <td>22.95227</td>\n",
       "      <td>8.135421</td>\n",
       "      <td>7.696944</td>\n",
       "      <td>35</td>\n",
       "      <td>5.000000</td>\n",
       "    </tr>\n",
       "    <tr>\n",
       "      <th>1</th>\n",
       "      <td>5ad5d67c175bce107cc97b98c4e37dcc38aa7f3e</td>\n",
       "      <td>K &gt; 24 month</td>\n",
       "      <td>5506.547759</td>\n",
       "      <td>11.48394</td>\n",
       "      <td>5486.233417</td>\n",
       "      <td>1828.750281</td>\n",
       "      <td>13.93967</td>\n",
       "      <td>3358.421151</td>\n",
       "      <td>281.210613</td>\n",
       "      <td>94.611639</td>\n",
       "      <td>22.95227</td>\n",
       "      <td>8.135421</td>\n",
       "      <td>7.696944</td>\n",
       "      <td>2</td>\n",
       "      <td>9.234326</td>\n",
       "    </tr>\n",
       "    <tr>\n",
       "      <th>2</th>\n",
       "      <td>5a4db591c953a8d8f373877fad37aaf4268899a1</td>\n",
       "      <td>K &gt; 24 month</td>\n",
       "      <td>5506.547759</td>\n",
       "      <td>11.48394</td>\n",
       "      <td>5486.233417</td>\n",
       "      <td>1828.750281</td>\n",
       "      <td>13.93967</td>\n",
       "      <td>0.000000</td>\n",
       "      <td>281.210613</td>\n",
       "      <td>94.611639</td>\n",
       "      <td>22.95227</td>\n",
       "      <td>8.135421</td>\n",
       "      <td>7.696944</td>\n",
       "      <td>22</td>\n",
       "      <td>9.234326</td>\n",
       "    </tr>\n",
       "    <tr>\n",
       "      <th>3</th>\n",
       "      <td>8bf9b4d8880aeba1c9a0da48be78f12e629be37c</td>\n",
       "      <td>K &gt; 24 month</td>\n",
       "      <td>5506.547759</td>\n",
       "      <td>11.48394</td>\n",
       "      <td>5486.233417</td>\n",
       "      <td>1828.750281</td>\n",
       "      <td>13.93967</td>\n",
       "      <td>3358.421151</td>\n",
       "      <td>281.210613</td>\n",
       "      <td>94.611639</td>\n",
       "      <td>22.95227</td>\n",
       "      <td>8.135421</td>\n",
       "      <td>7.696944</td>\n",
       "      <td>6</td>\n",
       "      <td>9.234326</td>\n",
       "    </tr>\n",
       "    <tr>\n",
       "      <th>4</th>\n",
       "      <td>c7cdf2af01e9fa95bf498b68c122aa4b9a8d10df</td>\n",
       "      <td>K &gt; 24 month</td>\n",
       "      <td>5100.000000</td>\n",
       "      <td>7.00000</td>\n",
       "      <td>5637.000000</td>\n",
       "      <td>1879.000000</td>\n",
       "      <td>15.00000</td>\n",
       "      <td>7783.000000</td>\n",
       "      <td>30.000000</td>\n",
       "      <td>24.000000</td>\n",
       "      <td>0.00000</td>\n",
       "      <td>0.000000</td>\n",
       "      <td>7.696944</td>\n",
       "      <td>60</td>\n",
       "      <td>4.000000</td>\n",
       "    </tr>\n",
       "  </tbody>\n",
       "</table>\n",
       "</div>"
      ],
      "text/plain": [
       "                                    user_id         TENURE      MONTANT  \\\n",
       "0  51fe4c3347db1f8571d18ac03f716c41acee30a4  I 18-21 month  2500.000000   \n",
       "1  5ad5d67c175bce107cc97b98c4e37dcc38aa7f3e   K > 24 month  5506.547759   \n",
       "2  5a4db591c953a8d8f373877fad37aaf4268899a1   K > 24 month  5506.547759   \n",
       "3  8bf9b4d8880aeba1c9a0da48be78f12e629be37c   K > 24 month  5506.547759   \n",
       "4  c7cdf2af01e9fa95bf498b68c122aa4b9a8d10df   K > 24 month  5100.000000   \n",
       "\n",
       "   FREQUENCE_RECH      REVENUE  ARPU_SEGMENT  FREQUENCE  DATA_VOLUME  \\\n",
       "0         5.00000  2500.000000    833.000000    5.00000     0.000000   \n",
       "1        11.48394  5486.233417   1828.750281   13.93967  3358.421151   \n",
       "2        11.48394  5486.233417   1828.750281   13.93967     0.000000   \n",
       "3        11.48394  5486.233417   1828.750281   13.93967  3358.421151   \n",
       "4         7.00000  5637.000000   1879.000000   15.00000  7783.000000   \n",
       "\n",
       "       ON_NET     ORANGE      TIGO     ZONE1     ZONE2  REGULARITY  \\\n",
       "0   64.000000  70.000000  22.95227  8.135421  7.696944          35   \n",
       "1  281.210613  94.611639  22.95227  8.135421  7.696944           2   \n",
       "2  281.210613  94.611639  22.95227  8.135421  7.696944          22   \n",
       "3  281.210613  94.611639  22.95227  8.135421  7.696944           6   \n",
       "4   30.000000  24.000000   0.00000  0.000000  7.696944          60   \n",
       "\n",
       "   FREQ_TOP_PACK  \n",
       "0       5.000000  \n",
       "1       9.234326  \n",
       "2       9.234326  \n",
       "3       9.234326  \n",
       "4       4.000000  "
      ]
     },
     "execution_count": 33,
     "metadata": {},
     "output_type": "execute_result"
    }
   ],
   "source": [
    "test.head()"
   ]
  },
  {
   "cell_type": "code",
   "execution_count": 34,
   "metadata": {},
   "outputs": [
    {
     "data": {
      "text/plain": [
       "user_id           0\n",
       "TENURE            0\n",
       "MONTANT           0\n",
       "FREQUENCE_RECH    0\n",
       "REVENUE           0\n",
       "ARPU_SEGMENT      0\n",
       "FREQUENCE         0\n",
       "DATA_VOLUME       0\n",
       "ON_NET            0\n",
       "ORANGE            0\n",
       "TIGO              0\n",
       "ZONE1             0\n",
       "ZONE2             0\n",
       "REGULARITY        0\n",
       "FREQ_TOP_PACK     0\n",
       "dtype: int64"
      ]
     },
     "execution_count": 34,
     "metadata": {},
     "output_type": "execute_result"
    }
   ],
   "source": [
    "test.isnull().sum()"
   ]
  },
  {
   "cell_type": "markdown",
   "metadata": {},
   "source": [
    "### Feature Creation \n"
   ]
  },
  {
   "cell_type": "code",
   "execution_count": 35,
   "metadata": {},
   "outputs": [
    {
     "name": "stdout",
     "output_type": "stream",
     "text": [
      "                                    user_id        TENURE       MONTANT  \\\n",
      "0  7ee9e11e342e27c70455960acc80d3f91c1286d1  K > 24 month  20000.000000   \n",
      "1  50443f42bdc92b10388fc56e520e4421a5fa655c  K > 24 month   5529.210895   \n",
      "2  da90b5c1a9b204c186079f89969aa01cb03c91b2  K > 24 month   5529.210895   \n",
      "3  364ec1b424cdc64c25441a444a16930289a0051e  K > 24 month   7900.000000   \n",
      "4  d5a5247005bc6d41d3d99f4ef312ebb5f640f2cb  K > 24 month  12350.000000   \n",
      "\n",
      "   FREQUENCE_RECH       REVENUE  ARPU_SEGMENT  FREQUENCE  DATA_VOLUME  \\\n",
      "0       47.000000  21602.000000   7201.000000  52.000000  8835.000000   \n",
      "1       11.523756   5506.050798   1835.355961  13.974439  3368.801722   \n",
      "2       11.523756   5506.050798   1835.355961  13.974439  3368.801722   \n",
      "3       19.000000   7896.000000   2632.000000  25.000000  9385.000000   \n",
      "4       21.000000  12351.000000   4117.000000  29.000000  9360.000000   \n",
      "\n",
      "        ON_NET      ORANGE        TIGO     ZONE1     ZONE2  REGULARITY  \\\n",
      "0  3391.000000  396.000000  185.000000  8.167483  7.709844          62   \n",
      "1   277.065798   95.160804   23.105018  8.167483  7.709844           3   \n",
      "2   277.065798   95.160804   23.105018  8.167483  7.709844           1   \n",
      "3    27.000000   46.000000   20.000000  8.167483  2.000000          61   \n",
      "4    66.000000  102.000000   34.000000  8.167483  7.709844          56   \n",
      "\n",
      "   FREQ_TOP_PACK  CHURN  TOTAL_RECHARGE  AVG_REVENUE_MONTANT  \\\n",
      "0      30.000000      0   940000.000000         20801.000000   \n",
      "1       9.262446      0    63717.275282          5517.630847   \n",
      "2       9.262446      0    63717.275282          5517.630847   \n",
      "3       7.000000      0   150100.000000          7898.000000   \n",
      "4      11.000000      0   259350.000000         12350.500000   \n",
      "\n",
      "   FREQUENCE_SQUARED  ON_NET_REG_RATIO  \n",
      "0        2704.000000         54.693548  \n",
      "1         195.284932         92.355266  \n",
      "2         195.284932        277.065798  \n",
      "3         625.000000          0.442623  \n",
      "4         841.000000          1.178571  \n",
      "                                    user_id         TENURE      MONTANT  \\\n",
      "0  51fe4c3347db1f8571d18ac03f716c41acee30a4  I 18-21 month  2500.000000   \n",
      "1  5ad5d67c175bce107cc97b98c4e37dcc38aa7f3e   K > 24 month  5506.547759   \n",
      "2  5a4db591c953a8d8f373877fad37aaf4268899a1   K > 24 month  5506.547759   \n",
      "3  8bf9b4d8880aeba1c9a0da48be78f12e629be37c   K > 24 month  5506.547759   \n",
      "4  c7cdf2af01e9fa95bf498b68c122aa4b9a8d10df   K > 24 month  5100.000000   \n",
      "\n",
      "   FREQUENCE_RECH      REVENUE  ARPU_SEGMENT  FREQUENCE  DATA_VOLUME  \\\n",
      "0         5.00000  2500.000000    833.000000    5.00000     0.000000   \n",
      "1        11.48394  5486.233417   1828.750281   13.93967  3358.421151   \n",
      "2        11.48394  5486.233417   1828.750281   13.93967     0.000000   \n",
      "3        11.48394  5486.233417   1828.750281   13.93967  3358.421151   \n",
      "4         7.00000  5637.000000   1879.000000   15.00000  7783.000000   \n",
      "\n",
      "       ON_NET     ORANGE      TIGO     ZONE1     ZONE2  REGULARITY  \\\n",
      "0   64.000000  70.000000  22.95227  8.135421  7.696944          35   \n",
      "1  281.210613  94.611639  22.95227  8.135421  7.696944           2   \n",
      "2  281.210613  94.611639  22.95227  8.135421  7.696944          22   \n",
      "3  281.210613  94.611639  22.95227  8.135421  7.696944           6   \n",
      "4   30.000000  24.000000   0.00000  0.000000  7.696944          60   \n",
      "\n",
      "   FREQ_TOP_PACK  TOTAL_RECHARGE  AVG_REVENUE_MONTANT  FREQUENCE_SQUARED  \\\n",
      "0       5.000000    12500.000000          2500.000000          25.000000   \n",
      "1       9.234326    63236.865923          5496.390588         194.314408   \n",
      "2       9.234326    63236.865923          5496.390588         194.314408   \n",
      "3       9.234326    63236.865923          5496.390588         194.314408   \n",
      "4       4.000000    35700.000000          5368.500000         225.000000   \n",
      "\n",
      "   ON_NET_REG_RATIO  \n",
      "0          1.828571  \n",
      "1        140.605307  \n",
      "2         12.782301  \n",
      "3         46.868436  \n",
      "4          0.500000  \n"
     ]
    }
   ],
   "source": [
    "\n",
    "# Assuming you have already loaded train and test DataFrames\n",
    "\n",
    "# Interaction feature: Multiply MONTANT and FREQUENCE_RECH\n",
    "train[\"TOTAL_RECHARGE\"] = train[\"MONTANT\"] * train[\"FREQUENCE_RECH\"]\n",
    "test[\"TOTAL_RECHARGE\"] = test[\"MONTANT\"] * test[\"FREQUENCE_RECH\"]\n",
    "\n",
    "# Aggregated feature: Calculate the mean of REVENUE and MONTANT\n",
    "train[\"AVG_REVENUE_MONTANT\"] = (train[\"REVENUE\"] + train[\"MONTANT\"]) / 2\n",
    "test[\"AVG_REVENUE_MONTANT\"] = (test[\"REVENUE\"] + test[\"MONTANT\"]) / 2\n",
    "\n",
    "# Polynomial feature: Create squared values for FREQUENCE\n",
    "train[\"FREQUENCE_SQUARED\"] = train[\"FREQUENCE\"] ** 2\n",
    "test[\"FREQUENCE_SQUARED\"] = test[\"FREQUENCE\"] ** 2\n",
    "\n",
    "# Domain-specific feature: Calculate ON_NET to REGULARITY ratio\n",
    "train[\"ON_NET_REG_RATIO\"] = train[\"ON_NET\"] / train[\"REGULARITY\"]\n",
    "test[\"ON_NET_REG_RATIO\"] = test[\"ON_NET\"] / test[\"REGULARITY\"]\n",
    "\n",
    "# Display the first few rows of the modified train and test DataFrames\n",
    "print(train.head())\n",
    "print(test.head())\n"
   ]
  },
  {
   "cell_type": "markdown",
   "metadata": {},
   "source": [
    "## Machine Learning"
   ]
  },
  {
   "cell_type": "code",
   "execution_count": 36,
   "metadata": {},
   "outputs": [],
   "source": [
    "from sklearn.model_selection import train_test_split,cross_val_score\n",
    "from sklearn.metrics import accuracy_score,confusion_matrix,recall_score,precision_recall_curve, f1_score\n",
    "from sklearn.preprocessing import StandardScaler\n",
    "from sklearn.ensemble import RandomForestClassifier\n",
    "from sklearn.preprocessing import LabelEncoder"
   ]
  },
  {
   "cell_type": "code",
   "execution_count": 37,
   "metadata": {},
   "outputs": [
    {
     "name": "stdout",
     "output_type": "stream",
     "text": [
      "(1077024, 18)\n",
      "(1077024,)\n",
      "(190063, 18)\n"
     ]
    }
   ],
   "source": [
    "dropcols = ['user_id', 'CHURN']\n",
    "y = train['CHURN']\n",
    "x = train.drop(columns=dropcols, axis=1)\n",
    "test = test.drop(columns=['user_id'], axis=1) #you will use this for predicting and submitting the resulting\n",
    "print(x.shape)\n",
    "print(y.shape)\n",
    "print(test.shape)"
   ]
  },
  {
   "cell_type": "code",
   "execution_count": 38,
   "metadata": {},
   "outputs": [],
   "source": [
    "#Split training data into train and test split"
   ]
  },
  {
   "cell_type": "code",
   "execution_count": 39,
   "metadata": {},
   "outputs": [
    {
     "name": "stdout",
     "output_type": "stream",
     "text": [
      "(538512, 18)\n",
      "(538512,)\n",
      "(538512, 18)\n",
      "(538512,)\n"
     ]
    }
   ],
   "source": [
    "X_train,X_test,y_train,y_test = train_test_split(x,y,test_size = 0.5,random_state=1)\n",
    "print(X_train.shape)\n",
    "print(y_train.shape)\n",
    "\n",
    "print(X_test.shape)\n",
    "print(y_test.shape)"
   ]
  },
  {
   "cell_type": "code",
   "execution_count": 40,
   "metadata": {},
   "outputs": [],
   "source": [
    "#Further split X_train and y_train into train and validation sets"
   ]
  },
  {
   "cell_type": "code",
   "execution_count": 41,
   "metadata": {},
   "outputs": [],
   "source": [
    "X_train,X_val,y_train,y_val = train_test_split(X_train,y_train,test_size = 0.3, random_state=1)"
   ]
  },
  {
   "cell_type": "code",
   "execution_count": 42,
   "metadata": {},
   "outputs": [
    {
     "name": "stdout",
     "output_type": "stream",
     "text": [
      "train\n",
      "(376958, 18)\n",
      "(376958,)\n",
      "+++++++\n",
      "test\n",
      "(538512, 18)\n",
      "(538512,)\n",
      "+++++++\n",
      "validation\n",
      "(161554, 18)\n",
      "(161554,)\n"
     ]
    }
   ],
   "source": [
    "print(\"train\")\n",
    "print(X_train.shape)\n",
    "print(y_train.shape)\n",
    "print(\"+\"*7)\n",
    "print(\"test\")\n",
    "print(X_test.shape)\n",
    "print(y_test.shape)\n",
    "print(\"+\"*7)\n",
    "print(\"validation\")\n",
    "print(X_val.shape)\n",
    "print(y_val.shape)"
   ]
  },
  {
   "cell_type": "code",
   "execution_count": 43,
   "metadata": {},
   "outputs": [],
   "source": [
    "#Standardize numeric columns"
   ]
  },
  {
   "cell_type": "code",
   "execution_count": 44,
   "metadata": {},
   "outputs": [],
   "source": [
    "num_cols = ['MONTANT', 'FREQUENCE_RECH', 'REVENUE', 'ARPU_SEGMENT', 'FREQUENCE',\n",
    "       'DATA_VOLUME', 'ON_NET', 'ORANGE', 'TIGO', 'ZONE1', 'ZONE2',\n",
    "       'REGULARITY', 'FREQ_TOP_PACK']"
   ]
  },
  {
   "cell_type": "code",
   "execution_count": 45,
   "metadata": {},
   "outputs": [],
   "source": [
    "scaler = StandardScaler()"
   ]
  },
  {
   "cell_type": "code",
   "execution_count": 46,
   "metadata": {},
   "outputs": [],
   "source": [
    "X_train[num_cols] = scaler.fit_transform(X_train[num_cols])"
   ]
  },
  {
   "cell_type": "code",
   "execution_count": 47,
   "metadata": {},
   "outputs": [
    {
     "data": {
      "text/html": [
       "<div>\n",
       "<style scoped>\n",
       "    .dataframe tbody tr th:only-of-type {\n",
       "        vertical-align: middle;\n",
       "    }\n",
       "\n",
       "    .dataframe tbody tr th {\n",
       "        vertical-align: top;\n",
       "    }\n",
       "\n",
       "    .dataframe thead th {\n",
       "        text-align: right;\n",
       "    }\n",
       "</style>\n",
       "<table border=\"1\" class=\"dataframe\">\n",
       "  <thead>\n",
       "    <tr style=\"text-align: right;\">\n",
       "      <th></th>\n",
       "      <th>TENURE</th>\n",
       "      <th>MONTANT</th>\n",
       "      <th>FREQUENCE_RECH</th>\n",
       "      <th>REVENUE</th>\n",
       "      <th>ARPU_SEGMENT</th>\n",
       "      <th>FREQUENCE</th>\n",
       "      <th>DATA_VOLUME</th>\n",
       "      <th>ON_NET</th>\n",
       "      <th>ORANGE</th>\n",
       "      <th>TIGO</th>\n",
       "      <th>ZONE1</th>\n",
       "      <th>ZONE2</th>\n",
       "      <th>REGULARITY</th>\n",
       "      <th>FREQ_TOP_PACK</th>\n",
       "      <th>TOTAL_RECHARGE</th>\n",
       "      <th>AVG_REVENUE_MONTANT</th>\n",
       "      <th>FREQUENCE_SQUARED</th>\n",
       "      <th>ON_NET_REG_RATIO</th>\n",
       "    </tr>\n",
       "  </thead>\n",
       "  <tbody>\n",
       "    <tr>\n",
       "      <th>799472</th>\n",
       "      <td>K &gt; 24 month</td>\n",
       "      <td>1.022970</td>\n",
       "      <td>0.889686</td>\n",
       "      <td>1.127881</td>\n",
       "      <td>1.127710</td>\n",
       "      <td>1.927184</td>\n",
       "      <td>0.389218</td>\n",
       "      <td>-0.317321</td>\n",
       "      <td>-0.290984</td>\n",
       "      <td>-0.510194</td>\n",
       "      <td>-0.000005</td>\n",
       "      <td>0.723281</td>\n",
       "      <td>1.478598</td>\n",
       "      <td>-0.348810</td>\n",
       "      <td>239400.0</td>\n",
       "      <td>11751.5</td>\n",
       "      <td>1369.0</td>\n",
       "      <td>0.934426</td>\n",
       "    </tr>\n",
       "    <tr>\n",
       "      <th>295570</th>\n",
       "      <td>J 21-24 month</td>\n",
       "      <td>0.203177</td>\n",
       "      <td>0.139290</td>\n",
       "      <td>0.353855</td>\n",
       "      <td>0.353853</td>\n",
       "      <td>0.588023</td>\n",
       "      <td>0.875619</td>\n",
       "      <td>-0.393770</td>\n",
       "      <td>-0.541835</td>\n",
       "      <td>-0.586660</td>\n",
       "      <td>-0.000005</td>\n",
       "      <td>-0.230646</td>\n",
       "      <td>1.209397</td>\n",
       "      <td>-0.027868</td>\n",
       "      <td>87100.0</td>\n",
       "      <td>7139.0</td>\n",
       "      <td>441.0</td>\n",
       "      <td>0.072727</td>\n",
       "    </tr>\n",
       "    <tr>\n",
       "      <th>929179</th>\n",
       "      <td>K &gt; 24 month</td>\n",
       "      <td>0.473534</td>\n",
       "      <td>0.795886</td>\n",
       "      <td>0.460594</td>\n",
       "      <td>0.460592</td>\n",
       "      <td>0.839115</td>\n",
       "      <td>-0.337908</td>\n",
       "      <td>-0.074993</td>\n",
       "      <td>1.555015</td>\n",
       "      <td>2.930798</td>\n",
       "      <td>-0.000005</td>\n",
       "      <td>0.002364</td>\n",
       "      <td>1.523465</td>\n",
       "      <td>0.079113</td>\n",
       "      <td>165000.0</td>\n",
       "      <td>8226.0</td>\n",
       "      <td>576.0</td>\n",
       "      <td>3.629032</td>\n",
       "    </tr>\n",
       "    <tr>\n",
       "      <th>787349</th>\n",
       "      <td>K &gt; 24 month</td>\n",
       "      <td>-0.878252</td>\n",
       "      <td>-0.986303</td>\n",
       "      <td>-0.856875</td>\n",
       "      <td>-0.856709</td>\n",
       "      <td>-1.085930</td>\n",
       "      <td>-0.001634</td>\n",
       "      <td>-0.338958</td>\n",
       "      <td>-0.535403</td>\n",
       "      <td>0.002260</td>\n",
       "      <td>-0.000005</td>\n",
       "      <td>0.002364</td>\n",
       "      <td>1.074797</td>\n",
       "      <td>-0.883713</td>\n",
       "      <td>500.0</td>\n",
       "      <td>500.0</td>\n",
       "      <td>1.0</td>\n",
       "      <td>0.807692</td>\n",
       "    </tr>\n",
       "    <tr>\n",
       "      <th>965538</th>\n",
       "      <td>K &gt; 24 month</td>\n",
       "      <td>-0.948021</td>\n",
       "      <td>-0.986303</td>\n",
       "      <td>-0.928206</td>\n",
       "      <td>-0.928039</td>\n",
       "      <td>-1.085930</td>\n",
       "      <td>-0.309351</td>\n",
       "      <td>-0.388000</td>\n",
       "      <td>-0.612587</td>\n",
       "      <td>0.002260</td>\n",
       "      <td>-0.000005</td>\n",
       "      <td>0.002364</td>\n",
       "      <td>-0.944210</td>\n",
       "      <td>-0.883713</td>\n",
       "      <td>100.0</td>\n",
       "      <td>91.5</td>\n",
       "      <td>1.0</td>\n",
       "      <td>1.142857</td>\n",
       "    </tr>\n",
       "  </tbody>\n",
       "</table>\n",
       "</div>"
      ],
      "text/plain": [
       "               TENURE   MONTANT  FREQUENCE_RECH   REVENUE  ARPU_SEGMENT  \\\n",
       "799472   K > 24 month  1.022970        0.889686  1.127881      1.127710   \n",
       "295570  J 21-24 month  0.203177        0.139290  0.353855      0.353853   \n",
       "929179   K > 24 month  0.473534        0.795886  0.460594      0.460592   \n",
       "787349   K > 24 month -0.878252       -0.986303 -0.856875     -0.856709   \n",
       "965538   K > 24 month -0.948021       -0.986303 -0.928206     -0.928039   \n",
       "\n",
       "        FREQUENCE  DATA_VOLUME    ON_NET    ORANGE      TIGO     ZONE1  \\\n",
       "799472   1.927184     0.389218 -0.317321 -0.290984 -0.510194 -0.000005   \n",
       "295570   0.588023     0.875619 -0.393770 -0.541835 -0.586660 -0.000005   \n",
       "929179   0.839115    -0.337908 -0.074993  1.555015  2.930798 -0.000005   \n",
       "787349  -1.085930    -0.001634 -0.338958 -0.535403  0.002260 -0.000005   \n",
       "965538  -1.085930    -0.309351 -0.388000 -0.612587  0.002260 -0.000005   \n",
       "\n",
       "           ZONE2  REGULARITY  FREQ_TOP_PACK  TOTAL_RECHARGE  \\\n",
       "799472  0.723281    1.478598      -0.348810        239400.0   \n",
       "295570 -0.230646    1.209397      -0.027868         87100.0   \n",
       "929179  0.002364    1.523465       0.079113        165000.0   \n",
       "787349  0.002364    1.074797      -0.883713           500.0   \n",
       "965538  0.002364   -0.944210      -0.883713           100.0   \n",
       "\n",
       "        AVG_REVENUE_MONTANT  FREQUENCE_SQUARED  ON_NET_REG_RATIO  \n",
       "799472              11751.5             1369.0          0.934426  \n",
       "295570               7139.0              441.0          0.072727  \n",
       "929179               8226.0              576.0          3.629032  \n",
       "787349                500.0                1.0          0.807692  \n",
       "965538                 91.5                1.0          1.142857  "
      ]
     },
     "execution_count": 47,
     "metadata": {},
     "output_type": "execute_result"
    }
   ],
   "source": [
    "X_train.head()"
   ]
  },
  {
   "cell_type": "code",
   "execution_count": 48,
   "metadata": {},
   "outputs": [],
   "source": [
    "X_test[num_cols] = scaler.transform(X_test[num_cols])"
   ]
  },
  {
   "cell_type": "code",
   "execution_count": 49,
   "metadata": {},
   "outputs": [
    {
     "data": {
      "text/html": [
       "<div>\n",
       "<style scoped>\n",
       "    .dataframe tbody tr th:only-of-type {\n",
       "        vertical-align: middle;\n",
       "    }\n",
       "\n",
       "    .dataframe tbody tr th {\n",
       "        vertical-align: top;\n",
       "    }\n",
       "\n",
       "    .dataframe thead th {\n",
       "        text-align: right;\n",
       "    }\n",
       "</style>\n",
       "<table border=\"1\" class=\"dataframe\">\n",
       "  <thead>\n",
       "    <tr style=\"text-align: right;\">\n",
       "      <th></th>\n",
       "      <th>TENURE</th>\n",
       "      <th>MONTANT</th>\n",
       "      <th>FREQUENCE_RECH</th>\n",
       "      <th>REVENUE</th>\n",
       "      <th>ARPU_SEGMENT</th>\n",
       "      <th>FREQUENCE</th>\n",
       "      <th>DATA_VOLUME</th>\n",
       "      <th>ON_NET</th>\n",
       "      <th>ORANGE</th>\n",
       "      <th>TIGO</th>\n",
       "      <th>ZONE1</th>\n",
       "      <th>ZONE2</th>\n",
       "      <th>REGULARITY</th>\n",
       "      <th>FREQ_TOP_PACK</th>\n",
       "      <th>TOTAL_RECHARGE</th>\n",
       "      <th>AVG_REVENUE_MONTANT</th>\n",
       "      <th>FREQUENCE_SQUARED</th>\n",
       "      <th>ON_NET_REG_RATIO</th>\n",
       "    </tr>\n",
       "  </thead>\n",
       "  <tbody>\n",
       "    <tr>\n",
       "      <th>711285</th>\n",
       "      <td>K &gt; 24 month</td>\n",
       "      <td>-0.001037</td>\n",
       "      <td>0.000819</td>\n",
       "      <td>-0.000563</td>\n",
       "      <td>-0.000563</td>\n",
       "      <td>-3.557674e-08</td>\n",
       "      <td>-0.348940</td>\n",
       "      <td>0.000108</td>\n",
       "      <td>-0.000508</td>\n",
       "      <td>0.002260</td>\n",
       "      <td>-0.000005</td>\n",
       "      <td>0.002364</td>\n",
       "      <td>-0.495542</td>\n",
       "      <td>0.000209</td>\n",
       "      <td>63717.275282</td>\n",
       "      <td>5517.630847</td>\n",
       "      <td>195.284932</td>\n",
       "      <td>16.297988</td>\n",
       "    </tr>\n",
       "    <tr>\n",
       "      <th>997846</th>\n",
       "      <td>K &gt; 24 month</td>\n",
       "      <td>-0.703828</td>\n",
       "      <td>-0.329707</td>\n",
       "      <td>-0.685820</td>\n",
       "      <td>-0.685824</td>\n",
       "      <td>-5.000463e-01</td>\n",
       "      <td>-0.314815</td>\n",
       "      <td>-0.213467</td>\n",
       "      <td>-0.528970</td>\n",
       "      <td>-0.229817</td>\n",
       "      <td>-0.000005</td>\n",
       "      <td>0.002364</td>\n",
       "      <td>-0.630142</td>\n",
       "      <td>-0.776733</td>\n",
       "      <td>12000.000000</td>\n",
       "      <td>1500.000000</td>\n",
       "      <td>64.000000</td>\n",
       "      <td>9.214286</td>\n",
       "    </tr>\n",
       "    <tr>\n",
       "      <th>873285</th>\n",
       "      <td>K &gt; 24 month</td>\n",
       "      <td>0.272946</td>\n",
       "      <td>0.983485</td>\n",
       "      <td>0.358473</td>\n",
       "      <td>0.358471</td>\n",
       "      <td>1.173906e+00</td>\n",
       "      <td>-0.001634</td>\n",
       "      <td>0.799118</td>\n",
       "      <td>0.937538</td>\n",
       "      <td>-0.535682</td>\n",
       "      <td>-0.000005</td>\n",
       "      <td>0.002364</td>\n",
       "      <td>0.670995</td>\n",
       "      <td>1.041940</td>\n",
       "      <td>156200.000000</td>\n",
       "      <td>7352.500000</td>\n",
       "      <td>784.000000</td>\n",
       "      <td>19.325581</td>\n",
       "    </tr>\n",
       "    <tr>\n",
       "      <th>945973</th>\n",
       "      <td>K &gt; 24 month</td>\n",
       "      <td>-0.001037</td>\n",
       "      <td>0.000819</td>\n",
       "      <td>-0.000563</td>\n",
       "      <td>-0.000563</td>\n",
       "      <td>-3.557674e-08</td>\n",
       "      <td>-0.348940</td>\n",
       "      <td>0.000108</td>\n",
       "      <td>-0.000508</td>\n",
       "      <td>0.002260</td>\n",
       "      <td>-0.000005</td>\n",
       "      <td>0.002364</td>\n",
       "      <td>0.356928</td>\n",
       "      <td>0.000209</td>\n",
       "      <td>63717.275282</td>\n",
       "      <td>5517.630847</td>\n",
       "      <td>195.284932</td>\n",
       "      <td>7.696272</td>\n",
       "    </tr>\n",
       "    <tr>\n",
       "      <th>1063939</th>\n",
       "      <td>K &gt; 24 month</td>\n",
       "      <td>-0.001037</td>\n",
       "      <td>0.000819</td>\n",
       "      <td>-0.000563</td>\n",
       "      <td>-0.000563</td>\n",
       "      <td>-3.557674e-08</td>\n",
       "      <td>-0.001634</td>\n",
       "      <td>0.000108</td>\n",
       "      <td>-0.000508</td>\n",
       "      <td>0.002260</td>\n",
       "      <td>-0.000005</td>\n",
       "      <td>0.002364</td>\n",
       "      <td>-0.944210</td>\n",
       "      <td>0.000209</td>\n",
       "      <td>63717.275282</td>\n",
       "      <td>5517.630847</td>\n",
       "      <td>195.284932</td>\n",
       "      <td>39.580828</td>\n",
       "    </tr>\n",
       "  </tbody>\n",
       "</table>\n",
       "</div>"
      ],
      "text/plain": [
       "               TENURE   MONTANT  FREQUENCE_RECH   REVENUE  ARPU_SEGMENT  \\\n",
       "711285   K > 24 month -0.001037        0.000819 -0.000563     -0.000563   \n",
       "997846   K > 24 month -0.703828       -0.329707 -0.685820     -0.685824   \n",
       "873285   K > 24 month  0.272946        0.983485  0.358473      0.358471   \n",
       "945973   K > 24 month -0.001037        0.000819 -0.000563     -0.000563   \n",
       "1063939  K > 24 month -0.001037        0.000819 -0.000563     -0.000563   \n",
       "\n",
       "            FREQUENCE  DATA_VOLUME    ON_NET    ORANGE      TIGO     ZONE1  \\\n",
       "711285  -3.557674e-08    -0.348940  0.000108 -0.000508  0.002260 -0.000005   \n",
       "997846  -5.000463e-01    -0.314815 -0.213467 -0.528970 -0.229817 -0.000005   \n",
       "873285   1.173906e+00    -0.001634  0.799118  0.937538 -0.535682 -0.000005   \n",
       "945973  -3.557674e-08    -0.348940  0.000108 -0.000508  0.002260 -0.000005   \n",
       "1063939 -3.557674e-08    -0.001634  0.000108 -0.000508  0.002260 -0.000005   \n",
       "\n",
       "            ZONE2  REGULARITY  FREQ_TOP_PACK  TOTAL_RECHARGE  \\\n",
       "711285   0.002364   -0.495542       0.000209    63717.275282   \n",
       "997846   0.002364   -0.630142      -0.776733    12000.000000   \n",
       "873285   0.002364    0.670995       1.041940   156200.000000   \n",
       "945973   0.002364    0.356928       0.000209    63717.275282   \n",
       "1063939  0.002364   -0.944210       0.000209    63717.275282   \n",
       "\n",
       "         AVG_REVENUE_MONTANT  FREQUENCE_SQUARED  ON_NET_REG_RATIO  \n",
       "711285           5517.630847         195.284932         16.297988  \n",
       "997846           1500.000000          64.000000          9.214286  \n",
       "873285           7352.500000         784.000000         19.325581  \n",
       "945973           5517.630847         195.284932          7.696272  \n",
       "1063939          5517.630847         195.284932         39.580828  "
      ]
     },
     "execution_count": 49,
     "metadata": {},
     "output_type": "execute_result"
    }
   ],
   "source": [
    "X_test.head()"
   ]
  },
  {
   "cell_type": "code",
   "execution_count": 50,
   "metadata": {},
   "outputs": [],
   "source": [
    "test[num_cols] = scaler.transform(test[num_cols])"
   ]
  },
  {
   "cell_type": "code",
   "execution_count": 51,
   "metadata": {},
   "outputs": [
    {
     "data": {
      "text/html": [
       "<div>\n",
       "<style scoped>\n",
       "    .dataframe tbody tr th:only-of-type {\n",
       "        vertical-align: middle;\n",
       "    }\n",
       "\n",
       "    .dataframe tbody tr th {\n",
       "        vertical-align: top;\n",
       "    }\n",
       "\n",
       "    .dataframe thead th {\n",
       "        text-align: right;\n",
       "    }\n",
       "</style>\n",
       "<table border=\"1\" class=\"dataframe\">\n",
       "  <thead>\n",
       "    <tr style=\"text-align: right;\">\n",
       "      <th></th>\n",
       "      <th>TENURE</th>\n",
       "      <th>MONTANT</th>\n",
       "      <th>FREQUENCE_RECH</th>\n",
       "      <th>REVENUE</th>\n",
       "      <th>ARPU_SEGMENT</th>\n",
       "      <th>FREQUENCE</th>\n",
       "      <th>DATA_VOLUME</th>\n",
       "      <th>ON_NET</th>\n",
       "      <th>ORANGE</th>\n",
       "      <th>TIGO</th>\n",
       "      <th>ZONE1</th>\n",
       "      <th>ZONE2</th>\n",
       "      <th>REGULARITY</th>\n",
       "      <th>FREQ_TOP_PACK</th>\n",
       "      <th>TOTAL_RECHARGE</th>\n",
       "      <th>AVG_REVENUE_MONTANT</th>\n",
       "      <th>FREQUENCE_SQUARED</th>\n",
       "      <th>ON_NET_REG_RATIO</th>\n",
       "    </tr>\n",
       "  </thead>\n",
       "  <tbody>\n",
       "    <tr>\n",
       "      <th>0</th>\n",
       "      <td>I 18-21 month</td>\n",
       "      <td>-0.529404</td>\n",
       "      <td>-0.611105</td>\n",
       "      <td>-0.514765</td>\n",
       "      <td>-0.514940</td>\n",
       "      <td>-0.751139</td>\n",
       "      <td>-0.348940</td>\n",
       "      <td>-0.307224</td>\n",
       "      <td>-0.162343</td>\n",
       "      <td>-0.001634</td>\n",
       "      <td>-0.002870</td>\n",
       "      <td>0.000606</td>\n",
       "      <td>0.312061</td>\n",
       "      <td>-0.455791</td>\n",
       "      <td>12500.000000</td>\n",
       "      <td>2500.000000</td>\n",
       "      <td>25.000000</td>\n",
       "      <td>1.828571</td>\n",
       "    </tr>\n",
       "    <tr>\n",
       "      <th>1</th>\n",
       "      <td>K &gt; 24 month</td>\n",
       "      <td>-0.004990</td>\n",
       "      <td>-0.002915</td>\n",
       "      <td>-0.003953</td>\n",
       "      <td>-0.003953</td>\n",
       "      <td>-0.002910</td>\n",
       "      <td>-0.002704</td>\n",
       "      <td>0.006086</td>\n",
       "      <td>-0.004040</td>\n",
       "      <td>-0.001634</td>\n",
       "      <td>-0.002870</td>\n",
       "      <td>0.000606</td>\n",
       "      <td>-1.168544</td>\n",
       "      <td>-0.002799</td>\n",
       "      <td>63236.865923</td>\n",
       "      <td>5496.390588</td>\n",
       "      <td>194.314408</td>\n",
       "      <td>140.605307</td>\n",
       "    </tr>\n",
       "    <tr>\n",
       "      <th>2</th>\n",
       "      <td>K &gt; 24 month</td>\n",
       "      <td>-0.004990</td>\n",
       "      <td>-0.002915</td>\n",
       "      <td>-0.003953</td>\n",
       "      <td>-0.003953</td>\n",
       "      <td>-0.002910</td>\n",
       "      <td>-0.348940</td>\n",
       "      <td>0.006086</td>\n",
       "      <td>-0.004040</td>\n",
       "      <td>-0.001634</td>\n",
       "      <td>-0.002870</td>\n",
       "      <td>0.000606</td>\n",
       "      <td>-0.271208</td>\n",
       "      <td>-0.002799</td>\n",
       "      <td>63236.865923</td>\n",
       "      <td>5496.390588</td>\n",
       "      <td>194.314408</td>\n",
       "      <td>12.782301</td>\n",
       "    </tr>\n",
       "    <tr>\n",
       "      <th>3</th>\n",
       "      <td>K &gt; 24 month</td>\n",
       "      <td>-0.004990</td>\n",
       "      <td>-0.002915</td>\n",
       "      <td>-0.003953</td>\n",
       "      <td>-0.003953</td>\n",
       "      <td>-0.002910</td>\n",
       "      <td>-0.002704</td>\n",
       "      <td>0.006086</td>\n",
       "      <td>-0.004040</td>\n",
       "      <td>-0.001634</td>\n",
       "      <td>-0.002870</td>\n",
       "      <td>0.000606</td>\n",
       "      <td>-0.989077</td>\n",
       "      <td>-0.002799</td>\n",
       "      <td>63236.865923</td>\n",
       "      <td>5496.390588</td>\n",
       "      <td>194.314408</td>\n",
       "      <td>46.868436</td>\n",
       "    </tr>\n",
       "    <tr>\n",
       "      <th>4</th>\n",
       "      <td>K &gt; 24 month</td>\n",
       "      <td>-0.075902</td>\n",
       "      <td>-0.423506</td>\n",
       "      <td>0.021836</td>\n",
       "      <td>0.021834</td>\n",
       "      <td>0.085837</td>\n",
       "      <td>0.453446</td>\n",
       "      <td>-0.356267</td>\n",
       "      <td>-0.458218</td>\n",
       "      <td>-0.586660</td>\n",
       "      <td>-0.729836</td>\n",
       "      <td>0.000606</td>\n",
       "      <td>1.433731</td>\n",
       "      <td>-0.562771</td>\n",
       "      <td>35700.000000</td>\n",
       "      <td>5368.500000</td>\n",
       "      <td>225.000000</td>\n",
       "      <td>0.500000</td>\n",
       "    </tr>\n",
       "  </tbody>\n",
       "</table>\n",
       "</div>"
      ],
      "text/plain": [
       "          TENURE   MONTANT  FREQUENCE_RECH   REVENUE  ARPU_SEGMENT  FREQUENCE  \\\n",
       "0  I 18-21 month -0.529404       -0.611105 -0.514765     -0.514940  -0.751139   \n",
       "1   K > 24 month -0.004990       -0.002915 -0.003953     -0.003953  -0.002910   \n",
       "2   K > 24 month -0.004990       -0.002915 -0.003953     -0.003953  -0.002910   \n",
       "3   K > 24 month -0.004990       -0.002915 -0.003953     -0.003953  -0.002910   \n",
       "4   K > 24 month -0.075902       -0.423506  0.021836      0.021834   0.085837   \n",
       "\n",
       "   DATA_VOLUME    ON_NET    ORANGE      TIGO     ZONE1     ZONE2  REGULARITY  \\\n",
       "0    -0.348940 -0.307224 -0.162343 -0.001634 -0.002870  0.000606    0.312061   \n",
       "1    -0.002704  0.006086 -0.004040 -0.001634 -0.002870  0.000606   -1.168544   \n",
       "2    -0.348940  0.006086 -0.004040 -0.001634 -0.002870  0.000606   -0.271208   \n",
       "3    -0.002704  0.006086 -0.004040 -0.001634 -0.002870  0.000606   -0.989077   \n",
       "4     0.453446 -0.356267 -0.458218 -0.586660 -0.729836  0.000606    1.433731   \n",
       "\n",
       "   FREQ_TOP_PACK  TOTAL_RECHARGE  AVG_REVENUE_MONTANT  FREQUENCE_SQUARED  \\\n",
       "0      -0.455791    12500.000000          2500.000000          25.000000   \n",
       "1      -0.002799    63236.865923          5496.390588         194.314408   \n",
       "2      -0.002799    63236.865923          5496.390588         194.314408   \n",
       "3      -0.002799    63236.865923          5496.390588         194.314408   \n",
       "4      -0.562771    35700.000000          5368.500000         225.000000   \n",
       "\n",
       "   ON_NET_REG_RATIO  \n",
       "0          1.828571  \n",
       "1        140.605307  \n",
       "2         12.782301  \n",
       "3         46.868436  \n",
       "4          0.500000  "
      ]
     },
     "execution_count": 51,
     "metadata": {},
     "output_type": "execute_result"
    }
   ],
   "source": [
    "test.head()"
   ]
  },
  {
   "cell_type": "code",
   "execution_count": 52,
   "metadata": {},
   "outputs": [],
   "source": [
    "X_val[num_cols] = scaler.transform(X_val[num_cols])"
   ]
  },
  {
   "cell_type": "code",
   "execution_count": 53,
   "metadata": {},
   "outputs": [
    {
     "data": {
      "text/html": [
       "<div>\n",
       "<style scoped>\n",
       "    .dataframe tbody tr th:only-of-type {\n",
       "        vertical-align: middle;\n",
       "    }\n",
       "\n",
       "    .dataframe tbody tr th {\n",
       "        vertical-align: top;\n",
       "    }\n",
       "\n",
       "    .dataframe thead th {\n",
       "        text-align: right;\n",
       "    }\n",
       "</style>\n",
       "<table border=\"1\" class=\"dataframe\">\n",
       "  <thead>\n",
       "    <tr style=\"text-align: right;\">\n",
       "      <th></th>\n",
       "      <th>TENURE</th>\n",
       "      <th>MONTANT</th>\n",
       "      <th>FREQUENCE_RECH</th>\n",
       "      <th>REVENUE</th>\n",
       "      <th>ARPU_SEGMENT</th>\n",
       "      <th>FREQUENCE</th>\n",
       "      <th>DATA_VOLUME</th>\n",
       "      <th>ON_NET</th>\n",
       "      <th>ORANGE</th>\n",
       "      <th>TIGO</th>\n",
       "      <th>ZONE1</th>\n",
       "      <th>ZONE2</th>\n",
       "      <th>REGULARITY</th>\n",
       "      <th>FREQ_TOP_PACK</th>\n",
       "      <th>TOTAL_RECHARGE</th>\n",
       "      <th>AVG_REVENUE_MONTANT</th>\n",
       "      <th>FREQUENCE_SQUARED</th>\n",
       "      <th>ON_NET_REG_RATIO</th>\n",
       "    </tr>\n",
       "  </thead>\n",
       "  <tbody>\n",
       "    <tr>\n",
       "      <th>917325</th>\n",
       "      <td>K &gt; 24 month</td>\n",
       "      <td>-0.001037</td>\n",
       "      <td>0.000819</td>\n",
       "      <td>-0.000563</td>\n",
       "      <td>-0.000563</td>\n",
       "      <td>-3.557674e-08</td>\n",
       "      <td>-0.001634</td>\n",
       "      <td>0.000108</td>\n",
       "      <td>-0.000508</td>\n",
       "      <td>0.00226</td>\n",
       "      <td>-0.000005</td>\n",
       "      <td>0.002364</td>\n",
       "      <td>-1.213411</td>\n",
       "      <td>0.000209</td>\n",
       "      <td>63717.275282</td>\n",
       "      <td>5517.630847</td>\n",
       "      <td>195.284932</td>\n",
       "      <td>277.065798</td>\n",
       "    </tr>\n",
       "    <tr>\n",
       "      <th>694916</th>\n",
       "      <td>K &gt; 24 month</td>\n",
       "      <td>-0.001037</td>\n",
       "      <td>0.000819</td>\n",
       "      <td>-0.000563</td>\n",
       "      <td>-0.000563</td>\n",
       "      <td>-3.557674e-08</td>\n",
       "      <td>-0.001634</td>\n",
       "      <td>0.000108</td>\n",
       "      <td>-0.000508</td>\n",
       "      <td>0.00226</td>\n",
       "      <td>-0.000005</td>\n",
       "      <td>0.002364</td>\n",
       "      <td>-0.809609</td>\n",
       "      <td>-0.883713</td>\n",
       "      <td>63717.275282</td>\n",
       "      <td>5517.630847</td>\n",
       "      <td>195.284932</td>\n",
       "      <td>27.706580</td>\n",
       "    </tr>\n",
       "    <tr>\n",
       "      <th>1023253</th>\n",
       "      <td>K &gt; 24 month</td>\n",
       "      <td>-0.001037</td>\n",
       "      <td>0.000819</td>\n",
       "      <td>-0.000563</td>\n",
       "      <td>-0.000563</td>\n",
       "      <td>-3.557674e-08</td>\n",
       "      <td>-0.001634</td>\n",
       "      <td>0.000108</td>\n",
       "      <td>-0.000508</td>\n",
       "      <td>0.00226</td>\n",
       "      <td>-0.000005</td>\n",
       "      <td>0.002364</td>\n",
       "      <td>-1.213411</td>\n",
       "      <td>0.000209</td>\n",
       "      <td>63717.275282</td>\n",
       "      <td>5517.630847</td>\n",
       "      <td>195.284932</td>\n",
       "      <td>277.065798</td>\n",
       "    </tr>\n",
       "    <tr>\n",
       "      <th>584285</th>\n",
       "      <td>K &gt; 24 month</td>\n",
       "      <td>-0.703828</td>\n",
       "      <td>-0.611105</td>\n",
       "      <td>-0.685991</td>\n",
       "      <td>-0.685824</td>\n",
       "      <td>-6.674415e-01</td>\n",
       "      <td>-0.347805</td>\n",
       "      <td>-0.383673</td>\n",
       "      <td>-0.368169</td>\n",
       "      <td>0.00226</td>\n",
       "      <td>-0.000005</td>\n",
       "      <td>0.002364</td>\n",
       "      <td>-0.630142</td>\n",
       "      <td>-0.776733</td>\n",
       "      <td>7500.000000</td>\n",
       "      <td>1499.500000</td>\n",
       "      <td>36.000000</td>\n",
       "      <td>0.785714</td>\n",
       "    </tr>\n",
       "    <tr>\n",
       "      <th>446284</th>\n",
       "      <td>K &gt; 24 month</td>\n",
       "      <td>0.464813</td>\n",
       "      <td>1.264883</td>\n",
       "      <td>0.499423</td>\n",
       "      <td>0.499592</td>\n",
       "      <td>1.090208e+00</td>\n",
       "      <td>-0.348940</td>\n",
       "      <td>1.100586</td>\n",
       "      <td>0.204284</td>\n",
       "      <td>0.00226</td>\n",
       "      <td>-0.000005</td>\n",
       "      <td>0.002364</td>\n",
       "      <td>1.523465</td>\n",
       "      <td>-0.134848</td>\n",
       "      <td>205000.000000</td>\n",
       "      <td>8314.500000</td>\n",
       "      <td>729.000000</td>\n",
       "      <td>16.774194</td>\n",
       "    </tr>\n",
       "  </tbody>\n",
       "</table>\n",
       "</div>"
      ],
      "text/plain": [
       "               TENURE   MONTANT  FREQUENCE_RECH   REVENUE  ARPU_SEGMENT  \\\n",
       "917325   K > 24 month -0.001037        0.000819 -0.000563     -0.000563   \n",
       "694916   K > 24 month -0.001037        0.000819 -0.000563     -0.000563   \n",
       "1023253  K > 24 month -0.001037        0.000819 -0.000563     -0.000563   \n",
       "584285   K > 24 month -0.703828       -0.611105 -0.685991     -0.685824   \n",
       "446284   K > 24 month  0.464813        1.264883  0.499423      0.499592   \n",
       "\n",
       "            FREQUENCE  DATA_VOLUME    ON_NET    ORANGE     TIGO     ZONE1  \\\n",
       "917325  -3.557674e-08    -0.001634  0.000108 -0.000508  0.00226 -0.000005   \n",
       "694916  -3.557674e-08    -0.001634  0.000108 -0.000508  0.00226 -0.000005   \n",
       "1023253 -3.557674e-08    -0.001634  0.000108 -0.000508  0.00226 -0.000005   \n",
       "584285  -6.674415e-01    -0.347805 -0.383673 -0.368169  0.00226 -0.000005   \n",
       "446284   1.090208e+00    -0.348940  1.100586  0.204284  0.00226 -0.000005   \n",
       "\n",
       "            ZONE2  REGULARITY  FREQ_TOP_PACK  TOTAL_RECHARGE  \\\n",
       "917325   0.002364   -1.213411       0.000209    63717.275282   \n",
       "694916   0.002364   -0.809609      -0.883713    63717.275282   \n",
       "1023253  0.002364   -1.213411       0.000209    63717.275282   \n",
       "584285   0.002364   -0.630142      -0.776733     7500.000000   \n",
       "446284   0.002364    1.523465      -0.134848   205000.000000   \n",
       "\n",
       "         AVG_REVENUE_MONTANT  FREQUENCE_SQUARED  ON_NET_REG_RATIO  \n",
       "917325           5517.630847         195.284932        277.065798  \n",
       "694916           5517.630847         195.284932         27.706580  \n",
       "1023253          5517.630847         195.284932        277.065798  \n",
       "584285           1499.500000          36.000000          0.785714  \n",
       "446284           8314.500000         729.000000         16.774194  "
      ]
     },
     "execution_count": 53,
     "metadata": {},
     "output_type": "execute_result"
    }
   ],
   "source": [
    "X_val.head()"
   ]
  },
  {
   "cell_type": "code",
   "execution_count": 54,
   "metadata": {},
   "outputs": [],
   "source": [
    "#Encode the TENURE column"
   ]
  },
  {
   "cell_type": "code",
   "execution_count": 55,
   "metadata": {},
   "outputs": [],
   "source": [
    "encoder = LabelEncoder()\n",
    "X_train[\"TENURE\"] = encoder.fit_transform(X_train[\"TENURE\"])"
   ]
  },
  {
   "cell_type": "code",
   "execution_count": 56,
   "metadata": {},
   "outputs": [],
   "source": [
    "X_test[\"TENURE\"] = encoder.transform(X_test[\"TENURE\"])"
   ]
  },
  {
   "cell_type": "code",
   "execution_count": 57,
   "metadata": {},
   "outputs": [],
   "source": [
    "X_val['TENURE'] = encoder.transform(X_val[\"TENURE\"])"
   ]
  },
  {
   "cell_type": "code",
   "execution_count": 58,
   "metadata": {},
   "outputs": [],
   "source": [
    "test['TENURE'] = encoder.transform(test[\"TENURE\"])"
   ]
  },
  {
   "cell_type": "markdown",
   "metadata": {},
   "source": [
    "### Question 2 Balancing the Dataset"
   ]
  },
  {
   "cell_type": "code",
   "execution_count": 59,
   "metadata": {},
   "outputs": [
    {
     "name": "stdout",
     "output_type": "stream",
     "text": [
      "Class distribution before balancing:\n",
      "0    306308\n",
      "1     70650\n",
      "Name: CHURN, dtype: int64\n"
     ]
    }
   ],
   "source": [
    "# Display the class distribution before balancing\n",
    "print(\"Class distribution before balancing:\")\n",
    "print(y_train.value_counts())\n"
   ]
  },
  {
   "cell_type": "code",
   "execution_count": 60,
   "metadata": {},
   "outputs": [
    {
     "name": "stdout",
     "output_type": "stream",
     "text": [
      "\n",
      "Class distribution after balancing:\n",
      "0    306308\n",
      "1    306308\n",
      "Name: CHURN, dtype: int64\n"
     ]
    }
   ],
   "source": [
    "# Create an oversampler\n",
    "oversampler = RandomOverSampler(sampling_strategy='auto')\n",
    "\n",
    "# Apply the oversampling\n",
    "X_resampled, y_resampled = oversampler.fit_resample(X_train, y_train)\n",
    "\n",
    "# Create a new balanced DataFrame\n",
    "balanced_X_train = pd.DataFrame(X_resampled, columns=X_train.columns)\n",
    "balanced_y_train = pd.Series(y_resampled, name='CHURN')\n",
    "\n",
    "# Display the class distribution after balancing\n",
    "print(\"\\nClass distribution after balancing:\")\n",
    "print(balanced_y_train.value_counts())"
   ]
  },
  {
   "cell_type": "code",
   "execution_count": 61,
   "metadata": {},
   "outputs": [
    {
     "data": {
      "text/html": [
       "<div>\n",
       "<style scoped>\n",
       "    .dataframe tbody tr th:only-of-type {\n",
       "        vertical-align: middle;\n",
       "    }\n",
       "\n",
       "    .dataframe tbody tr th {\n",
       "        vertical-align: top;\n",
       "    }\n",
       "\n",
       "    .dataframe thead th {\n",
       "        text-align: right;\n",
       "    }\n",
       "</style>\n",
       "<table border=\"1\" class=\"dataframe\">\n",
       "  <thead>\n",
       "    <tr style=\"text-align: right;\">\n",
       "      <th></th>\n",
       "      <th>TENURE</th>\n",
       "      <th>MONTANT</th>\n",
       "      <th>FREQUENCE_RECH</th>\n",
       "      <th>REVENUE</th>\n",
       "      <th>ARPU_SEGMENT</th>\n",
       "      <th>FREQUENCE</th>\n",
       "      <th>DATA_VOLUME</th>\n",
       "      <th>ON_NET</th>\n",
       "      <th>ORANGE</th>\n",
       "      <th>TIGO</th>\n",
       "      <th>ZONE1</th>\n",
       "      <th>ZONE2</th>\n",
       "      <th>REGULARITY</th>\n",
       "      <th>FREQ_TOP_PACK</th>\n",
       "      <th>TOTAL_RECHARGE</th>\n",
       "      <th>AVG_REVENUE_MONTANT</th>\n",
       "      <th>FREQUENCE_SQUARED</th>\n",
       "      <th>ON_NET_REG_RATIO</th>\n",
       "    </tr>\n",
       "  </thead>\n",
       "  <tbody>\n",
       "    <tr>\n",
       "      <th>0</th>\n",
       "      <td>7</td>\n",
       "      <td>1.022970</td>\n",
       "      <td>0.889686</td>\n",
       "      <td>1.127881</td>\n",
       "      <td>1.127710</td>\n",
       "      <td>1.927184e+00</td>\n",
       "      <td>0.389218</td>\n",
       "      <td>-0.317321</td>\n",
       "      <td>-0.290984</td>\n",
       "      <td>-0.510194</td>\n",
       "      <td>-0.000005</td>\n",
       "      <td>0.723281</td>\n",
       "      <td>1.478598</td>\n",
       "      <td>-0.348810</td>\n",
       "      <td>239400.000000</td>\n",
       "      <td>11751.500000</td>\n",
       "      <td>1369.000000</td>\n",
       "      <td>0.934426</td>\n",
       "    </tr>\n",
       "    <tr>\n",
       "      <th>1</th>\n",
       "      <td>6</td>\n",
       "      <td>0.203177</td>\n",
       "      <td>0.139290</td>\n",
       "      <td>0.353855</td>\n",
       "      <td>0.353853</td>\n",
       "      <td>5.880227e-01</td>\n",
       "      <td>0.875619</td>\n",
       "      <td>-0.393770</td>\n",
       "      <td>-0.541835</td>\n",
       "      <td>-0.586660</td>\n",
       "      <td>-0.000005</td>\n",
       "      <td>-0.230646</td>\n",
       "      <td>1.209397</td>\n",
       "      <td>-0.027868</td>\n",
       "      <td>87100.000000</td>\n",
       "      <td>7139.000000</td>\n",
       "      <td>441.000000</td>\n",
       "      <td>0.072727</td>\n",
       "    </tr>\n",
       "    <tr>\n",
       "      <th>2</th>\n",
       "      <td>7</td>\n",
       "      <td>0.473534</td>\n",
       "      <td>0.795886</td>\n",
       "      <td>0.460594</td>\n",
       "      <td>0.460592</td>\n",
       "      <td>8.391155e-01</td>\n",
       "      <td>-0.337908</td>\n",
       "      <td>-0.074993</td>\n",
       "      <td>1.555015</td>\n",
       "      <td>2.930798</td>\n",
       "      <td>-0.000005</td>\n",
       "      <td>0.002364</td>\n",
       "      <td>1.523465</td>\n",
       "      <td>0.079113</td>\n",
       "      <td>165000.000000</td>\n",
       "      <td>8226.000000</td>\n",
       "      <td>576.000000</td>\n",
       "      <td>3.629032</td>\n",
       "    </tr>\n",
       "    <tr>\n",
       "      <th>3</th>\n",
       "      <td>7</td>\n",
       "      <td>-0.878252</td>\n",
       "      <td>-0.986303</td>\n",
       "      <td>-0.856875</td>\n",
       "      <td>-0.856709</td>\n",
       "      <td>-1.085930e+00</td>\n",
       "      <td>-0.001634</td>\n",
       "      <td>-0.338958</td>\n",
       "      <td>-0.535403</td>\n",
       "      <td>0.002260</td>\n",
       "      <td>-0.000005</td>\n",
       "      <td>0.002364</td>\n",
       "      <td>1.074797</td>\n",
       "      <td>-0.883713</td>\n",
       "      <td>500.000000</td>\n",
       "      <td>500.000000</td>\n",
       "      <td>1.000000</td>\n",
       "      <td>0.807692</td>\n",
       "    </tr>\n",
       "    <tr>\n",
       "      <th>4</th>\n",
       "      <td>7</td>\n",
       "      <td>-0.948021</td>\n",
       "      <td>-0.986303</td>\n",
       "      <td>-0.928206</td>\n",
       "      <td>-0.928039</td>\n",
       "      <td>-1.085930e+00</td>\n",
       "      <td>-0.309351</td>\n",
       "      <td>-0.388000</td>\n",
       "      <td>-0.612587</td>\n",
       "      <td>0.002260</td>\n",
       "      <td>-0.000005</td>\n",
       "      <td>0.002364</td>\n",
       "      <td>-0.944210</td>\n",
       "      <td>-0.883713</td>\n",
       "      <td>100.000000</td>\n",
       "      <td>91.500000</td>\n",
       "      <td>1.000000</td>\n",
       "      <td>1.142857</td>\n",
       "    </tr>\n",
       "    <tr>\n",
       "      <th>...</th>\n",
       "      <td>...</td>\n",
       "      <td>...</td>\n",
       "      <td>...</td>\n",
       "      <td>...</td>\n",
       "      <td>...</td>\n",
       "      <td>...</td>\n",
       "      <td>...</td>\n",
       "      <td>...</td>\n",
       "      <td>...</td>\n",
       "      <td>...</td>\n",
       "      <td>...</td>\n",
       "      <td>...</td>\n",
       "      <td>...</td>\n",
       "      <td>...</td>\n",
       "      <td>...</td>\n",
       "      <td>...</td>\n",
       "      <td>...</td>\n",
       "      <td>...</td>\n",
       "    </tr>\n",
       "    <tr>\n",
       "      <th>612611</th>\n",
       "      <td>7</td>\n",
       "      <td>-0.001037</td>\n",
       "      <td>0.000819</td>\n",
       "      <td>-0.000563</td>\n",
       "      <td>-0.000563</td>\n",
       "      <td>-3.557674e-08</td>\n",
       "      <td>-0.001634</td>\n",
       "      <td>0.000108</td>\n",
       "      <td>-0.000508</td>\n",
       "      <td>0.002260</td>\n",
       "      <td>-0.000005</td>\n",
       "      <td>0.002364</td>\n",
       "      <td>-1.213411</td>\n",
       "      <td>0.000209</td>\n",
       "      <td>63717.275282</td>\n",
       "      <td>5517.630847</td>\n",
       "      <td>195.284932</td>\n",
       "      <td>277.065798</td>\n",
       "    </tr>\n",
       "    <tr>\n",
       "      <th>612612</th>\n",
       "      <td>7</td>\n",
       "      <td>-0.001037</td>\n",
       "      <td>0.000819</td>\n",
       "      <td>-0.000563</td>\n",
       "      <td>-0.000563</td>\n",
       "      <td>-3.557674e-08</td>\n",
       "      <td>-0.001634</td>\n",
       "      <td>0.000108</td>\n",
       "      <td>-0.000508</td>\n",
       "      <td>0.002260</td>\n",
       "      <td>-0.000005</td>\n",
       "      <td>0.002364</td>\n",
       "      <td>-1.168544</td>\n",
       "      <td>0.000209</td>\n",
       "      <td>63717.275282</td>\n",
       "      <td>5517.630847</td>\n",
       "      <td>195.284932</td>\n",
       "      <td>138.532899</td>\n",
       "    </tr>\n",
       "    <tr>\n",
       "      <th>612613</th>\n",
       "      <td>7</td>\n",
       "      <td>-0.001037</td>\n",
       "      <td>0.000819</td>\n",
       "      <td>-0.000563</td>\n",
       "      <td>-0.000563</td>\n",
       "      <td>-3.557674e-08</td>\n",
       "      <td>-0.001634</td>\n",
       "      <td>0.000108</td>\n",
       "      <td>-0.000508</td>\n",
       "      <td>0.002260</td>\n",
       "      <td>-0.000005</td>\n",
       "      <td>0.002364</td>\n",
       "      <td>-1.123677</td>\n",
       "      <td>0.000209</td>\n",
       "      <td>63717.275282</td>\n",
       "      <td>5517.630847</td>\n",
       "      <td>195.284932</td>\n",
       "      <td>92.355266</td>\n",
       "    </tr>\n",
       "    <tr>\n",
       "      <th>612614</th>\n",
       "      <td>4</td>\n",
       "      <td>-0.878252</td>\n",
       "      <td>-0.986303</td>\n",
       "      <td>-0.000563</td>\n",
       "      <td>-0.000563</td>\n",
       "      <td>-3.557674e-08</td>\n",
       "      <td>-0.001634</td>\n",
       "      <td>0.000108</td>\n",
       "      <td>-0.000508</td>\n",
       "      <td>0.002260</td>\n",
       "      <td>-0.000005</td>\n",
       "      <td>0.002364</td>\n",
       "      <td>-1.213411</td>\n",
       "      <td>0.000209</td>\n",
       "      <td>500.000000</td>\n",
       "      <td>3003.025399</td>\n",
       "      <td>195.284932</td>\n",
       "      <td>277.065798</td>\n",
       "    </tr>\n",
       "    <tr>\n",
       "      <th>612615</th>\n",
       "      <td>7</td>\n",
       "      <td>-0.001037</td>\n",
       "      <td>0.000819</td>\n",
       "      <td>-0.000563</td>\n",
       "      <td>-0.000563</td>\n",
       "      <td>-3.557674e-08</td>\n",
       "      <td>-0.001634</td>\n",
       "      <td>0.000108</td>\n",
       "      <td>-0.000508</td>\n",
       "      <td>0.002260</td>\n",
       "      <td>-0.000005</td>\n",
       "      <td>0.002364</td>\n",
       "      <td>-1.213411</td>\n",
       "      <td>0.000209</td>\n",
       "      <td>63717.275282</td>\n",
       "      <td>5517.630847</td>\n",
       "      <td>195.284932</td>\n",
       "      <td>277.065798</td>\n",
       "    </tr>\n",
       "  </tbody>\n",
       "</table>\n",
       "<p>612616 rows × 18 columns</p>\n",
       "</div>"
      ],
      "text/plain": [
       "        TENURE   MONTANT  FREQUENCE_RECH   REVENUE  ARPU_SEGMENT  \\\n",
       "0            7  1.022970        0.889686  1.127881      1.127710   \n",
       "1            6  0.203177        0.139290  0.353855      0.353853   \n",
       "2            7  0.473534        0.795886  0.460594      0.460592   \n",
       "3            7 -0.878252       -0.986303 -0.856875     -0.856709   \n",
       "4            7 -0.948021       -0.986303 -0.928206     -0.928039   \n",
       "...        ...       ...             ...       ...           ...   \n",
       "612611       7 -0.001037        0.000819 -0.000563     -0.000563   \n",
       "612612       7 -0.001037        0.000819 -0.000563     -0.000563   \n",
       "612613       7 -0.001037        0.000819 -0.000563     -0.000563   \n",
       "612614       4 -0.878252       -0.986303 -0.000563     -0.000563   \n",
       "612615       7 -0.001037        0.000819 -0.000563     -0.000563   \n",
       "\n",
       "           FREQUENCE  DATA_VOLUME    ON_NET    ORANGE      TIGO     ZONE1  \\\n",
       "0       1.927184e+00     0.389218 -0.317321 -0.290984 -0.510194 -0.000005   \n",
       "1       5.880227e-01     0.875619 -0.393770 -0.541835 -0.586660 -0.000005   \n",
       "2       8.391155e-01    -0.337908 -0.074993  1.555015  2.930798 -0.000005   \n",
       "3      -1.085930e+00    -0.001634 -0.338958 -0.535403  0.002260 -0.000005   \n",
       "4      -1.085930e+00    -0.309351 -0.388000 -0.612587  0.002260 -0.000005   \n",
       "...              ...          ...       ...       ...       ...       ...   \n",
       "612611 -3.557674e-08    -0.001634  0.000108 -0.000508  0.002260 -0.000005   \n",
       "612612 -3.557674e-08    -0.001634  0.000108 -0.000508  0.002260 -0.000005   \n",
       "612613 -3.557674e-08    -0.001634  0.000108 -0.000508  0.002260 -0.000005   \n",
       "612614 -3.557674e-08    -0.001634  0.000108 -0.000508  0.002260 -0.000005   \n",
       "612615 -3.557674e-08    -0.001634  0.000108 -0.000508  0.002260 -0.000005   \n",
       "\n",
       "           ZONE2  REGULARITY  FREQ_TOP_PACK  TOTAL_RECHARGE  \\\n",
       "0       0.723281    1.478598      -0.348810   239400.000000   \n",
       "1      -0.230646    1.209397      -0.027868    87100.000000   \n",
       "2       0.002364    1.523465       0.079113   165000.000000   \n",
       "3       0.002364    1.074797      -0.883713      500.000000   \n",
       "4       0.002364   -0.944210      -0.883713      100.000000   \n",
       "...          ...         ...            ...             ...   \n",
       "612611  0.002364   -1.213411       0.000209    63717.275282   \n",
       "612612  0.002364   -1.168544       0.000209    63717.275282   \n",
       "612613  0.002364   -1.123677       0.000209    63717.275282   \n",
       "612614  0.002364   -1.213411       0.000209      500.000000   \n",
       "612615  0.002364   -1.213411       0.000209    63717.275282   \n",
       "\n",
       "        AVG_REVENUE_MONTANT  FREQUENCE_SQUARED  ON_NET_REG_RATIO  \n",
       "0              11751.500000        1369.000000          0.934426  \n",
       "1               7139.000000         441.000000          0.072727  \n",
       "2               8226.000000         576.000000          3.629032  \n",
       "3                500.000000           1.000000          0.807692  \n",
       "4                 91.500000           1.000000          1.142857  \n",
       "...                     ...                ...               ...  \n",
       "612611          5517.630847         195.284932        277.065798  \n",
       "612612          5517.630847         195.284932        138.532899  \n",
       "612613          5517.630847         195.284932         92.355266  \n",
       "612614          3003.025399         195.284932        277.065798  \n",
       "612615          5517.630847         195.284932        277.065798  \n",
       "\n",
       "[612616 rows x 18 columns]"
      ]
     },
     "execution_count": 61,
     "metadata": {},
     "output_type": "execute_result"
    }
   ],
   "source": [
    "X_train =balanced_X_train\n",
    "X_train"
   ]
  },
  {
   "cell_type": "code",
   "execution_count": 62,
   "metadata": {},
   "outputs": [
    {
     "data": {
      "text/plain": [
       "0         0\n",
       "1         0\n",
       "2         0\n",
       "3         0\n",
       "4         0\n",
       "         ..\n",
       "612611    1\n",
       "612612    1\n",
       "612613    1\n",
       "612614    1\n",
       "612615    1\n",
       "Name: CHURN, Length: 612616, dtype: int64"
      ]
     },
     "execution_count": 62,
     "metadata": {},
     "output_type": "execute_result"
    }
   ],
   "source": [
    "y_train = balanced_y_train\n",
    "y_train"
   ]
  },
  {
   "cell_type": "code",
   "execution_count": 63,
   "metadata": {},
   "outputs": [
    {
     "data": {
      "text/html": [
       "<div>\n",
       "<style scoped>\n",
       "    .dataframe tbody tr th:only-of-type {\n",
       "        vertical-align: middle;\n",
       "    }\n",
       "\n",
       "    .dataframe tbody tr th {\n",
       "        vertical-align: top;\n",
       "    }\n",
       "\n",
       "    .dataframe thead th {\n",
       "        text-align: right;\n",
       "    }\n",
       "</style>\n",
       "<table border=\"1\" class=\"dataframe\">\n",
       "  <thead>\n",
       "    <tr style=\"text-align: right;\">\n",
       "      <th></th>\n",
       "      <th>TENURE</th>\n",
       "      <th>MONTANT</th>\n",
       "      <th>FREQUENCE_RECH</th>\n",
       "      <th>REVENUE</th>\n",
       "      <th>ARPU_SEGMENT</th>\n",
       "      <th>FREQUENCE</th>\n",
       "      <th>DATA_VOLUME</th>\n",
       "      <th>ON_NET</th>\n",
       "      <th>ORANGE</th>\n",
       "      <th>TIGO</th>\n",
       "      <th>ZONE1</th>\n",
       "      <th>ZONE2</th>\n",
       "      <th>REGULARITY</th>\n",
       "      <th>FREQ_TOP_PACK</th>\n",
       "      <th>TOTAL_RECHARGE</th>\n",
       "      <th>AVG_REVENUE_MONTANT</th>\n",
       "      <th>FREQUENCE_SQUARED</th>\n",
       "      <th>ON_NET_REG_RATIO</th>\n",
       "    </tr>\n",
       "  </thead>\n",
       "  <tbody>\n",
       "    <tr>\n",
       "      <th>0</th>\n",
       "      <td>7</td>\n",
       "      <td>1.022970</td>\n",
       "      <td>0.889686</td>\n",
       "      <td>1.127881</td>\n",
       "      <td>1.127710</td>\n",
       "      <td>1.927184</td>\n",
       "      <td>0.389218</td>\n",
       "      <td>-0.317321</td>\n",
       "      <td>-0.290984</td>\n",
       "      <td>-0.510194</td>\n",
       "      <td>-0.000005</td>\n",
       "      <td>0.723281</td>\n",
       "      <td>1.478598</td>\n",
       "      <td>-0.348810</td>\n",
       "      <td>239400.0</td>\n",
       "      <td>11751.5</td>\n",
       "      <td>1369.0</td>\n",
       "      <td>0.934426</td>\n",
       "    </tr>\n",
       "    <tr>\n",
       "      <th>1</th>\n",
       "      <td>6</td>\n",
       "      <td>0.203177</td>\n",
       "      <td>0.139290</td>\n",
       "      <td>0.353855</td>\n",
       "      <td>0.353853</td>\n",
       "      <td>0.588023</td>\n",
       "      <td>0.875619</td>\n",
       "      <td>-0.393770</td>\n",
       "      <td>-0.541835</td>\n",
       "      <td>-0.586660</td>\n",
       "      <td>-0.000005</td>\n",
       "      <td>-0.230646</td>\n",
       "      <td>1.209397</td>\n",
       "      <td>-0.027868</td>\n",
       "      <td>87100.0</td>\n",
       "      <td>7139.0</td>\n",
       "      <td>441.0</td>\n",
       "      <td>0.072727</td>\n",
       "    </tr>\n",
       "    <tr>\n",
       "      <th>2</th>\n",
       "      <td>7</td>\n",
       "      <td>0.473534</td>\n",
       "      <td>0.795886</td>\n",
       "      <td>0.460594</td>\n",
       "      <td>0.460592</td>\n",
       "      <td>0.839115</td>\n",
       "      <td>-0.337908</td>\n",
       "      <td>-0.074993</td>\n",
       "      <td>1.555015</td>\n",
       "      <td>2.930798</td>\n",
       "      <td>-0.000005</td>\n",
       "      <td>0.002364</td>\n",
       "      <td>1.523465</td>\n",
       "      <td>0.079113</td>\n",
       "      <td>165000.0</td>\n",
       "      <td>8226.0</td>\n",
       "      <td>576.0</td>\n",
       "      <td>3.629032</td>\n",
       "    </tr>\n",
       "    <tr>\n",
       "      <th>3</th>\n",
       "      <td>7</td>\n",
       "      <td>-0.878252</td>\n",
       "      <td>-0.986303</td>\n",
       "      <td>-0.856875</td>\n",
       "      <td>-0.856709</td>\n",
       "      <td>-1.085930</td>\n",
       "      <td>-0.001634</td>\n",
       "      <td>-0.338958</td>\n",
       "      <td>-0.535403</td>\n",
       "      <td>0.002260</td>\n",
       "      <td>-0.000005</td>\n",
       "      <td>0.002364</td>\n",
       "      <td>1.074797</td>\n",
       "      <td>-0.883713</td>\n",
       "      <td>500.0</td>\n",
       "      <td>500.0</td>\n",
       "      <td>1.0</td>\n",
       "      <td>0.807692</td>\n",
       "    </tr>\n",
       "    <tr>\n",
       "      <th>4</th>\n",
       "      <td>7</td>\n",
       "      <td>-0.948021</td>\n",
       "      <td>-0.986303</td>\n",
       "      <td>-0.928206</td>\n",
       "      <td>-0.928039</td>\n",
       "      <td>-1.085930</td>\n",
       "      <td>-0.309351</td>\n",
       "      <td>-0.388000</td>\n",
       "      <td>-0.612587</td>\n",
       "      <td>0.002260</td>\n",
       "      <td>-0.000005</td>\n",
       "      <td>0.002364</td>\n",
       "      <td>-0.944210</td>\n",
       "      <td>-0.883713</td>\n",
       "      <td>100.0</td>\n",
       "      <td>91.5</td>\n",
       "      <td>1.0</td>\n",
       "      <td>1.142857</td>\n",
       "    </tr>\n",
       "  </tbody>\n",
       "</table>\n",
       "</div>"
      ],
      "text/plain": [
       "   TENURE   MONTANT  FREQUENCE_RECH   REVENUE  ARPU_SEGMENT  FREQUENCE  \\\n",
       "0       7  1.022970        0.889686  1.127881      1.127710   1.927184   \n",
       "1       6  0.203177        0.139290  0.353855      0.353853   0.588023   \n",
       "2       7  0.473534        0.795886  0.460594      0.460592   0.839115   \n",
       "3       7 -0.878252       -0.986303 -0.856875     -0.856709  -1.085930   \n",
       "4       7 -0.948021       -0.986303 -0.928206     -0.928039  -1.085930   \n",
       "\n",
       "   DATA_VOLUME    ON_NET    ORANGE      TIGO     ZONE1     ZONE2  REGULARITY  \\\n",
       "0     0.389218 -0.317321 -0.290984 -0.510194 -0.000005  0.723281    1.478598   \n",
       "1     0.875619 -0.393770 -0.541835 -0.586660 -0.000005 -0.230646    1.209397   \n",
       "2    -0.337908 -0.074993  1.555015  2.930798 -0.000005  0.002364    1.523465   \n",
       "3    -0.001634 -0.338958 -0.535403  0.002260 -0.000005  0.002364    1.074797   \n",
       "4    -0.309351 -0.388000 -0.612587  0.002260 -0.000005  0.002364   -0.944210   \n",
       "\n",
       "   FREQ_TOP_PACK  TOTAL_RECHARGE  AVG_REVENUE_MONTANT  FREQUENCE_SQUARED  \\\n",
       "0      -0.348810        239400.0              11751.5             1369.0   \n",
       "1      -0.027868         87100.0               7139.0              441.0   \n",
       "2       0.079113        165000.0               8226.0              576.0   \n",
       "3      -0.883713           500.0                500.0                1.0   \n",
       "4      -0.883713           100.0                 91.5                1.0   \n",
       "\n",
       "   ON_NET_REG_RATIO  \n",
       "0          0.934426  \n",
       "1          0.072727  \n",
       "2          3.629032  \n",
       "3          0.807692  \n",
       "4          1.142857  "
      ]
     },
     "execution_count": 63,
     "metadata": {},
     "output_type": "execute_result"
    }
   ],
   "source": [
    "X_train.head()"
   ]
  },
  {
   "cell_type": "code",
   "execution_count": 64,
   "metadata": {},
   "outputs": [],
   "source": [
    "##RandomForestClassifier Model"
   ]
  },
  {
   "cell_type": "code",
   "execution_count": 65,
   "metadata": {},
   "outputs": [],
   "source": [
    "rand = RandomForestClassifier(bootstrap=True,criterion = \"gini\",\n",
    "                              n_jobs=-1,\n",
    "                              max_depth=7,\n",
    "                              n_estimators=200,\n",
    "                              random_state=1,\n",
    "                             verbose=True)"
   ]
  },
  {
   "cell_type": "code",
   "execution_count": 66,
   "metadata": {},
   "outputs": [
    {
     "name": "stderr",
     "output_type": "stream",
     "text": [
      "[Parallel(n_jobs=-1)]: Using backend ThreadingBackend with 12 concurrent workers.\n",
      "[Parallel(n_jobs=-1)]: Done  26 tasks      | elapsed:   12.2s\n",
      "[Parallel(n_jobs=-1)]: Done 176 tasks      | elapsed:  1.2min\n",
      "[Parallel(n_jobs=-1)]: Done 200 out of 200 | elapsed:  1.3min finished\n"
     ]
    }
   ],
   "source": [
    "#Fit model on data\n",
    "randmodel = rand.fit(X_train,y_train)"
   ]
  },
  {
   "cell_type": "code",
   "execution_count": 67,
   "metadata": {},
   "outputs": [
    {
     "name": "stderr",
     "output_type": "stream",
     "text": [
      "[Parallel(n_jobs=12)]: Using backend ThreadingBackend with 12 concurrent workers.\n",
      "[Parallel(n_jobs=12)]: Done  26 tasks      | elapsed:    0.6s\n",
      "[Parallel(n_jobs=12)]: Done 176 tasks      | elapsed:    3.6s\n",
      "[Parallel(n_jobs=12)]: Done 200 out of 200 | elapsed:    4.0s finished\n"
     ]
    }
   ],
   "source": [
    "#Predict on the X_test data \n",
    "randpred = randmodel.predict(X_test)"
   ]
  },
  {
   "cell_type": "code",
   "execution_count": 68,
   "metadata": {},
   "outputs": [
    {
     "name": "stdout",
     "output_type": "stream",
     "text": [
      "Acuracy\n"
     ]
    },
    {
     "data": {
      "text/plain": [
       "0.8087043557060938"
      ]
     },
     "execution_count": 68,
     "metadata": {},
     "output_type": "execute_result"
    }
   ],
   "source": [
    "print(\"Acuracy\")\n",
    "accuracy_score(y_test, randpred)\n"
   ]
  },
  {
   "cell_type": "code",
   "execution_count": 69,
   "metadata": {},
   "outputs": [
    {
     "name": "stdout",
     "output_type": "stream",
     "text": [
      "Recall\n"
     ]
    },
    {
     "data": {
      "text/plain": [
       "0.8539799839950998"
      ]
     },
     "execution_count": 69,
     "metadata": {},
     "output_type": "execute_result"
    }
   ],
   "source": [
    "print(\"Recall\")\n",
    "recall_score(y_test, randpred)"
   ]
  },
  {
   "cell_type": "code",
   "execution_count": 70,
   "metadata": {},
   "outputs": [
    {
     "name": "stdout",
     "output_type": "stream",
     "text": [
      "F1 Score\n"
     ]
    },
    {
     "data": {
      "text/plain": [
       "0.6266124910744383"
      ]
     },
     "execution_count": 70,
     "metadata": {},
     "output_type": "execute_result"
    }
   ],
   "source": [
    "print(\"F1 Score\")\n",
    "f1_score(y_test, randpred)"
   ]
  },
  {
   "cell_type": "code",
   "execution_count": 71,
   "metadata": {},
   "outputs": [
    {
     "name": "stdout",
     "output_type": "stream",
     "text": [
      "AUC: 0.8261022576866874\n"
     ]
    }
   ],
   "source": [
    "# Calculate and print the Area Under the ROC Curve (AUC)\n",
    "auc = roc_auc_score(y_test, randpred)\n",
    "print(\"AUC:\", auc)"
   ]
  },
  {
   "cell_type": "code",
   "execution_count": 72,
   "metadata": {},
   "outputs": [
    {
     "data": {
      "text/plain": [
       "array([[349058,  88235],\n",
       "       [ 14780,  86439]], dtype=int64)"
      ]
     },
     "execution_count": 72,
     "metadata": {},
     "output_type": "execute_result"
    }
   ],
   "source": [
    "confusion_matrix(y_test, randpred)"
   ]
  },
  {
   "cell_type": "code",
   "execution_count": 73,
   "metadata": {},
   "outputs": [],
   "source": [
    "# Making a submissio"
   ]
  },
  {
   "cell_type": "code",
   "execution_count": 74,
   "metadata": {},
   "outputs": [
    {
     "data": {
      "text/html": [
       "<div>\n",
       "<style scoped>\n",
       "    .dataframe tbody tr th:only-of-type {\n",
       "        vertical-align: middle;\n",
       "    }\n",
       "\n",
       "    .dataframe tbody tr th {\n",
       "        vertical-align: top;\n",
       "    }\n",
       "\n",
       "    .dataframe thead th {\n",
       "        text-align: right;\n",
       "    }\n",
       "</style>\n",
       "<table border=\"1\" class=\"dataframe\">\n",
       "  <thead>\n",
       "    <tr style=\"text-align: right;\">\n",
       "      <th></th>\n",
       "      <th>user_id</th>\n",
       "      <th>CHURN</th>\n",
       "    </tr>\n",
       "  </thead>\n",
       "  <tbody>\n",
       "    <tr>\n",
       "      <th>0</th>\n",
       "      <td>51fe4c3347db1f8571d18ac03f716c41acee30a4</td>\n",
       "      <td>0</td>\n",
       "    </tr>\n",
       "    <tr>\n",
       "      <th>1</th>\n",
       "      <td>5ad5d67c175bce107cc97b98c4e37dcc38aa7f3e</td>\n",
       "      <td>0</td>\n",
       "    </tr>\n",
       "    <tr>\n",
       "      <th>2</th>\n",
       "      <td>5a4db591c953a8d8f373877fad37aaf4268899a1</td>\n",
       "      <td>0</td>\n",
       "    </tr>\n",
       "    <tr>\n",
       "      <th>3</th>\n",
       "      <td>8bf9b4d8880aeba1c9a0da48be78f12e629be37c</td>\n",
       "      <td>0</td>\n",
       "    </tr>\n",
       "    <tr>\n",
       "      <th>4</th>\n",
       "      <td>c7cdf2af01e9fa95bf498b68c122aa4b9a8d10df</td>\n",
       "      <td>0</td>\n",
       "    </tr>\n",
       "  </tbody>\n",
       "</table>\n",
       "</div>"
      ],
      "text/plain": [
       "                                    user_id  CHURN\n",
       "0  51fe4c3347db1f8571d18ac03f716c41acee30a4      0\n",
       "1  5ad5d67c175bce107cc97b98c4e37dcc38aa7f3e      0\n",
       "2  5a4db591c953a8d8f373877fad37aaf4268899a1      0\n",
       "3  8bf9b4d8880aeba1c9a0da48be78f12e629be37c      0\n",
       "4  c7cdf2af01e9fa95bf498b68c122aa4b9a8d10df      0"
      ]
     },
     "execution_count": 74,
     "metadata": {},
     "output_type": "execute_result"
    }
   ],
   "source": [
    "submission.head()"
   ]
  },
  {
   "cell_type": "code",
   "execution_count": 75,
   "metadata": {},
   "outputs": [
    {
     "data": {
      "text/html": [
       "<div>\n",
       "<style scoped>\n",
       "    .dataframe tbody tr th:only-of-type {\n",
       "        vertical-align: middle;\n",
       "    }\n",
       "\n",
       "    .dataframe tbody tr th {\n",
       "        vertical-align: top;\n",
       "    }\n",
       "\n",
       "    .dataframe thead th {\n",
       "        text-align: right;\n",
       "    }\n",
       "</style>\n",
       "<table border=\"1\" class=\"dataframe\">\n",
       "  <thead>\n",
       "    <tr style=\"text-align: right;\">\n",
       "      <th></th>\n",
       "      <th>TENURE</th>\n",
       "      <th>MONTANT</th>\n",
       "      <th>FREQUENCE_RECH</th>\n",
       "      <th>REVENUE</th>\n",
       "      <th>ARPU_SEGMENT</th>\n",
       "      <th>FREQUENCE</th>\n",
       "      <th>DATA_VOLUME</th>\n",
       "      <th>ON_NET</th>\n",
       "      <th>ORANGE</th>\n",
       "      <th>TIGO</th>\n",
       "      <th>ZONE1</th>\n",
       "      <th>ZONE2</th>\n",
       "      <th>REGULARITY</th>\n",
       "      <th>FREQ_TOP_PACK</th>\n",
       "      <th>TOTAL_RECHARGE</th>\n",
       "      <th>AVG_REVENUE_MONTANT</th>\n",
       "      <th>FREQUENCE_SQUARED</th>\n",
       "      <th>ON_NET_REG_RATIO</th>\n",
       "    </tr>\n",
       "  </thead>\n",
       "  <tbody>\n",
       "    <tr>\n",
       "      <th>0</th>\n",
       "      <td>5</td>\n",
       "      <td>-0.529404</td>\n",
       "      <td>-0.611105</td>\n",
       "      <td>-0.514765</td>\n",
       "      <td>-0.514940</td>\n",
       "      <td>-0.751139</td>\n",
       "      <td>-0.348940</td>\n",
       "      <td>-0.307224</td>\n",
       "      <td>-0.162343</td>\n",
       "      <td>-0.001634</td>\n",
       "      <td>-0.002870</td>\n",
       "      <td>0.000606</td>\n",
       "      <td>0.312061</td>\n",
       "      <td>-0.455791</td>\n",
       "      <td>12500.000000</td>\n",
       "      <td>2500.000000</td>\n",
       "      <td>25.000000</td>\n",
       "      <td>1.828571</td>\n",
       "    </tr>\n",
       "    <tr>\n",
       "      <th>1</th>\n",
       "      <td>7</td>\n",
       "      <td>-0.004990</td>\n",
       "      <td>-0.002915</td>\n",
       "      <td>-0.003953</td>\n",
       "      <td>-0.003953</td>\n",
       "      <td>-0.002910</td>\n",
       "      <td>-0.002704</td>\n",
       "      <td>0.006086</td>\n",
       "      <td>-0.004040</td>\n",
       "      <td>-0.001634</td>\n",
       "      <td>-0.002870</td>\n",
       "      <td>0.000606</td>\n",
       "      <td>-1.168544</td>\n",
       "      <td>-0.002799</td>\n",
       "      <td>63236.865923</td>\n",
       "      <td>5496.390588</td>\n",
       "      <td>194.314408</td>\n",
       "      <td>140.605307</td>\n",
       "    </tr>\n",
       "    <tr>\n",
       "      <th>2</th>\n",
       "      <td>7</td>\n",
       "      <td>-0.004990</td>\n",
       "      <td>-0.002915</td>\n",
       "      <td>-0.003953</td>\n",
       "      <td>-0.003953</td>\n",
       "      <td>-0.002910</td>\n",
       "      <td>-0.348940</td>\n",
       "      <td>0.006086</td>\n",
       "      <td>-0.004040</td>\n",
       "      <td>-0.001634</td>\n",
       "      <td>-0.002870</td>\n",
       "      <td>0.000606</td>\n",
       "      <td>-0.271208</td>\n",
       "      <td>-0.002799</td>\n",
       "      <td>63236.865923</td>\n",
       "      <td>5496.390588</td>\n",
       "      <td>194.314408</td>\n",
       "      <td>12.782301</td>\n",
       "    </tr>\n",
       "    <tr>\n",
       "      <th>3</th>\n",
       "      <td>7</td>\n",
       "      <td>-0.004990</td>\n",
       "      <td>-0.002915</td>\n",
       "      <td>-0.003953</td>\n",
       "      <td>-0.003953</td>\n",
       "      <td>-0.002910</td>\n",
       "      <td>-0.002704</td>\n",
       "      <td>0.006086</td>\n",
       "      <td>-0.004040</td>\n",
       "      <td>-0.001634</td>\n",
       "      <td>-0.002870</td>\n",
       "      <td>0.000606</td>\n",
       "      <td>-0.989077</td>\n",
       "      <td>-0.002799</td>\n",
       "      <td>63236.865923</td>\n",
       "      <td>5496.390588</td>\n",
       "      <td>194.314408</td>\n",
       "      <td>46.868436</td>\n",
       "    </tr>\n",
       "    <tr>\n",
       "      <th>4</th>\n",
       "      <td>7</td>\n",
       "      <td>-0.075902</td>\n",
       "      <td>-0.423506</td>\n",
       "      <td>0.021836</td>\n",
       "      <td>0.021834</td>\n",
       "      <td>0.085837</td>\n",
       "      <td>0.453446</td>\n",
       "      <td>-0.356267</td>\n",
       "      <td>-0.458218</td>\n",
       "      <td>-0.586660</td>\n",
       "      <td>-0.729836</td>\n",
       "      <td>0.000606</td>\n",
       "      <td>1.433731</td>\n",
       "      <td>-0.562771</td>\n",
       "      <td>35700.000000</td>\n",
       "      <td>5368.500000</td>\n",
       "      <td>225.000000</td>\n",
       "      <td>0.500000</td>\n",
       "    </tr>\n",
       "  </tbody>\n",
       "</table>\n",
       "</div>"
      ],
      "text/plain": [
       "   TENURE   MONTANT  FREQUENCE_RECH   REVENUE  ARPU_SEGMENT  FREQUENCE  \\\n",
       "0       5 -0.529404       -0.611105 -0.514765     -0.514940  -0.751139   \n",
       "1       7 -0.004990       -0.002915 -0.003953     -0.003953  -0.002910   \n",
       "2       7 -0.004990       -0.002915 -0.003953     -0.003953  -0.002910   \n",
       "3       7 -0.004990       -0.002915 -0.003953     -0.003953  -0.002910   \n",
       "4       7 -0.075902       -0.423506  0.021836      0.021834   0.085837   \n",
       "\n",
       "   DATA_VOLUME    ON_NET    ORANGE      TIGO     ZONE1     ZONE2  REGULARITY  \\\n",
       "0    -0.348940 -0.307224 -0.162343 -0.001634 -0.002870  0.000606    0.312061   \n",
       "1    -0.002704  0.006086 -0.004040 -0.001634 -0.002870  0.000606   -1.168544   \n",
       "2    -0.348940  0.006086 -0.004040 -0.001634 -0.002870  0.000606   -0.271208   \n",
       "3    -0.002704  0.006086 -0.004040 -0.001634 -0.002870  0.000606   -0.989077   \n",
       "4     0.453446 -0.356267 -0.458218 -0.586660 -0.729836  0.000606    1.433731   \n",
       "\n",
       "   FREQ_TOP_PACK  TOTAL_RECHARGE  AVG_REVENUE_MONTANT  FREQUENCE_SQUARED  \\\n",
       "0      -0.455791    12500.000000          2500.000000          25.000000   \n",
       "1      -0.002799    63236.865923          5496.390588         194.314408   \n",
       "2      -0.002799    63236.865923          5496.390588         194.314408   \n",
       "3      -0.002799    63236.865923          5496.390588         194.314408   \n",
       "4      -0.562771    35700.000000          5368.500000         225.000000   \n",
       "\n",
       "   ON_NET_REG_RATIO  \n",
       "0          1.828571  \n",
       "1        140.605307  \n",
       "2         12.782301  \n",
       "3         46.868436  \n",
       "4          0.500000  "
      ]
     },
     "execution_count": 75,
     "metadata": {},
     "output_type": "execute_result"
    }
   ],
   "source": [
    "test.head()"
   ]
  },
  {
   "cell_type": "code",
   "execution_count": 76,
   "metadata": {},
   "outputs": [
    {
     "name": "stderr",
     "output_type": "stream",
     "text": [
      "[Parallel(n_jobs=12)]: Using backend ThreadingBackend with 12 concurrent workers.\n",
      "[Parallel(n_jobs=12)]: Done  26 tasks      | elapsed:    0.1s\n",
      "[Parallel(n_jobs=12)]: Done 176 tasks      | elapsed:    1.3s\n",
      "[Parallel(n_jobs=12)]: Done 200 out of 200 | elapsed:    1.4s finished\n"
     ]
    }
   ],
   "source": [
    "predictions = randmodel.predict(test)"
   ]
  },
  {
   "cell_type": "code",
   "execution_count": 77,
   "metadata": {},
   "outputs": [
    {
     "name": "stderr",
     "output_type": "stream",
     "text": [
      "[Parallel(n_jobs=12)]: Using backend ThreadingBackend with 12 concurrent workers.\n",
      "[Parallel(n_jobs=12)]: Done  26 tasks      | elapsed:    0.1s\n",
      "[Parallel(n_jobs=12)]: Done 176 tasks      | elapsed:    1.4s\n",
      "[Parallel(n_jobs=12)]: Done 200 out of 200 | elapsed:    1.5s finished\n"
     ]
    }
   ],
   "source": [
    "subpred = randmodel.predict(test)"
   ]
  },
  {
   "cell_type": "code",
   "execution_count": 78,
   "metadata": {},
   "outputs": [
    {
     "data": {
      "text/plain": [
       "array([0, 1, 0, ..., 1, 0, 1], dtype=int64)"
      ]
     },
     "execution_count": 78,
     "metadata": {},
     "output_type": "execute_result"
    }
   ],
   "source": [
    "subpred"
   ]
  },
  {
   "cell_type": "code",
   "execution_count": 79,
   "metadata": {},
   "outputs": [],
   "source": [
    "submission[\"CHURN\"] = subpred"
   ]
  },
  {
   "cell_type": "code",
   "execution_count": 80,
   "metadata": {},
   "outputs": [
    {
     "data": {
      "text/html": [
       "<div>\n",
       "<style scoped>\n",
       "    .dataframe tbody tr th:only-of-type {\n",
       "        vertical-align: middle;\n",
       "    }\n",
       "\n",
       "    .dataframe tbody tr th {\n",
       "        vertical-align: top;\n",
       "    }\n",
       "\n",
       "    .dataframe thead th {\n",
       "        text-align: right;\n",
       "    }\n",
       "</style>\n",
       "<table border=\"1\" class=\"dataframe\">\n",
       "  <thead>\n",
       "    <tr style=\"text-align: right;\">\n",
       "      <th></th>\n",
       "      <th>user_id</th>\n",
       "      <th>CHURN</th>\n",
       "    </tr>\n",
       "  </thead>\n",
       "  <tbody>\n",
       "    <tr>\n",
       "      <th>0</th>\n",
       "      <td>51fe4c3347db1f8571d18ac03f716c41acee30a4</td>\n",
       "      <td>0</td>\n",
       "    </tr>\n",
       "    <tr>\n",
       "      <th>1</th>\n",
       "      <td>5ad5d67c175bce107cc97b98c4e37dcc38aa7f3e</td>\n",
       "      <td>1</td>\n",
       "    </tr>\n",
       "    <tr>\n",
       "      <th>2</th>\n",
       "      <td>5a4db591c953a8d8f373877fad37aaf4268899a1</td>\n",
       "      <td>0</td>\n",
       "    </tr>\n",
       "    <tr>\n",
       "      <th>3</th>\n",
       "      <td>8bf9b4d8880aeba1c9a0da48be78f12e629be37c</td>\n",
       "      <td>1</td>\n",
       "    </tr>\n",
       "    <tr>\n",
       "      <th>4</th>\n",
       "      <td>c7cdf2af01e9fa95bf498b68c122aa4b9a8d10df</td>\n",
       "      <td>0</td>\n",
       "    </tr>\n",
       "  </tbody>\n",
       "</table>\n",
       "</div>"
      ],
      "text/plain": [
       "                                    user_id  CHURN\n",
       "0  51fe4c3347db1f8571d18ac03f716c41acee30a4      0\n",
       "1  5ad5d67c175bce107cc97b98c4e37dcc38aa7f3e      1\n",
       "2  5a4db591c953a8d8f373877fad37aaf4268899a1      0\n",
       "3  8bf9b4d8880aeba1c9a0da48be78f12e629be37c      1\n",
       "4  c7cdf2af01e9fa95bf498b68c122aa4b9a8d10df      0"
      ]
     },
     "execution_count": 80,
     "metadata": {},
     "output_type": "execute_result"
    }
   ],
   "source": [
    "submission.head()"
   ]
  },
  {
   "cell_type": "code",
   "execution_count": 81,
   "metadata": {},
   "outputs": [],
   "source": [
    "submission.to_csv('starter_code_submission.csv', index=False)"
   ]
  },
  {
   "cell_type": "markdown",
   "metadata": {},
   "source": [
    "### Using other Algorithims "
   ]
  },
  {
   "cell_type": "markdown",
   "metadata": {},
   "source": [
    "Gradient Boosting Classifier model"
   ]
  },
  {
   "cell_type": "code",
   "execution_count": 82,
   "metadata": {},
   "outputs": [],
   "source": [
    "# Initialize and train the Gradient Boosting Classifier model\n",
    "gb_model = GradientBoostingClassifier()\n",
    "gb_model.fit(X_train, y_train)\n",
    "\n",
    "# Make predictions\n",
    "gb_pred = gb_model.predict(X_test)\n"
   ]
  },
  {
   "cell_type": "code",
   "execution_count": 83,
   "metadata": {},
   "outputs": [
    {
     "name": "stdout",
     "output_type": "stream",
     "text": [
      "F1 Score: 0.6240124299301885\n",
      "Accuracy: 0.8040767893751671\n",
      "Confusion Matrix:\n",
      " [[345452  91841]\n",
      " [ 13666  87553]]\n",
      "ROC AUC Score: 0.8274820834295887\n"
     ]
    }
   ],
   "source": [
    "from sklearn.metrics import f1_score, accuracy_score, precision_score, confusion_matrix, roc_auc_score\n",
    "\n",
    "# Calculate evaluation metrics for Gradient Boosting predictions\n",
    "f1 = f1_score(y_test, gb_pred)\n",
    "accuracy = accuracy_score(y_test, gb_pred)\n",
    "conf_matrix = confusion_matrix(y_test, gb_pred)\n",
    "roc_auc = roc_auc_score(y_test, gb_pred)\n",
    "# Print the calculated scores\n",
    "print(\"F1 Score:\", f1)\n",
    "print(\"Accuracy:\", accuracy)\n",
    "print(\"Confusion Matrix:\\n\", conf_matrix)\n",
    "print(\"ROC AUC Score:\", roc_auc)"
   ]
  },
  {
   "cell_type": "markdown",
   "metadata": {},
   "source": [
    "#### LogisticRegression Model"
   ]
  },
  {
   "cell_type": "code",
   "execution_count": 84,
   "metadata": {},
   "outputs": [
    {
     "data": {
      "text/html": [
       "<style>#sk-container-id-1 {color: black;background-color: white;}#sk-container-id-1 pre{padding: 0;}#sk-container-id-1 div.sk-toggleable {background-color: white;}#sk-container-id-1 label.sk-toggleable__label {cursor: pointer;display: block;width: 100%;margin-bottom: 0;padding: 0.3em;box-sizing: border-box;text-align: center;}#sk-container-id-1 label.sk-toggleable__label-arrow:before {content: \"▸\";float: left;margin-right: 0.25em;color: #696969;}#sk-container-id-1 label.sk-toggleable__label-arrow:hover:before {color: black;}#sk-container-id-1 div.sk-estimator:hover label.sk-toggleable__label-arrow:before {color: black;}#sk-container-id-1 div.sk-toggleable__content {max-height: 0;max-width: 0;overflow: hidden;text-align: left;background-color: #f0f8ff;}#sk-container-id-1 div.sk-toggleable__content pre {margin: 0.2em;color: black;border-radius: 0.25em;background-color: #f0f8ff;}#sk-container-id-1 input.sk-toggleable__control:checked~div.sk-toggleable__content {max-height: 200px;max-width: 100%;overflow: auto;}#sk-container-id-1 input.sk-toggleable__control:checked~label.sk-toggleable__label-arrow:before {content: \"▾\";}#sk-container-id-1 div.sk-estimator input.sk-toggleable__control:checked~label.sk-toggleable__label {background-color: #d4ebff;}#sk-container-id-1 div.sk-label input.sk-toggleable__control:checked~label.sk-toggleable__label {background-color: #d4ebff;}#sk-container-id-1 input.sk-hidden--visually {border: 0;clip: rect(1px 1px 1px 1px);clip: rect(1px, 1px, 1px, 1px);height: 1px;margin: -1px;overflow: hidden;padding: 0;position: absolute;width: 1px;}#sk-container-id-1 div.sk-estimator {font-family: monospace;background-color: #f0f8ff;border: 1px dotted black;border-radius: 0.25em;box-sizing: border-box;margin-bottom: 0.5em;}#sk-container-id-1 div.sk-estimator:hover {background-color: #d4ebff;}#sk-container-id-1 div.sk-parallel-item::after {content: \"\";width: 100%;border-bottom: 1px solid gray;flex-grow: 1;}#sk-container-id-1 div.sk-label:hover label.sk-toggleable__label {background-color: #d4ebff;}#sk-container-id-1 div.sk-serial::before {content: \"\";position: absolute;border-left: 1px solid gray;box-sizing: border-box;top: 0;bottom: 0;left: 50%;z-index: 0;}#sk-container-id-1 div.sk-serial {display: flex;flex-direction: column;align-items: center;background-color: white;padding-right: 0.2em;padding-left: 0.2em;position: relative;}#sk-container-id-1 div.sk-item {position: relative;z-index: 1;}#sk-container-id-1 div.sk-parallel {display: flex;align-items: stretch;justify-content: center;background-color: white;position: relative;}#sk-container-id-1 div.sk-item::before, #sk-container-id-1 div.sk-parallel-item::before {content: \"\";position: absolute;border-left: 1px solid gray;box-sizing: border-box;top: 0;bottom: 0;left: 50%;z-index: -1;}#sk-container-id-1 div.sk-parallel-item {display: flex;flex-direction: column;z-index: 1;position: relative;background-color: white;}#sk-container-id-1 div.sk-parallel-item:first-child::after {align-self: flex-end;width: 50%;}#sk-container-id-1 div.sk-parallel-item:last-child::after {align-self: flex-start;width: 50%;}#sk-container-id-1 div.sk-parallel-item:only-child::after {width: 0;}#sk-container-id-1 div.sk-dashed-wrapped {border: 1px dashed gray;margin: 0 0.4em 0.5em 0.4em;box-sizing: border-box;padding-bottom: 0.4em;background-color: white;}#sk-container-id-1 div.sk-label label {font-family: monospace;font-weight: bold;display: inline-block;line-height: 1.2em;}#sk-container-id-1 div.sk-label-container {text-align: center;}#sk-container-id-1 div.sk-container {/* jupyter's `normalize.less` sets `[hidden] { display: none; }` but bootstrap.min.css set `[hidden] { display: none !important; }` so we also need the `!important` here to be able to override the default hidden behavior on the sphinx rendered scikit-learn.org. See: https://github.com/scikit-learn/scikit-learn/issues/21755 */display: inline-block !important;position: relative;}#sk-container-id-1 div.sk-text-repr-fallback {display: none;}</style><div id=\"sk-container-id-1\" class=\"sk-top-container\"><div class=\"sk-text-repr-fallback\"><pre>LogisticRegression()</pre><b>In a Jupyter environment, please rerun this cell to show the HTML representation or trust the notebook. <br />On GitHub, the HTML representation is unable to render, please try loading this page with nbviewer.org.</b></div><div class=\"sk-container\" hidden><div class=\"sk-item\"><div class=\"sk-estimator sk-toggleable\"><input class=\"sk-toggleable__control sk-hidden--visually\" id=\"sk-estimator-id-1\" type=\"checkbox\" checked><label for=\"sk-estimator-id-1\" class=\"sk-toggleable__label sk-toggleable__label-arrow\">LogisticRegression</label><div class=\"sk-toggleable__content\"><pre>LogisticRegression()</pre></div></div></div></div></div>"
      ],
      "text/plain": [
       "LogisticRegression()"
      ]
     },
     "execution_count": 84,
     "metadata": {},
     "output_type": "execute_result"
    }
   ],
   "source": [
    "# Initialize and train the Logistic Regression model\n",
    "logreg_model = LogisticRegression()\n",
    "logreg_model.fit(X_train, y_train)\n"
   ]
  },
  {
   "cell_type": "code",
   "execution_count": 85,
   "metadata": {},
   "outputs": [],
   "source": [
    "# Make predictions\n",
    "logreg_pred = logreg_model.predict(X_test)"
   ]
  },
  {
   "cell_type": "code",
   "execution_count": 86,
   "metadata": {},
   "outputs": [
    {
     "name": "stdout",
     "output_type": "stream",
     "text": [
      "F1 Score: 0.5845878988043042\n",
      "Accuracy: 0.8117442136851175\n",
      "Confusion Matrix:\n",
      " [[365802  71491]\n",
      " [ 29887  71332]]\n",
      "ROC AUC: 0.77062199865317\n"
     ]
    }
   ],
   "source": [
    "# Calculate evaluation metrics\n",
    "f1 = f1_score(y_test, logreg_pred)\n",
    "accuracy = accuracy_score(y_test, logreg_pred)\n",
    "conf_matrix = confusion_matrix(y_test, logreg_pred)\n",
    "roc_auc = roc_auc_score(y_test, logreg_pred)\n",
    "fpr, tpr, thresholds = roc_curve(y_test, logreg_model.predict_proba(X_test)[:,1])\n",
    "\n",
    "# Print evaluation metrics\n",
    "print(\"F1 Score:\", f1)\n",
    "print(\"Accuracy:\", accuracy)\n",
    "print(\"Confusion Matrix:\\n\", conf_matrix)\n",
    "print(\"ROC AUC:\", roc_auc)"
   ]
  },
  {
   "cell_type": "markdown",
   "metadata": {},
   "source": [
    "####  Gaussian Naive Bayes classifier"
   ]
  },
  {
   "cell_type": "code",
   "execution_count": 87,
   "metadata": {},
   "outputs": [
    {
     "data": {
      "text/html": [
       "<style>#sk-container-id-2 {color: black;background-color: white;}#sk-container-id-2 pre{padding: 0;}#sk-container-id-2 div.sk-toggleable {background-color: white;}#sk-container-id-2 label.sk-toggleable__label {cursor: pointer;display: block;width: 100%;margin-bottom: 0;padding: 0.3em;box-sizing: border-box;text-align: center;}#sk-container-id-2 label.sk-toggleable__label-arrow:before {content: \"▸\";float: left;margin-right: 0.25em;color: #696969;}#sk-container-id-2 label.sk-toggleable__label-arrow:hover:before {color: black;}#sk-container-id-2 div.sk-estimator:hover label.sk-toggleable__label-arrow:before {color: black;}#sk-container-id-2 div.sk-toggleable__content {max-height: 0;max-width: 0;overflow: hidden;text-align: left;background-color: #f0f8ff;}#sk-container-id-2 div.sk-toggleable__content pre {margin: 0.2em;color: black;border-radius: 0.25em;background-color: #f0f8ff;}#sk-container-id-2 input.sk-toggleable__control:checked~div.sk-toggleable__content {max-height: 200px;max-width: 100%;overflow: auto;}#sk-container-id-2 input.sk-toggleable__control:checked~label.sk-toggleable__label-arrow:before {content: \"▾\";}#sk-container-id-2 div.sk-estimator input.sk-toggleable__control:checked~label.sk-toggleable__label {background-color: #d4ebff;}#sk-container-id-2 div.sk-label input.sk-toggleable__control:checked~label.sk-toggleable__label {background-color: #d4ebff;}#sk-container-id-2 input.sk-hidden--visually {border: 0;clip: rect(1px 1px 1px 1px);clip: rect(1px, 1px, 1px, 1px);height: 1px;margin: -1px;overflow: hidden;padding: 0;position: absolute;width: 1px;}#sk-container-id-2 div.sk-estimator {font-family: monospace;background-color: #f0f8ff;border: 1px dotted black;border-radius: 0.25em;box-sizing: border-box;margin-bottom: 0.5em;}#sk-container-id-2 div.sk-estimator:hover {background-color: #d4ebff;}#sk-container-id-2 div.sk-parallel-item::after {content: \"\";width: 100%;border-bottom: 1px solid gray;flex-grow: 1;}#sk-container-id-2 div.sk-label:hover label.sk-toggleable__label {background-color: #d4ebff;}#sk-container-id-2 div.sk-serial::before {content: \"\";position: absolute;border-left: 1px solid gray;box-sizing: border-box;top: 0;bottom: 0;left: 50%;z-index: 0;}#sk-container-id-2 div.sk-serial {display: flex;flex-direction: column;align-items: center;background-color: white;padding-right: 0.2em;padding-left: 0.2em;position: relative;}#sk-container-id-2 div.sk-item {position: relative;z-index: 1;}#sk-container-id-2 div.sk-parallel {display: flex;align-items: stretch;justify-content: center;background-color: white;position: relative;}#sk-container-id-2 div.sk-item::before, #sk-container-id-2 div.sk-parallel-item::before {content: \"\";position: absolute;border-left: 1px solid gray;box-sizing: border-box;top: 0;bottom: 0;left: 50%;z-index: -1;}#sk-container-id-2 div.sk-parallel-item {display: flex;flex-direction: column;z-index: 1;position: relative;background-color: white;}#sk-container-id-2 div.sk-parallel-item:first-child::after {align-self: flex-end;width: 50%;}#sk-container-id-2 div.sk-parallel-item:last-child::after {align-self: flex-start;width: 50%;}#sk-container-id-2 div.sk-parallel-item:only-child::after {width: 0;}#sk-container-id-2 div.sk-dashed-wrapped {border: 1px dashed gray;margin: 0 0.4em 0.5em 0.4em;box-sizing: border-box;padding-bottom: 0.4em;background-color: white;}#sk-container-id-2 div.sk-label label {font-family: monospace;font-weight: bold;display: inline-block;line-height: 1.2em;}#sk-container-id-2 div.sk-label-container {text-align: center;}#sk-container-id-2 div.sk-container {/* jupyter's `normalize.less` sets `[hidden] { display: none; }` but bootstrap.min.css set `[hidden] { display: none !important; }` so we also need the `!important` here to be able to override the default hidden behavior on the sphinx rendered scikit-learn.org. See: https://github.com/scikit-learn/scikit-learn/issues/21755 */display: inline-block !important;position: relative;}#sk-container-id-2 div.sk-text-repr-fallback {display: none;}</style><div id=\"sk-container-id-2\" class=\"sk-top-container\"><div class=\"sk-text-repr-fallback\"><pre>GaussianNB()</pre><b>In a Jupyter environment, please rerun this cell to show the HTML representation or trust the notebook. <br />On GitHub, the HTML representation is unable to render, please try loading this page with nbviewer.org.</b></div><div class=\"sk-container\" hidden><div class=\"sk-item\"><div class=\"sk-estimator sk-toggleable\"><input class=\"sk-toggleable__control sk-hidden--visually\" id=\"sk-estimator-id-2\" type=\"checkbox\" checked><label for=\"sk-estimator-id-2\" class=\"sk-toggleable__label sk-toggleable__label-arrow\">GaussianNB</label><div class=\"sk-toggleable__content\"><pre>GaussianNB()</pre></div></div></div></div></div>"
      ],
      "text/plain": [
       "GaussianNB()"
      ]
     },
     "execution_count": 87,
     "metadata": {},
     "output_type": "execute_result"
    }
   ],
   "source": [
    "# Initialize and train the Naive Bayes model\n",
    "nb_model = GaussianNB()\n",
    "nb_model.fit(X_train, y_train)"
   ]
  },
  {
   "cell_type": "code",
   "execution_count": 88,
   "metadata": {},
   "outputs": [],
   "source": [
    "# Make predictions\n",
    "nb_pred = nb_model.predict(X_test)"
   ]
  },
  {
   "cell_type": "code",
   "execution_count": 89,
   "metadata": {},
   "outputs": [
    {
     "name": "stdout",
     "output_type": "stream",
     "text": [
      "F1 Score: 0.36546933088051087\n",
      "Accuracy: 0.35564109991977894\n",
      "Confusion Matrix:\n",
      " [[ 91588 345705]\n",
      " [  1290  99929]]\n",
      "ROC AUC: 0.5983492268504363\n"
     ]
    }
   ],
   "source": [
    "# Calculate evaluation metrics for Naive Bayes predictions\n",
    "f1 = f1_score(y_test, nb_pred)\n",
    "accuracy = accuracy_score(y_test, nb_pred)\n",
    "conf_matrix = confusion_matrix(y_test, nb_pred)\n",
    "roc_auc = roc_auc_score(y_test, nb_pred)\n",
    "\n",
    "# Print evaluation metrics\n",
    "print(\"F1 Score:\", f1)\n",
    "print(\"Accuracy:\", accuracy)\n",
    "print(\"Confusion Matrix:\\n\", conf_matrix)\n",
    "print(\"ROC AUC:\", roc_auc)"
   ]
  },
  {
   "cell_type": "markdown",
   "metadata": {},
   "source": [
    "#### K-Nearest Neighbors (KNN) Classifier"
   ]
  },
  {
   "cell_type": "code",
   "execution_count": 90,
   "metadata": {},
   "outputs": [
    {
     "data": {
      "text/html": [
       "<style>#sk-container-id-3 {color: black;background-color: white;}#sk-container-id-3 pre{padding: 0;}#sk-container-id-3 div.sk-toggleable {background-color: white;}#sk-container-id-3 label.sk-toggleable__label {cursor: pointer;display: block;width: 100%;margin-bottom: 0;padding: 0.3em;box-sizing: border-box;text-align: center;}#sk-container-id-3 label.sk-toggleable__label-arrow:before {content: \"▸\";float: left;margin-right: 0.25em;color: #696969;}#sk-container-id-3 label.sk-toggleable__label-arrow:hover:before {color: black;}#sk-container-id-3 div.sk-estimator:hover label.sk-toggleable__label-arrow:before {color: black;}#sk-container-id-3 div.sk-toggleable__content {max-height: 0;max-width: 0;overflow: hidden;text-align: left;background-color: #f0f8ff;}#sk-container-id-3 div.sk-toggleable__content pre {margin: 0.2em;color: black;border-radius: 0.25em;background-color: #f0f8ff;}#sk-container-id-3 input.sk-toggleable__control:checked~div.sk-toggleable__content {max-height: 200px;max-width: 100%;overflow: auto;}#sk-container-id-3 input.sk-toggleable__control:checked~label.sk-toggleable__label-arrow:before {content: \"▾\";}#sk-container-id-3 div.sk-estimator input.sk-toggleable__control:checked~label.sk-toggleable__label {background-color: #d4ebff;}#sk-container-id-3 div.sk-label input.sk-toggleable__control:checked~label.sk-toggleable__label {background-color: #d4ebff;}#sk-container-id-3 input.sk-hidden--visually {border: 0;clip: rect(1px 1px 1px 1px);clip: rect(1px, 1px, 1px, 1px);height: 1px;margin: -1px;overflow: hidden;padding: 0;position: absolute;width: 1px;}#sk-container-id-3 div.sk-estimator {font-family: monospace;background-color: #f0f8ff;border: 1px dotted black;border-radius: 0.25em;box-sizing: border-box;margin-bottom: 0.5em;}#sk-container-id-3 div.sk-estimator:hover {background-color: #d4ebff;}#sk-container-id-3 div.sk-parallel-item::after {content: \"\";width: 100%;border-bottom: 1px solid gray;flex-grow: 1;}#sk-container-id-3 div.sk-label:hover label.sk-toggleable__label {background-color: #d4ebff;}#sk-container-id-3 div.sk-serial::before {content: \"\";position: absolute;border-left: 1px solid gray;box-sizing: border-box;top: 0;bottom: 0;left: 50%;z-index: 0;}#sk-container-id-3 div.sk-serial {display: flex;flex-direction: column;align-items: center;background-color: white;padding-right: 0.2em;padding-left: 0.2em;position: relative;}#sk-container-id-3 div.sk-item {position: relative;z-index: 1;}#sk-container-id-3 div.sk-parallel {display: flex;align-items: stretch;justify-content: center;background-color: white;position: relative;}#sk-container-id-3 div.sk-item::before, #sk-container-id-3 div.sk-parallel-item::before {content: \"\";position: absolute;border-left: 1px solid gray;box-sizing: border-box;top: 0;bottom: 0;left: 50%;z-index: -1;}#sk-container-id-3 div.sk-parallel-item {display: flex;flex-direction: column;z-index: 1;position: relative;background-color: white;}#sk-container-id-3 div.sk-parallel-item:first-child::after {align-self: flex-end;width: 50%;}#sk-container-id-3 div.sk-parallel-item:last-child::after {align-self: flex-start;width: 50%;}#sk-container-id-3 div.sk-parallel-item:only-child::after {width: 0;}#sk-container-id-3 div.sk-dashed-wrapped {border: 1px dashed gray;margin: 0 0.4em 0.5em 0.4em;box-sizing: border-box;padding-bottom: 0.4em;background-color: white;}#sk-container-id-3 div.sk-label label {font-family: monospace;font-weight: bold;display: inline-block;line-height: 1.2em;}#sk-container-id-3 div.sk-label-container {text-align: center;}#sk-container-id-3 div.sk-container {/* jupyter's `normalize.less` sets `[hidden] { display: none; }` but bootstrap.min.css set `[hidden] { display: none !important; }` so we also need the `!important` here to be able to override the default hidden behavior on the sphinx rendered scikit-learn.org. See: https://github.com/scikit-learn/scikit-learn/issues/21755 */display: inline-block !important;position: relative;}#sk-container-id-3 div.sk-text-repr-fallback {display: none;}</style><div id=\"sk-container-id-3\" class=\"sk-top-container\"><div class=\"sk-text-repr-fallback\"><pre>KNeighborsClassifier()</pre><b>In a Jupyter environment, please rerun this cell to show the HTML representation or trust the notebook. <br />On GitHub, the HTML representation is unable to render, please try loading this page with nbviewer.org.</b></div><div class=\"sk-container\" hidden><div class=\"sk-item\"><div class=\"sk-estimator sk-toggleable\"><input class=\"sk-toggleable__control sk-hidden--visually\" id=\"sk-estimator-id-3\" type=\"checkbox\" checked><label for=\"sk-estimator-id-3\" class=\"sk-toggleable__label sk-toggleable__label-arrow\">KNeighborsClassifier</label><div class=\"sk-toggleable__content\"><pre>KNeighborsClassifier()</pre></div></div></div></div></div>"
      ],
      "text/plain": [
       "KNeighborsClassifier()"
      ]
     },
     "execution_count": 90,
     "metadata": {},
     "output_type": "execute_result"
    }
   ],
   "source": [
    "knn_model = KNeighborsClassifier()\n",
    "knn_model.fit(X_train, y_train)\n"
   ]
  },
  {
   "cell_type": "code",
   "execution_count": 91,
   "metadata": {},
   "outputs": [],
   "source": [
    "knn_pred = knn_model.predict(X_test)"
   ]
  },
  {
   "cell_type": "code",
   "execution_count": 92,
   "metadata": {},
   "outputs": [
    {
     "name": "stdout",
     "output_type": "stream",
     "text": [
      "K-Nearest Neighbors (KNN) Classifier:\n",
      "F1 Score: 0.5147304456077345\n",
      "Accuracy: 0.7987658585138308\n",
      "Confusion Matrix:\n",
      " [[372672  64621]\n",
      " [ 43746  57473]]\n",
      "ROC AUC: 0.7100166769220442\n"
     ]
    }
   ],
   "source": [
    "f1 = f1_score(y_test, knn_pred)\n",
    "accuracy = accuracy_score(y_test, knn_pred)\n",
    "conf_matrix = confusion_matrix(y_test, knn_pred)\n",
    "roc_auc = roc_auc_score(y_test, knn_pred)\n",
    "\n",
    "print(\"K-Nearest Neighbors (KNN) Classifier:\")\n",
    "print(\"F1 Score:\", f1)\n",
    "print(\"Accuracy:\", accuracy)\n",
    "print(\"Confusion Matrix:\\n\", conf_matrix)\n",
    "print(\"ROC AUC:\", roc_auc)"
   ]
  },
  {
   "cell_type": "markdown",
   "metadata": {},
   "source": [
    "### Comparing the Results \n"
   ]
  },
  {
   "cell_type": "code",
   "execution_count": 93,
   "metadata": {},
   "outputs": [
    {
     "data": {
      "text/html": [
       "<div>\n",
       "<style scoped>\n",
       "    .dataframe tbody tr th:only-of-type {\n",
       "        vertical-align: middle;\n",
       "    }\n",
       "\n",
       "    .dataframe tbody tr th {\n",
       "        vertical-align: top;\n",
       "    }\n",
       "\n",
       "    .dataframe thead th {\n",
       "        text-align: right;\n",
       "    }\n",
       "</style>\n",
       "<table border=\"1\" class=\"dataframe\">\n",
       "  <thead>\n",
       "    <tr style=\"text-align: right;\">\n",
       "      <th></th>\n",
       "      <th>Model</th>\n",
       "      <th>F1 Score</th>\n",
       "      <th>Accuracy</th>\n",
       "      <th>ROC AUC</th>\n",
       "    </tr>\n",
       "  </thead>\n",
       "  <tbody>\n",
       "    <tr>\n",
       "      <th>0</th>\n",
       "      <td>Random Forest</td>\n",
       "      <td>0.623682</td>\n",
       "      <td>0.803527</td>\n",
       "      <td>0.827607</td>\n",
       "    </tr>\n",
       "    <tr>\n",
       "      <th>1</th>\n",
       "      <td>Gradient Boosting</td>\n",
       "      <td>0.626122</td>\n",
       "      <td>0.848557</td>\n",
       "      <td>0.781733</td>\n",
       "    </tr>\n",
       "    <tr>\n",
       "      <th>2</th>\n",
       "      <td>Logistic Regression</td>\n",
       "      <td>0.366478</td>\n",
       "      <td>0.359091</td>\n",
       "      <td>0.600086</td>\n",
       "    </tr>\n",
       "    <tr>\n",
       "      <th>3</th>\n",
       "      <td>Gaussian Naive Bayes</td>\n",
       "      <td>0.366478</td>\n",
       "      <td>0.359091</td>\n",
       "      <td>0.600086</td>\n",
       "    </tr>\n",
       "    <tr>\n",
       "      <th>4</th>\n",
       "      <td>K-Nearest Neighbors</td>\n",
       "      <td>0.515288</td>\n",
       "      <td>0.799236</td>\n",
       "      <td>0.710283</td>\n",
       "    </tr>\n",
       "  </tbody>\n",
       "</table>\n",
       "</div>"
      ],
      "text/plain": [
       "                  Model  F1 Score  Accuracy   ROC AUC\n",
       "0         Random Forest  0.623682  0.803527  0.827607\n",
       "1     Gradient Boosting  0.626122  0.848557  0.781733\n",
       "2   Logistic Regression  0.366478  0.359091  0.600086\n",
       "3  Gaussian Naive Bayes  0.366478  0.359091  0.600086\n",
       "4   K-Nearest Neighbors  0.515288  0.799236  0.710283"
      ]
     },
     "execution_count": 93,
     "metadata": {},
     "output_type": "execute_result"
    }
   ],
   "source": [
    "# Define your evaluation results\n",
    "results = [\n",
    "    {\"Model\": \"Random Forest\", \"F1 Score\": 0.6236817675785071, \"Accuracy\": 0.8035271266007071, \"ROC AUC\": 0.8276067966617611},\n",
    "    {\"Model\": \"Gradient Boosting\", \"F1 Score\": 0.6261220373171962, \"Accuracy\": 0.8485567638232759, \"ROC AUC\": 0.7817325245750717},\n",
    "    {\"Model\": \"Logistic Regression\", \"F1 Score\": 0.36647815400768363, \"Accuracy\": 0.359091348010815, \"ROC AUC\": 0.6000864292207999},\n",
    "    {\"Model\": \"Gaussian Naive Bayes\", \"F1 Score\": 0.36647815400768363, \"Accuracy\": 0.359091348010815,  \"ROC AUC\": 0.6000864292207999},\n",
    "    {\"Model\": \"K-Nearest Neighbors\", \"F1 Score\": 0.515288189089344, \"Accuracy\": 0.7992356716284874, \"ROC AUC\": 0.7102831783344292}\n",
    "]\n",
    "\n",
    "# Create a DataFrame from the results\n",
    "df = pd.DataFrame(results)\n",
    "df"
   ]
  },
  {
   "cell_type": "code",
   "execution_count": 94,
   "metadata": {},
   "outputs": [
    {
     "data": {
      "image/png": "[encoded data removed]",
      "text/plain": [
       "<Figure size 1000x600 with 1 Axes>"
      ]
     },
     "metadata": {},
     "output_type": "display_data"
    }
   ],
   "source": [
    "# Plot the evaluation scores\n",
    "plt.figure(figsize=(10, 6))\n",
    "\n",
    "# Plotting\n",
    "plt.bar(df[\"Model\"], df[\"F1 Score\"], label=\"F1 Score\")\n",
    "plt.bar(df[\"Model\"], df[\"Accuracy\"], label=\"Accuracy\")\n",
    "plt.bar(df[\"Model\"], df[\"ROC AUC\"], label=\"ROC AUC\")\n",
    "\n",
    "\n",
    "plt.xlabel(\"Model\")\n",
    "plt.ylabel(\"Score\")\n",
    "plt.title(\"Comparison of Evaluation Scores\")\n",
    "plt.legend()\n",
    "plt.xticks(rotation=45)\n",
    "plt.tight_layout()\n",
    "plt.show()"
   ]
  },
  {
   "cell_type": "markdown",
   "metadata": {},
   "source": [
    "### checking for the best Model "
   ]
  },
  {
   "cell_type": "code",
   "execution_count": 95,
   "metadata": {},
   "outputs": [
    {
     "name": "stdout",
     "output_type": "stream",
     "text": [
      "Best Model: Gradient Boosting\n"
     ]
    }
   ],
   "source": [
    "# Determine the best model based on your criteria (e.g., highest F1 Score)\n",
    "best_model = df[df[\"F1 Score\"] == df[\"F1 Score\"].max()][\"Model\"].iloc[0]\n",
    "print(\"Best Model:\", best_model)\n"
   ]
  },
  {
   "cell_type": "markdown",
   "metadata": {},
   "source": [
    "### Hyperparameter tunning for the best model"
   ]
  },
  {
   "cell_type": "code",
   "execution_count": 96,
   "metadata": {},
   "outputs": [],
   "source": [
    "# Define the reduced hyperparameter grid to search\n",
    "param_grid = {\n",
    "    'n_estimators': [50, 100],\n",
    "    'learning_rate': [0.01, 0.1],\n",
    "    'max_depth': [3, 4],\n",
    "    'min_samples_split': [2, 3]\n",
    "}\n"
   ]
  },
  {
   "cell_type": "code",
   "execution_count": 97,
   "metadata": {},
   "outputs": [],
   "source": [
    "# Create a Gradient Boosting classifier instance\n",
    "gb_classifier = GradientBoostingClassifier()\n"
   ]
  },
  {
   "cell_type": "code",
   "execution_count": 98,
   "metadata": {},
   "outputs": [],
   "source": [
    "# Create GridSearchCV instance with cross-validation\n",
    "grid_search = GridSearchCV(gb_classifier, param_grid, cv=5, scoring='f1', verbose=1)\n"
   ]
  },
  {
   "cell_type": "code",
   "execution_count": 99,
   "metadata": {},
   "outputs": [
    {
     "name": "stdout",
     "output_type": "stream",
     "text": [
      "Fitting 5 folds for each of 16 candidates, totalling 80 fits\n"
     ]
    },
    {
     "data": {
      "text/html": [
       "<style>#sk-container-id-4 {color: black;background-color: white;}#sk-container-id-4 pre{padding: 0;}#sk-container-id-4 div.sk-toggleable {background-color: white;}#sk-container-id-4 label.sk-toggleable__label {cursor: pointer;display: block;width: 100%;margin-bottom: 0;padding: 0.3em;box-sizing: border-box;text-align: center;}#sk-container-id-4 label.sk-toggleable__label-arrow:before {content: \"▸\";float: left;margin-right: 0.25em;color: #696969;}#sk-container-id-4 label.sk-toggleable__label-arrow:hover:before {color: black;}#sk-container-id-4 div.sk-estimator:hover label.sk-toggleable__label-arrow:before {color: black;}#sk-container-id-4 div.sk-toggleable__content {max-height: 0;max-width: 0;overflow: hidden;text-align: left;background-color: #f0f8ff;}#sk-container-id-4 div.sk-toggleable__content pre {margin: 0.2em;color: black;border-radius: 0.25em;background-color: #f0f8ff;}#sk-container-id-4 input.sk-toggleable__control:checked~div.sk-toggleable__content {max-height: 200px;max-width: 100%;overflow: auto;}#sk-container-id-4 input.sk-toggleable__control:checked~label.sk-toggleable__label-arrow:before {content: \"▾\";}#sk-container-id-4 div.sk-estimator input.sk-toggleable__control:checked~label.sk-toggleable__label {background-color: #d4ebff;}#sk-container-id-4 div.sk-label input.sk-toggleable__control:checked~label.sk-toggleable__label {background-color: #d4ebff;}#sk-container-id-4 input.sk-hidden--visually {border: 0;clip: rect(1px 1px 1px 1px);clip: rect(1px, 1px, 1px, 1px);height: 1px;margin: -1px;overflow: hidden;padding: 0;position: absolute;width: 1px;}#sk-container-id-4 div.sk-estimator {font-family: monospace;background-color: #f0f8ff;border: 1px dotted black;border-radius: 0.25em;box-sizing: border-box;margin-bottom: 0.5em;}#sk-container-id-4 div.sk-estimator:hover {background-color: #d4ebff;}#sk-container-id-4 div.sk-parallel-item::after {content: \"\";width: 100%;border-bottom: 1px solid gray;flex-grow: 1;}#sk-container-id-4 div.sk-label:hover label.sk-toggleable__label {background-color: #d4ebff;}#sk-container-id-4 div.sk-serial::before {content: \"\";position: absolute;border-left: 1px solid gray;box-sizing: border-box;top: 0;bottom: 0;left: 50%;z-index: 0;}#sk-container-id-4 div.sk-serial {display: flex;flex-direction: column;align-items: center;background-color: white;padding-right: 0.2em;padding-left: 0.2em;position: relative;}#sk-container-id-4 div.sk-item {position: relative;z-index: 1;}#sk-container-id-4 div.sk-parallel {display: flex;align-items: stretch;justify-content: center;background-color: white;position: relative;}#sk-container-id-4 div.sk-item::before, #sk-container-id-4 div.sk-parallel-item::before {content: \"\";position: absolute;border-left: 1px solid gray;box-sizing: border-box;top: 0;bottom: 0;left: 50%;z-index: -1;}#sk-container-id-4 div.sk-parallel-item {display: flex;flex-direction: column;z-index: 1;position: relative;background-color: white;}#sk-container-id-4 div.sk-parallel-item:first-child::after {align-self: flex-end;width: 50%;}#sk-container-id-4 div.sk-parallel-item:last-child::after {align-self: flex-start;width: 50%;}#sk-container-id-4 div.sk-parallel-item:only-child::after {width: 0;}#sk-container-id-4 div.sk-dashed-wrapped {border: 1px dashed gray;margin: 0 0.4em 0.5em 0.4em;box-sizing: border-box;padding-bottom: 0.4em;background-color: white;}#sk-container-id-4 div.sk-label label {font-family: monospace;font-weight: bold;display: inline-block;line-height: 1.2em;}#sk-container-id-4 div.sk-label-container {text-align: center;}#sk-container-id-4 div.sk-container {/* jupyter's `normalize.less` sets `[hidden] { display: none; }` but bootstrap.min.css set `[hidden] { display: none !important; }` so we also need the `!important` here to be able to override the default hidden behavior on the sphinx rendered scikit-learn.org. See: https://github.com/scikit-learn/scikit-learn/issues/21755 */display: inline-block !important;position: relative;}#sk-container-id-4 div.sk-text-repr-fallback {display: none;}</style><div id=\"sk-container-id-4\" class=\"sk-top-container\"><div class=\"sk-text-repr-fallback\"><pre>GridSearchCV(cv=5, estimator=GradientBoostingClassifier(),\n",
       "             param_grid={&#x27;learning_rate&#x27;: [0.01, 0.1], &#x27;max_depth&#x27;: [3, 4],\n",
       "                         &#x27;min_samples_split&#x27;: [2, 3],\n",
       "                         &#x27;n_estimators&#x27;: [50, 100]},\n",
       "             scoring=&#x27;f1&#x27;, verbose=1)</pre><b>In a Jupyter environment, please rerun this cell to show the HTML representation or trust the notebook. <br />On GitHub, the HTML representation is unable to render, please try loading this page with nbviewer.org.</b></div><div class=\"sk-container\" hidden><div class=\"sk-item sk-dashed-wrapped\"><div class=\"sk-label-container\"><div class=\"sk-label sk-toggleable\"><input class=\"sk-toggleable__control sk-hidden--visually\" id=\"sk-estimator-id-4\" type=\"checkbox\" ><label for=\"sk-estimator-id-4\" class=\"sk-toggleable__label sk-toggleable__label-arrow\">GridSearchCV</label><div class=\"sk-toggleable__content\"><pre>GridSearchCV(cv=5, estimator=GradientBoostingClassifier(),\n",
       "             param_grid={&#x27;learning_rate&#x27;: [0.01, 0.1], &#x27;max_depth&#x27;: [3, 4],\n",
       "                         &#x27;min_samples_split&#x27;: [2, 3],\n",
       "                         &#x27;n_estimators&#x27;: [50, 100]},\n",
       "             scoring=&#x27;f1&#x27;, verbose=1)</pre></div></div></div><div class=\"sk-parallel\"><div class=\"sk-parallel-item\"><div class=\"sk-item\"><div class=\"sk-label-container\"><div class=\"sk-label sk-toggleable\"><input class=\"sk-toggleable__control sk-hidden--visually\" id=\"sk-estimator-id-5\" type=\"checkbox\" ><label for=\"sk-estimator-id-5\" class=\"sk-toggleable__label sk-toggleable__label-arrow\">estimator: GradientBoostingClassifier</label><div class=\"sk-toggleable__content\"><pre>GradientBoostingClassifier()</pre></div></div></div><div class=\"sk-serial\"><div class=\"sk-item\"><div class=\"sk-estimator sk-toggleable\"><input class=\"sk-toggleable__control sk-hidden--visually\" id=\"sk-estimator-id-6\" type=\"checkbox\" ><label for=\"sk-estimator-id-6\" class=\"sk-toggleable__label sk-toggleable__label-arrow\">GradientBoostingClassifier</label><div class=\"sk-toggleable__content\"><pre>GradientBoostingClassifier()</pre></div></div></div></div></div></div></div></div></div></div>"
      ],
      "text/plain": [
       "GridSearchCV(cv=5, estimator=GradientBoostingClassifier(),\n",
       "             param_grid={'learning_rate': [0.01, 0.1], 'max_depth': [3, 4],\n",
       "                         'min_samples_split': [2, 3],\n",
       "                         'n_estimators': [50, 100]},\n",
       "             scoring='f1', verbose=1)"
      ]
     },
     "execution_count": 99,
     "metadata": {},
     "output_type": "execute_result"
    }
   ],
   "source": [
    "# Fit the GridSearchCV on your training data\n",
    "grid_search.fit(X_train, y_train)\n"
   ]
  },
  {
   "cell_type": "code",
   "execution_count": 102,
   "metadata": {},
   "outputs": [],
   "source": [
    "# Get the best parameters and best estimator\n",
    "best_params = grid_search.best_params_\n",
    "best_estimator = grid_search.best_estimator_\n"
   ]
  },
  {
   "cell_type": "code",
   "execution_count": 103,
   "metadata": {},
   "outputs": [
    {
     "name": "stdout",
     "output_type": "stream",
     "text": [
      "Best Parameters: {'learning_rate': 0.1, 'max_depth': 4, 'min_samples_split': 2, 'n_estimators': 100}\n"
     ]
    }
   ],
   "source": [
    "# Print the best parameters\n",
    "print(\"Best Parameters:\", best_params)\n"
   ]
  },
  {
   "cell_type": "code",
   "execution_count": 104,
   "metadata": {},
   "outputs": [],
   "source": [
    "# Train and evaluate the best model with the tuned parameters\n",
    "best_estimator.fit(X_train, y_train)\n",
    "best_pred = best_estimator.predict(X_test)"
   ]
  },
  {
   "cell_type": "code",
   "execution_count": 105,
   "metadata": {},
   "outputs": [
    {
     "name": "stdout",
     "output_type": "stream",
     "text": [
      "Best Model Evaluation Metrics after Tuning:\n",
      "F1 Score: 0.6239166509723935\n",
      "Accuracy: 0.8034639896603976\n",
      "Precision: 0.48718645948945616\n",
      "Confusion Matrix:\n",
      " [[344884  92409]\n",
      " [ 13428  87791]]\n",
      "ROC AUC Score: 0.8280083018895201\n"
     ]
    }
   ],
   "source": [
    "# Calculate and print evaluation metrics for the best model\n",
    "best_f1 = f1_score(y_test, best_pred)\n",
    "best_accuracy = accuracy_score(y_test, best_pred)\n",
    "best_precision = precision_score(y_test, best_pred)\n",
    "best_conf_matrix = confusion_matrix(y_test, best_pred)\n",
    "best_roc_auc = roc_auc_score(y_test, best_pred)\n",
    "\n",
    "# Print the evaluation metrics for the best model after tuning\n",
    "print(\"Best Model Evaluation Metrics after Tuning:\")\n",
    "print(\"F1 Score:\", best_f1)\n",
    "print(\"Accuracy:\", best_accuracy)\n",
    "print(\"Precision:\", best_precision)\n",
    "print(\"Confusion Matrix:\\n\", best_conf_matrix)\n",
    "print(\"ROC AUC Score:\", best_roc_auc)"
   ]
  },
  {
   "cell_type": "code",
   "execution_count": 107,
   "metadata": {},
   "outputs": [
    {
     "name": "stdout",
     "output_type": "stream",
     "text": [
      "     Metric  Original Model  Tuned Model\n",
      "0  F1 Score        0.624012     0.623917\n",
      "1  Accuracy        0.804077     0.803464\n",
      "2   ROC AUC        0.827482     0.828008\n"
     ]
    }
   ],
   "source": [
    "# Create a DataFrame to compare results\n",
    "results_comparison = pd.DataFrame({\n",
    "    \"Metric\": [\"F1 Score\", \"Accuracy\", \"ROC AUC\"],\n",
    "    \"Original Model\": [0.6240124299301885, 0.8040767893751671,0.8274820834295887],\n",
    "    \"Tuned Model\": [0.6239166509723935, 0.8034639896603976, 0.8280083018895201]\n",
    "})\n",
    "\n",
    "# Print the comparison DataFrame\n",
    "print(results_comparison)"
   ]
  },
  {
   "cell_type": "code",
   "execution_count": 109,
   "metadata": {},
   "outputs": [
    {
     "data": {
      "text/plain": [
       "['D:\\\\Projects\\\\Capstone Churn prediction\\\\ML folder\\\\tuned_gb_model.joblib']"
      ]
     },
     "execution_count": 109,
     "metadata": {},
     "output_type": "execute_result"
    }
   ],
   "source": [
    "# Save the tuned Gradient Boosting model to my local machine\n",
    "save_path = r\"D:\\Projects\\Capstone Churn prediction\\ML folder\\tuned_gb_model.joblib\"\n",
    "joblib.dump(best_estimator, save_path)"
   ]
  },
  {
   "cell_type": "code",
   "execution_count": 100,
   "metadata": {},
   "outputs": [
    {
     "data": {
      "text/html": [
       "<div>\n",
       "<style scoped>\n",
       "    .dataframe tbody tr th:only-of-type {\n",
       "        vertical-align: middle;\n",
       "    }\n",
       "\n",
       "    .dataframe tbody tr th {\n",
       "        vertical-align: top;\n",
       "    }\n",
       "\n",
       "    .dataframe thead th {\n",
       "        text-align: right;\n",
       "    }\n",
       "</style>\n",
       "<table border=\"1\" class=\"dataframe\">\n",
       "  <thead>\n",
       "    <tr style=\"text-align: right;\">\n",
       "      <th></th>\n",
       "      <th>user_id</th>\n",
       "      <th>CHURN</th>\n",
       "    </tr>\n",
       "  </thead>\n",
       "  <tbody>\n",
       "    <tr>\n",
       "      <th>0</th>\n",
       "      <td>51fe4c3347db1f8571d18ac03f716c41acee30a4</td>\n",
       "      <td>0</td>\n",
       "    </tr>\n",
       "    <tr>\n",
       "      <th>1</th>\n",
       "      <td>5ad5d67c175bce107cc97b98c4e37dcc38aa7f3e</td>\n",
       "      <td>1</td>\n",
       "    </tr>\n",
       "    <tr>\n",
       "      <th>2</th>\n",
       "      <td>5a4db591c953a8d8f373877fad37aaf4268899a1</td>\n",
       "      <td>0</td>\n",
       "    </tr>\n",
       "    <tr>\n",
       "      <th>3</th>\n",
       "      <td>8bf9b4d8880aeba1c9a0da48be78f12e629be37c</td>\n",
       "      <td>1</td>\n",
       "    </tr>\n",
       "    <tr>\n",
       "      <th>4</th>\n",
       "      <td>c7cdf2af01e9fa95bf498b68c122aa4b9a8d10df</td>\n",
       "      <td>0</td>\n",
       "    </tr>\n",
       "    <tr>\n",
       "      <th>...</th>\n",
       "      <td>...</td>\n",
       "      <td>...</td>\n",
       "    </tr>\n",
       "    <tr>\n",
       "      <th>190058</th>\n",
       "      <td>1092956a3dad77ceb7e8d7c70e3e13f77b60e2aa</td>\n",
       "      <td>0</td>\n",
       "    </tr>\n",
       "    <tr>\n",
       "      <th>190059</th>\n",
       "      <td>bec10becca7faa8e9cab9981b3aee5e9a7f04828</td>\n",
       "      <td>0</td>\n",
       "    </tr>\n",
       "    <tr>\n",
       "      <th>190060</th>\n",
       "      <td>7ac6fc191f8732b1b146e57f9ede983626b93eae</td>\n",
       "      <td>1</td>\n",
       "    </tr>\n",
       "    <tr>\n",
       "      <th>190061</th>\n",
       "      <td>d592c81971d6120b0d19f9ace85f278ea21b89a0</td>\n",
       "      <td>0</td>\n",
       "    </tr>\n",
       "    <tr>\n",
       "      <th>190062</th>\n",
       "      <td>9b4f57aeef72cd52c634498d0ea27ea3fbb67bf4</td>\n",
       "      <td>1</td>\n",
       "    </tr>\n",
       "  </tbody>\n",
       "</table>\n",
       "<p>190063 rows × 2 columns</p>\n",
       "</div>"
      ],
      "text/plain": [
       "                                         user_id  CHURN\n",
       "0       51fe4c3347db1f8571d18ac03f716c41acee30a4      0\n",
       "1       5ad5d67c175bce107cc97b98c4e37dcc38aa7f3e      1\n",
       "2       5a4db591c953a8d8f373877fad37aaf4268899a1      0\n",
       "3       8bf9b4d8880aeba1c9a0da48be78f12e629be37c      1\n",
       "4       c7cdf2af01e9fa95bf498b68c122aa4b9a8d10df      0\n",
       "...                                          ...    ...\n",
       "190058  1092956a3dad77ceb7e8d7c70e3e13f77b60e2aa      0\n",
       "190059  bec10becca7faa8e9cab9981b3aee5e9a7f04828      0\n",
       "190060  7ac6fc191f8732b1b146e57f9ede983626b93eae      1\n",
       "190061  d592c81971d6120b0d19f9ace85f278ea21b89a0      0\n",
       "190062  9b4f57aeef72cd52c634498d0ea27ea3fbb67bf4      1\n",
       "\n",
       "[190063 rows x 2 columns]"
      ]
     },
     "execution_count": 100,
     "metadata": {},
     "output_type": "execute_result"
    }
   ],
   "source": [
    "submission"
   ]
  },
  {
   "cell_type": "code",
   "execution_count": 101,
   "metadata": {},
   "outputs": [],
   "source": [
    "# 1. Do more feature engineering\n",
    "# 2. Handle the imbalance nature of the predictor class \n",
    "# 3. Use other algorithms\n",
    "# 4. Tune hyperparameters of this model\n",
    "# 5. Handle missing values properly\n",
    "# 6. Any other thing you feel can improve the performance of the model is good to go\n"
   ]
  },
  {
   "cell_type": "markdown",
   "metadata": {},
   "source": [
    "### Good Luck !!!"
   ]
  }
 ],
 "metadata": {
  "kernelspec": {
   "display_name": "Python 3 (ipykernel)",
   "language": "python",
   "name": "python3"
  },
  "language_info": {
   "codemirror_mode": {
    "name": "ipython",
    "version": 3
   },
   "file_extension": ".py",
   "mimetype": "text/x-python",
   "name": "python",
   "nbconvert_exporter": "python",
   "pygments_lexer": "ipython3",
   "version": "3.11.3"
  }
 },
 "nbformat": 4,
 "nbformat_minor": 4
}
